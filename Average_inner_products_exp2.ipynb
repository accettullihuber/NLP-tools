{
 "cells": [
  {
   "cell_type": "markdown",
   "metadata": {},
   "source": [
    "# Import"
   ]
  },
  {
   "cell_type": "code",
   "execution_count": 9,
   "metadata": {},
   "outputs": [],
   "source": [
    "import numpy as np\n",
    "import random\n",
    "from scipy.stats import spearmanr, pearsonr\n",
    "\n",
    "#import the custom functions\n",
    "import MFunctions as mf"
   ]
  },
  {
   "cell_type": "code",
   "execution_count": 10,
   "metadata": {},
   "outputs": [],
   "source": [
    "#Load verb_symilarity which is the same for all\n",
    "simdict = mf.verb_similarity(\"SimVerb-3500.txt\")"
   ]
  },
  {
   "cell_type": "markdown",
   "metadata": {},
   "source": [
    "# linear + quadratic (13 total)"
   ]
  },
  {
   "cell_type": "code",
   "execution_count": 3,
   "metadata": {},
   "outputs": [],
   "source": [
    "# Make observables object\n",
    "set1 = mf.observables([\"Linear.txt\",\"Quadratic.txt\"])\n",
    "# Load matrices and make vector dictionaries\n",
    "objsubset1 = mf.vector_dictionary(\"matrices_1160_arg_obj_context_subj.txt\",set1)\n",
    "subobjset1 = mf.vector_dictionary(\"matrices_1160_arg_subj_context_obj.txt\",set1,[0])\n",
    "obj08sub02set1 = mf.vector_dictionary([[\"matrices_1160_arg_obj_context_subj.txt\",\"matrices_1160_arg_subj_context_obj.txt\"],[0.8,0.2]],set1,[1])\n",
    "obj09sub01set1 = mf.vector_dictionary([[\"matrices_1160_arg_obj_context_subj.txt\",\"matrices_1160_arg_subj_context_obj.txt\"],[0.9,0.1]],set1,[1])"
   ]
  },
  {
   "cell_type": "markdown",
   "metadata": {},
   "source": [
    "### Relation type NONE"
   ]
  },
  {
   "cell_type": "markdown",
   "metadata": {},
   "source": [
    "#### Usual scalar product"
   ]
  },
  {
   "cell_type": "code",
   "execution_count": 4,
   "metadata": {
    "scrolled": true
   },
   "outputs": [
    {
     "name": "stdout",
     "output_type": "stream",
     "text": [
      "[0.44134769516662414, 0.3116919875217311]\n",
      "[0.4323718101029405, 0.31671507075976585]\n",
      "[0.4170429589753689, 0.3247837731765605]\n",
      "[0.2823051543331767, 0.3945642258421322]\n"
     ]
    }
   ],
   "source": [
    "#observable vectors\n",
    "print(mf.averaged_product(simdict,'NONE',objsubset1,\"mean\"))\n",
    "print(mf.averaged_product(simdict,'NONE',obj09sub01set1,\"mean\"))\n",
    "print(mf.averaged_product(simdict,'NONE',obj08sub02set1,\"mean\"))\n",
    "print(mf.averaged_product(simdict,'NONE',subobjset1,\"mean\"))"
   ]
  },
  {
   "cell_type": "code",
   "execution_count": 14,
   "metadata": {},
   "outputs": [
    {
     "name": "stdout",
     "output_type": "stream",
     "text": [
      "[0.16025470482805165, 0.5329307757565349]\n",
      "[0.16188180741241828, 0.5302727187207547]\n",
      "[0.1641386232231611, 0.5286549275387965]\n",
      "[0.18040667083996495, 0.5389258677200239]\n"
     ]
    }
   ],
   "source": [
    "# observable vector deviations\n",
    "print(mf.averaged_product(simdict,'NONE',objsubset1,\"std_dev\"))\n",
    "print(mf.averaged_product(simdict,'NONE',obj09sub01set1,\"std_dev\"))\n",
    "print(mf.averaged_product(simdict,'NONE',obj08sub02set1,\"std_dev\"))\n",
    "print(mf.averaged_product(simdict,'NONE',subobjset1,\"std_dev\"))"
   ]
  },
  {
   "cell_type": "markdown",
   "metadata": {},
   "source": [
    "#### Plain scalar product"
   ]
  },
  {
   "cell_type": "code",
   "execution_count": 5,
   "metadata": {
    "scrolled": false
   },
   "outputs": [
    {
     "name": "stdout",
     "output_type": "stream",
     "text": [
      "[0.8231949202559977, 0.15961817485713026]\n",
      "[0.8280381819920196, 0.15537116762303724]\n",
      "[0.8291557566396288, 0.15467651082980574]\n",
      "[0.8126555657603333, 0.16326454745647584]\n"
     ]
    }
   ],
   "source": [
    "print(mf.averaged_product(simdict,'NONE',objsubset1,\"plain\"))\n",
    "print(mf.averaged_product(simdict,'NONE',obj09sub01set1,\"plain\"))\n",
    "print(mf.averaged_product(simdict,'NONE',obj08sub02set1,\"plain\"))\n",
    "print(mf.averaged_product(simdict,'NONE',subobjset1,\"plain\"))"
   ]
  },
  {
   "cell_type": "code",
   "execution_count": 6,
   "metadata": {},
   "outputs": [
    {
     "name": "stdout",
     "output_type": "stream",
     "text": [
      "[0.19449852834670117, 0.7286991448892701]\n",
      "[0.18925441822588435, 0.730363128863161]\n",
      "[0.1857521763999769, 0.7333307945476404]\n",
      "[0.32039537911288246, 0.7229245533591223]\n"
     ]
    }
   ],
   "source": [
    "print(mf.averaged_product(simdict,'NONE',objsubset1,\"plain_dev\"))\n",
    "print(mf.averaged_product(simdict,'NONE',obj09sub01set1,\"plain_dev\"))\n",
    "print(mf.averaged_product(simdict,'NONE',obj08sub02set1,\"plain_dev\"))\n",
    "print(mf.averaged_product(simdict,'NONE',subobjset1,\"plain_dev\"))"
   ]
  },
  {
   "cell_type": "markdown",
   "metadata": {},
   "source": [
    "### Relation type SYNONYMS"
   ]
  },
  {
   "cell_type": "markdown",
   "metadata": {},
   "source": [
    "#### Usual scalar product"
   ]
  },
  {
   "cell_type": "code",
   "execution_count": 7,
   "metadata": {
    "scrolled": true
   },
   "outputs": [
    {
     "name": "stdout",
     "output_type": "stream",
     "text": [
      "[0.4926025063817927, 0.2605036036846161]\n",
      "[0.48945751402320736, 0.2601621553249207]\n",
      "[0.48117138614238786, 0.26731785797406865]\n",
      "[0.3566713997783721, 0.39715494030763504]\n"
     ]
    }
   ],
   "source": [
    "#observable vectors\n",
    "print(mf.averaged_product(simdict,'SYNONYMS',objsubset1,\"mean\"))\n",
    "print(mf.averaged_product(simdict,'SYNONYMS',obj09sub01set1,\"mean\"))\n",
    "print(mf.averaged_product(simdict,'SYNONYMS',obj08sub02set1,\"mean\"))\n",
    "print(mf.averaged_product(simdict,'SYNONYMS',subobjset1,\"mean\"))"
   ]
  },
  {
   "cell_type": "code",
   "execution_count": 8,
   "metadata": {},
   "outputs": [
    {
     "name": "stdout",
     "output_type": "stream",
     "text": [
      "[0.29050619231896, 0.4997487791339401]\n",
      "[0.29667018184706656, 0.49765142047622074]\n",
      "[0.3061805670475563, 0.4951254885623443]\n",
      "[0.3140819649420818, 0.4950256383438749]\n"
     ]
    }
   ],
   "source": [
    "# observable vector deviations\n",
    "print(mf.averaged_product(simdict,'SYNONYMS',objsubset1,\"std_dev\"))\n",
    "print(mf.averaged_product(simdict,'SYNONYMS',obj09sub01set1,\"std_dev\"))\n",
    "print(mf.averaged_product(simdict,'SYNONYMS',obj08sub02set1,\"std_dev\"))\n",
    "print(mf.averaged_product(simdict,'SYNONYMS',subobjset1,\"std_dev\"))"
   ]
  },
  {
   "cell_type": "markdown",
   "metadata": {},
   "source": [
    "#### Plain scalar product"
   ]
  },
  {
   "cell_type": "code",
   "execution_count": 9,
   "metadata": {
    "scrolled": true
   },
   "outputs": [
    {
     "name": "stdout",
     "output_type": "stream",
     "text": [
      "[0.8185005351827515, 0.17508935573288908]\n",
      "[0.82470462837639, 0.17188406822997837]\n",
      "[0.8331221129258357, 0.1680039041864535]\n",
      "[0.8339637714375697, 0.15163515337158912]\n"
     ]
    }
   ],
   "source": [
    "print(mf.averaged_product(simdict,'SYNONYMS',objsubset1,\"plain\"))\n",
    "print(mf.averaged_product(simdict,'SYNONYMS',obj09sub01set1,\"plain\"))\n",
    "print(mf.averaged_product(simdict,'SYNONYMS',obj08sub02set1,\"plain\"))\n",
    "print(mf.averaged_product(simdict,'SYNONYMS',subobjset1,\"plain\"))"
   ]
  },
  {
   "cell_type": "code",
   "execution_count": 10,
   "metadata": {},
   "outputs": [
    {
     "name": "stdout",
     "output_type": "stream",
     "text": [
      "[0.35946538547562135, 0.680059256754811]\n",
      "[0.3515849792284531, 0.6809761451855346]\n",
      "[0.35561811492323997, 0.6837453711470891]\n",
      "[0.46621654093963444, 0.6662271791900544]\n"
     ]
    }
   ],
   "source": [
    "print(mf.averaged_product(simdict,'SYNONYMS',objsubset1,\"plain_dev\"))\n",
    "print(mf.averaged_product(simdict,'SYNONYMS',obj09sub01set1,\"plain_dev\"))\n",
    "print(mf.averaged_product(simdict,'SYNONYMS',obj08sub02set1,\"plain_dev\"))\n",
    "print(mf.averaged_product(simdict,'SYNONYMS',subobjset1,\"plain_dev\"))"
   ]
  },
  {
   "cell_type": "markdown",
   "metadata": {},
   "source": [
    "### Relation type ANTONYMS"
   ]
  },
  {
   "cell_type": "markdown",
   "metadata": {},
   "source": [
    "#### Usual scalar product"
   ]
  },
  {
   "cell_type": "code",
   "execution_count": 11,
   "metadata": {
    "scrolled": true
   },
   "outputs": [
    {
     "name": "stdout",
     "output_type": "stream",
     "text": [
      "[0.46872463955536303, 0.27879445936575636]\n",
      "[0.4619911706612544, 0.2840931049715596]\n",
      "[0.45511186942375265, 0.29208274931495704]\n",
      "[0.38297298586745426, 0.3410613379380462]\n"
     ]
    }
   ],
   "source": [
    "#observable vectors\n",
    "print(mf.averaged_product(simdict,'ANTONYMS',objsubset1,\"mean\"))\n",
    "print(mf.averaged_product(simdict,'ANTONYMS',obj09sub01set1,\"mean\"))\n",
    "print(mf.averaged_product(simdict,'ANTONYMS',obj08sub02set1,\"mean\"))\n",
    "print(mf.averaged_product(simdict,'ANTONYMS',subobjset1,\"mean\"))"
   ]
  },
  {
   "cell_type": "code",
   "execution_count": 12,
   "metadata": {},
   "outputs": [
    {
     "name": "stdout",
     "output_type": "stream",
     "text": [
      "[0.11686779330026013, 0.4870706285854948]\n",
      "[0.114538675785646, 0.4929680612357917]\n",
      "[0.12149503258801209, 0.4985780975123047]\n",
      "[0.15018222720102836, 0.4884472407440774]\n"
     ]
    }
   ],
   "source": [
    "# observable vector deviations\n",
    "print(mf.averaged_product(simdict,'ANTONYMS',objsubset1,\"std_dev\"))\n",
    "print(mf.averaged_product(simdict,'ANTONYMS',obj09sub01set1,\"std_dev\"))\n",
    "print(mf.averaged_product(simdict,'ANTONYMS',obj08sub02set1,\"std_dev\"))\n",
    "print(mf.averaged_product(simdict,'ANTONYMS',subobjset1,\"std_dev\"))"
   ]
  },
  {
   "cell_type": "markdown",
   "metadata": {},
   "source": [
    "#### Plain scalar product"
   ]
  },
  {
   "cell_type": "code",
   "execution_count": 13,
   "metadata": {
    "scrolled": true
   },
   "outputs": [
    {
     "name": "stdout",
     "output_type": "stream",
     "text": [
      "[0.80605582200672, 0.18861368164743375]\n",
      "[0.8096929239933139, 0.18400969174719137]\n",
      "[0.8139826094909628, 0.188090820966675]\n",
      "[0.8424491669411975, 0.136572347056408]\n"
     ]
    }
   ],
   "source": [
    "print(mf.averaged_product(simdict,'ANTONYMS',objsubset1,\"plain\"))\n",
    "print(mf.averaged_product(simdict,'ANTONYMS',obj09sub01set1,\"plain\"))\n",
    "print(mf.averaged_product(simdict,'ANTONYMS',obj08sub02set1,\"plain\"))\n",
    "print(mf.averaged_product(simdict,'ANTONYMS',subobjset1,\"plain\"))"
   ]
  },
  {
   "cell_type": "code",
   "execution_count": 14,
   "metadata": {
    "scrolled": true
   },
   "outputs": [
    {
     "name": "stdout",
     "output_type": "stream",
     "text": [
      "[0.1448258877428619, 0.6778183021319323]\n",
      "[0.1409356958136091, 0.679574792871067]\n",
      "[0.1418138879823119, 0.6938941406414675]\n",
      "[0.30242289375495685, 0.7276560259828372]\n"
     ]
    }
   ],
   "source": [
    "print(mf.averaged_product(simdict,'ANTONYMS',objsubset1,\"plain_dev\"))\n",
    "print(mf.averaged_product(simdict,'ANTONYMS',obj09sub01set1,\"plain_dev\"))\n",
    "print(mf.averaged_product(simdict,'ANTONYMS',obj08sub02set1,\"plain_dev\"))\n",
    "print(mf.averaged_product(simdict,'ANTONYMS',subobjset1,\"plain_dev\"))"
   ]
  },
  {
   "cell_type": "markdown",
   "metadata": {},
   "source": [
    "# linear (2) + quadratic (11) + cubic (8) + quartic(2)  (23 total)"
   ]
  },
  {
   "cell_type": "code",
   "execution_count": 6,
   "metadata": {},
   "outputs": [],
   "source": [
    "# Make observables object\n",
    "set2 = mf.observables([\"Linear.txt\",\"Quadratic.txt\",\"Cubic1.txt\",\"Quartic1.txt\"])\n",
    "# Load matrices and make vector dictionaries\n",
    "objsubset2 = mf.vector_dictionary(\"matrices_1160_arg_obj_context_subj.txt\",set2)\n",
    "subobjset2 = mf.vector_dictionary(\"matrices_1160_arg_subj_context_obj.txt\",set2,[0])\n",
    "obj08sub02set2 = mf.vector_dictionary([[\"matrices_1160_arg_obj_context_subj.txt\",\"matrices_1160_arg_subj_context_obj.txt\"],[0.8,0.2]],set2,[1])\n",
    "obj09sub01set2 = mf.vector_dictionary([[\"matrices_1160_arg_obj_context_subj.txt\",\"matrices_1160_arg_subj_context_obj.txt\"],[0.9,0.1]],set2,[1])"
   ]
  },
  {
   "cell_type": "markdown",
   "metadata": {},
   "source": [
    "### Relation type NONE"
   ]
  },
  {
   "cell_type": "markdown",
   "metadata": {},
   "source": [
    "#### Usual scalar product"
   ]
  },
  {
   "cell_type": "code",
   "execution_count": 16,
   "metadata": {
    "scrolled": true
   },
   "outputs": [
    {
     "name": "stdout",
     "output_type": "stream",
     "text": [
      "[0.39696668847498423, 0.2969469676985821]\n",
      "[0.3879921373411235, 0.30183395144796515]\n",
      "[0.3755981685402756, 0.3104361079512253]\n",
      "[0.26105800929798306, 0.3820393951225187]\n"
     ]
    }
   ],
   "source": [
    "#observable vectors\n",
    "print(mf.averaged_product(simdict,'NONE',objsubset2,\"mean\"))\n",
    "print(mf.averaged_product(simdict,'NONE',obj09sub01set2,\"mean\"))\n",
    "print(mf.averaged_product(simdict,'NONE',obj08sub02set2,\"mean\"))\n",
    "print(mf.averaged_product(simdict,'NONE',subobjset2,\"mean\"))"
   ]
  },
  {
   "cell_type": "code",
   "execution_count": 17,
   "metadata": {},
   "outputs": [
    {
     "name": "stdout",
     "output_type": "stream",
     "text": [
      "[0.1678640167679776, 0.5061684030711323]\n",
      "[0.16859422446340672, 0.5043862094206524]\n",
      "[0.17243805559751624, 0.5021227705785991]\n",
      "[0.19551945782260138, 0.5173246191071544]\n"
     ]
    }
   ],
   "source": [
    "# observable vector deviations\n",
    "print(mf.averaged_product(simdict,'NONE',objsubset2,\"std_dev\"))\n",
    "print(mf.averaged_product(simdict,'NONE',obj09sub01set2,\"std_dev\"))\n",
    "print(mf.averaged_product(simdict,'NONE',obj08sub02set2,\"std_dev\"))\n",
    "print(mf.averaged_product(simdict,'NONE',subobjset2,\"std_dev\"))"
   ]
  },
  {
   "cell_type": "markdown",
   "metadata": {},
   "source": [
    "#### Plain scalar product"
   ]
  },
  {
   "cell_type": "code",
   "execution_count": 7,
   "metadata": {
    "scrolled": true
   },
   "outputs": [
    {
     "name": "stdout",
     "output_type": "stream",
     "text": [
      "[0.5952026614624384, 0.34852163591252405]\n",
      "[0.6030895353704414, 0.33788323371837975]\n",
      "[0.6090586043702529, 0.32907843824632604]\n",
      "[0.5888949739478951, 0.3460490031268164]\n"
     ]
    }
   ],
   "source": [
    "print(mf.averaged_product(simdict,'NONE',objsubset2,\"plain\"))\n",
    "print(mf.averaged_product(simdict,'NONE',obj09sub01set2,\"plain\"))\n",
    "print(mf.averaged_product(simdict,'NONE',obj08sub02set2,\"plain\"))\n",
    "print(mf.averaged_product(simdict,'NONE',subobjset2,\"plain\"))"
   ]
  },
  {
   "cell_type": "code",
   "execution_count": 8,
   "metadata": {},
   "outputs": [
    {
     "name": "stdout",
     "output_type": "stream",
     "text": [
      "[0.5782483698743682, 0.7941648893351593]\n",
      "[0.5839547522760508, 0.7763946094563263]\n",
      "[0.6119423381865257, 0.7452203014590879]\n",
      "[0.6443644173569476, 0.7602478123456016]\n"
     ]
    }
   ],
   "source": [
    "print(mf.averaged_product(simdict,'NONE',objsubset2,\"plain_dev\"))\n",
    "print(mf.averaged_product(simdict,'NONE',obj09sub01set2,\"plain_dev\"))\n",
    "print(mf.averaged_product(simdict,'NONE',obj08sub02set2,\"plain_dev\"))\n",
    "print(mf.averaged_product(simdict,'NONE',subobjset2,\"plain_dev\"))"
   ]
  },
  {
   "cell_type": "markdown",
   "metadata": {},
   "source": [
    "### Relation type SYNONYMS"
   ]
  },
  {
   "cell_type": "markdown",
   "metadata": {},
   "source": [
    "#### Usual scalar product"
   ]
  },
  {
   "cell_type": "code",
   "execution_count": 20,
   "metadata": {
    "scrolled": true
   },
   "outputs": [
    {
     "name": "stdout",
     "output_type": "stream",
     "text": [
      "[0.4424508774636527, 0.2552672771344092]\n",
      "[0.4374229455648321, 0.25389426967226736]\n",
      "[0.4317166132419034, 0.2589245526504496]\n",
      "[0.32905737096885584, 0.3856356523731884]\n"
     ]
    }
   ],
   "source": [
    "#observable vectors\n",
    "print(mf.averaged_product(simdict,'SYNONYMS',objsubset2,\"mean\"))\n",
    "print(mf.averaged_product(simdict,'SYNONYMS',obj09sub01set2,\"mean\"))\n",
    "print(mf.averaged_product(simdict,'SYNONYMS',obj08sub02set2,\"mean\"))\n",
    "print(mf.averaged_product(simdict,'SYNONYMS',subobjset2,\"mean\"))"
   ]
  },
  {
   "cell_type": "code",
   "execution_count": 21,
   "metadata": {},
   "outputs": [
    {
     "name": "stdout",
     "output_type": "stream",
     "text": [
      "[0.283921158660502, 0.48008170930997]\n",
      "[0.2878144146776532, 0.4765395913617845]\n",
      "[0.2949372304475758, 0.47288012720227535]\n",
      "[0.3140457289739001, 0.47774278223519606]\n"
     ]
    }
   ],
   "source": [
    "# observable vector deviations\n",
    "print(mf.averaged_product(simdict,'SYNONYMS',objsubset2,\"std_dev\"))\n",
    "print(mf.averaged_product(simdict,'SYNONYMS',obj09sub01set2,\"std_dev\"))\n",
    "print(mf.averaged_product(simdict,'SYNONYMS',obj08sub02set2,\"std_dev\"))\n",
    "print(mf.averaged_product(simdict,'SYNONYMS',subobjset2,\"std_dev\"))"
   ]
  },
  {
   "cell_type": "markdown",
   "metadata": {},
   "source": [
    "#### Plain scalar product"
   ]
  },
  {
   "cell_type": "code",
   "execution_count": 22,
   "metadata": {
    "scrolled": true
   },
   "outputs": [
    {
     "name": "stdout",
     "output_type": "stream",
     "text": [
      "[0.6004330990559624, 0.35459868530884353]\n",
      "[0.6027001314807311, 0.3438758230415265]\n",
      "[0.6077537891933465, 0.3316370387169906]\n",
      "[0.6175030504037731, 0.3523609111981688]\n"
     ]
    }
   ],
   "source": [
    "print(mf.averaged_product(simdict,'SYNONYMS',objsubset2,\"plain\"))\n",
    "print(mf.averaged_product(simdict,'SYNONYMS',obj09sub01set2,\"plain\"))\n",
    "print(mf.averaged_product(simdict,'SYNONYMS',obj08sub02set2,\"plain\"))\n",
    "print(mf.averaged_product(simdict,'SYNONYMS',subobjset2,\"plain\"))"
   ]
  },
  {
   "cell_type": "code",
   "execution_count": 23,
   "metadata": {},
   "outputs": [
    {
     "name": "stdout",
     "output_type": "stream",
     "text": [
      "[0.5565779674440465, 0.8055578776953709]\n",
      "[0.5792164390209327, 0.7867339136177519]\n",
      "[0.6026147902686545, 0.7604475451474471]\n",
      "[0.6926043774144024, 0.7172529838868393]\n"
     ]
    }
   ],
   "source": [
    "print(mf.averaged_product(simdict,'SYNONYMS',objsubset2,\"plain_dev\"))\n",
    "print(mf.averaged_product(simdict,'SYNONYMS',obj09sub01set2,\"plain_dev\"))\n",
    "print(mf.averaged_product(simdict,'SYNONYMS',obj08sub02set2,\"plain_dev\"))\n",
    "print(mf.averaged_product(simdict,'SYNONYMS',subobjset2,\"plain_dev\"))"
   ]
  },
  {
   "cell_type": "markdown",
   "metadata": {},
   "source": [
    "### Relation type ANTONYMS"
   ]
  },
  {
   "cell_type": "markdown",
   "metadata": {},
   "source": [
    "#### Usual scalar product"
   ]
  },
  {
   "cell_type": "code",
   "execution_count": 24,
   "metadata": {
    "scrolled": true
   },
   "outputs": [
    {
     "name": "stdout",
     "output_type": "stream",
     "text": [
      "[0.39320135940155854, 0.25983143147885057]\n",
      "[0.3819479371601253, 0.2646080904487618]\n",
      "[0.37646549029039683, 0.26874667735786895]\n",
      "[0.34280148390816295, 0.32258068717829597]\n"
     ]
    }
   ],
   "source": [
    "#observable vectors\n",
    "print(mf.averaged_product(simdict,'ANTONYMS',objsubset2,\"mean\"))\n",
    "print(mf.averaged_product(simdict,'ANTONYMS',obj09sub01set2,\"mean\"))\n",
    "print(mf.averaged_product(simdict,'ANTONYMS',obj08sub02set2,\"mean\"))\n",
    "print(mf.averaged_product(simdict,'ANTONYMS',subobjset2,\"mean\"))"
   ]
  },
  {
   "cell_type": "code",
   "execution_count": 25,
   "metadata": {},
   "outputs": [
    {
     "name": "stdout",
     "output_type": "stream",
     "text": [
      "[0.09342886775088534, 0.4386628941108759]\n",
      "[0.08804682295752107, 0.441103858983133]\n",
      "[0.09162992765175149, 0.44464155257155297]\n",
      "[0.14818291347197915, 0.4504594077442228]\n"
     ]
    }
   ],
   "source": [
    "# observable vector deviations\n",
    "print(mf.averaged_product(simdict,'ANTONYMS',objsubset2,\"std_dev\"))\n",
    "print(mf.averaged_product(simdict,'ANTONYMS',obj09sub01set2,\"std_dev\"))\n",
    "print(mf.averaged_product(simdict,'ANTONYMS',obj08sub02set2,\"std_dev\"))\n",
    "print(mf.averaged_product(simdict,'ANTONYMS',subobjset2,\"std_dev\"))"
   ]
  },
  {
   "cell_type": "markdown",
   "metadata": {},
   "source": [
    "#### Plain scalar product"
   ]
  },
  {
   "cell_type": "code",
   "execution_count": 26,
   "metadata": {
    "scrolled": true
   },
   "outputs": [
    {
     "name": "stdout",
     "output_type": "stream",
     "text": [
      "[0.6485978187026449, 0.3686897109418542]\n",
      "[0.6026751274535302, 0.37677061918815874]\n",
      "[0.5622340803343061, 0.3658868698097848]\n",
      "[0.6659679544848128, 0.3747666924729258]\n"
     ]
    }
   ],
   "source": [
    "print(mf.averaged_product(simdict,'ANTONYMS',objsubset2,\"plain\"))\n",
    "print(mf.averaged_product(simdict,'ANTONYMS',obj09sub01set2,\"plain\"))\n",
    "print(mf.averaged_product(simdict,'ANTONYMS',obj08sub02set2,\"plain\"))\n",
    "print(mf.averaged_product(simdict,'ANTONYMS',subobjset2,\"plain\"))"
   ]
  },
  {
   "cell_type": "code",
   "execution_count": 27,
   "metadata": {
    "scrolled": true
   },
   "outputs": [
    {
     "name": "stdout",
     "output_type": "stream",
     "text": [
      "[0.43656463868996886, 0.8758305192791683]\n",
      "[0.41824814056902515, 0.8712929140728934]\n",
      "[0.5360737440601467, 0.7915043777722771]\n",
      "[0.6746261854653001, 0.7278577734463753]\n"
     ]
    }
   ],
   "source": [
    "print(mf.averaged_product(simdict,'ANTONYMS',objsubset2,\"plain_dev\"))\n",
    "print(mf.averaged_product(simdict,'ANTONYMS',obj09sub01set2,\"plain_dev\"))\n",
    "print(mf.averaged_product(simdict,'ANTONYMS',obj08sub02set2,\"plain_dev\"))\n",
    "print(mf.averaged_product(simdict,'ANTONYMS',subobjset2,\"plain_dev\"))"
   ]
  },
  {
   "cell_type": "markdown",
   "metadata": {},
   "source": [
    "### Relation type HYPER/HYPONYMS"
   ]
  },
  {
   "cell_type": "markdown",
   "metadata": {},
   "source": [
    "#### Usual scalar product"
   ]
  },
  {
   "cell_type": "code",
   "execution_count": 28,
   "metadata": {
    "scrolled": true
   },
   "outputs": [
    {
     "name": "stdout",
     "output_type": "stream",
     "text": [
      "[0.4249294683633869, 0.26617174312424186]\n",
      "[0.41879805136318593, 0.27244109906499825]\n",
      "[0.41260697959078174, 0.281914952529803]\n",
      "[0.3181464480028766, 0.3455584144825405]\n"
     ]
    }
   ],
   "source": [
    "#observable vectors\n",
    "print(mf.averaged_product(simdict,'HYPER/HYPONYMS',objsubset2,\"mean\"))\n",
    "print(mf.averaged_product(simdict,'HYPER/HYPONYMS',obj09sub01set2,\"mean\"))\n",
    "print(mf.averaged_product(simdict,'HYPER/HYPONYMS',obj08sub02set2,\"mean\"))\n",
    "print(mf.averaged_product(simdict,'HYPER/HYPONYMS',subobjset2,\"mean\"))"
   ]
  },
  {
   "cell_type": "code",
   "execution_count": 29,
   "metadata": {},
   "outputs": [
    {
     "name": "stdout",
     "output_type": "stream",
     "text": [
      "[0.13162707768360712, 0.46973844850325025]\n",
      "[0.1323974052602255, 0.4669096371470686]\n",
      "[0.13569691122824282, 0.4649463692653508]\n",
      "[0.13409498011344803, 0.47489563899347476]\n"
     ]
    }
   ],
   "source": [
    "# observable vector deviations\n",
    "print(mf.averaged_product(simdict,'HYPER/HYPONYMS',objsubset2,\"std_dev\"))\n",
    "print(mf.averaged_product(simdict,'HYPER/HYPONYMS',obj09sub01set2,\"std_dev\"))\n",
    "print(mf.averaged_product(simdict,'HYPER/HYPONYMS',obj08sub02set2,\"std_dev\"))\n",
    "print(mf.averaged_product(simdict,'HYPER/HYPONYMS',subobjset2,\"std_dev\"))"
   ]
  },
  {
   "cell_type": "markdown",
   "metadata": {},
   "source": [
    "#### Plain scalar product"
   ]
  },
  {
   "cell_type": "code",
   "execution_count": 30,
   "metadata": {
    "scrolled": true
   },
   "outputs": [
    {
     "name": "stdout",
     "output_type": "stream",
     "text": [
      "[0.5934271549010992, 0.35449810612409416]\n",
      "[0.5891098591583731, 0.34672783533221907]\n",
      "[0.5952341291057545, 0.33768849913848326]\n",
      "[0.5898688485837195, 0.3585830041320534]\n"
     ]
    }
   ],
   "source": [
    "print(mf.averaged_product(simdict,'HYPER/HYPONYMS',objsubset2,\"plain\"))\n",
    "print(mf.averaged_product(simdict,'HYPER/HYPONYMS',obj09sub01set2,\"plain\"))\n",
    "print(mf.averaged_product(simdict,'HYPER/HYPONYMS',obj08sub02set2,\"plain\"))\n",
    "print(mf.averaged_product(simdict,'HYPER/HYPONYMS',subobjset2,\"plain\"))"
   ]
  },
  {
   "cell_type": "code",
   "execution_count": 31,
   "metadata": {},
   "outputs": [
    {
     "name": "stdout",
     "output_type": "stream",
     "text": [
      "[0.500524393047107, 0.8353533617607124]\n",
      "[0.550866577862243, 0.7924360811396676]\n",
      "[0.5668530667591041, 0.7773588763986194]\n",
      "[0.5370730832614402, 0.8375311255248237]\n"
     ]
    }
   ],
   "source": [
    "print(mf.averaged_product(simdict,'HYPER/HYPONYMS',objsubset2,\"plain_dev\"))\n",
    "print(mf.averaged_product(simdict,'HYPER/HYPONYMS',obj09sub01set2,\"plain_dev\"))\n",
    "print(mf.averaged_product(simdict,'HYPER/HYPONYMS',obj08sub02set2,\"plain_dev\"))\n",
    "print(mf.averaged_product(simdict,'HYPER/HYPONYMS',subobjset2,\"plain_dev\"))"
   ]
  },
  {
   "cell_type": "markdown",
   "metadata": {},
   "source": [
    "### Relation type COHYPONYMS"
   ]
  },
  {
   "cell_type": "markdown",
   "metadata": {},
   "source": [
    "#### Usual scalar product"
   ]
  },
  {
   "cell_type": "code",
   "execution_count": 32,
   "metadata": {
    "scrolled": true
   },
   "outputs": [
    {
     "name": "stdout",
     "output_type": "stream",
     "text": [
      "[0.41485555780992456, 0.2762073969495413]\n",
      "[0.4104442440127617, 0.27496684133333466]\n",
      "[0.3991823082561555, 0.2796427783606923]\n",
      "[0.3244571339171163, 0.38158473699390255]\n"
     ]
    }
   ],
   "source": [
    "#observable vectors\n",
    "print(mf.averaged_product(simdict,'COHYPONYMS',objsubset2,\"mean\"))\n",
    "print(mf.averaged_product(simdict,'COHYPONYMS',obj09sub01set2,\"mean\"))\n",
    "print(mf.averaged_product(simdict,'COHYPONYMS',obj08sub02set2,\"mean\"))\n",
    "print(mf.averaged_product(simdict,'COHYPONYMS',subobjset2,\"mean\"))"
   ]
  },
  {
   "cell_type": "code",
   "execution_count": 33,
   "metadata": {},
   "outputs": [
    {
     "name": "stdout",
     "output_type": "stream",
     "text": [
      "[0.1920150917651739, 0.4610064765067929]\n",
      "[0.19587510916161896, 0.4535851441530613]\n",
      "[0.2011622155417129, 0.45144925195567226]\n",
      "[0.24883271598637707, 0.48780756186034546]\n"
     ]
    }
   ],
   "source": [
    "# observable vector deviations\n",
    "print(mf.averaged_product(simdict,'COHYPONYMS',objsubset2,\"std_dev\"))\n",
    "print(mf.averaged_product(simdict,'COHYPONYMS',obj09sub01set2,\"std_dev\"))\n",
    "print(mf.averaged_product(simdict,'COHYPONYMS',obj08sub02set2,\"std_dev\"))\n",
    "print(mf.averaged_product(simdict,'COHYPONYMS',subobjset2,\"std_dev\"))"
   ]
  },
  {
   "cell_type": "markdown",
   "metadata": {},
   "source": [
    "#### Plain scalar product"
   ]
  },
  {
   "cell_type": "code",
   "execution_count": 34,
   "metadata": {
    "scrolled": true
   },
   "outputs": [
    {
     "name": "stdout",
     "output_type": "stream",
     "text": [
      "[0.6124159201993651, 0.34774248174389055]\n",
      "[0.6085176858876239, 0.3447513707722667]\n",
      "[0.6088116610270333, 0.32897971618113503]\n",
      "[0.6065613829025644, 0.35253911100651497]\n"
     ]
    }
   ],
   "source": [
    "print(mf.averaged_product(simdict,'COHYPONYMS',objsubset2,\"plain\"))\n",
    "print(mf.averaged_product(simdict,'COHYPONYMS',obj09sub01set2,\"plain\"))\n",
    "print(mf.averaged_product(simdict,'COHYPONYMS',obj08sub02set2,\"plain\"))\n",
    "print(mf.averaged_product(simdict,'COHYPONYMS',subobjset2,\"plain\"))"
   ]
  },
  {
   "cell_type": "code",
   "execution_count": 35,
   "metadata": {
    "scrolled": false
   },
   "outputs": [
    {
     "name": "stdout",
     "output_type": "stream",
     "text": [
      "[0.5818977574762745, 0.7863411366830344]\n",
      "[0.55044954514422, 0.7978126176163384]\n",
      "[0.5909176759943339, 0.770375599316881]\n",
      "[0.6435036267774763, 0.758775574899478]\n"
     ]
    }
   ],
   "source": [
    "print(mf.averaged_product(simdict,'COHYPONYMS',objsubset2,\"plain_dev\"))\n",
    "print(mf.averaged_product(simdict,'COHYPONYMS',obj09sub01set2,\"plain_dev\"))\n",
    "print(mf.averaged_product(simdict,'COHYPONYMS',obj08sub02set2,\"plain_dev\"))\n",
    "print(mf.averaged_product(simdict,'COHYPONYMS',subobjset2,\"plain_dev\"))"
   ]
  },
  {
   "cell_type": "markdown",
   "metadata": {},
   "source": [
    "# Cubic (8) + quartic(2) (10 total)"
   ]
  },
  {
   "cell_type": "code",
   "execution_count": 11,
   "metadata": {},
   "outputs": [],
   "source": [
    "# Make observables object\n",
    "set3 = mf.observables([\"Cubic1.txt\",\"Quartic1.txt\"])\n",
    "# Load matrices and make vector dictionaries\n",
    "objsubset3 = mf.vector_dictionary(\"matrices_1160_arg_obj_context_subj.txt\",set3)\n",
    "subobjset3 = mf.vector_dictionary(\"matrices_1160_arg_subj_context_obj.txt\",set3,[0])\n",
    "obj08sub02set3 = mf.vector_dictionary([[\"matrices_1160_arg_obj_context_subj.txt\",\"matrices_1160_arg_subj_context_obj.txt\"],[0.8,0.2]],set3,[1])\n",
    "obj09sub01set3 = mf.vector_dictionary([[\"matrices_1160_arg_obj_context_subj.txt\",\"matrices_1160_arg_subj_context_obj.txt\"],[0.9,0.1]],set3,[1])"
   ]
  },
  {
   "cell_type": "markdown",
   "metadata": {},
   "source": [
    "### Relation type NONE"
   ]
  },
  {
   "cell_type": "markdown",
   "metadata": {},
   "source": [
    "#### Usual scalar product"
   ]
  },
  {
   "cell_type": "code",
   "execution_count": 12,
   "metadata": {
    "scrolled": true
   },
   "outputs": [
    {
     "name": "stdout",
     "output_type": "stream",
     "text": [
      "[0.11062917742952184, 0.4167074322316934]\n",
      "[0.10708315389808418, 0.41140266025866506]\n",
      "[0.10390558945427522, 0.4099046803328103]\n",
      "[0.01984377095673164, 0.5563609657614086]\n"
     ]
    }
   ],
   "source": [
    "#observable vectors\n",
    "print(mf.averaged_product(simdict,'NONE',objsubset3,\"mean\"))\n",
    "print(mf.averaged_product(simdict,'NONE',obj09sub01set3,\"mean\"))\n",
    "print(mf.averaged_product(simdict,'NONE',obj08sub02set3,\"mean\"))\n",
    "print(mf.averaged_product(simdict,'NONE',subobjset3,\"mean\"))"
   ]
  },
  {
   "cell_type": "code",
   "execution_count": 13,
   "metadata": {},
   "outputs": [
    {
     "name": "stdout",
     "output_type": "stream",
     "text": [
      "[0.26714218159594433, 0.5598336550096815]\n",
      "[0.2618893103366146, 0.5521427245687003]\n",
      "[0.26471886047820115, 0.5391394342562307]\n",
      "[0.4428856300710218, 0.5639991923278376]\n"
     ]
    }
   ],
   "source": [
    "# observable vector deviations\n",
    "print(mf.averaged_product(simdict,'NONE',objsubset3,\"std_dev\"))\n",
    "print(mf.averaged_product(simdict,'NONE',obj09sub01set3,\"std_dev\"))\n",
    "print(mf.averaged_product(simdict,'NONE',obj08sub02set3,\"std_dev\"))\n",
    "print(mf.averaged_product(simdict,'NONE',subobjset3,\"std_dev\"))"
   ]
  },
  {
   "cell_type": "markdown",
   "metadata": {},
   "source": [
    "#### Plain scalar product"
   ]
  },
  {
   "cell_type": "code",
   "execution_count": 14,
   "metadata": {
    "scrolled": true
   },
   "outputs": [
    {
     "name": "stdout",
     "output_type": "stream",
     "text": [
      "[0.5519718924199511, 0.41881326367872923]\n",
      "[0.5335069633731999, 0.4254152815843077]\n",
      "[0.5076533379870708, 0.43760110995429885]\n",
      "[0.554855675383644, 0.4065366954299626]\n"
     ]
    }
   ],
   "source": [
    "print(mf.averaged_product(simdict,'NONE',objsubset3,\"plain\"))\n",
    "print(mf.averaged_product(simdict,'NONE',obj09sub01set3,\"plain\"))\n",
    "print(mf.averaged_product(simdict,'NONE',obj08sub02set3,\"plain\"))\n",
    "print(mf.averaged_product(simdict,'NONE',subobjset3,\"plain\"))"
   ]
  },
  {
   "cell_type": "code",
   "execution_count": 15,
   "metadata": {},
   "outputs": [
    {
     "name": "stdout",
     "output_type": "stream",
     "text": [
      "[0.5781709724734826, 0.7951574369235119]\n",
      "[0.5845320458682569, 0.7781390550119175]\n",
      "[0.6127463916332522, 0.747159000664789]\n",
      "[0.6443727184212935, 0.760278771247601]\n"
     ]
    }
   ],
   "source": [
    "print(mf.averaged_product(simdict,'NONE',objsubset3,\"plain_dev\"))\n",
    "print(mf.averaged_product(simdict,'NONE',obj09sub01set3,\"plain_dev\"))\n",
    "print(mf.averaged_product(simdict,'NONE',obj08sub02set3,\"plain_dev\"))\n",
    "print(mf.averaged_product(simdict,'NONE',subobjset3,\"plain_dev\"))"
   ]
  },
  {
   "cell_type": "markdown",
   "metadata": {},
   "source": [
    "### Relation type SYNONYMS"
   ]
  },
  {
   "cell_type": "markdown",
   "metadata": {},
   "source": [
    "#### Usual scalar product"
   ]
  },
  {
   "cell_type": "code",
   "execution_count": 16,
   "metadata": {
    "scrolled": true
   },
   "outputs": [
    {
     "name": "stdout",
     "output_type": "stream",
     "text": [
      "[0.12918037897319296, 0.3985113060682579]\n",
      "[0.13017503488431148, 0.4024251498591181]\n",
      "[0.13657147208338527, 0.4043336121274284]\n",
      "[0.023927742072425408, 0.5218317723681576]\n"
     ]
    }
   ],
   "source": [
    "#observable vectors\n",
    "print(mf.averaged_product(simdict,'SYNONYMS',objsubset3,\"mean\"))\n",
    "print(mf.averaged_product(simdict,'SYNONYMS',obj09sub01set3,\"mean\"))\n",
    "print(mf.averaged_product(simdict,'SYNONYMS',obj08sub02set3,\"mean\"))\n",
    "print(mf.averaged_product(simdict,'SYNONYMS',subobjset3,\"mean\"))"
   ]
  },
  {
   "cell_type": "code",
   "execution_count": 17,
   "metadata": {},
   "outputs": [
    {
     "name": "stdout",
     "output_type": "stream",
     "text": [
      "[0.33585492378390713, 0.5390383768881372]\n",
      "[0.3362234004836345, 0.5300503558959206]\n",
      "[0.3404727618935566, 0.5153614693568593]\n",
      "[0.4779092692748367, 0.5362008064762008]\n"
     ]
    }
   ],
   "source": [
    "# observable vector deviations\n",
    "print(mf.averaged_product(simdict,'SYNONYMS',objsubset3,\"std_dev\"))\n",
    "print(mf.averaged_product(simdict,'SYNONYMS',obj09sub01set3,\"std_dev\"))\n",
    "print(mf.averaged_product(simdict,'SYNONYMS',obj08sub02set3,\"std_dev\"))\n",
    "print(mf.averaged_product(simdict,'SYNONYMS',subobjset3,\"std_dev\"))"
   ]
  },
  {
   "cell_type": "markdown",
   "metadata": {},
   "source": [
    "#### Plain scalar product"
   ]
  },
  {
   "cell_type": "code",
   "execution_count": 18,
   "metadata": {
    "scrolled": true
   },
   "outputs": [
    {
     "name": "stdout",
     "output_type": "stream",
     "text": [
      "[0.5537120723933104, 0.4478156796132517]\n",
      "[0.5096196323151625, 0.4682167695952224]\n",
      "[0.4927181970759464, 0.46387298196245585]\n",
      "[0.5673760273470484, 0.4312207329575683]\n"
     ]
    }
   ],
   "source": [
    "print(mf.averaged_product(simdict,'SYNONYMS',objsubset3,\"plain\"))\n",
    "print(mf.averaged_product(simdict,'SYNONYMS',obj09sub01set3,\"plain\"))\n",
    "print(mf.averaged_product(simdict,'SYNONYMS',obj08sub02set3,\"plain\"))\n",
    "print(mf.averaged_product(simdict,'SYNONYMS',subobjset3,\"plain\"))"
   ]
  },
  {
   "cell_type": "code",
   "execution_count": 19,
   "metadata": {},
   "outputs": [
    {
     "name": "stdout",
     "output_type": "stream",
     "text": [
      "[0.5566635271326134, 0.8066118034578486]\n",
      "[0.5799225851061405, 0.789463969317755]\n",
      "[0.6028695946378231, 0.7630584623251032]\n",
      "[0.6926109211321855, 0.7172884152069695]\n"
     ]
    }
   ],
   "source": [
    "print(mf.averaged_product(simdict,'SYNONYMS',objsubset3,\"plain_dev\"))\n",
    "print(mf.averaged_product(simdict,'SYNONYMS',obj09sub01set3,\"plain_dev\"))\n",
    "print(mf.averaged_product(simdict,'SYNONYMS',obj08sub02set3,\"plain_dev\"))\n",
    "print(mf.averaged_product(simdict,'SYNONYMS',subobjset3,\"plain_dev\"))"
   ]
  },
  {
   "cell_type": "markdown",
   "metadata": {},
   "source": [
    "### Relation type ANTONYMS"
   ]
  },
  {
   "cell_type": "markdown",
   "metadata": {},
   "source": [
    "#### Usual scalar product"
   ]
  },
  {
   "cell_type": "code",
   "execution_count": 20,
   "metadata": {
    "scrolled": true
   },
   "outputs": [
    {
     "name": "stdout",
     "output_type": "stream",
     "text": [
      "[0.056065586218732644, 0.42090342009589515]\n",
      "[0.05804310832889628, 0.42155423321186336]\n",
      "[0.05596848698937469, 0.41191548640572656]\n",
      "[0.06456161483964938, 0.5626718836744539]\n"
     ]
    }
   ],
   "source": [
    "#observable vectors\n",
    "print(mf.averaged_product(simdict,'ANTONYMS',objsubset3,\"mean\"))\n",
    "print(mf.averaged_product(simdict,'ANTONYMS',obj09sub01set3,\"mean\"))\n",
    "print(mf.averaged_product(simdict,'ANTONYMS',obj08sub02set3,\"mean\"))\n",
    "print(mf.averaged_product(simdict,'ANTONYMS',subobjset3,\"mean\"))"
   ]
  },
  {
   "cell_type": "code",
   "execution_count": 21,
   "metadata": {},
   "outputs": [
    {
     "name": "stdout",
     "output_type": "stream",
     "text": [
      "[0.12206992679076673, 0.4830357121748659]\n",
      "[0.12695104975391336, 0.47952891486702975]\n",
      "[0.1273386986692756, 0.47273843423856715]\n",
      "[0.29611614681961457, 0.5606279359677603]\n"
     ]
    }
   ],
   "source": [
    "# observable vector deviations\n",
    "print(mf.averaged_product(simdict,'ANTONYMS',objsubset3,\"std_dev\"))\n",
    "print(mf.averaged_product(simdict,'ANTONYMS',obj09sub01set3,\"std_dev\"))\n",
    "print(mf.averaged_product(simdict,'ANTONYMS',obj08sub02set3,\"std_dev\"))\n",
    "print(mf.averaged_product(simdict,'ANTONYMS',subobjset3,\"std_dev\"))"
   ]
  },
  {
   "cell_type": "markdown",
   "metadata": {},
   "source": [
    "#### Plain scalar product"
   ]
  },
  {
   "cell_type": "code",
   "execution_count": 22,
   "metadata": {
    "scrolled": true
   },
   "outputs": [
    {
     "name": "stdout",
     "output_type": "stream",
     "text": [
      "[0.666551221655536, 0.36288405692790765]\n",
      "[0.6198273941447612, 0.3854351648996523]\n",
      "[0.5456408478021069, 0.42350989562208907]\n",
      "[0.6540402362090085, 0.39148848460956964]\n"
     ]
    }
   ],
   "source": [
    "print(mf.averaged_product(simdict,'ANTONYMS',objsubset3,\"plain\"))\n",
    "print(mf.averaged_product(simdict,'ANTONYMS',obj09sub01set3,\"plain\"))\n",
    "print(mf.averaged_product(simdict,'ANTONYMS',obj08sub02set3,\"plain\"))\n",
    "print(mf.averaged_product(simdict,'ANTONYMS',subobjset3,\"plain\"))"
   ]
  },
  {
   "cell_type": "code",
   "execution_count": 23,
   "metadata": {
    "scrolled": true
   },
   "outputs": [
    {
     "name": "stdout",
     "output_type": "stream",
     "text": [
      "[0.4368379101980106, 0.877107716869963]\n",
      "[0.4179358926104382, 0.8749241874935425]\n",
      "[0.5375063171988834, 0.7945969832504517]\n",
      "[0.6746383597628317, 0.7279180362310841]\n"
     ]
    }
   ],
   "source": [
    "print(mf.averaged_product(simdict,'ANTONYMS',objsubset3,\"plain_dev\"))\n",
    "print(mf.averaged_product(simdict,'ANTONYMS',obj09sub01set3,\"plain_dev\"))\n",
    "print(mf.averaged_product(simdict,'ANTONYMS',obj08sub02set3,\"plain_dev\"))\n",
    "print(mf.averaged_product(simdict,'ANTONYMS',subobjset3,\"plain_dev\"))"
   ]
  },
  {
   "cell_type": "markdown",
   "metadata": {},
   "source": [
    "# Cubic (8) + quartic(2) + additional cubic and quartic (5) (15 total)"
   ]
  },
  {
   "cell_type": "code",
   "execution_count": 24,
   "metadata": {},
   "outputs": [],
   "source": [
    "# Make observables object\n",
    "set4 = mf.observables([\"Cubic1.txt\",\"Quartic1.txt\",\"Additional1.txt\"])\n",
    "# Load matrices and make vector dictionaries\n",
    "objsubset4 = mf.vector_dictionary(\"matrices_1160_arg_obj_context_subj.txt\",set4)\n",
    "subobjset4 = mf.vector_dictionary(\"matrices_1160_arg_subj_context_obj.txt\",set4,[0])\n",
    "obj08sub02set4 = mf.vector_dictionary([[\"matrices_1160_arg_obj_context_subj.txt\",\"matrices_1160_arg_subj_context_obj.txt\"],[0.8,0.2]],set4,[1])\n",
    "obj09sub01set4 = mf.vector_dictionary([[\"matrices_1160_arg_obj_context_subj.txt\",\"matrices_1160_arg_subj_context_obj.txt\"],[0.9,0.1]],set4,[1])"
   ]
  },
  {
   "cell_type": "markdown",
   "metadata": {},
   "source": [
    "### Relation type NONE"
   ]
  },
  {
   "cell_type": "markdown",
   "metadata": {},
   "source": [
    "#### Usual scalar product"
   ]
  },
  {
   "cell_type": "code",
   "execution_count": 25,
   "metadata": {
    "scrolled": false
   },
   "outputs": [
    {
     "name": "stdout",
     "output_type": "stream",
     "text": [
      "[0.12618448633210183, 0.3520788741228348]\n",
      "[0.12928700209558058, 0.3506145424305712]\n",
      "[0.12903551560389925, 0.346792605739984]\n",
      "[0.03592779507084501, 0.4632461094693515]\n"
     ]
    }
   ],
   "source": [
    "#observable vectors\n",
    "print(mf.averaged_product(simdict,'NONE',objsubset4,\"mean\"))\n",
    "print(mf.averaged_product(simdict,'NONE',obj09sub01set4,\"mean\"))\n",
    "print(mf.averaged_product(simdict,'NONE',obj08sub02set4,\"mean\"))\n",
    "print(mf.averaged_product(simdict,'NONE',subobjset4,\"mean\"))"
   ]
  },
  {
   "cell_type": "code",
   "execution_count": 26,
   "metadata": {},
   "outputs": [
    {
     "name": "stdout",
     "output_type": "stream",
     "text": [
      "[0.28239107850890444, 0.5356118490300192]\n",
      "[0.27898951981023085, 0.533892487969633]\n",
      "[0.28660918305699623, 0.5286663616404906]\n",
      "[0.44492950568935785, 0.5547811254831773]\n"
     ]
    }
   ],
   "source": [
    "# observable vector deviations\n",
    "print(mf.averaged_product(simdict,'NONE',objsubset4,\"std_dev\"))\n",
    "print(mf.averaged_product(simdict,'NONE',obj09sub01set4,\"std_dev\"))\n",
    "print(mf.averaged_product(simdict,'NONE',obj08sub02set4,\"std_dev\"))\n",
    "print(mf.averaged_product(simdict,'NONE',subobjset4,\"std_dev\"))"
   ]
  },
  {
   "cell_type": "markdown",
   "metadata": {},
   "source": [
    "#### Plain scalar product"
   ]
  },
  {
   "cell_type": "code",
   "execution_count": 27,
   "metadata": {
    "scrolled": true
   },
   "outputs": [
    {
     "name": "stdout",
     "output_type": "stream",
     "text": [
      "[0.5384915892509521, 0.3992285745819761]\n",
      "[0.5233019019204562, 0.4048246513113855]\n",
      "[0.4961785651746746, 0.4110241808234134]\n",
      "[0.535910211501512, 0.3914534125794241]\n"
     ]
    }
   ],
   "source": [
    "print(mf.averaged_product(simdict,'NONE',objsubset4,\"plain\"))\n",
    "print(mf.averaged_product(simdict,'NONE',obj09sub01set4,\"plain\"))\n",
    "print(mf.averaged_product(simdict,'NONE',obj08sub02set4,\"plain\"))\n",
    "print(mf.averaged_product(simdict,'NONE',subobjset4,\"plain\"))"
   ]
  },
  {
   "cell_type": "code",
   "execution_count": 28,
   "metadata": {},
   "outputs": [
    {
     "name": "stdout",
     "output_type": "stream",
     "text": [
      "[0.5781231069877043, 0.7950281226194412]\n",
      "[0.5841260041867983, 0.7779349136408031]\n",
      "[0.6125186641810675, 0.7468930567483562]\n",
      "[0.6443683819969911, 0.7602715808710541]\n"
     ]
    }
   ],
   "source": [
    "print(mf.averaged_product(simdict,'NONE',objsubset4,\"plain_dev\"))\n",
    "print(mf.averaged_product(simdict,'NONE',obj09sub01set4,\"plain_dev\"))\n",
    "print(mf.averaged_product(simdict,'NONE',obj08sub02set4,\"plain_dev\"))\n",
    "print(mf.averaged_product(simdict,'NONE',subobjset4,\"plain_dev\"))"
   ]
  },
  {
   "cell_type": "markdown",
   "metadata": {},
   "source": [
    "### Relation type SYNONYMS"
   ]
  },
  {
   "cell_type": "markdown",
   "metadata": {},
   "source": [
    "#### Usual scalar product"
   ]
  },
  {
   "cell_type": "code",
   "execution_count": 29,
   "metadata": {
    "scrolled": true
   },
   "outputs": [
    {
     "name": "stdout",
     "output_type": "stream",
     "text": [
      "[0.14375192198193723, 0.3504889336100788]\n",
      "[0.15918324261382036, 0.3530321409988211]\n",
      "[0.17532173118548405, 0.34752819089127907]\n",
      "[0.038156776505147025, 0.44182473729018495]\n"
     ]
    }
   ],
   "source": [
    "#observable vectors\n",
    "print(mf.averaged_product(simdict,'SYNONYMS',objsubset4,\"mean\"))\n",
    "print(mf.averaged_product(simdict,'SYNONYMS',obj09sub01set4,\"mean\"))\n",
    "print(mf.averaged_product(simdict,'SYNONYMS',obj08sub02set4,\"mean\"))\n",
    "print(mf.averaged_product(simdict,'SYNONYMS',subobjset4,\"mean\"))"
   ]
  },
  {
   "cell_type": "code",
   "execution_count": 30,
   "metadata": {},
   "outputs": [
    {
     "name": "stdout",
     "output_type": "stream",
     "text": [
      "[0.337247608333615, 0.5159632478679148]\n",
      "[0.3446988132205568, 0.5113862987929345]\n",
      "[0.35945461187241745, 0.5044853014996152]\n",
      "[0.4637362687185653, 0.5265500733882849]\n"
     ]
    }
   ],
   "source": [
    "# observable vector deviations\n",
    "print(mf.averaged_product(simdict,'SYNONYMS',objsubset4,\"std_dev\"))\n",
    "print(mf.averaged_product(simdict,'SYNONYMS',obj09sub01set4,\"std_dev\"))\n",
    "print(mf.averaged_product(simdict,'SYNONYMS',obj08sub02set4,\"std_dev\"))\n",
    "print(mf.averaged_product(simdict,'SYNONYMS',subobjset4,\"std_dev\"))"
   ]
  },
  {
   "cell_type": "markdown",
   "metadata": {},
   "source": [
    "#### Plain scalar product"
   ]
  },
  {
   "cell_type": "code",
   "execution_count": 31,
   "metadata": {
    "scrolled": true
   },
   "outputs": [
    {
     "name": "stdout",
     "output_type": "stream",
     "text": [
      "[0.5419335128602057, 0.39879699619492887]\n",
      "[0.5161273256997583, 0.4115084139108782]\n",
      "[0.4977169267857523, 0.4086656106680304]\n",
      "[0.5587109667480364, 0.4068865297689567]\n"
     ]
    }
   ],
   "source": [
    "print(mf.averaged_product(simdict,'SYNONYMS',objsubset4,\"plain\"))\n",
    "print(mf.averaged_product(simdict,'SYNONYMS',obj09sub01set4,\"plain\"))\n",
    "print(mf.averaged_product(simdict,'SYNONYMS',obj08sub02set4,\"plain\"))\n",
    "print(mf.averaged_product(simdict,'SYNONYMS',subobjset4,\"plain\"))"
   ]
  },
  {
   "cell_type": "code",
   "execution_count": 32,
   "metadata": {},
   "outputs": [
    {
     "name": "stdout",
     "output_type": "stream",
     "text": [
      "[0.5566348673763998, 0.8062913766637997]\n",
      "[0.579788777296171, 0.7889957471303458]\n",
      "[0.6027620145401302, 0.7624253636304477]\n",
      "[0.6926098694825186, 0.7172656215971018]\n"
     ]
    }
   ],
   "source": [
    "print(mf.averaged_product(simdict,'SYNONYMS',objsubset4,\"plain_dev\"))\n",
    "print(mf.averaged_product(simdict,'SYNONYMS',obj09sub01set4,\"plain_dev\"))\n",
    "print(mf.averaged_product(simdict,'SYNONYMS',obj08sub02set4,\"plain_dev\"))\n",
    "print(mf.averaged_product(simdict,'SYNONYMS',subobjset4,\"plain_dev\"))"
   ]
  },
  {
   "cell_type": "markdown",
   "metadata": {},
   "source": [
    "### Relation type ANTONYMS"
   ]
  },
  {
   "cell_type": "markdown",
   "metadata": {},
   "source": [
    "#### Usual scalar product"
   ]
  },
  {
   "cell_type": "code",
   "execution_count": 33,
   "metadata": {
    "scrolled": true
   },
   "outputs": [
    {
     "name": "stdout",
     "output_type": "stream",
     "text": [
      "[0.0877816650940813, 0.3498233797319778]\n",
      "[0.0913631817394734, 0.3770926606345596]\n",
      "[0.11197059660329346, 0.3783293734197053]\n",
      "[0.09326952951226117, 0.4530848527407711]\n"
     ]
    }
   ],
   "source": [
    "#observable vectors\n",
    "print(mf.averaged_product(simdict,'ANTONYMS',objsubset4,\"mean\"))\n",
    "print(mf.averaged_product(simdict,'ANTONYMS',obj09sub01set4,\"mean\"))\n",
    "print(mf.averaged_product(simdict,'ANTONYMS',obj08sub02set4,\"mean\"))\n",
    "print(mf.averaged_product(simdict,'ANTONYMS',subobjset4,\"mean\"))"
   ]
  },
  {
   "cell_type": "code",
   "execution_count": 34,
   "metadata": {},
   "outputs": [
    {
     "name": "stdout",
     "output_type": "stream",
     "text": [
      "[0.1210454781669746, 0.4444696149533608]\n",
      "[0.12483491796794653, 0.45331844974688945]\n",
      "[0.1442523966278518, 0.4512734715275757]\n",
      "[0.29959366642054874, 0.5093203552395215]\n"
     ]
    }
   ],
   "source": [
    "# observable vector deviations\n",
    "print(mf.averaged_product(simdict,'ANTONYMS',objsubset4,\"std_dev\"))\n",
    "print(mf.averaged_product(simdict,'ANTONYMS',obj09sub01set4,\"std_dev\"))\n",
    "print(mf.averaged_product(simdict,'ANTONYMS',obj08sub02set4,\"std_dev\"))\n",
    "print(mf.averaged_product(simdict,'ANTONYMS',subobjset4,\"std_dev\"))"
   ]
  },
  {
   "cell_type": "markdown",
   "metadata": {},
   "source": [
    "#### Plain scalar product"
   ]
  },
  {
   "cell_type": "code",
   "execution_count": 35,
   "metadata": {
    "scrolled": true
   },
   "outputs": [
    {
     "name": "stdout",
     "output_type": "stream",
     "text": [
      "[0.6346095743344773, 0.3660473826323192]\n",
      "[0.5937750823192881, 0.3843285947907118]\n",
      "[0.5289591812505431, 0.3881674800379429]\n",
      "[0.623460433098109, 0.4065236545292111]\n"
     ]
    }
   ],
   "source": [
    "print(mf.averaged_product(simdict,'ANTONYMS',objsubset4,\"plain\"))\n",
    "print(mf.averaged_product(simdict,'ANTONYMS',obj09sub01set4,\"plain\"))\n",
    "print(mf.averaged_product(simdict,'ANTONYMS',obj08sub02set4,\"plain\"))\n",
    "print(mf.averaged_product(simdict,'ANTONYMS',subobjset4,\"plain\"))"
   ]
  },
  {
   "cell_type": "code",
   "execution_count": 36,
   "metadata": {
    "scrolled": false
   },
   "outputs": [
    {
     "name": "stdout",
     "output_type": "stream",
     "text": [
      "[0.43656548495817554, 0.8767698918036774]\n",
      "[0.4176312710914696, 0.8744313030489286]\n",
      "[0.5370763468046601, 0.7941909468833573]\n",
      "[0.6746070328644395, 0.727893534138822]\n"
     ]
    }
   ],
   "source": [
    "print(mf.averaged_product(simdict,'ANTONYMS',objsubset4,\"plain_dev\"))\n",
    "print(mf.averaged_product(simdict,'ANTONYMS',obj09sub01set4,\"plain_dev\"))\n",
    "print(mf.averaged_product(simdict,'ANTONYMS',obj08sub02set4,\"plain_dev\"))\n",
    "print(mf.averaged_product(simdict,'ANTONYMS',subobjset4,\"plain_dev\"))"
   ]
  },
  {
   "cell_type": "markdown",
   "metadata": {},
   "source": [
    "# Linear (2) + quadratic (11) + cubic (8) + quartic(2) + additional cubic and quartic (5) (28 total)"
   ]
  },
  {
   "cell_type": "code",
   "execution_count": 62,
   "metadata": {},
   "outputs": [],
   "source": [
    "# Make observables object\n",
    "set5 = mf.observables([\"Linear.txt\",\"Quadratic.txt\",\"Cubic1.txt\",\"Quartic1.txt\",\"Additional1.txt\"])\n",
    "# Load matrices and make vector dictionaries\n",
    "objsubset5 = mf.vector_dictionary(\"matrices_1160_arg_obj_context_subj.txt\",set5)\n",
    "subobjset5 = mf.vector_dictionary(\"matrices_1160_arg_subj_context_obj.txt\",set5,[0])\n",
    "obj08sub02set5 = mf.vector_dictionary([[\"matrices_1160_arg_obj_context_subj.txt\",\"matrices_1160_arg_subj_context_obj.txt\"],[0.8,0.2]],set5,[1])\n",
    "obj09sub01set5 = mf.vector_dictionary([[\"matrices_1160_arg_obj_context_subj.txt\",\"matrices_1160_arg_subj_context_obj.txt\"],[0.9,0.1]],set5,[1])"
   ]
  },
  {
   "cell_type": "markdown",
   "metadata": {},
   "source": [
    "### Relation type NONE"
   ]
  },
  {
   "cell_type": "markdown",
   "metadata": {},
   "source": [
    "#### Usual scalar product"
   ]
  },
  {
   "cell_type": "code",
   "execution_count": 63,
   "metadata": {
    "scrolled": true
   },
   "outputs": [
    {
     "name": "stdout",
     "output_type": "stream",
     "text": [
      "[0.3826756265207932, 0.29113978558119225]\n",
      "[0.3770090762099168, 0.29699665525632674]\n",
      "[0.3656016046609286, 0.3055564139001798]\n",
      "[0.2566491189924735, 0.37940873424947624]\n"
     ]
    }
   ],
   "source": [
    "#observable vectors\n",
    "print(mf.averaged_product(simdict,'NONE',objsubset5,\"mean\"))\n",
    "print(mf.averaged_product(simdict,'NONE',obj09sub01set5,\"mean\"))\n",
    "print(mf.averaged_product(simdict,'NONE',obj08sub02set5,\"mean\"))\n",
    "print(mf.averaged_product(simdict,'NONE',subobjset5,\"mean\"))"
   ]
  },
  {
   "cell_type": "code",
   "execution_count": 64,
   "metadata": {},
   "outputs": [
    {
     "name": "stdout",
     "output_type": "stream",
     "text": [
      "[0.17661444501140192, 0.4979248334404905]\n",
      "[0.1770352853811577, 0.4984773286124543]\n",
      "[0.18097072048533624, 0.49752616920094067]\n",
      "[0.20350525417806178, 0.5136248966588962]\n"
     ]
    }
   ],
   "source": [
    "# observable vector deviations\n",
    "print(mf.averaged_product(simdict,'NONE',objsubset5,\"std_dev\"))\n",
    "print(mf.averaged_product(simdict,'NONE',obj09sub01set5,\"std_dev\"))\n",
    "print(mf.averaged_product(simdict,'NONE',obj08sub02set5,\"std_dev\"))\n",
    "print(mf.averaged_product(simdict,'NONE',subobjset5,\"std_dev\"))"
   ]
  },
  {
   "cell_type": "markdown",
   "metadata": {},
   "source": [
    "#### Plain scalar product"
   ]
  },
  {
   "cell_type": "code",
   "execution_count": 65,
   "metadata": {
    "scrolled": true
   },
   "outputs": [
    {
     "name": "stdout",
     "output_type": "stream",
     "text": [
      "[0.5917689100854787, 0.34721633185328793]\n",
      "[0.5995718278645649, 0.337210079432504]\n",
      "[0.6058075049971664, 0.32836711701848564]\n",
      "[0.5858188859017227, 0.34532210145669545]\n"
     ]
    }
   ],
   "source": [
    "print(mf.averaged_product(simdict,'NONE',objsubset5,\"plain\"))\n",
    "print(mf.averaged_product(simdict,'NONE',obj09sub01set5,\"plain\"))\n",
    "print(mf.averaged_product(simdict,'NONE',obj08sub02set5,\"plain\"))\n",
    "print(mf.averaged_product(simdict,'NONE',subobjset5,\"plain\"))"
   ]
  },
  {
   "cell_type": "code",
   "execution_count": 66,
   "metadata": {},
   "outputs": [
    {
     "name": "stdout",
     "output_type": "stream",
     "text": [
      "[0.5781987334407264, 0.7940435606866416]\n",
      "[0.5836106159832904, 0.7762300155799173]\n",
      "[0.6117397634176793, 0.7449671791318146]\n",
      "[0.6443600862291441, 0.7602406356316589]\n"
     ]
    }
   ],
   "source": [
    "print(mf.averaged_product(simdict,'NONE',objsubset5,\"plain_dev\"))\n",
    "print(mf.averaged_product(simdict,'NONE',obj09sub01set5,\"plain_dev\"))\n",
    "print(mf.averaged_product(simdict,'NONE',obj08sub02set5,\"plain_dev\"))\n",
    "print(mf.averaged_product(simdict,'NONE',subobjset5,\"plain_dev\"))"
   ]
  },
  {
   "cell_type": "markdown",
   "metadata": {},
   "source": [
    "### Relation type SYNONYMS"
   ]
  },
  {
   "cell_type": "markdown",
   "metadata": {},
   "source": [
    "#### Usual scalar product"
   ]
  },
  {
   "cell_type": "code",
   "execution_count": 67,
   "metadata": {
    "scrolled": true
   },
   "outputs": [
    {
     "name": "stdout",
     "output_type": "stream",
     "text": [
      "[0.4224202749299982, 0.24907052050389267]\n",
      "[0.42258085557474656, 0.24864292874909247]\n",
      "[0.42109797378083624, 0.2540479274175125]\n",
      "[0.32188104478733953, 0.381958649409863]\n"
     ]
    }
   ],
   "source": [
    "#observable vectors\n",
    "print(mf.averaged_product(simdict,'SYNONYMS',objsubset5,\"mean\"))\n",
    "print(mf.averaged_product(simdict,'SYNONYMS',obj09sub01set5,\"mean\"))\n",
    "print(mf.averaged_product(simdict,'SYNONYMS',obj08sub02set5,\"mean\"))\n",
    "print(mf.averaged_product(simdict,'SYNONYMS',subobjset5,\"mean\"))"
   ]
  },
  {
   "cell_type": "code",
   "execution_count": 68,
   "metadata": {},
   "outputs": [
    {
     "name": "stdout",
     "output_type": "stream",
     "text": [
      "[0.2808011920395096, 0.47277685692499555]\n",
      "[0.2870226895710695, 0.47077423825586934]\n",
      "[0.29769832495239895, 0.4673179496031922]\n",
      "[0.3150736878262925, 0.47599549866663765]\n"
     ]
    }
   ],
   "source": [
    "# observable vector deviations\n",
    "print(mf.averaged_product(simdict,'SYNONYMS',objsubset5,\"std_dev\"))\n",
    "print(mf.averaged_product(simdict,'SYNONYMS',obj09sub01set5,\"std_dev\"))\n",
    "print(mf.averaged_product(simdict,'SYNONYMS',obj08sub02set5,\"std_dev\"))\n",
    "print(mf.averaged_product(simdict,'SYNONYMS',subobjset5,\"std_dev\"))"
   ]
  },
  {
   "cell_type": "markdown",
   "metadata": {},
   "source": [
    "#### Plain scalar product"
   ]
  },
  {
   "cell_type": "code",
   "execution_count": 69,
   "metadata": {
    "scrolled": true
   },
   "outputs": [
    {
     "name": "stdout",
     "output_type": "stream",
     "text": [
      "[0.594205812853085, 0.35334238894287323]\n",
      "[0.5983822861008072, 0.3429661477562006]\n",
      "[0.6032882488971577, 0.33002320158241516]\n",
      "[0.6146137439141176, 0.35198280702210927]\n"
     ]
    }
   ],
   "source": [
    "print(mf.averaged_product(simdict,'SYNONYMS',objsubset5,\"plain\"))\n",
    "print(mf.averaged_product(simdict,'SYNONYMS',obj09sub01set5,\"plain\"))\n",
    "print(mf.averaged_product(simdict,'SYNONYMS',obj08sub02set5,\"plain\"))\n",
    "print(mf.averaged_product(simdict,'SYNONYMS',subobjset5,\"plain\"))"
   ]
  },
  {
   "cell_type": "code",
   "execution_count": 70,
   "metadata": {},
   "outputs": [
    {
     "name": "stdout",
     "output_type": "stream",
     "text": [
      "[0.5565531842629431, 0.8052461975088789]\n",
      "[0.5790981999412268, 0.7863052201893072]\n",
      "[0.602505863132059, 0.759866102076227]\n",
      "[0.6926033307810726, 0.7172302184843931]\n"
     ]
    }
   ],
   "source": [
    "print(mf.averaged_product(simdict,'SYNONYMS',objsubset5,\"plain_dev\"))\n",
    "print(mf.averaged_product(simdict,'SYNONYMS',obj09sub01set5,\"plain_dev\"))\n",
    "print(mf.averaged_product(simdict,'SYNONYMS',obj08sub02set5,\"plain_dev\"))\n",
    "print(mf.averaged_product(simdict,'SYNONYMS',subobjset5,\"plain_dev\"))"
   ]
  },
  {
   "cell_type": "markdown",
   "metadata": {},
   "source": [
    "### Relation type ANTONYMS"
   ]
  },
  {
   "cell_type": "markdown",
   "metadata": {},
   "source": [
    "#### Usual scalar product"
   ]
  },
  {
   "cell_type": "code",
   "execution_count": 71,
   "metadata": {
    "scrolled": true
   },
   "outputs": [
    {
     "name": "stdout",
     "output_type": "stream",
     "text": [
      "[0.36772265559729966, 0.2504211696716251]\n",
      "[0.3637703147318423, 0.2563760368706155]\n",
      "[0.3659668138072767, 0.26316577541384467]\n",
      "[0.33552586075159113, 0.31887160571571044]\n"
     ]
    }
   ],
   "source": [
    "#observable vectors\n",
    "print(mf.averaged_product(simdict,'ANTONYMS',objsubset5,\"mean\"))\n",
    "print(mf.averaged_product(simdict,'ANTONYMS',obj09sub01set5,\"mean\"))\n",
    "print(mf.averaged_product(simdict,'ANTONYMS',obj08sub02set5,\"mean\"))\n",
    "print(mf.averaged_product(simdict,'ANTONYMS',subobjset5,\"mean\"))"
   ]
  },
  {
   "cell_type": "code",
   "execution_count": 72,
   "metadata": {},
   "outputs": [
    {
     "name": "stdout",
     "output_type": "stream",
     "text": [
      "[0.08663371105904949, 0.4191868549217731]\n",
      "[0.0841885154866197, 0.4263910618595933]\n",
      "[0.09347835187840448, 0.4341733133450287]\n",
      "[0.15143509983640893, 0.4430212382412925]\n"
     ]
    }
   ],
   "source": [
    "# observable vector deviations\n",
    "print(mf.averaged_product(simdict,'ANTONYMS',objsubset5,\"std_dev\"))\n",
    "print(mf.averaged_product(simdict,'ANTONYMS',obj09sub01set5,\"std_dev\"))\n",
    "print(mf.averaged_product(simdict,'ANTONYMS',obj08sub02set5,\"std_dev\"))\n",
    "print(mf.averaged_product(simdict,'ANTONYMS',subobjset5,\"std_dev\"))"
   ]
  },
  {
   "cell_type": "markdown",
   "metadata": {},
   "source": [
    "#### Plain scalar product"
   ]
  },
  {
   "cell_type": "code",
   "execution_count": 73,
   "metadata": {
    "scrolled": true
   },
   "outputs": [
    {
     "name": "stdout",
     "output_type": "stream",
     "text": [
      "[0.6410342247302977, 0.36576244984706857]\n",
      "[0.5946566579196972, 0.373689588974288]\n",
      "[0.5555627342814198, 0.361457259286599]\n",
      "[0.6600945996618591, 0.37536151086096076]\n"
     ]
    }
   ],
   "source": [
    "print(mf.averaged_product(simdict,'ANTONYMS',objsubset5,\"plain\"))\n",
    "print(mf.averaged_product(simdict,'ANTONYMS',obj09sub01set5,\"plain\"))\n",
    "print(mf.averaged_product(simdict,'ANTONYMS',obj08sub02set5,\"plain\"))\n",
    "print(mf.averaged_product(simdict,'ANTONYMS',subobjset5,\"plain\"))"
   ]
  },
  {
   "cell_type": "code",
   "execution_count": 74,
   "metadata": {},
   "outputs": [
    {
     "name": "stdout",
     "output_type": "stream",
     "text": [
      "[0.4362935442724252, 0.8755060070849396]\n",
      "[0.417940859209915, 0.8708606210087037]\n",
      "[0.5356596270049974, 0.7911185270491167]\n",
      "[0.6745948877407195, 0.7278333023856454]\n"
     ]
    }
   ],
   "source": [
    "print(mf.averaged_product(simdict,'ANTONYMS',objsubset5,\"plain_dev\"))\n",
    "print(mf.averaged_product(simdict,'ANTONYMS',obj09sub01set5,\"plain_dev\"))\n",
    "print(mf.averaged_product(simdict,'ANTONYMS',obj08sub02set5,\"plain_dev\"))\n",
    "print(mf.averaged_product(simdict,'ANTONYMS',subobjset5,\"plain_dev\"))"
   ]
  },
  {
   "cell_type": "markdown",
   "metadata": {},
   "source": [
    "### Relation type HYPER/HYPONYMS"
   ]
  },
  {
   "cell_type": "markdown",
   "metadata": {},
   "source": [
    "#### Usual scalar product"
   ]
  },
  {
   "cell_type": "code",
   "execution_count": 75,
   "metadata": {
    "scrolled": true
   },
   "outputs": [
    {
     "name": "stdout",
     "output_type": "stream",
     "text": [
      "[0.403076443309248, 0.2588748224337599]\n",
      "[0.4025309848838318, 0.2664439219938252]\n",
      "[0.39875558701547986, 0.2760084143651155]\n",
      "[0.3105323548839722, 0.3412619737813166]\n"
     ]
    }
   ],
   "source": [
    "#observable vectors\n",
    "print(mf.averaged_product(simdict,'HYPER/HYPONYMS',objsubset5,\"mean\"))\n",
    "print(mf.averaged_product(simdict,'HYPER/HYPONYMS',obj09sub01set5,\"mean\"))\n",
    "print(mf.averaged_product(simdict,'HYPER/HYPONYMS',obj08sub02set5,\"mean\"))\n",
    "print(mf.averaged_product(simdict,'HYPER/HYPONYMS',subobjset5,\"mean\"))"
   ]
  },
  {
   "cell_type": "code",
   "execution_count": 76,
   "metadata": {},
   "outputs": [
    {
     "name": "stdout",
     "output_type": "stream",
     "text": [
      "[0.133299760494055, 0.4588170772144774]\n",
      "[0.13644245116332462, 0.4580441204749409]\n",
      "[0.14087734413300423, 0.45750936181113233]\n",
      "[0.13904167569765882, 0.46937113288585547]\n"
     ]
    }
   ],
   "source": [
    "# observable vector deviations\n",
    "print(mf.averaged_product(simdict,'HYPER/HYPONYMS',objsubset5,\"std_dev\"))\n",
    "print(mf.averaged_product(simdict,'HYPER/HYPONYMS',obj09sub01set5,\"std_dev\"))\n",
    "print(mf.averaged_product(simdict,'HYPER/HYPONYMS',obj08sub02set5,\"std_dev\"))\n",
    "print(mf.averaged_product(simdict,'HYPER/HYPONYMS',subobjset5,\"std_dev\"))"
   ]
  },
  {
   "cell_type": "markdown",
   "metadata": {},
   "source": [
    "#### Plain scalar product"
   ]
  },
  {
   "cell_type": "code",
   "execution_count": 77,
   "metadata": {
    "scrolled": true
   },
   "outputs": [
    {
     "name": "stdout",
     "output_type": "stream",
     "text": [
      "[0.5893698796240326, 0.3542870910267858]\n",
      "[0.5861514235516121, 0.3456777768124191]\n",
      "[0.5907108983647763, 0.33549529499552594]\n",
      "[0.5847090297040448, 0.35735452950337454]\n"
     ]
    }
   ],
   "source": [
    "print(mf.averaged_product(simdict,'HYPER/HYPONYMS',objsubset5,\"plain\"))\n",
    "print(mf.averaged_product(simdict,'HYPER/HYPONYMS',obj09sub01set5,\"plain\"))\n",
    "print(mf.averaged_product(simdict,'HYPER/HYPONYMS',obj08sub02set5,\"plain\"))\n",
    "print(mf.averaged_product(simdict,'HYPER/HYPONYMS',subobjset5,\"plain\"))"
   ]
  },
  {
   "cell_type": "code",
   "execution_count": 78,
   "metadata": {},
   "outputs": [
    {
     "name": "stdout",
     "output_type": "stream",
     "text": [
      "[0.5004037636352667, 0.8349999725414157]\n",
      "[0.5498878282826906, 0.79192427314678]\n",
      "[0.5665686045764023, 0.7769515808630655]\n",
      "[0.5370653890126154, 0.837520623821771]\n"
     ]
    }
   ],
   "source": [
    "print(mf.averaged_product(simdict,'HYPER/HYPONYMS',objsubset5,\"plain_dev\"))\n",
    "print(mf.averaged_product(simdict,'HYPER/HYPONYMS',obj09sub01set5,\"plain_dev\"))\n",
    "print(mf.averaged_product(simdict,'HYPER/HYPONYMS',obj08sub02set5,\"plain_dev\"))\n",
    "print(mf.averaged_product(simdict,'HYPER/HYPONYMS',subobjset5,\"plain_dev\"))"
   ]
  },
  {
   "cell_type": "markdown",
   "metadata": {},
   "source": [
    "### Relation type COHYPONYMS"
   ]
  },
  {
   "cell_type": "markdown",
   "metadata": {},
   "source": [
    "#### Usual scalar product"
   ]
  },
  {
   "cell_type": "code",
   "execution_count": 79,
   "metadata": {
    "scrolled": true
   },
   "outputs": [
    {
     "name": "stdout",
     "output_type": "stream",
     "text": [
      "[0.4010113254530584, 0.26770523901197746]\n",
      "[0.39860609166854544, 0.26783307093924147]\n",
      "[0.38906370453244976, 0.2739874990571023]\n",
      "[0.3191591732303369, 0.3794105002213473]\n"
     ]
    }
   ],
   "source": [
    "#observable vectors\n",
    "print(mf.averaged_product(simdict,'COHYPONYMS',objsubset5,\"mean\"))\n",
    "print(mf.averaged_product(simdict,'COHYPONYMS',obj09sub01set5,\"mean\"))\n",
    "print(mf.averaged_product(simdict,'COHYPONYMS',obj08sub02set5,\"mean\"))\n",
    "print(mf.averaged_product(simdict,'COHYPONYMS',subobjset5,\"mean\"))"
   ]
  },
  {
   "cell_type": "code",
   "execution_count": 80,
   "metadata": {},
   "outputs": [
    {
     "name": "stdout",
     "output_type": "stream",
     "text": [
      "[0.20377438501264636, 0.4530870300342831]\n",
      "[0.20420227553796666, 0.4501316317396267]\n",
      "[0.2089174227031328, 0.451786956815802]\n",
      "[0.25593326887468926, 0.4842001288953564]\n"
     ]
    }
   ],
   "source": [
    "# observable vector deviations\n",
    "print(mf.averaged_product(simdict,'COHYPONYMS',objsubset5,\"std_dev\"))\n",
    "print(mf.averaged_product(simdict,'COHYPONYMS',obj09sub01set5,\"std_dev\"))\n",
    "print(mf.averaged_product(simdict,'COHYPONYMS',obj08sub02set5,\"std_dev\"))\n",
    "print(mf.averaged_product(simdict,'COHYPONYMS',subobjset5,\"std_dev\"))"
   ]
  },
  {
   "cell_type": "markdown",
   "metadata": {},
   "source": [
    "#### Plain scalar product"
   ]
  },
  {
   "cell_type": "code",
   "execution_count": 81,
   "metadata": {
    "scrolled": true
   },
   "outputs": [
    {
     "name": "stdout",
     "output_type": "stream",
     "text": [
      "[0.6104460031370655, 0.346756988576737]\n",
      "[0.6066445066994458, 0.34478836250327644]\n",
      "[0.6065148124581571, 0.32787974133487097]\n",
      "[0.6030874260836155, 0.35021438495613755]\n"
     ]
    }
   ],
   "source": [
    "print(mf.averaged_product(simdict,'COHYPONYMS',objsubset5,\"plain\"))\n",
    "print(mf.averaged_product(simdict,'COHYPONYMS',obj09sub01set5,\"plain\"))\n",
    "print(mf.averaged_product(simdict,'COHYPONYMS',obj08sub02set5,\"plain\"))\n",
    "print(mf.averaged_product(simdict,'COHYPONYMS',subobjset5,\"plain\"))"
   ]
  },
  {
   "cell_type": "code",
   "execution_count": 82,
   "metadata": {
    "scrolled": true
   },
   "outputs": [
    {
     "name": "stdout",
     "output_type": "stream",
     "text": [
      "[0.5817848127710443, 0.7862225606426112]\n",
      "[0.549355846625547, 0.7975168331498471]\n",
      "[0.5906160599853985, 0.7703499959873792]\n",
      "[0.6435121657661605, 0.7587490213420947]\n"
     ]
    }
   ],
   "source": [
    "print(mf.averaged_product(simdict,'COHYPONYMS',objsubset5,\"plain_dev\"))\n",
    "print(mf.averaged_product(simdict,'COHYPONYMS',obj09sub01set5,\"plain_dev\"))\n",
    "print(mf.averaged_product(simdict,'COHYPONYMS',obj08sub02set5,\"plain_dev\"))\n",
    "print(mf.averaged_product(simdict,'COHYPONYMS',subobjset5,\"plain_dev\"))"
   ]
  },
  {
   "cell_type": "code",
   "execution_count": null,
   "metadata": {},
   "outputs": [],
   "source": []
  }
 ],
 "metadata": {
  "kernelspec": {
   "display_name": "Python 3",
   "language": "python",
   "name": "python3"
  },
  "language_info": {
   "codemirror_mode": {
    "name": "ipython",
    "version": 3
   },
   "file_extension": ".py",
   "mimetype": "text/x-python",
   "name": "python",
   "nbconvert_exporter": "python",
   "pygments_lexer": "ipython3",
   "version": "3.9.4"
  }
 },
 "nbformat": 4,
 "nbformat_minor": 2
}
