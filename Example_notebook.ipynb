{
 "cells": [
  {
   "cell_type": "markdown",
   "id": "b14432ce",
   "metadata": {},
   "source": [
    "# Import relevant functions"
   ]
  },
  {
   "cell_type": "code",
   "execution_count": 1,
   "id": "c3af96c3",
   "metadata": {},
   "outputs": [],
   "source": [
    "import numpy as np\n",
    "import random\n",
    "import math\n",
    "#from scipy.stats import spearmanr, pearsonr"
   ]
  },
  {
   "cell_type": "code",
   "execution_count": 2,
   "id": "ca73db83",
   "metadata": {},
   "outputs": [],
   "source": [
    "#import the functions in the file MFunctions as mf\n",
    "import MFunctions as mf"
   ]
  },
  {
   "cell_type": "markdown",
   "id": "190ad524",
   "metadata": {},
   "source": [
    "## Observables object"
   ]
  },
  {
   "cell_type": "code",
   "execution_count": 3,
   "id": "44dbcef0",
   "metadata": {},
   "outputs": [
    {
     "name": "stdout",
     "output_type": "stream",
     "text": [
      "Linear.txt\n"
     ]
    },
    {
     "data": {
      "text/plain": [
       "['np.trace(W) # \\\\sum_{i} W_{ii}', 'np.sum(W) # \\\\ sum_{i,j} W_{ij}']"
      ]
     },
     "execution_count": 3,
     "metadata": {},
     "output_type": "execute_result"
    }
   ],
   "source": [
    "#Simple set of observables, only linear\n",
    "set1=mf.observables(\"Linear.txt\")\n",
    "#Access the files which contain the given observables with filelist\n",
    "print(set1.filelist)\n",
    "#Access the stored observables with obslist\n",
    "set1.obslist"
   ]
  },
  {
   "cell_type": "code",
   "execution_count": 4,
   "id": "dee4875d",
   "metadata": {},
   "outputs": [
    {
     "name": "stdout",
     "output_type": "stream",
     "text": [
      "['Linear.txt', 'Quadratic.txt']\n",
      "['np.trace(W) # \\\\sum_{i} W_{ii}', 'np.sum(W) # \\\\ sum_{i,j} W_{ij}', 'np.sum(W*W) # sum{i,j} M_ij M_ij', 'np.sum(W*W.T) # sum{i,j} M_ij M_ji', 'np.sum(np.diagonal(W)*W.T) # \\\\sum_{i,j} W_{ii} W_{ij}', 'np.sum(np.diagonal(W)*W) # \\\\sum_{i,j} W_{ii} W_{ji}', 'np.sum(np.dot(W.T,W)) # sum{i,j,k} W_ij W_ik', 'np.sum(np.dot(W,W.T)) # sum{i,j,k} W_ij W_kj', 'np.sum(np.dot(W,W)) # sum{i,j,k} W_ij W_jk', 'np.sum(W) ** 2 #sum{i,j,k,l} W_ij W_kl', 'np.trace(W*W) # sum{i} W^2_ii', 'np.trace(W) ** 2  # \\\\sum_{i,j,k} W_{ii} W_{jj}', 'np.sum(W) * np.trace(W)  # \\\\sum_{i,j,k} W_{ii} W_{jk}']\n"
     ]
    }
   ],
   "source": [
    "#A more involved set with both linear and quadratic observables\n",
    "set2=mf.observables([\"Linear.txt\",\"Quadratic.txt\"])\n",
    "print(set2.filelist)\n",
    "print(set2.obslist)"
   ]
  },
  {
   "cell_type": "code",
   "execution_count": 5,
   "id": "51121335",
   "metadata": {},
   "outputs": [
    {
     "name": "stdout",
     "output_type": "stream",
     "text": [
      "Unknown initialisation value for the function observables, plese check input and retry.\n"
     ]
    }
   ],
   "source": [
    "#If something which is not a file or list of files is given as init an error message is returned\n",
    "test = mf.observables(5)"
   ]
  },
  {
   "cell_type": "markdown",
   "id": "0c6fc2a8",
   "metadata": {},
   "source": [
    "## Vector class"
   ]
  },
  {
   "cell_type": "code",
   "execution_count": 6,
   "id": "171b9551",
   "metadata": {},
   "outputs": [
    {
     "name": "stdout",
     "output_type": "stream",
     "text": [
      "[15 45]\n",
      "Linear.txt\n"
     ]
    },
    {
     "data": {
      "text/plain": [
       "'testword'"
      ]
     },
     "execution_count": 6,
     "metadata": {},
     "output_type": "execute_result"
    }
   ],
   "source": [
    "#The observables objects are used in a further class called vector to build the vector of numeric observables\n",
    "#starting from a given matrix\n",
    "testmatrix = np.array([[1,2,3],[4,5,6],[7,8,9]])\n",
    "#the class vector needs a word to which the vector will be associated, a matrix and an observables object\n",
    "testvector = mf.vector(\"testword\",testmatrix,set1)\n",
    "#Numeric values are accessed through the method val\n",
    "print(testvector.val)\n",
    "#To access the files from which the observables have been imported use filelist\n",
    "print(testvector.filelist)\n",
    "#access the word to which the vector corresponds with word\n",
    "testvector.word"
   ]
  },
  {
   "cell_type": "markdown",
   "id": "941e3e39",
   "metadata": {},
   "source": [
    "## Vector dictionary"
   ]
  },
  {
   "cell_type": "code",
   "execution_count": 7,
   "id": "8a5fa568",
   "metadata": {},
   "outputs": [],
   "source": [
    "#In general we deal not with a single vector but a whole set of matrices corresponding to different verbs and stored\n",
    "#in a file. We define a vector dictionary object which requiress an input file and an observables object,\n",
    "#it then loads the matrices one by one building the corresponding vector for each\n",
    "objdict = mf.vector_dictionary(\"matrices_1160_arg_obj_context_subj.txt\",set2)"
   ]
  },
  {
   "cell_type": "code",
   "execution_count": 8,
   "id": "38ca8116",
   "metadata": {},
   "outputs": [],
   "source": [
    "# An additional optional argument can be given which specifies the position of file names whose matrices need to be transposed\n",
    "subjdict = mf.vector_dictionary(\"matrices_1160_arg_subj_context_obj.txt\",set2,[0])"
   ]
  },
  {
   "cell_type": "code",
   "execution_count": 9,
   "id": "774d7b6e",
   "metadata": {},
   "outputs": [],
   "source": [
    "#It is also possible to produce vector dictionaries of mixed matrices. To do so instead of a single file name input a list of two elements,\n",
    "# the first being a list of file names and the second an equally long list of weights (works for arbitrary length, files need not be only 2)\n",
    "obj08subj02_dict = mf.vector_dictionary([[\"matrices_1160_arg_obj_context_subj.txt\",\"matrices_1160_arg_subj_context_obj.txt\"],[0.8,0.2]],set2,[1])\n",
    "obj02subj08_dict = mf.vector_dictionary([[\"matrices_1160_arg_obj_context_subj.txt\",\"matrices_1160_arg_subj_context_obj.txt\"],[0.2,0.8]],set2,[1])"
   ]
  },
  {
   "cell_type": "code",
   "execution_count": 10,
   "id": "e1d67aec",
   "metadata": {},
   "outputs": [
    {
     "name": "stdout",
     "output_type": "stream",
     "text": [
      "['drain', 'embarrass', 'disintegrate', 'collect', 'grind']\n"
     ]
    },
    {
     "data": {
      "text/plain": [
       "array([ 7.80509197e-02, -1.47129790e-02,  5.87214866e+00,  6.32856306e-02,\n",
       "        2.60356026e-02, -1.37565633e-02,  4.74017317e+00,  3.89849567e+00,\n",
       "       -9.49467755e-01,  2.16471753e-04,  5.53481355e-02,  6.09194607e-03,\n",
       "       -1.14836155e-03])"
      ]
     },
     "execution_count": 10,
     "metadata": {},
     "output_type": "execute_result"
    }
   ],
   "source": [
    "#vector_dictionary is a dictionary so standard dictionary operations apply. Take keys for example\n",
    "#extract a random sample of keys\n",
    "somesample = random.sample(list(objdict),5)\n",
    "print(somesample)\n",
    "#Dispaly numeric vector associated to given key\n",
    "objdict[somesample[0]].val"
   ]
  },
  {
   "cell_type": "code",
   "execution_count": 11,
   "id": "b34f2814",
   "metadata": {},
   "outputs": [
    {
     "name": "stdout",
     "output_type": "stream",
     "text": [
      "dict_keys(['SYNONYMS', 'COHYPONYMS', 'ANTONYMS', 'HYPER/HYPONYMS', 'NONE'])\n"
     ]
    },
    {
     "data": {
      "text/plain": [
       "['take', 'remove', 6.81]"
      ]
     },
     "execution_count": 11,
     "metadata": {},
     "output_type": "execute_result"
    }
   ],
   "source": [
    "#Now we have the collection of vectors associated to all the matrices in a given file and computed using\n",
    "#a set of observables. We use it to compare to SymVerb3500\n",
    "#verb_symilarity is a class which requires a file name as init and simply creates a dictionary with keys \"SYNONIME\", \"NONE\"\n",
    "#and so on, with associates values a list of pairs of vectors with their similarity\n",
    "# N.B. this function requires an input file which has he same format as SimVerb3500\n",
    "testsym = mf.verb_similarity(\"SimVerb-3500.txt\")\n",
    "#Print the keys\n",
    "print(testsym.keys())\n",
    "#To these keys are associated lists of the following form\n",
    "testsym['SYNONYMS'][0]"
   ]
  },
  {
   "cell_type": "markdown",
   "id": "dd136d89",
   "metadata": {},
   "source": [
    "## Inner products"
   ]
  },
  {
   "cell_type": "code",
   "execution_count": 13,
   "id": "85d07c06",
   "metadata": {},
   "outputs": [
    {
     "data": {
      "text/plain": [
       "-2.9787026754467782"
      ]
     },
     "execution_count": 13,
     "metadata": {},
     "output_type": "execute_result"
    }
   ],
   "source": [
    "# There are 5 different types of inner products, each of which requires the observable-value vectors as input\n",
    "# and possibly further arguments depending on which product is considered. For example to compute the inner\n",
    "# product of observable deviation vetors we need to also specify the standard deviation and mean of the dictionary\n",
    "mf.M_vec_mult_dev(objdict['drain'].val,objdict['collect'].val,objdict.mean,objdict.std)"
   ]
  },
  {
   "cell_type": "markdown",
   "id": "c163f7dc",
   "metadata": {},
   "source": [
    "## Averaged product"
   ]
  },
  {
   "cell_type": "code",
   "execution_count": 12,
   "id": "d9fd3ead",
   "metadata": {},
   "outputs": [
    {
     "name": "stdout",
     "output_type": "stream",
     "text": [
      "[0.48117138614238786, 0.2673178579740687]\n"
     ]
    },
    {
     "data": {
      "text/plain": [
       "[0.3061805670475563, 0.4951254885623443]"
      ]
     },
     "execution_count": 12,
     "metadata": {},
     "output_type": "execute_result"
    }
   ],
   "source": [
    "# averaged_product takes as input a verb_similarity dictionary object, a key in that dictionary,\n",
    "# and a vector_dictionary object. It returns the mean and standard deviation of the vector products associated\n",
    "# to the pairs in testsym and computed from the vectors in obj08subj02_dict. The fourth argument is optional and\n",
    "# Specifies the type of inner product\n",
    "# N.B. Here some care is needed since specifying the product also specifies whether we use observable-value\n",
    "# or observable-deviation vectors. For example std_dev is cosine distance with observable-deviation vectors\n",
    "print(mf.averaged_product(testsym,\"SYNONYMS\",obj08subj02_dict))\n",
    "#Again but with observable deviation vectors\n",
    "mf.averaged_product(testsym,\"SYNONYMS\",obj08subj02_dict,\"std_dev\")"
   ]
  },
  {
   "cell_type": "code",
   "execution_count": 14,
   "id": "a3989658",
   "metadata": {},
   "outputs": [
    {
     "data": {
      "text/plain": [
       "{('take', 'remove'): 0.48169530166383223,\n",
       " ('shine', 'polish'): 0.7680022156292539,\n",
       " ('bake', 'broil'): 0.86947632333204,\n",
       " ('decay', 'decompose'): 0.89328708560628,\n",
       " ('jump', 'skip'): 0.45360071901881394,\n",
       " ('go', 'move'): 0.17282771374946707,\n",
       " ('thaw', 'melt'): 0.6608640736719353,\n",
       " ('see', 'meet'): 0.39826938719881827,\n",
       " ('claim', 'take'): 0.6465763408948699,\n",
       " ('sting', 'prick'): 0.9511679702174884,\n",
       " ('search', 'seek'): 0.13121050466442055,\n",
       " ('alter', 'change'): 0.41096219110187693,\n",
       " ('disturb', 'interrupt'): 0.8515749782698093,\n",
       " ('seem', 'appear'): 0.050970765621743706,\n",
       " ('have', 'hold'): 0.41973824972993606,\n",
       " ('travel', 'move'): 0.25494720510092705,\n",
       " ('travel', 'go'): -0.13169685882449686,\n",
       " ('start', 'begin'): 0.7213850412203451,\n",
       " ('prepare', 'cook'): 0.15593694756601564,\n",
       " ('let', 'allow'): 0.14751494765281137,\n",
       " ('look', 'appear'): 0.21810302476522653,\n",
       " ('float', 'drift'): 0.4464774246681577,\n",
       " ('suppose', 'guess'): 0.7175731631739495,\n",
       " ('call', 'yell'): -0.4170203345929416,\n",
       " ('associate', 'connect'): 0.22454397080618163,\n",
       " ('reply', 'respond'): 0.5275325508210641,\n",
       " ('demand', 'need'): 0.3876714558568697,\n",
       " ('take', 'choose'): 0.7191466053907607,\n",
       " ('remember', 'recall'): 0.4445714439200436,\n",
       " ('keep', 'hold'): 0.2737144353855017,\n",
       " ('make', 'do'): 0.8143074837737676,\n",
       " ('rise', 'lift'): -0.558449860125405,\n",
       " ('see', 'hear'): 0.48511078808211316,\n",
       " ('blend', 'mix'): 0.6400339934477121,\n",
       " ('help', 'assist'): 0.5202173253364638,\n",
       " ('bury', 'forget'): -0.06542596944961794,\n",
       " ('learn', 'teach'): -0.3188952457740471,\n",
       " ('organize', 'prepare'): -0.22695324507152898,\n",
       " ('do', 'perform'): 0.6058827736207163,\n",
       " ('earn', 'gain'): 0.42418295233222464,\n",
       " ('ponder', 'reflect'): -0.4762706760832946,\n",
       " ('rinse', 'wash'): 0.7700880956483526,\n",
       " ('squeeze', 'crush'): 0.7113053396906154,\n",
       " ('soothe', 'console'): 0.3482653320102505,\n",
       " ('return', 'recall'): 0.26029415785357346,\n",
       " ('comprehend', 'perceive'): 0.4719623870986037,\n",
       " ('restore', 'repair'): 0.3324663721617484,\n",
       " ('buy', 'purchase'): 0.560887790395412,\n",
       " ('perspire', 'sweat'): 0.9293498401843725,\n",
       " ('assume', 'presume'): -0.20343320907179782,\n",
       " ('acknowledge', 'admit'): 0.8098601612108195,\n",
       " ('assault', 'attack'): 0.22531564294533593,\n",
       " ('disturb', 'upset'): 0.8987463671734048,\n",
       " ('show', 'express'): 0.5806648621999576,\n",
       " ('ride', 'drive'): -0.6382279747688648,\n",
       " ('hurt', 'offend'): 0.7667861570795009,\n",
       " ('go', 'start'): 0.5468990833588316,\n",
       " ('achieve', 'accomplish'): -0.5121357476823821,\n",
       " ('attempt', 'try'): 0.3814579596353244,\n",
       " ('strike', 'hit'): 0.4397271727557102,\n",
       " ('disintegrate', 'decay'): 0.9709001727200985,\n",
       " ('find', 'determine'): 0.2942654245902672,\n",
       " ('yell', 'scream'): 0.8654629037936635,\n",
       " ('suggest', 'advise'): 0.8019983325898322,\n",
       " ('suppose', 'imagine'): 0.9285897527324137,\n",
       " ('follow', 'come'): 0.446736898937108,\n",
       " ('rationalize', 'justify'): 0.3787714209506381,\n",
       " ('choke', 'die'): 0.03303013073146126,\n",
       " ('disown', 'renounce'): 0.6418164831091178,\n",
       " ('unite', 'combine'): -0.04079874891100149,\n",
       " ('scratch', 'rub'): 0.9574279272870422,\n",
       " ('hurt', 'ache'): 0.6711356106501839,\n",
       " ('run', 'operate'): 0.3161362376773336,\n",
       " ('prove', 'show'): 0.35307194811912,\n",
       " ('assist', 'aid'): -0.1300623444519555,\n",
       " ('remain', 'stay'): -0.3180910898257902,\n",
       " ('flush', 'blush'): 0.8742362127790202,\n",
       " ('reflect', 'shine'): -0.32616377292659077,\n",
       " ('marry', 'wed'): 0.34904040610444426,\n",
       " ('learn', 'read'): -0.24430091004233573,\n",
       " ('decline', 'reject'): 0.4772486105468357,\n",
       " ('get', 'acquire'): 0.03542772528572341,\n",
       " ('snooze', 'doze'): 0.9764117526420815,\n",
       " ('restore', 'fix'): 0.046294883958251376,\n",
       " ('sink', 'dip'): 0.7034205721471299,\n",
       " ('console', 'comfort'): 0.3617072190087066,\n",
       " ('annoy', 'irritate'): 0.7683397590844843,\n",
       " ('let', 'permit'): 0.14787747811860202,\n",
       " ('search', 'look'): 0.018015781964402927,\n",
       " ('stain', 'tarnish'): 0.9499144826785518,\n",
       " ('ignore', 'disregard'): 0.6234557576411157,\n",
       " ('gather', 'collect'): 0.17801045295744966,\n",
       " ('incline', 'tend'): -0.2539147737181153,\n",
       " ('forget', 'leave'): 0.17194727795218534,\n",
       " ('yell', 'holler'): 0.9446846524662365,\n",
       " ('hop', 'skip'): 0.4423664278475027,\n",
       " ('originate', 'start'): -0.31752697966781324,\n",
       " ('run', 'flow'): -0.5681541672766823,\n",
       " ('fix', 'mend'): -0.17315678497684964,\n",
       " ('lead', 'direct'): 0.4925364485666853,\n",
       " ('betray', 'cheat'): 0.8813120673452366,\n",
       " ('blur', 'smear'): 0.9537078309244563,\n",
       " ('differ', 'disagree'): 0.6498572858681406,\n",
       " ('exist', 'live'): -0.011283470440883233,\n",
       " ('burst', 'explode'): 0.7489297815672195,\n",
       " ('pinch', 'squeeze'): 0.9901754452312409,\n",
       " ('shrink', 'reduce'): -0.6883086667955158,\n",
       " ('abduct', 'kidnap'): 0.9125283447638537,\n",
       " ('sway', 'swing'): 0.8371362123993651,\n",
       " ('disallow', 'forbid'): 0.11626352121230642,\n",
       " ('spell', 'write'): -0.32605292338969566,\n",
       " ('stray', 'wander'): 0.8875098925005742,\n",
       " ('crackle', 'crunch'): 0.8934190861066483,\n",
       " ('grind', 'grate'): 0.9039118205338433,\n",
       " ('depart', 'go'): -0.1226594804600013,\n",
       " ('knock', 'tap'): 0.5686363862585488,\n",
       " ('interrupt', 'break'): -0.39493337942350937,\n",
       " ('make', 'create'): 0.6407742345142065,\n",
       " ('bump', 'knock'): 0.7763339426455866,\n",
       " ('swim', 'drown'): 0.9101918066311296,\n",
       " ('mend', 'heal'): 0.9269763579591886,\n",
       " ('lie', 'lay'): 0.576339243354332,\n",
       " ('build', 'construct'): -0.21904580506636687,\n",
       " ('perish', 'die'): -0.4817649038008843,\n",
       " ('slip', 'slide'): 0.8053092985680645,\n",
       " ('irritate', 'bother'): 0.7509014735943971,\n",
       " ('divide', 'separate'): -0.3031400353048452,\n",
       " ('leap', 'bound'): 0.9160644441037561,\n",
       " ('divide', 'split'): 0.25439209845955735,\n",
       " ('smash', 'crush'): 0.5795077501715765,\n",
       " ('hesitate', 'pause'): 0.9230293051922132,\n",
       " ('tap', 'rap'): 0.6831185015013592,\n",
       " ('sting', 'bite'): 0.917159421503028,\n",
       " ('soak', 'drench'): 0.8244938738093872,\n",
       " ('direct', 'steer'): -0.329327852222657,\n",
       " ('decorate', 'adorn'): 0.672657432806416,\n",
       " ('have', 'give'): 0.7943180331975216,\n",
       " ('prohibit', 'disallow'): -0.27077683532587254,\n",
       " ('duplicate', 'repeat'): -0.5546360358771606,\n",
       " ('grow', 'raise'): -0.18108481670100077,\n",
       " ('descend', 'fall'): 0.18527522073794686,\n",
       " ('jump', 'leap'): 0.9449114085346322,\n",
       " ('fight', 'struggle'): -0.3128657480997829,\n",
       " ('think', 'guess'): 0.332130103421819,\n",
       " ('speak', 'talk'): 0.47268300735037333,\n",
       " ('separate', 'split'): 0.31674542357721336,\n",
       " ('accept', 'take'): 0.15593612465194218,\n",
       " ('say', 'tell'): 0.8351304680645967,\n",
       " ('munch', 'crunch'): 0.9761565141430744,\n",
       " ('crack', 'break'): -0.7045150323434833,\n",
       " ('explain', 'excuse'): -0.4461336807624623,\n",
       " ('comfort', 'soothe'): 0.984271095025245,\n",
       " ('dip', 'dunk'): 0.8752803429825914,\n",
       " ('put', 'lay'): 0.7463933042512043,\n",
       " ('squeeze', 'hug'): 0.8974283797096742,\n",
       " ('seem', 'look'): 0.154826789369695,\n",
       " ('live', 'survive'): 0.7569530981743674,\n",
       " ('roam', 'wander'): 0.6398652040152649,\n",
       " ('accumulate', 'gather'): -0.25173283401361696,\n",
       " ('save', 'spare'): -0.20253545336831338,\n",
       " ('prohibit', 'forbid'): -0.3194007732819544,\n",
       " ('wander', 'drift'): 0.8743311487533019,\n",
       " ('debate', 'argue'): -0.29791031671527163,\n",
       " ('worry', 'concern'): -0.515737436326533,\n",
       " ('demand', 'ask'): 0.012245406655272233,\n",
       " ('instruct', 'teach'): 0.11462197277527221,\n",
       " ('grow', 'develop'): 0.03893510153233119,\n",
       " ('repair', 'fix'): -0.1863981301889027,\n",
       " ('capture', 'catch'): 0.4936740217604397,\n",
       " ('discover', 'learn'): -0.311996178077813,\n",
       " ('collect', 'accumulate'): -0.5832370535221022,\n",
       " ('enter', 'participate'): -0.7560589845954901,\n",
       " ('obtain', 'receive'): 0.3575618790573722,\n",
       " ('win', 'succeed'): -0.42500651361874064,\n",
       " ('glow', 'shine'): 0.7649699781402611,\n",
       " ('scold', 'reprimand'): 0.8872718573348883,\n",
       " ('toss', 'chuck'): 0.9402875329817236,\n",
       " ('get', 'bring'): 0.3115435247148111,\n",
       " ('slide', 'slither'): 0.8949346878398161,\n",
       " ('shake', 'stir'): 0.32385591491187143,\n",
       " ('pick', 'pluck'): -0.3331497552690779,\n",
       " ('vanish', 'disappear'): 0.836118065569758,\n",
       " ('snap', 'crack'): 0.8658956397141657,\n",
       " ('excuse', 'rationalize'): 0.9529063181501248,\n",
       " ('decrease', 'diminish'): 0.7144914220363232,\n",
       " ('acknowledge', 'know'): 0.2640545993583853,\n",
       " ('overwhelm', 'overcome'): 0.5734231604462023,\n",
       " ('croak', 'die'): -0.25646239100878426,\n",
       " ('desire', 'want'): -0.5232440478761287,\n",
       " ('exist', 'be'): 0.5653209961957952,\n",
       " ('discover', 'find'): 0.626392907241632,\n",
       " ('lift', 'raise'): 0.26819058337794677,\n",
       " ('incline', 'lean'): 0.8493516275658116,\n",
       " ('smear', 'smudge'): 0.9710182789534267,\n",
       " ('mix', 'combine'): -0.5344918289849526,\n",
       " ('bound', 'jump'): 0.8054695139072744,\n",
       " ('cast', 'throw'): 0.6866586634000188,\n",
       " ('aid', 'help'): -0.6593512385760752,\n",
       " ('bother', 'annoy'): 0.8768185252684744,\n",
       " ('calculate', 'compute'): -0.32972564231572105,\n",
       " ('demolish', 'smash'): 0.6113753685842405,\n",
       " ('refuse', 'decline'): 0.8642266056694003,\n",
       " ('holler', 'scream'): 0.8878820611893027,\n",
       " ('earn', 'make'): 0.24621067623809387,\n",
       " ('bring', 'take'): 0.8444701743774211,\n",
       " ('snuggle', 'cuddle'): 0.8421098031718539,\n",
       " ('select', 'choose'): 0.3726151560880929,\n",
       " ('hear', 'listen'): -0.6070658680551534,\n",
       " ('ignore', 'neglect'): -0.39888007964558064,\n",
       " ('need', 'want'): 0.47618775351533044,\n",
       " ('write', 'compose'): -0.6919785025453649,\n",
       " ('gather', 'meet'): -0.14475687324505604,\n",
       " ('weep', 'cry'): 0.819907469031065,\n",
       " ('glow', 'burn'): 0.3229798956587205,\n",
       " ('excuse', 'pardon'): 0.8980294167650539,\n",
       " ('hug', 'embrace'): 0.4923538309119445,\n",
       " ('inquire', 'ask'): -0.6154846572410617,\n",
       " ('defeat', 'overcome'): -0.2462466402653198,\n",
       " ('vary', 'change'): -0.2627183243988158,\n",
       " ('prefer', 'choose'): 0.4777837039146385,\n",
       " ('push', 'tug'): -0.3398290867174853,\n",
       " ('descend', 'come'): -0.6809990933695608,\n",
       " ('understand', 'realize'): 0.11096247372187702,\n",
       " ('touch', 'reach'): -0.504897197168854,\n",
       " ('yield', 'give'): 0.03500199579544128,\n",
       " ('allow', 'permit'): 0.7517575094547039,\n",
       " ('arrive', 'come'): 0.4837578746503915,\n",
       " ('flex', 'bend'): 0.7469605193587953,\n",
       " ('mistreat', 'abuse'): 0.7071308233487362,\n",
       " ('see', 'visit'): 0.30799273718613546,\n",
       " ('bound', 'tie'): 0.6521613189886233,\n",
       " ('remember', 'think'): 0.12143564979388584,\n",
       " ('obtain', 'hold'): 0.6552709245973267,\n",
       " ('set', 'prepare'): 0.27967347671341014,\n",
       " ('restore', 'mend'): 0.020592223276912312,\n",
       " ('exchange', 'change'): 0.02974676414326714,\n",
       " ('capture', 'get'): -0.1312632195229679,\n",
       " ('examine', 'study'): 0.29018109725549845,\n",
       " ('hang', 'fall'): 0.3309333081139728,\n",
       " ('determine', 'set'): 0.40176505644137556,\n",
       " ('scream', 'cry'): 0.9015404710244537,\n",
       " ('set', 'lay'): -0.23770776276709074,\n",
       " ('persuade', 'sway'): 0.12581635963507615,\n",
       " ('set', 'put'): 0.22011561133108734,\n",
       " ('hold', 'bear'): 0.19944764650789978,\n",
       " ('allow', 'grant'): 0.5243145316272865,\n",
       " ('command', 'control'): 0.3617567258104782,\n",
       " ('affect', 'touch'): -0.14034668522154084,\n",
       " ('crush', 'demolish'): 0.7425242921154324,\n",
       " ('sing', 'whistle'): 0.2471141620785782,\n",
       " ('learn', 'acquire'): 0.4428059596695005,\n",
       " ('buzz', 'hum'): 0.9626037634955769,\n",
       " ('wake', 'awake'): 0.9634611531066115,\n",
       " ('have', 'receive'): 0.903050319922762,\n",
       " ('examine', 'analyze'): 0.3345215813087575,\n",
       " ('deal', 'sell'): -0.1847282733483487,\n",
       " ('demand', 'take'): 0.6186768003931501,\n",
       " ('reach', 'strive'): -0.806527359637759,\n",
       " ('urge', 'recommend'): 0.6452156736592525,\n",
       " ('mend', 'repair'): 0.5911895973256971,\n",
       " ('fly', 'flee'): 0.17730495395585152,\n",
       " ('blend', 'combine'): -0.33499166302876726,\n",
       " ('taste', 'try'): -0.32853629564538117,\n",
       " ('toss', 'flip'): 0.9480003371708413,\n",
       " ('get', 'go'): 0.12148986849119091,\n",
       " ('think', 'recall'): 0.015151147361937236,\n",
       " ('holler', 'call'): -0.25213808192839915,\n",
       " ('believe', 'think'): 0.07668953956178799,\n",
       " ('reach', 'achieve'): 0.30963569706059507,\n",
       " ('advise', 'notify'): -0.463070671171981,\n",
       " ('catch', 'grab'): -0.26368956851778974,\n",
       " ('decompose', 'disintegrate'): 0.9629195602982968,\n",
       " ('examine', 'see'): 0.488579751610956,\n",
       " ('sting', 'burn'): 0.31477410224759383,\n",
       " ('kidnap', 'snatch'): 0.9762614189642739,\n",
       " ('practice', 'do'): -0.6873523840699552,\n",
       " ('block', 'stop'): 0.41211162082752156,\n",
       " ('have', 'own'): 0.27574349311454865,\n",
       " ('own', 'possess'): -0.01014929925310443,\n",
       " ('encourage', 'boost'): -0.6432341874537572,\n",
       " ('promote', 'advance'): -0.45068765433806623,\n",
       " ('apply', 'use'): 0.4978748558657006,\n",
       " ('avoid', 'invalidate'): -0.5153266816734483,\n",
       " ('nullify', 'avoid'): -0.6322712108707407,\n",
       " ('invalidate', 'nullify'): 0.9504436956053647,\n",
       " ('count', 'matter'): -0.020782037977085888,\n",
       " ('assume', 'adopt'): -0.15806928892512356,\n",
       " ('submit', 'bow'): -0.2921979817485139,\n",
       " ('incline', 'dispose'): 0.909789066988318,\n",
       " ('secure', 'insure'): -0.4255409982569241,\n",
       " ('insure', 'ensure'): -0.3834949041547716,\n",
       " ('ensure', 'secure'): 0.7022522816757861,\n",
       " ('discharge', 'free'): 0.29103209301306227,\n",
       " ('retire', 'retreat'): 0.8265379019417413,\n",
       " ('retire', 'withdraw'): 0.13382596982560294,\n",
       " ('withdraw', 'retreat'): 0.13033796909727777,\n",
       " ('deal', 'cope'): 0.05781061299785007,\n",
       " ('cope', 'manage'): -0.6801562464931283,\n",
       " ('deal', 'manage'): 0.2767522496955146,\n",
       " ('care', 'worry'): 0.6627466085483621,\n",
       " ('commit', 'dedicate'): -0.46012250980515584,\n",
       " ('commit', 'devote'): 0.8817746929717072,\n",
       " ('devote', 'dedicate'): -0.3951944543002346,\n",
       " ('restrict', 'limit'): 0.6398171658163276,\n",
       " ('cooperate', 'collaborate'): 0.9197630966889737,\n",
       " ('enforce', 'impose'): 0.42758720323909477}"
      ]
     },
     "execution_count": 14,
     "metadata": {},
     "output_type": "execute_result"
    }
   ],
   "source": [
    "# It is also possible to get a list of the inner products of the pairs instead of averaging over them\n",
    "mf.averaged_product_list(testsym,\"SYNONYMS\",obj08subj02_dict,\"std_dev\")"
   ]
  },
  {
   "cell_type": "markdown",
   "id": "d90557fd",
   "metadata": {},
   "source": [
    "## Balanced accuracy"
   ]
  },
  {
   "cell_type": "code",
   "execution_count": 16,
   "id": "bf6795d9",
   "metadata": {},
   "outputs": [
    {
     "data": {
      "text/plain": [
       "0.5602808691043986"
      ]
     },
     "execution_count": 16,
     "metadata": {},
     "output_type": "execute_result"
    }
   ],
   "source": [
    "# The balanced_accuracy function needs as input a vector_dictionary object, a verb_similarity dictionary,\n",
    "# two labels to be compared ad the type of product. The output is the balanced accuracy computed as\n",
    "# described in the paper, using the full datset to define the divide and then to compute the accuracy\n",
    "mf.balanced_accuracy(objdict,testsym,'ANTONYMS','SYNONYMS','std_dev')"
   ]
  },
  {
   "cell_type": "code",
   "execution_count": 17,
   "id": "c7d7a36c",
   "metadata": {},
   "outputs": [
    {
     "data": {
      "text/plain": [
       "0.5506936289337272"
      ]
     },
     "execution_count": 17,
     "metadata": {},
     "output_type": "execute_result"
    }
   ],
   "source": [
    "# It is also possible to compare labels grouped together, for example what is the accuracy when comparing synonyms\n",
    "# with antonyms and none consideered as a single type\n",
    "mf.balanced_accuracy(objdict,testsym,['ANTONYMS','NONE'],'SYNONYMS','std_dev')"
   ]
  },
  {
   "cell_type": "code",
   "execution_count": 18,
   "id": "9e863a97",
   "metadata": {},
   "outputs": [
    {
     "data": {
      "text/plain": [
       "array([0.54950225, 0.01570413])"
      ]
     },
     "execution_count": 18,
     "metadata": {},
     "output_type": "execute_result"
    }
   ],
   "source": [
    "# Finally we can also compute the balanced accuracy by using a subset of the word pairs to define the divide\n",
    "# and then testing on the remaining pairs. This is done with balanced_accuracy_subsets\n",
    "# Inputs are a vector_dictionary object, a similarity_dictionary object, the labels to be compared, the product type,\n",
    "# a seed for the random generator (for repeatable results) and the size of the \"training samples\" for each label\n",
    "# Again it is possible to group labels together as shown for antonyms and none here\n",
    "# The procedure is repeated on 20 different subsets (see paper), output is mean and standard deviation on the accuracy\n",
    "mf.balanced_accuracy_subsets(objdict,testsym,['ANTONYMS','NONE'],'SYNONYMS','std_dev',7,72+1360,198)"
   ]
  },
  {
   "cell_type": "code",
   "execution_count": null,
   "id": "9d853ae2",
   "metadata": {},
   "outputs": [],
   "source": []
  }
 ],
 "metadata": {
  "kernelspec": {
   "display_name": "Python 3",
   "language": "python",
   "name": "python3"
  },
  "language_info": {
   "codemirror_mode": {
    "name": "ipython",
    "version": 3
   },
   "file_extension": ".py",
   "mimetype": "text/x-python",
   "name": "python",
   "nbconvert_exporter": "python",
   "pygments_lexer": "ipython3",
   "version": "3.9.4"
  }
 },
 "nbformat": 4,
 "nbformat_minor": 5
}
