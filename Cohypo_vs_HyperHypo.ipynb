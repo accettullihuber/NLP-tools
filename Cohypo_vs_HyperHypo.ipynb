{
 "cells": [
  {
   "cell_type": "markdown",
   "id": "98bdb372",
   "metadata": {},
   "source": [
    "# Import"
   ]
  },
  {
   "cell_type": "code",
   "execution_count": 1,
   "id": "9301815f",
   "metadata": {},
   "outputs": [],
   "source": [
    "import numpy as np\n",
    "import random\n",
    "from scipy.stats import spearmanr, pearsonr\n",
    "\n",
    "#import the custom functions\n",
    "import MFunctions as mf"
   ]
  },
  {
   "cell_type": "code",
   "execution_count": 2,
   "id": "5f820c6d",
   "metadata": {},
   "outputs": [],
   "source": [
    "#Load verb_symilarity which is the same for all\n",
    "simdict = mf.verb_similarity(\"SimVerb-3500.txt\")"
   ]
  },
  {
   "cell_type": "markdown",
   "id": "e1154a6a",
   "metadata": {},
   "source": [
    "# linear + quadratic (13 total)"
   ]
  },
  {
   "cell_type": "code",
   "execution_count": 3,
   "id": "0b429a0f",
   "metadata": {},
   "outputs": [],
   "source": [
    "# Make observables object\n",
    "set1 = mf.observables([\"Linear.txt\",\"Quadratic.txt\"])\n",
    "# Load matrices and make vector dictionaries\n",
    "objsubset1 = mf.vector_dictionary(\"matrices_1160_arg_obj_context_subj.txt\",set1)\n",
    "subobjset1 = mf.vector_dictionary(\"matrices_1160_arg_subj_context_obj.txt\",set1,[0])\n",
    "obj08sub02set1 = mf.vector_dictionary([[\"matrices_1160_arg_obj_context_subj.txt\",\"matrices_1160_arg_subj_context_obj.txt\"],[0.8,0.2]],set1,[1])\n",
    "obj09sub01set1 = mf.vector_dictionary([[\"matrices_1160_arg_obj_context_subj.txt\",\"matrices_1160_arg_subj_context_obj.txt\"],[0.9,0.1]],set1,[1])"
   ]
  },
  {
   "cell_type": "code",
   "execution_count": 4,
   "id": "6d6c15aa",
   "metadata": {},
   "outputs": [],
   "source": [
    "file_list1 = [objsubset1,subobjset1,obj08sub02set1,obj09sub01set1]"
   ]
  },
  {
   "cell_type": "code",
   "execution_count": 8,
   "id": "7081ec8d",
   "metadata": {},
   "outputs": [
    {
     "data": {
      "text/plain": [
       "[[[0.12819513814742128, 0.5071554695289946],\n",
       "  [0.18283011891159115, 0.4875770015152735]],\n",
       " [[0.12538794135946613, 0.5024734689765858],\n",
       "  [0.240215784303051, 0.5059754138407245]],\n",
       " [[0.13413771448778683, 0.5014386364259339],\n",
       "  [0.193787209750406, 0.4717811907126341]],\n",
       " [[0.1302268730352817, 0.5047809468546545],\n",
       "  [0.1865230024425557, 0.47703140544767303]]]"
      ]
     },
     "execution_count": 8,
     "metadata": {},
     "output_type": "execute_result"
    }
   ],
   "source": [
    "output = []\n",
    "for a in file_list1:\n",
    "    output.append([mf.averaged_product(simdict,'HYPER/HYPONYMS',a,\"std_dev\"),mf.averaged_product(simdict,'COHYPONYMS',a,\"std_dev\")])\n",
    "output"
   ]
  },
  {
   "cell_type": "markdown",
   "id": "9322fea8",
   "metadata": {},
   "source": [
    "# linear (2) + quadratic (11) + cubic (8) + quartic(2)  (23 total)"
   ]
  },
  {
   "cell_type": "code",
   "execution_count": 5,
   "id": "aa097968",
   "metadata": {},
   "outputs": [],
   "source": [
    "# Make observables object\n",
    "set2 = mf.observables([\"Linear.txt\",\"Quadratic.txt\",\"Cubic1.txt\",\"Quartic1.txt\"])\n",
    "# Load matrices and make vector dictionaries\n",
    "objsubset2 = mf.vector_dictionary(\"matrices_1160_arg_obj_context_subj.txt\",set2)\n",
    "subobjset2 = mf.vector_dictionary(\"matrices_1160_arg_subj_context_obj.txt\",set2,[0])\n",
    "obj08sub02set2 = mf.vector_dictionary([[\"matrices_1160_arg_obj_context_subj.txt\",\"matrices_1160_arg_subj_context_obj.txt\"],[0.8,0.2]],set2,[1])\n",
    "obj09sub01set2 = mf.vector_dictionary([[\"matrices_1160_arg_obj_context_subj.txt\",\"matrices_1160_arg_subj_context_obj.txt\"],[0.9,0.1]],set2,[1])"
   ]
  },
  {
   "cell_type": "code",
   "execution_count": 6,
   "id": "60fc6fba",
   "metadata": {},
   "outputs": [],
   "source": [
    "file_list2 = [objsubset2,subobjset2,obj08sub02set2,obj09sub01set2]"
   ]
  },
  {
   "cell_type": "code",
   "execution_count": 12,
   "id": "f0dbda5b",
   "metadata": {},
   "outputs": [
    {
     "data": {
      "text/plain": [
       "[[[0.13162707768360712, 0.46973844850325025],\n",
       "  [0.1920150917651739, 0.4610064765067929]],\n",
       " [[0.13409498011344806, 0.47489563899347476],\n",
       "  [0.24883271598637713, 0.48780756186034546]],\n",
       " [[0.13569691122824282, 0.4649463692653508],\n",
       "  [0.2011622155417129, 0.45144925195567226]],\n",
       " [[0.1323974052602255, 0.4669096371470686],\n",
       "  [0.19587510916161896, 0.4535851441530613]]]"
      ]
     },
     "execution_count": 12,
     "metadata": {},
     "output_type": "execute_result"
    }
   ],
   "source": [
    "output = []\n",
    "for a in file_list2:\n",
    "    output.append([mf.averaged_product(simdict,'HYPER/HYPONYMS',a,\"std_dev\"),mf.averaged_product(simdict,'COHYPONYMS',a,\"std_dev\")])\n",
    "output"
   ]
  },
  {
   "cell_type": "code",
   "execution_count": 22,
   "id": "deba3aea",
   "metadata": {},
   "outputs": [
    {
     "data": {
      "text/plain": [
       "190"
      ]
     },
     "execution_count": 22,
     "metadata": {},
     "output_type": "execute_result"
    }
   ],
   "source": [
    "len(mf.averaged_product_list(simdict,'COHYPONYMS',objsubset2,\"std_dev\"))"
   ]
  },
  {
   "cell_type": "markdown",
   "id": "8956cd3f",
   "metadata": {},
   "source": [
    "# Linear (2) + quadratic (11) + cubic (8) + quartic(2) + additional cubic and quartic (5) (28 total)"
   ]
  },
  {
   "cell_type": "code",
   "execution_count": 7,
   "id": "84b4d640",
   "metadata": {},
   "outputs": [],
   "source": [
    "# Make observables object\n",
    "set5 = mf.observables([\"Linear.txt\",\"Quadratic.txt\",\"Cubic1.txt\",\"Quartic1.txt\",\"Additional1.txt\"])\n",
    "# Load matrices and make vector dictionaries\n",
    "objsubset5 = mf.vector_dictionary(\"matrices_1160_arg_obj_context_subj.txt\",set5)\n",
    "subobjset5 = mf.vector_dictionary(\"matrices_1160_arg_subj_context_obj.txt\",set5,[0])\n",
    "obj08sub02set5 = mf.vector_dictionary([[\"matrices_1160_arg_obj_context_subj.txt\",\"matrices_1160_arg_subj_context_obj.txt\"],[0.8,0.2]],set5,[1])\n",
    "obj09sub01set5 = mf.vector_dictionary([[\"matrices_1160_arg_obj_context_subj.txt\",\"matrices_1160_arg_subj_context_obj.txt\"],[0.9,0.1]],set5,[1])"
   ]
  },
  {
   "cell_type": "code",
   "execution_count": 8,
   "id": "ed951be6",
   "metadata": {},
   "outputs": [],
   "source": [
    "file_list5 = [objsubset5,subobjset5,obj08sub02set5,obj09sub01set5]"
   ]
  },
  {
   "cell_type": "code",
   "execution_count": 19,
   "id": "57659177",
   "metadata": {},
   "outputs": [
    {
     "data": {
      "text/plain": [
       "[[[0.133299760494055, 0.4588170772144774],\n",
       "  [0.20377438501264636, 0.4530870300342831]],\n",
       " [[0.13904167569765882, 0.46937113288585547],\n",
       "  [0.25593326887468926, 0.4842001288953564]],\n",
       " [[0.14087734413300423, 0.4575093618111323],\n",
       "  [0.2089174227031328, 0.4517869568158021]],\n",
       " [[0.13644245116332462, 0.45804412047494086],\n",
       "  [0.20420227553796666, 0.4501316317396267]]]"
      ]
     },
     "execution_count": 19,
     "metadata": {},
     "output_type": "execute_result"
    }
   ],
   "source": [
    "output = []\n",
    "for a in file_list5:\n",
    "    output.append([mf.averaged_product(simdict,'HYPER/HYPONYMS',a,\"std_dev\"),mf.averaged_product(simdict,'COHYPONYMS',a,\"std_dev\")])\n",
    "output"
   ]
  },
  {
   "cell_type": "markdown",
   "id": "9fbf0294",
   "metadata": {},
   "source": [
    "# Precision testing"
   ]
  },
  {
   "cell_type": "markdown",
   "id": "89646f61",
   "metadata": {},
   "source": [
    "## Some definitions"
   ]
  },
  {
   "cell_type": "code",
   "execution_count": 9,
   "id": "e0f56cb4",
   "metadata": {},
   "outputs": [],
   "source": [
    "def exp1(file_name):\n",
    "    #Using observable vectors with cosine distance\n",
    "\n",
    "    #Compute the mean and the standard deviation for the SYNONYMS\n",
    "    syn1 = mf.averaged_product(simdict,'COHYPONYMS',file_name,\"std_dev\")\n",
    "\n",
    "    #Compute the mean and the standard deviation for the ANTONYMS\n",
    "    ant1 = mf.averaged_product(simdict,'HYPER/HYPONYMS',file_name,\"std_dev\")\n",
    "    \n",
    "    #Use the means and deviations to set the divide between synonyms and antonyms\n",
    "    divide1 = ant1[0] + ant1[1]/syn1[1] * (syn1[0]-ant1[0])/2\n",
    "    \n",
    "    # Use the earlier defined function to compute the list of scalar products of the verbs and compare with divide\n",
    "    prodlist1 = mf.averaged_product_list(simdict,'COHYPONYMS',file_name,\"std_dev\")\n",
    "\n",
    "    prodlist5 = mf.averaged_product_list(simdict,'HYPER/HYPONYMS',file_name,\"std_dev\")\n",
    "    \n",
    "    # Compare and count the number of synonyms we get right\n",
    "    syncomparison1 = [a > divide1 for a in list(prodlist1.values())]\n",
    "\n",
    "    # Compare and count the number of antonyms we get right\n",
    "    antcomparison1 = [a < divide1 for a in list(prodlist5.values())]\n",
    "\n",
    "    #Compute the average precision\n",
    "    precision1 = (syncomparison1.count(True) + antcomparison1.count(True))/(len(syncomparison1) + len(antcomparison1))\n",
    "    \n",
    "    return precision1"
   ]
  },
  {
   "cell_type": "code",
   "execution_count": 10,
   "id": "6c7a5b83",
   "metadata": {},
   "outputs": [],
   "source": [
    "def exp2(file_name,myseed1,myseed2,samplesize1,samplesize2):\n",
    "    #Since here we use just a subset of the pairs of synonyms and antonyms to determine the means and deviation, we have to do this by hand\n",
    "\n",
    "    #Compute the products for all the observable deviation vectors associated to the SYNONYMS pairs\n",
    "    all1 = mf.averaged_product_list(simdict,'COHYPONYMS',file_name,\"std_dev\")\n",
    "\n",
    "    #The subset from which we copute the means is randomly selected, we seed the random generator for repeatable results. Chosen seed 7\n",
    "    random.seed(myseed1)\n",
    "\n",
    "    mysample = random.sample(list(all1),samplesize1)\n",
    "\n",
    "    #Find complementary sample where we will predict and test\n",
    "    mycomplsample = set(all1.keys()) - set(mysample)\n",
    "\n",
    "    #Compute the means and standard deviations\n",
    "    syn1 = [np.mean(np.array(list(map(all1.get,mysample)))),np.std(np.array(list(map(all1.get,mysample))))]\n",
    "\n",
    "    #Now the same thing for the antonyms\n",
    "\n",
    "    #Compute the products for all the observable deviation vectors associated to the SYNONYMS pairs\n",
    "    all5 = mf.averaged_product_list(simdict,'HYPER/HYPONYMS',file_name,\"std_dev\")\n",
    "\n",
    "    #The subset from which we copute the means is randomly selected, we seed the random generator for repeatable results. Chosen seed 13\n",
    "    #random.seed(117) #Interesting values come out for this seed\n",
    "    random.seed(myseed2)\n",
    "\n",
    "    mysample2 = random.sample(list(all5),samplesize2)\n",
    "\n",
    "    #Find complementary sample where we will predict and test\n",
    "    mycomplsample2 = set(all5.keys()) - set(mysample2)\n",
    "\n",
    "    #Compute the means and standard deviations\n",
    "    ant1 = [np.mean(np.array(list(map(all5.get,mysample2)))),np.std(np.array(list(map(all5.get,mysample2))))]\n",
    "\n",
    "    #Use the means and deviations to set the divide between synonyms and antonyms\n",
    "    divide1 = ant1[0] + ant1[1]/syn1[1] * (syn1[0]-ant1[0])/2\n",
    "    \n",
    "    # Next we test on the complementary sample\n",
    "    # Compare and count the number of synonyms we get right\n",
    "    syncomparison1 = [a > divide1 for a in list(map(all1.get,mycomplsample))]\n",
    "\n",
    "    # Compare and count the number of antonyms we get right\n",
    "    antcomparison1 = [a < divide1 for a in list(map(all5.get,mycomplsample2))]\n",
    "\n",
    "    #Compute the average precision\n",
    "    precision1 = (syncomparison1.count(True) + antcomparison1.count(True))/(len(syncomparison1) + len(antcomparison1))\n",
    "\n",
    "    return precision1"
   ]
  },
  {
   "cell_type": "code",
   "execution_count": 11,
   "id": "0ec06289",
   "metadata": {},
   "outputs": [],
   "source": [
    "#Experiment 2 requires averaging over a number of different random samples. To generate these in a way \n",
    "#which is random but repeatable we need a list of seeds for the random generator. We decided to pick 20 samples\n",
    "\n",
    "#seed the random generator before genearting the integer seeds for the random samples\n",
    "random.seed(7)\n",
    "\n",
    "seed_list = [(random.randint(0,5000),random.randint(0,5000)) for a in range(20)]\n",
    "\n",
    "#Make a second seed_list for when we need 3 seeds instead of 2\n",
    "\n",
    "seed_list2 = [(random.randint(0,5000),random.randint(0,5000),random.randint(0,5000)) for a in range(20)]"
   ]
  },
  {
   "cell_type": "markdown",
   "id": "f7c585b6",
   "metadata": {},
   "source": [
    "## 13 obs"
   ]
  },
  {
   "cell_type": "code",
   "execution_count": 20,
   "id": "e38cc3e7",
   "metadata": {},
   "outputs": [
    {
     "data": {
      "text/plain": [
       "[0.5141414141414141,\n",
       " 0.5363636363636364,\n",
       " 0.5171717171717172,\n",
       " 0.5151515151515151]"
      ]
     },
     "execution_count": 20,
     "metadata": {},
     "output_type": "execute_result"
    }
   ],
   "source": [
    "# Experiment 1 synonym vs antonym\n",
    "[exp1(a) for a in file_list1]"
   ]
  },
  {
   "cell_type": "code",
   "execution_count": 38,
   "id": "0ac77444",
   "metadata": {},
   "outputs": [
    {
     "data": {
      "text/plain": [
       "[array([0.51184971, 0.53193642, 0.52023121, 0.51618497]),\n",
       " array([0.02686307, 0.01641239, 0.02522908, 0.02495276])]"
      ]
     },
     "execution_count": 38,
     "metadata": {},
     "output_type": "execute_result"
    }
   ],
   "source": [
    "# Apply the function to every file with the given seed and average. The averaging is done using pure functions\n",
    "# (lambda) so to compute all the precisions only once\n",
    "\n",
    "# Synonyms vs Antonyms, sample size roughly 60%\n",
    "\n",
    "(lambda x1 : [np.mean(x1,axis = 0),np.std(x1,axis=0)])([[exp2(myfile,*a,124,520) for myfile in file_list1] for a in seed_list ])"
   ]
  },
  {
   "cell_type": "code",
   "execution_count": 39,
   "id": "3d601aeb",
   "metadata": {},
   "outputs": [
    {
     "data": {
      "text/plain": [
       "[array([0.50909091, 0.5462963 , 0.51481481, 0.51503928]),\n",
       " array([0.01663328, 0.01627917, 0.01976743, 0.01754184])]"
      ]
     },
     "execution_count": 39,
     "metadata": {},
     "output_type": "execute_result"
    }
   ],
   "source": [
    "# Synonyms vs Antonyms, sample size roughly 10%\n",
    "\n",
    "(lambda x1 : [np.mean(x1,axis = 0),np.std(x1,axis=0)])([[exp2(myfile,*a,19,80) for myfile in file_list1] for a in seed_list ])"
   ]
  },
  {
   "cell_type": "code",
   "execution_count": 42,
   "id": "c83496fc",
   "metadata": {},
   "outputs": [
    {
     "data": {
      "text/plain": [
       "[array([0.51089267, 0.54612115, 0.51312434, 0.51376196]),\n",
       " array([0.02853278, 0.02947702, 0.03721766, 0.03161325])]"
      ]
     },
     "execution_count": 42,
     "metadata": {},
     "output_type": "execute_result"
    }
   ],
   "source": [
    "# Synonyms vs Antonyms, sample size roughly 5%\n",
    "\n",
    "(lambda x1 : [np.mean(x1,axis = 0),np.std(x1,axis=0)])([[exp2(myfile,*a,9,40) for myfile in file_list1] for a in seed_list ])"
   ]
  },
  {
   "cell_type": "code",
   "execution_count": 43,
   "id": "524b27f5",
   "metadata": {},
   "outputs": [
    {
     "data": {
      "text/plain": [
       "[array([0.53607143, 0.57091837, 0.53408163, 0.53408163]),\n",
       " array([0.03957194, 0.04450606, 0.04814597, 0.0426091 ])]"
      ]
     },
     "execution_count": 43,
     "metadata": {},
     "output_type": "execute_result"
    }
   ],
   "source": [
    "# Synonyms vs Antonyms, sample size 5\n",
    "\n",
    "(lambda x1 : [np.mean(x1,axis = 0),np.std(x1,axis=0)])([[exp2(myfile,*a,5,5) for myfile in file_list1] for a in seed_list ])"
   ]
  },
  {
   "cell_type": "markdown",
   "id": "455818d3",
   "metadata": {},
   "source": [
    "## 23 obs"
   ]
  },
  {
   "cell_type": "code",
   "execution_count": 24,
   "id": "ee418474",
   "metadata": {},
   "outputs": [
    {
     "data": {
      "text/plain": [
       "[0.5252525252525253,\n",
       " 0.5565656565656566,\n",
       " 0.5303030303030303,\n",
       " 0.5444444444444444]"
      ]
     },
     "execution_count": 24,
     "metadata": {},
     "output_type": "execute_result"
    }
   ],
   "source": [
    "# Experiment 1 synonym vs antonym\n",
    "[exp1(a) for a in file_list2]"
   ]
  },
  {
   "cell_type": "code",
   "execution_count": 37,
   "id": "afd03285",
   "metadata": {},
   "outputs": [
    {
     "data": {
      "text/plain": [
       "[array([0.52254335, 0.55274566, 0.53424855, 0.54277457]),\n",
       " array([0.02398322, 0.01461968, 0.02143946, 0.02087338])]"
      ]
     },
     "execution_count": 37,
     "metadata": {},
     "output_type": "execute_result"
    }
   ],
   "source": [
    "# Apply the function to every file with the given seed and average. The averaging is done using pure functions\n",
    "# (lambda) so to compute all the precisions only once\n",
    "\n",
    "# Synonyms vs Antonyms, sample size roughly 60%\n",
    "\n",
    "(lambda x1 : [np.mean(x1,axis = 0),np.std(x1,axis=0)])([[exp2(myfile,*a,124,520) for myfile in file_list2] for a in seed_list ])"
   ]
  },
  {
   "cell_type": "code",
   "execution_count": 40,
   "id": "75c6c3ac",
   "metadata": {},
   "outputs": [
    {
     "data": {
      "text/plain": [
       "[array([0.52160494, 0.56380471, 0.53237935, 0.53271605]),\n",
       " array([0.01997905, 0.01981572, 0.02234904, 0.02282309])]"
      ]
     },
     "execution_count": 40,
     "metadata": {},
     "output_type": "execute_result"
    }
   ],
   "source": [
    "# Synonyms vs Antonyms, sample size roughly 10%\n",
    "\n",
    "(lambda x1 : [np.mean(x1,axis = 0),np.std(x1,axis=0)])([[exp2(myfile,*a,19,80) for myfile in file_list2] for a in seed_list ])"
   ]
  },
  {
   "cell_type": "code",
   "execution_count": 44,
   "id": "20425c74",
   "metadata": {},
   "outputs": [
    {
     "data": {
      "text/plain": [
       "[array([0.52252922, 0.56280553, 0.52672689, 0.5293305 ]),\n",
       " array([0.03738693, 0.03022142, 0.04436598, 0.04274099])]"
      ]
     },
     "execution_count": 44,
     "metadata": {},
     "output_type": "execute_result"
    }
   ],
   "source": [
    "# Synonyms vs Antonyms, sample size roughly 5%\n",
    "\n",
    "(lambda x1 : [np.mean(x1,axis = 0),np.std(x1,axis=0)])([[exp2(myfile,*a,9,40) for myfile in file_list2] for a in seed_list ])"
   ]
  },
  {
   "cell_type": "code",
   "execution_count": 45,
   "id": "70241b0d",
   "metadata": {},
   "outputs": [
    {
     "data": {
      "text/plain": [
       "[array([0.54663265, 0.58535714, 0.54255102, 0.54653061]),\n",
       " array([0.04184806, 0.04101263, 0.04726495, 0.04487755])]"
      ]
     },
     "execution_count": 45,
     "metadata": {},
     "output_type": "execute_result"
    }
   ],
   "source": [
    "# Synonyms vs Antonyms, sample size 5\n",
    "\n",
    "(lambda x1 : [np.mean(x1,axis = 0),np.std(x1,axis=0)])([[exp2(myfile,*a,5,5) for myfile in file_list2] for a in seed_list ])"
   ]
  },
  {
   "cell_type": "markdown",
   "id": "f1bb345a",
   "metadata": {},
   "source": [
    "## 28 obs"
   ]
  },
  {
   "cell_type": "code",
   "execution_count": 26,
   "id": "30268ffe",
   "metadata": {},
   "outputs": [
    {
     "data": {
      "text/plain": [
       "[0.5353535353535354,\n",
       " 0.5606060606060606,\n",
       " 0.5383838383838384,\n",
       " 0.5525252525252525]"
      ]
     },
     "execution_count": 26,
     "metadata": {},
     "output_type": "execute_result"
    }
   ],
   "source": [
    "# Experiment 1 synonym vs antonym\n",
    "[exp1(a) for a in file_list5]"
   ]
  },
  {
   "cell_type": "code",
   "execution_count": 36,
   "id": "7aba6a75",
   "metadata": {},
   "outputs": [
    {
     "data": {
      "text/plain": [
       "[array([0.53598266, 0.55895954, 0.53612717, 0.55057803]),\n",
       " array([0.02481976, 0.01341364, 0.0201381 , 0.02024153])]"
      ]
     },
     "execution_count": 36,
     "metadata": {},
     "output_type": "execute_result"
    }
   ],
   "source": [
    "# Apply the function to every file with the given seed and average. The averaging is done using pure functions\n",
    "# (lambda) so to compute all the precisions only once\n",
    "\n",
    "# Synonyms vs Antonyms, sample size roughly 60%\n",
    "\n",
    "(lambda x1 : [np.mean(x1,axis = 0),np.std(x1,axis=0)])([[exp2(myfile,*a,124,520) for myfile in file_list5] for a in seed_list ])"
   ]
  },
  {
   "cell_type": "code",
   "execution_count": 41,
   "id": "05076367",
   "metadata": {},
   "outputs": [
    {
     "data": {
      "text/plain": [
       "[array([0.53131313, 0.56571268, 0.53810325, 0.53765432]),\n",
       " array([0.02476878, 0.01919315, 0.02453649, 0.02524248])]"
      ]
     },
     "execution_count": 41,
     "metadata": {},
     "output_type": "execute_result"
    }
   ],
   "source": [
    "# Synonyms vs Antonyms, sample size roughly 10%\n",
    "\n",
    "(lambda x1 : [np.mean(x1,axis = 0),np.std(x1,axis=0)])([[exp2(myfile,*a,19,80) for myfile in file_list5] for a in seed_list ])"
   ]
  },
  {
   "cell_type": "code",
   "execution_count": 46,
   "id": "bc4ee54c",
   "metadata": {},
   "outputs": [
    {
     "data": {
      "text/plain": [
       "[array([0.53108395, 0.56546227, 0.53113709, 0.53310308]),\n",
       " array([0.04190442, 0.02993135, 0.04919574, 0.0445121 ])]"
      ]
     },
     "execution_count": 46,
     "metadata": {},
     "output_type": "execute_result"
    }
   ],
   "source": [
    "# Synonyms vs Antonyms, sample size roughly 5%\n",
    "\n",
    "(lambda x1 : [np.mean(x1,axis = 0),np.std(x1,axis=0)])([[exp2(myfile,*a,9,40) for myfile in file_list5] for a in seed_list ])"
   ]
  },
  {
   "cell_type": "code",
   "execution_count": 47,
   "id": "bc5c87c2",
   "metadata": {},
   "outputs": [
    {
     "data": {
      "text/plain": [
       "[array([0.55096939, 0.58408163, 0.54857143, 0.54872449]),\n",
       " array([0.04231247, 0.03861729, 0.04705996, 0.04190372])]"
      ]
     },
     "execution_count": 47,
     "metadata": {},
     "output_type": "execute_result"
    }
   ],
   "source": [
    "# Synonyms vs Antonyms, sample size 5\n",
    "\n",
    "(lambda x1 : [np.mean(x1,axis = 0),np.std(x1,axis=0)])([[exp2(myfile,*a,5,5) for myfile in file_list5] for a in seed_list ])"
   ]
  },
  {
   "cell_type": "code",
   "execution_count": 62,
   "id": "8d5270ca",
   "metadata": {},
   "outputs": [
    {
     "data": {
      "text/plain": [
       "[array([0.53505155, 0.56840206, 0.53350515, 0.53613402]),\n",
       " array([0.04266597, 0.03820735, 0.04794701, 0.04352845])]"
      ]
     },
     "execution_count": 62,
     "metadata": {},
     "output_type": "execute_result"
    }
   ],
   "source": [
    "# Synonyms vs Antonyms, sample size 5\n",
    "\n",
    "(lambda x1 : [np.mean(x1,axis = 0),np.std(x1,axis=0)])([[exp2(myfile,*a,10,10) for myfile in file_list5] for a in seed_list ])"
   ]
  },
  {
   "cell_type": "markdown",
   "id": "bba7bbd1",
   "metadata": {},
   "source": [
    "## Precision on human judgment"
   ]
  },
  {
   "cell_type": "code",
   "execution_count": 48,
   "id": "27a66335",
   "metadata": {},
   "outputs": [
    {
     "data": {
      "text/plain": [
       "9.96"
      ]
     },
     "execution_count": 48,
     "metadata": {},
     "output_type": "execute_result"
    }
   ],
   "source": [
    "#First extract the largest value and use it to normalise the rest\n",
    "allvals=np.array([])\n",
    "for a in simdict.keys():\n",
    "    allvals = np.concatenate((allvals,np.array(simdict[a]).T[2]))\n",
    "allvals = np.array([float(a) for a in allvals])\n",
    "highest = max(allvals)\n",
    "highest"
   ]
  },
  {
   "cell_type": "code",
   "execution_count": 49,
   "id": "391ac521",
   "metadata": {},
   "outputs": [],
   "source": [
    "#Extract all values for the synonym pairs and normalise\n",
    "allsyn =np.array([float(a) for a in np.array(simdict['COHYPONYMS']).T[2]])\n",
    "allsyn = allsyn / highest\n",
    "#Same for anotnysm\n",
    "allant =np.array([float(a) for a in np.array(simdict['HYPER/HYPONYMS']).T[2]])\n",
    "allant = allant / highest"
   ]
  },
  {
   "cell_type": "code",
   "execution_count": 52,
   "id": "1a1e7d70",
   "metadata": {},
   "outputs": [
    {
     "name": "stdout",
     "output_type": "stream",
     "text": [
      "[0.4453339674487423, 0.23852562050825882] [0.6036671686746988, 0.21116678615197718]\n"
     ]
    }
   ],
   "source": [
    "# Compute mean and deviations\n",
    "syn1 = [np.mean(allsyn),np.std(allsyn)]\n",
    "ant1 = [np.mean(allant),np.std(allant)]\n",
    "print(syn1,ant1)"
   ]
  },
  {
   "cell_type": "code",
   "execution_count": 54,
   "id": "d6fe33c9",
   "metadata": {},
   "outputs": [
    {
     "name": "stdout",
     "output_type": "stream",
     "text": [
      "0.5335809591245556\n",
      "0.3686868686868687\n"
     ]
    }
   ],
   "source": [
    "#Use the means and deviations to set the divide between synonyms and antonyms\n",
    "divide1 = ant1[0] + ant1[1]/syn1[1] * (syn1[0]-ant1[0])/2\n",
    "\n",
    "# Compare and count the number of synonyms we get right\n",
    "syncomparison1 = [a > divide1 for a in allsyn]\n",
    "\n",
    "# Compare and count the number of antonyms we get right\n",
    "antcomparison1 = [a < divide1 for a in allant]\n",
    "\n",
    "precision1 = (syncomparison1.count(True) + antcomparison1.count(True))/(len(syncomparison1) + len(antcomparison1))\n",
    "\n",
    "print(divide1)\n",
    "print(precision1)"
   ]
  },
  {
   "cell_type": "code",
   "execution_count": 55,
   "id": "547ef2e9",
   "metadata": {},
   "outputs": [],
   "source": [
    "# We define similar functions as previously but we needed some tweeked input\n",
    "\n",
    "allsyndict = {}\n",
    "for a in simdict['COHYPONYMS']:\n",
    "    allsyndict.update({(a[0],a[1]):a[2]/highest})\n",
    "    \n",
    "allantdict = {}\n",
    "for a in simdict['HYPER/HYPONYMS']:\n",
    "    allantdict.update({(a[0],a[1]):a[2]/highest})"
   ]
  },
  {
   "cell_type": "code",
   "execution_count": 56,
   "id": "25ef1b4d",
   "metadata": {},
   "outputs": [],
   "source": [
    "def human1(myseed1,myseed2,samplesize1,samplesize2):\n",
    "    \n",
    "    #Compute the products for all the observable deviation vectors associated to the SYNONYMS pairs\n",
    "    all1 = allsyndict\n",
    "\n",
    "    #The subset from which we copute the means is randomly selected, we seed the random generator for repeatable results. Chosen seed 7\n",
    "    random.seed(myseed1)\n",
    "\n",
    "    mysample = random.sample(list(all1),samplesize1)\n",
    "\n",
    "    #Find complementary sample where we will predict and test\n",
    "    mycomplsample = set(all1.keys()) - set(mysample)\n",
    "\n",
    "    #Compute the means and standard deviations\n",
    "    syn1 = [np.mean(np.array(list(map(all1.get,mysample)))),np.std(np.array(list(map(all1.get,mysample))))]\n",
    "\n",
    "    #Now the same thing for the antonyms\n",
    "\n",
    "    #Compute the products for all the observable deviation vectors associated to the SYNONYMS pairs\n",
    "    all5 = allantdict\n",
    "\n",
    "    #The subset from which we copute the means is randomly selected, we seed the random generator for repeatable results. Chosen seed 13\n",
    "    #random.seed(117) #Interesting values come out for this seed\n",
    "    random.seed(myseed2)\n",
    "\n",
    "    mysample2 = random.sample(list(all5),samplesize2)\n",
    "\n",
    "    #Find complementary sample where we will predict and test\n",
    "    mycomplsample2 = set(all5.keys()) - set(mysample2)\n",
    "\n",
    "    #Compute the means and standard deviations\n",
    "    ant1 = [np.mean(np.array(list(map(all5.get,mysample2)))),np.std(np.array(list(map(all5.get,mysample2))))]\n",
    "\n",
    "    #Use the means and deviations to set the divide between synonyms and antonyms\n",
    "    divide1 = ant1[0] + ant1[1]/syn1[1] * (syn1[0]-ant1[0])/2\n",
    "    \n",
    "    # Next we test on the complementary sample\n",
    "    # Compare and count the number of synonyms we get right\n",
    "    syncomparison1 = [a > divide1 for a in list(map(all1.get,mycomplsample))]\n",
    "\n",
    "    # Compare and count the number of antonyms we get right\n",
    "    antcomparison1 = [a < divide1 for a in list(map(all5.get,mycomplsample2))]\n",
    "\n",
    "    #Compute the average precision\n",
    "    precision1 = (syncomparison1.count(True) + antcomparison1.count(True))/(len(syncomparison1) + len(antcomparison1))\n",
    "\n",
    "    return precision1"
   ]
  },
  {
   "cell_type": "code",
   "execution_count": 57,
   "id": "a847ea9f",
   "metadata": {},
   "outputs": [
    {
     "data": {
      "text/plain": [
       "[0.3611271676300578, 0.01773339844554187]"
      ]
     },
     "execution_count": 57,
     "metadata": {},
     "output_type": "execute_result"
    }
   ],
   "source": [
    "# Apply the function to every file with the given seed and average. The averaging is done using pure functions\n",
    "# (lambda) so to compute all the precisions only once\n",
    "\n",
    "# Synonyms vs Antonyms, sample size roughly 60%\n",
    "\n",
    "(lambda x1 : [np.mean(x1,axis = 0),np.std(x1,axis=0)])([human1(*a,124,520) for a in seed_list ])"
   ]
  },
  {
   "cell_type": "markdown",
   "id": "63e71b6b",
   "metadata": {},
   "source": [
    "## Length of hypernyms vs hyponyms"
   ]
  },
  {
   "cell_type": "code",
   "execution_count": 12,
   "id": "c008a7ee",
   "metadata": {},
   "outputs": [],
   "source": [
    "# Import the natural language processing libraries\n",
    "#import nltk\n",
    "from nltk.corpus import wordnet as wn"
   ]
  },
  {
   "cell_type": "code",
   "execution_count": 13,
   "id": "308ca6dc",
   "metadata": {},
   "outputs": [],
   "source": [
    "# Function to extract all the hyponyms of a given string\n",
    "def get_hyponyms(synset):\n",
    "    hyponyms = set()\n",
    "    for hyponym in synset.hyponyms():\n",
    "        hyponyms |= set(get_hyponyms(hyponym))\n",
    "    return hyponyms | set(synset.hyponyms())"
   ]
  },
  {
   "cell_type": "code",
   "execution_count": 14,
   "id": "48706ce2",
   "metadata": {},
   "outputs": [],
   "source": [
    "# Function to test whether the second word is a hyponym of the first\n",
    "def is_hyponym(hyper,hypo):\n",
    "    \n",
    "    #Extract all possible meanings of the given hyper string\n",
    "    allsyn = wn.synsets(hyper)\n",
    "    \n",
    "    # Initialise allhyponyms var to empty set\n",
    "    allhypo = set()\n",
    "    \n",
    "    #Loop over all the possible meanings of hyper, thus allsyn, and search for all the associated hyponyms\n",
    "    for syn in allsyn:\n",
    "        allhypo |= get_hyponyms(syn)\n",
    "    \n",
    "    #Check if the given hypo has any overlap with the set of hyponyms found\n",
    "    return allhypo.intersection(set(wn.synsets(hypo))) != set()"
   ]
  },
  {
   "cell_type": "markdown",
   "id": "5dabb323",
   "metadata": {},
   "source": [
    "### Playing around with wordnet"
   ]
  },
  {
   "cell_type": "code",
   "execution_count": 14,
   "id": "48364b08",
   "metadata": {},
   "outputs": [
    {
     "data": {
      "text/plain": [
       "[Synset('fruit.n.01'),\n",
       " Synset('yield.n.03'),\n",
       " Synset('fruit.n.03'),\n",
       " Synset('fruit.v.01'),\n",
       " Synset('fruit.v.02')]"
      ]
     },
     "execution_count": 14,
     "metadata": {},
     "output_type": "execute_result"
    }
   ],
   "source": [
    "wn.synsets('fruit')"
   ]
  },
  {
   "cell_type": "code",
   "execution_count": 53,
   "id": "62a80122",
   "metadata": {},
   "outputs": [
    {
     "data": {
      "text/plain": [
       "'an amount of a product'"
      ]
     },
     "execution_count": 53,
     "metadata": {},
     "output_type": "execute_result"
    }
   ],
   "source": [
    "wn.synsets('fruit')[1].definition()"
   ]
  },
  {
   "cell_type": "code",
   "execution_count": 16,
   "id": "f94671cd",
   "metadata": {},
   "outputs": [
    {
     "data": {
      "text/plain": [
       "[Synset('accessory_fruit.n.01'),\n",
       " Synset('achene.n.01'),\n",
       " Synset('acorn.n.01'),\n",
       " Synset('aggregate_fruit.n.01'),\n",
       " Synset('berry.n.02'),\n",
       " Synset('buckthorn_berry.n.01'),\n",
       " Synset('buffalo_nut.n.01'),\n",
       " Synset('chokecherry.n.01'),\n",
       " Synset('cubeb.n.01'),\n",
       " Synset('drupe.n.01'),\n",
       " Synset('ear.n.05'),\n",
       " Synset('edible_fruit.n.01'),\n",
       " Synset('fruitlet.n.01'),\n",
       " Synset('gourd.n.02'),\n",
       " Synset('hagberry.n.01'),\n",
       " Synset('hip.n.05'),\n",
       " Synset('juniper_berry.n.01'),\n",
       " Synset('marasca.n.01'),\n",
       " Synset('may_apple.n.01'),\n",
       " Synset('olive.n.01'),\n",
       " Synset('pod.n.02'),\n",
       " Synset('pome.n.01'),\n",
       " Synset('prairie_gourd.n.01'),\n",
       " Synset('pyxidium.n.01'),\n",
       " Synset('quandong.n.02'),\n",
       " Synset('rowanberry.n.01'),\n",
       " Synset('schizocarp.n.01'),\n",
       " Synset('seed.n.01'),\n",
       " Synset('wild_cherry.n.01')]"
      ]
     },
     "execution_count": 16,
     "metadata": {},
     "output_type": "execute_result"
    }
   ],
   "source": [
    "wn.synsets('fruit')[0].hyponyms()"
   ]
  },
  {
   "cell_type": "code",
   "execution_count": 25,
   "id": "b1599a73",
   "metadata": {},
   "outputs": [
    {
     "data": {
      "text/plain": [
       "[Synset('go.n.01'),\n",
       " Synset('adam.n.03'),\n",
       " Synset('crack.n.09'),\n",
       " Synset('go.n.04'),\n",
       " Synset('travel.v.01'),\n",
       " Synset('go.v.02'),\n",
       " Synset('go.v.03'),\n",
       " Synset('become.v.01'),\n",
       " Synset('go.v.05'),\n",
       " Synset('run.v.05'),\n",
       " Synset('run.v.03'),\n",
       " Synset('proceed.v.04'),\n",
       " Synset('go.v.09'),\n",
       " Synset('go.v.10'),\n",
       " Synset('sound.v.02'),\n",
       " Synset('function.v.01'),\n",
       " Synset('run_low.v.01'),\n",
       " Synset('move.v.13'),\n",
       " Synset('survive.v.01'),\n",
       " Synset('go.v.16'),\n",
       " Synset('die.v.01'),\n",
       " Synset('belong.v.03'),\n",
       " Synset('go.v.19'),\n",
       " Synset('start.v.09'),\n",
       " Synset('move.v.15'),\n",
       " Synset('go.v.22'),\n",
       " Synset('go.v.23'),\n",
       " Synset('blend.v.02'),\n",
       " Synset('go.v.25'),\n",
       " Synset('fit.v.02'),\n",
       " Synset('rifle.v.02'),\n",
       " Synset('go.v.28'),\n",
       " Synset('plump.v.04'),\n",
       " Synset('fail.v.04'),\n",
       " Synset('go.a.01')]"
      ]
     },
     "execution_count": 25,
     "metadata": {},
     "output_type": "execute_result"
    }
   ],
   "source": [
    "wn.synsets('go')"
   ]
  },
  {
   "cell_type": "code",
   "execution_count": 27,
   "id": "447dd1f7",
   "metadata": {},
   "outputs": [
    {
     "data": {
      "text/plain": [
       "'move away from a place into another direction'"
      ]
     },
     "execution_count": 27,
     "metadata": {},
     "output_type": "execute_result"
    }
   ],
   "source": [
    "wn.synsets('go')[6].definition()"
   ]
  },
  {
   "cell_type": "code",
   "execution_count": 28,
   "id": "7cf9e097",
   "metadata": {},
   "outputs": [
    {
     "data": {
      "text/plain": [
       "[Synset('shove_off.v.01')]"
      ]
     },
     "execution_count": 28,
     "metadata": {},
     "output_type": "execute_result"
    }
   ],
   "source": [
    "wn.synsets('go')[6].hyponyms()"
   ]
  },
  {
   "cell_type": "code",
   "execution_count": 29,
   "id": "b2128137",
   "metadata": {},
   "outputs": [
    {
     "data": {
      "text/plain": [
       "[['calculate', 'add', 5.98],\n",
       " ['pardon', 'forgive', 8.96],\n",
       " ['smell', 'sniff', 7.97],\n",
       " ['replace', 'move', 1.49],\n",
       " ['rationalize', 'argue', 4.48],\n",
       " ['descend', 'go', 3.32],\n",
       " ['feel', 'touch', 7.8],\n",
       " ['decay', 'deteriorate', 8.13],\n",
       " ['protect', 'defend', 7.8],\n",
       " ['build', 'grow', 4.81],\n",
       " ['cover', 'protect', 6.81],\n",
       " ['defeat', 'beat', 8.47],\n",
       " ['go', 'advance', 6.64],\n",
       " ['produce', 'reproduce', 5.98],\n",
       " ['shake', 'shiver', 6.31],\n",
       " ['take', 'carry', 5.64],\n",
       " ['accomplish', 'succeed', 8.3],\n",
       " ['drive', 'operate', 4.98],\n",
       " ['ask', 'tell', 0.66],\n",
       " ['gather', 'reap', 5.98],\n",
       " ['kill', 'shoot', 5.31],\n",
       " ['crunch', 'chew', 6.47],\n",
       " ['hurt', 'smash', 4.65],\n",
       " ['cook', 'bake', 7.8],\n",
       " ['break', 'destroy', 8.3],\n",
       " ['put', 'take', 1.49],\n",
       " ['hitch', 'ride', 4.48],\n",
       " ['destroy', 'kill', 7.8],\n",
       " ['obtain', 'get', 9.3],\n",
       " ['deposit', 'put', 6.47],\n",
       " ['jump', 'climb', 1.99],\n",
       " ['look', 'examine', 8.3],\n",
       " ['delay', 'pause', 8.13],\n",
       " ['take', 'use', 3.15],\n",
       " ['beat', 'kill', 3.65],\n",
       " ['think', 'presume', 3.49],\n",
       " ['tend', 'help', 7.47],\n",
       " ['want', 'crave', 7.64],\n",
       " ['skip', 'miss', 7.14],\n",
       " ['take', 'acquire', 6.31],\n",
       " ['lean', 'fall', 2.16],\n",
       " ['get', 'grab', 6.31],\n",
       " ['control', 'hold', 5.15],\n",
       " ['kidnap', 'take', 5.98],\n",
       " ['compose', 'create', 8.13],\n",
       " ['run', 'hurry', 5.98],\n",
       " ['reap', 'gain', 6.97],\n",
       " ['pull', 'tow', 7.3],\n",
       " ['compute', 'add', 6.14],\n",
       " ['inhale', 'breathe', 7.97],\n",
       " ['create', 'imagine', 4.81],\n",
       " ['rationalize', 'think', 7.47],\n",
       " ['increase', 'raise', 8.13],\n",
       " ['fall', 'dive', 4.15],\n",
       " ['hold', 'reserve', 6.31],\n",
       " ['accept', 'allow', 6.94],\n",
       " ['jump', 'dive', 5.15],\n",
       " ['hurt', 'prick', 4.32],\n",
       " ['bring', 'carry', 4.98],\n",
       " ['spin', 'turn', 6.97],\n",
       " ['break', 'replace', 0.5],\n",
       " ['lose', 'forget', 4.07],\n",
       " ['dive', 'swim', 4.32],\n",
       " ['become', 'make', 4.15],\n",
       " ['sway', 'move', 6.81],\n",
       " ['move', 'shift', 7.55],\n",
       " ['reprimand', 'correct', 6.31],\n",
       " ['begin', 'introduce', 4.32],\n",
       " ['hurry', 'rush', 9.79],\n",
       " ['want', 'yearn', 7.64],\n",
       " ['die', 'drown', 4.81],\n",
       " ['combine', 'integrate', 8.47],\n",
       " ['insult', 'offend', 8.13],\n",
       " ['aggravate', 'irritate', 8.3],\n",
       " ['flow', 'pour', 5.31],\n",
       " ['play', 'swing', 3.15],\n",
       " ['remember', 'retain', 8.63],\n",
       " ['tell', 'instruct', 6.97],\n",
       " ['destroy', 'demolish', 9.13],\n",
       " ['run', 'escape', 4.65],\n",
       " ['tell', 'talk', 8.3],\n",
       " ['vacate', 'leave', 8.63],\n",
       " ['delay', 'wait', 5.48],\n",
       " ['make', 'compose', 7.3],\n",
       " ['swap', 'change', 7.97],\n",
       " ['increase', 'add', 7.97],\n",
       " ['talk', 'debate', 5.81],\n",
       " ['describe', 'write', 3.65],\n",
       " ['doze', 'nap', 8.8],\n",
       " ['grasp', 'understand', 8.47],\n",
       " ['deny', 'reject', 8.3],\n",
       " ['bend', 'turn', 3.32],\n",
       " ['evict', 'move', 2.66],\n",
       " ['tell', 'testify', 4.98],\n",
       " ['die', 'crash', 2.82],\n",
       " ['rub', 'grate', 5.15],\n",
       " ['drag', 'pull', 7.3],\n",
       " ['hide', 'bury', 5.31],\n",
       " ['gain', 'get', 8.63],\n",
       " ['flee', 'escape', 9.79],\n",
       " ['frustrate', 'annoy', 8.3],\n",
       " ['portray', 'play', 5.81],\n",
       " ['steal', 'rob', 9.46],\n",
       " ['think', 'compute', 5.81],\n",
       " ['solve', 'compute', 5.15],\n",
       " ['overflow', 'spill', 7.14],\n",
       " ['disperse', 'spread', 9.3],\n",
       " ['drink', 'gulp', 6.47],\n",
       " ['kill', 'annihilate', 8.13],\n",
       " ['want', 'hope', 5.15],\n",
       " ['develop', 'create', 8.3],\n",
       " ['supply', 'give', 6.97],\n",
       " ['get', 'have', 7.64],\n",
       " ['rap', 'speak', 3.49],\n",
       " ['change', 'replace', 6.81],\n",
       " ['choose', 'elect', 8.47],\n",
       " ['decrease', 'lower', 9.13],\n",
       " ['leave', 'escape', 5.64],\n",
       " ['hold', 'hug', 7.64],\n",
       " ['push', 'urge', 6.64],\n",
       " ['drift', 'move', 5.31],\n",
       " ['make', 'develop', 6.14],\n",
       " ['visit', 'travel', 6.31],\n",
       " ['dismiss', 'go', 2.99],\n",
       " ['express', 'tell', 5.98],\n",
       " ['veer', 'move', 3.98],\n",
       " ['doubt', 'disbelieve', 8.8],\n",
       " ['scribble', 'draw', 8.13],\n",
       " ['strive', 'try', 7.47],\n",
       " ['perceive', 'understand', 8.3],\n",
       " ['stretch', 'pull', 6.47],\n",
       " ['adjourn', 'finish', 7.97],\n",
       " ['leap', 'hop', 6.31],\n",
       " ['teach', 'educate', 9.63],\n",
       " ['believe', 'accept', 5.64],\n",
       " ['save', 'reserve', 6.97],\n",
       " ['tell', 'suggest', 3.65],\n",
       " ['understand', 'comprehend', 9.79],\n",
       " ['pay', 'buy', 5.48],\n",
       " ['make', 'reproduce', 5.81],\n",
       " ['watch', 'examine', 7.24],\n",
       " ['nag', 'complain', 8.13],\n",
       " ['tumble', 'fall', 8.3],\n",
       " ['renounce', 'defeat', 3.32],\n",
       " ['snap', 'break', 7.7],\n",
       " ['toss', 'turn', 4.23],\n",
       " ['save', 'rescue', 9.79],\n",
       " ['upset', 'hurt', 6.31],\n",
       " ['talk', 'communicate', 7.47],\n",
       " ['diminish', 'disappear', 6.31],\n",
       " ['stop', 'go', 1.16],\n",
       " ['look', 'glance', 8.8],\n",
       " ['hike', 'walk', 7.3],\n",
       " ['greet', 'salute', 6.64],\n",
       " ['invent', 'create', 7.8],\n",
       " ['bother', 'affect', 5.98],\n",
       " ['haul', 'pull', 8.13],\n",
       " ['disprove', 'prove', 1.83],\n",
       " ['draw', 'attract', 3.32],\n",
       " ['watch', 'see', 8.13],\n",
       " ['slay', 'kill', 9.46],\n",
       " ['originate', 'begin', 7.64],\n",
       " ['talk', 'argue', 3.82],\n",
       " ['concentrate', 'think', 7.97],\n",
       " ['give', 'return', 3.32],\n",
       " ['rip', 'tear', 9.96],\n",
       " ['hit', 'connect', 3.82],\n",
       " ['change', 'affect', 6.97],\n",
       " ['amuse', 'entertain', 8.13],\n",
       " ['spend', 'save', 1.0],\n",
       " ['tap', 'touch', 7.64],\n",
       " ['destroy', 'smash', 6.79],\n",
       " ['steal', 'sneak', 6.14],\n",
       " ['retreat', 'go', 3.49],\n",
       " ['run', 'rush', 6.81],\n",
       " ['return', 'take', 1.49],\n",
       " ['reject', 'refuse', 7.97],\n",
       " ['follow', 'chase', 7.14],\n",
       " ['reject', 'disown', 6.47],\n",
       " ['desire', 'yearn', 7.47],\n",
       " ['say', 'announce', 8.3],\n",
       " ['destroy', 'explode', 4.15],\n",
       " ['knit', 'crochet', 4.98],\n",
       " ['wrap', 'cover', 8.47],\n",
       " ['think', 'reflect', 8.13],\n",
       " ['exchange', 'swap', 9.63],\n",
       " ['assume', 'judge', 5.81],\n",
       " ['compound', 'mix', 5.81],\n",
       " ['fade', 'vanish', 6.97],\n",
       " ['demand', 'command', 6.14],\n",
       " ['decline', 'descend', 5.64],\n",
       " ['assume', 'suppose', 9.13],\n",
       " ['deliver', 'give', 6.97],\n",
       " ['detach', 'separate', 8.13],\n",
       " ['have', 'retain', 6.47],\n",
       " ['go', 'leave', 8.45],\n",
       " ['scribble', 'write', 6.97],\n",
       " ['think', 'feel', 3.32],\n",
       " ['tell', 'announce', 7.97],\n",
       " ['smash', 'break', 9.46],\n",
       " ['stop', 'adjourn', 7.97],\n",
       " ['push', 'fight', 4.98],\n",
       " ['explain', 'describe', 8.13],\n",
       " ['think', 'ponder', 8.8],\n",
       " ['play', 'perform', 5.98],\n",
       " ['receive', 'acquire', 7.14],\n",
       " ['unite', 'marry', 5.98],\n",
       " ['jerk', 'pull', 5.48],\n",
       " ['travel', 'roam', 4.83],\n",
       " ['attack', 'fight', 6.97],\n",
       " ['hitch', 'attach', 3.82],\n",
       " ['capture', 'take', 7.47],\n",
       " ['move', 'leave', 4.81],\n",
       " ['tease', 'bother', 4.98],\n",
       " ['drink', 'pop', 0.5],\n",
       " ['shatter', 'break', 7.3],\n",
       " ['wiggle', 'move', 7.14],\n",
       " ['renounce', 'deny', 5.81],\n",
       " ['vary', 'differ', 8.63],\n",
       " ['move', 'change', 4.15],\n",
       " ['tow', 'move', 4.48],\n",
       " ['heal', 'help', 5.31],\n",
       " ['set', 'swing', 1.66],\n",
       " ['jog', 'run', 7.47],\n",
       " ['diminish', 'fade', 7.8],\n",
       " ['touch', 'kiss', 3.49],\n",
       " ['tote', 'carry', 7.3],\n",
       " ['fly', 'soar', 8.3],\n",
       " ['stop', 'stay', 6.47],\n",
       " ['obey', 'follow', 7.97],\n",
       " ['grab', 'take', 5.98],\n",
       " ['hop', 'jump', 6.81],\n",
       " ['slide', 'move', 4.48],\n",
       " ['toss', 'fling', 8.13],\n",
       " ['stare', 'look', 7.47],\n",
       " ['renounce', 'reject', 7.47],\n",
       " ['look', 'see', 7.97],\n",
       " ['beware', 'watch', 4.81],\n",
       " ['talk', 'rap', 4.32],\n",
       " ['cover', 'spread', 4.98],\n",
       " ['take', 'snatch', 7.8],\n",
       " ['cover', 'hide', 6.47],\n",
       " ['smear', 'rub', 5.98],\n",
       " ['keep', 'save', 8.47],\n",
       " ['triumph', 'win', 9.79],\n",
       " ['sit', 'lounge', 6.47],\n",
       " ['defend', 'stand', 1.66],\n",
       " ['overcome', 'conquer', 7.8],\n",
       " ['deliver', 'bring', 6.14],\n",
       " ['make', 'design', 4.81],\n",
       " ['like', 'want', 3.82],\n",
       " ['acquire', 'gain', 8.8],\n",
       " ['accept', 'understand', 7.3],\n",
       " ['veer', 'turn', 5.43],\n",
       " ['defrost', 'thaw', 8.47],\n",
       " ['scream', 'roar', 7.14],\n",
       " ['reject', 'ignore', 7.3],\n",
       " ['wait', 'hesitate', 6.14],\n",
       " ['give', 'sell', 2.32],\n",
       " ['multiply', 'increase', 7.3],\n",
       " ['shuffle', 'travel', 1.66],\n",
       " ['come', 'go', 1.83],\n",
       " ['bake', 'make', 6.19],\n",
       " ['attack', 'tackle', 5.15],\n",
       " ['collect', 'acquire', 6.97],\n",
       " ['move', 'turn', 4.81],\n",
       " ['yell', 'roar', 7.47],\n",
       " ['choose', 'pick', 9.63],\n",
       " ['evaluate', 'examine', 7.8],\n",
       " ['become', 'grow', 5.15],\n",
       " ['glare', 'reflect', 3.49],\n",
       " ['decrease', 'decline', 6.64],\n",
       " ['irritate', 'frustrate', 7.8],\n",
       " ['want', 'demand', 4.48],\n",
       " ['retain', 'keep', 9.46],\n",
       " ['join', 'unite', 9.3],\n",
       " ['retain', 'hold', 8.13],\n",
       " ['receive', 'take', 5.98],\n",
       " ['know', 'think', 2.57],\n",
       " ['recommend', 'suggest', 8.47],\n",
       " ['beat', 'whip', 5.81],\n",
       " ['pelt', 'throw', 5.98],\n",
       " ['hit', 'punch', 7.64],\n",
       " ['appear', 'reappear', 4.65],\n",
       " ['remark', 'say', 7.97],\n",
       " ['notify', 'inform', 8.75],\n",
       " ['prepare', 'fix', 3.15],\n",
       " ['erode', 'decay', 7.8],\n",
       " ['reduce', 'diminish', 6.81],\n",
       " ['fasten', 'attach', 8.47],\n",
       " ['hurt', 'bite', 4.48],\n",
       " ['cry', 'sob', 8.96],\n",
       " ['grant', 'give', 6.97],\n",
       " ['prohibit', 'ban', 9.3],\n",
       " ['command', 'tell', 7.8],\n",
       " ['teach', 'inform', 6.81],\n",
       " ['suggest', 'say', 5.81],\n",
       " ['broil', 'cook', 6.97],\n",
       " ['melt', 'defrost', 8.8],\n",
       " ['reproduce', 'breed', 9.46],\n",
       " ['invent', 'make', 6.64],\n",
       " ['push', 'shove', 9.3],\n",
       " ['carry', 'hold', 7.09],\n",
       " ['collect', 'keep', 5.15],\n",
       " ['remove', 'strip', 7.47],\n",
       " ['bump', 'hit', 7.3],\n",
       " ['examine', 'inspect', 8.96],\n",
       " ['increase', 'accelerate', 5.89],\n",
       " ['grasp', 'hold', 9.3],\n",
       " ['take', 'seize', 8.13],\n",
       " ['acquire', 'buy', 7.3],\n",
       " ['create', 'reproduce', 5.15],\n",
       " ['pour', 'drip', 3.15],\n",
       " ['acknowledge', 'accept', 6.81],\n",
       " ['pop', 'burst', 8.8],\n",
       " ['lean', 'lay', 2.32],\n",
       " ['determine', 'decide', 7.8],\n",
       " ['disguise', 'hide', 7.97],\n",
       " ['observe', 'see', 9.3],\n",
       " ['leave', 'flee', 7.8],\n",
       " ['kill', 'overpower', 3.49],\n",
       " ['defend', 'justify', 6.81],\n",
       " ['disperse', 'separate', 5.31],\n",
       " ['throw', 'fling', 8.3],\n",
       " ['justify', 'argue', 5.48],\n",
       " ['pluck', 'pull', 6.47],\n",
       " ['evaluate', 'judge', 8.47],\n",
       " ['diminish', 'shrink', 6.97],\n",
       " ['change', 'become', 5.48],\n",
       " ['hurt', 'burn', 2.99],\n",
       " ['accomplish', 'finish', 6.97],\n",
       " ['tell', 'predict', 5.48],\n",
       " ['spring', 'bounce', 8.8],\n",
       " ['cook', 'fry', 6.64],\n",
       " ['win', 'accomplish', 5.81],\n",
       " ['vanish', 'diminish', 6.81],\n",
       " ['dance', 'tap', 2.66],\n",
       " ['fit', 'trim', 3.65],\n",
       " ['send', 'give', 5.48],\n",
       " ['give', 'lend', 6.49],\n",
       " ['disappoint', 'betray', 3.49],\n",
       " ['forbid', 'stop', 7.8],\n",
       " ['blame', 'accuse', 8.47],\n",
       " ['recommend', 'tell', 4.48],\n",
       " ['dissolve', 'melt', 6.31],\n",
       " ['grab', 'seize', 7.14],\n",
       " ['call', 'talk', 4.98],\n",
       " ['justify', 'explain', 8.13],\n",
       " ['put', 'give', 2.99],\n",
       " ['avoid', 'shun', 7.47],\n",
       " ['hate', 'despise', 9.46],\n",
       " ['educate', 'inform', 8.47],\n",
       " ['reduce', 'subtract', 8.8],\n",
       " ['follow', 'trail', 7.47],\n",
       " ['breathe', 'exhale', 7.8],\n",
       " ['hurt', 'insult', 5.81],\n",
       " ['strive', 'seek', 6.97],\n",
       " ['change', 'turn', 4.15],\n",
       " ['rearrange', 'move', 8.3],\n",
       " ['hit', 'attack', 6.81],\n",
       " ['succeed', 'achieve', 7.8],\n",
       " ['avoid', 'miss', 9.13],\n",
       " ['appear', 'show', 4.98],\n",
       " ['change', 'shift', 6.81],\n",
       " ['conquer', 'control', 6.47],\n",
       " ['cook', 'poach', 3.92],\n",
       " ['get', 'give', 1.49],\n",
       " ['predict', 'guess', 7.8],\n",
       " ['move', 'walk', 6.81],\n",
       " ['combine', 'add', 7.64],\n",
       " ['like', 'enjoy', 8.63],\n",
       " ['travel', 'fly', 5.48],\n",
       " ['move', 'haul', 7.14],\n",
       " ['wag', 'move', 3.62],\n",
       " ['send', 'return', 1.99],\n",
       " ['depend', 'rely', 9.46],\n",
       " ['express', 'say', 6.31],\n",
       " ['fade', 'disappear', 8.3],\n",
       " ['urge', 'suggest', 5.89],\n",
       " ['rap', 'knock', 6.64],\n",
       " ['crunch', 'break', 4.81],\n",
       " ['warn', 'tell', 6.14],\n",
       " ['recruit', 'get', 6.47],\n",
       " ['suspect', 'think', 6.64],\n",
       " ['fix', 'alter', 4.32],\n",
       " ['obtain', 'acquire', 9.79],\n",
       " ['glide', 'fly', 7.14],\n",
       " ['make', 'prepare', 7.3],\n",
       " ['touch', 'pat', 7.3],\n",
       " ['hit', 'knock', 5.98],\n",
       " ['fight', 'hit', 6.31],\n",
       " ['decide', 'choose', 8.8],\n",
       " ['throw', 'chuck', 8.47],\n",
       " ['strain', 'struggle', 6.97],\n",
       " ['break', 'burst', 5.31],\n",
       " ['decorate', 'change', 4.48],\n",
       " ['originate', 'create', 5.64],\n",
       " ['hurt', 'sting', 4.81],\n",
       " ['crash', 'break', 5.64],\n",
       " ['make', 'construct', 7.97],\n",
       " ['pretend', 'play', 5.31],\n",
       " ['explode', 'erupt', 8.3],\n",
       " ['agree', 'accept', 6.81],\n",
       " ['admit', 'confess', 9.13],\n",
       " ['move', 'hustle', 4.65],\n",
       " ['snap', 'bite', 6.47],\n",
       " ['dominate', 'control', 7.8],\n",
       " ['speak', 'communicate', 8.47],\n",
       " ['persuade', 'change', 4.65],\n",
       " ['hurt', 'sprain', 5.81],\n",
       " ['bother', 'disturb', 8.13],\n",
       " ['connect', 'join', 8.63],\n",
       " ['hold', 'squeeze', 3.15],\n",
       " ['sing', 'perform', 4.98],\n",
       " ['kill', 'smother', 4.81],\n",
       " ['say', 'reply', 6.47],\n",
       " ['giggle', 'laugh', 9.3],\n",
       " ['exchange', 'barter', 7.64],\n",
       " ['let', 'give', 4.81],\n",
       " ['pause', 'break', 6.64],\n",
       " ['develop', 'build', 7.47],\n",
       " ['request', 'ask', 8.3],\n",
       " ['obey', 'listen', 5.81],\n",
       " ['bounce', 'jump', 6.81],\n",
       " ['throw', 'toss', 8.6],\n",
       " ['wreck', 'destroy', 9.13],\n",
       " ['buzz', 'fly', 3.65],\n",
       " ['break', 'split', 7.47],\n",
       " ['update', 'inform', 6.14],\n",
       " ['move', 'flow', 6.64],\n",
       " ['return', 'reappear', 6.64],\n",
       " ['wait', 'hold', 5.15],\n",
       " ['breathe', 'live', 2.16],\n",
       " ['hate', 'dislike', 6.47],\n",
       " ['munch', 'chew', 9.3],\n",
       " ['talk', 'whisper', 5.31],\n",
       " ['lay', 'stand', 0.66],\n",
       " ['return', 'go', 2.49],\n",
       " ['disappoint', 'fail', 5.58],\n",
       " ['bend', 'lean', 5.31],\n",
       " ['develop', 'learn', 6.64],\n",
       " ['win', 'achieve', 7.8],\n",
       " ['push', 'press', 6.47],\n",
       " ['look', 'evaluate', 5.15],\n",
       " ['know', 'realize', 6.31],\n",
       " ['inform', 'tell', 8.63],\n",
       " ['cry', 'tear', 3.32],\n",
       " ['control', 'operate', 7.8],\n",
       " ['take', 'steal', 6.31],\n",
       " ['seem', 'be', 4.81],\n",
       " ['increase', 'magnify', 6.81],\n",
       " ['tell', 'respond', 3.98],\n",
       " ['explain', 'clarify', 8.8],\n",
       " ['cuddle', 'hug', 8.47],\n",
       " ['move', 'transplant', 6.31],\n",
       " ['hang', 'kill', 4.32],\n",
       " ['hold', 'capture', 7.97],\n",
       " ['preview', 'watch', 6.14],\n",
       " ['exchange', 'replace', 6.14],\n",
       " ['smash', 'hit', 6.47],\n",
       " ['hold', 'embrace', 8.3],\n",
       " ['grind', 'dance', 4.81],\n",
       " ['break', 'detach', 6.14],\n",
       " ['depart', 'leave', 9.66],\n",
       " ['sink', 'fall', 4.48],\n",
       " ['give', 'award', 6.31],\n",
       " ['integrate', 'mix', 6.81],\n",
       " ['touch', 'grab', 4.65],\n",
       " ['betray', 'deceive', 7.3],\n",
       " ['persuade', 'convince', 8.8],\n",
       " ['scare', 'shake', 1.16],\n",
       " ['flip', 'turn', 6.31],\n",
       " ['fall', 'catch', 1.0],\n",
       " ['conquer', 'defeat', 6.81],\n",
       " ['snooze', 'nap', 8.8],\n",
       " ['draw', 'write', 4.98],\n",
       " ['refuse', 'deny', 7.8],\n",
       " ['wait', 'call', 0.66],\n",
       " ['ascend', 'rise', 8.96],\n",
       " ['perceive', 'hear', 4.15],\n",
       " ['say', 'repeat', 3.65],\n",
       " ['flutter', 'move', 5.98],\n",
       " ['recommend', 'advise', 8.63],\n",
       " ['give', 'pay', 4.81],\n",
       " ['amaze', 'surprise', 8.13],\n",
       " ['glide', 'soar', 7.47],\n",
       " ['dislike', 'despise', 8.63],\n",
       " ['smother', 'cover', 7.14],\n",
       " ['go', 'run', 2.82],\n",
       " ['run', 'move', 6.31],\n",
       " ['humiliate', 'degrade', 8.63],\n",
       " ['move', 'unload', 4.15],\n",
       " ['take', 'abduct', 7.47],\n",
       " ['multiply', 'reproduce', 8.13],\n",
       " ['excuse', 'justify', 5.15],\n",
       " ['hit', 'hurt', 4.23],\n",
       " ['worry', 'think', 2.57],\n",
       " ['lay', 'sit', 2.99],\n",
       " ['get', 'receive', 7.97],\n",
       " ['think', 'suppose', 6.64],\n",
       " ['advise', 'talk', 4.81],\n",
       " ['obtain', 'take', 7.64],\n",
       " ['walk', 'tread', 6.97],\n",
       " ['learn', 'educate', 3.49],\n",
       " ['drink', 'sip', 7.64],\n",
       " ['tie', 'fasten', 7.8],\n",
       " ['announce', 'inform', 7.8],\n",
       " ['take', 'unload', 2.16],\n",
       " ['stink', 'smell', 8.63],\n",
       " ['carry', 'deliver', 3.82],\n",
       " ['stop', 'interrupt', 5.98],\n",
       " ['move', 'advance', 6.81],\n",
       " ['limp', 'walk', 3.82],\n",
       " ['disgust', 'offend', 8.3],\n",
       " ['break', 'escape', 2.82],\n",
       " ['keep', 'stay', 3.15],\n",
       " ['keep', 'take', 2.66],\n",
       " ['admire', 'respect', 7.14],\n",
       " ['look', 'glare', 5.15],\n",
       " ['count', 'add', 7.09],\n",
       " ['gain', 'obtain', 7.64],\n",
       " ['produce', 'make', 8.9],\n",
       " ['watch', 'observe', 9.46],\n",
       " ['perceive', 'see', 7.97],\n",
       " ['see', 'preview', 7.97],\n",
       " ['carry', 'haul', 8.3],\n",
       " ['crave', 'desire', 8.63],\n",
       " ['talk', 'sing', 2.99],\n",
       " ['usurp', 'take', 4.65],\n",
       " ['fight', 'defend', 6.47],\n",
       " ['repress', 'hold', 5.81],\n",
       " ['connect', 'attach', 7.64],\n",
       " ['hurt', 'stab', 5.28],\n",
       " ['allow', 'admit', 7.64],\n",
       " ['take', 'get', 4.81],\n",
       " ['select', 'pick', 9.63],\n",
       " ['judge', 'decide', 6.81],\n",
       " ['use', 'abuse', 2.99],\n",
       " ['ban', 'forbid', 9.13],\n",
       " ['give', 'keep', 0.83],\n",
       " ['imitate', 'mimic', 9.63],\n",
       " ['keep', 'reserve', 6.81],\n",
       " ['carry', 'lift', 7.3],\n",
       " ['create', 'design', 8.13],\n",
       " ['build', 'create', 6.64],\n",
       " ['do', 'accomplish', 6.97],\n",
       " ['shake', 'wag', 5.81],\n",
       " ['hold', 'cuddle', 6.47],\n",
       " ['decrease', 'reduce', 9.63],\n",
       " ['instruct', 'direct', 6.47],\n",
       " ['advise', 'tell', 8.13],\n",
       " ['shine', 'glare', 3.65],\n",
       " ['evaluate', 'think', 7.97],\n",
       " ['move', 'crawl', 3.65],\n",
       " ['speak', 'whisper', 5.15],\n",
       " ['say', 'ask', 4.15],\n",
       " ['touch', 'rub', 5.64],\n",
       " ['capture', 'seize', 8.3],\n",
       " ['hang', 'hold', 3.82],\n",
       " ['pause', 'wait', 8.8],\n",
       " ['shake', 'wiggle', 6.31],\n",
       " ['take', 'borrow', 5.81],\n",
       " ['reach', 'get', 6.81],\n",
       " ['hit', 'kick', 4.65],\n",
       " ['neglect', 'forget', 4.32],\n",
       " ['believe', 'understand', 3.98],\n",
       " ['make', 'build', 9.3],\n",
       " ['cook', 'grill', 6.64],\n",
       " ['tell', 'explain', 6.64],\n",
       " ['plead', 'beg', 9.46],\n",
       " ['erupt', 'burst', 6.97],\n",
       " ['seize', 'stop', 5.81],\n",
       " ['request', 'want', 6.47],\n",
       " ['imagine', 'think', 7.64],\n",
       " ['control', 'run', 1.36],\n",
       " ['pull', 'tug', 9.3],\n",
       " ['decline', 'fall', 6.31],\n",
       " ['show', 'tell', 2.82],\n",
       " ['fall', 'jump', 1.49],\n",
       " ['like', 'prefer', 8.8],\n",
       " ['show', 'direct', 6.64],\n",
       " ['flee', 'run', 8.3],\n",
       " ['stare', 'glare', 5.98],\n",
       " ['perceive', 'get', 3.98],\n",
       " ['rattle', 'shake', 6.97],\n",
       " ['promise', 'swear', 8.3],\n",
       " ['look', 'squint', 4.81],\n",
       " ['claim', 'say', 5.81],\n",
       " ['catch', 'hold', 4.32],\n",
       " ['remove', 'unload', 5.81],\n",
       " ['request', 'demand', 4.48],\n",
       " ['glide', 'slide', 5.13],\n",
       " ['search', 'hunt', 7.47],\n",
       " ['think', 'calculate', 6.64],\n",
       " ['swing', 'hang', 3.82],\n",
       " ['spend', 'pay', 6.64],\n",
       " ['help', 'use', 1.16],\n",
       " ['travel', 'hike', 4.98],\n",
       " ['waste', 'deteriorate', 6.64],\n",
       " ['happen', 'appear', 1.83],\n",
       " ['deliver', 'save', 1.0],\n",
       " ['recycle', 'use', 2.99],\n",
       " ['irritate', 'scratch', 5.15],\n",
       " ['presume', 'suppose', 8.3],\n",
       " ['calculate', 'subtract', 3.65],\n",
       " ['holler', 'roar', 7.8],\n",
       " ['examine', 'observe', 7.97],\n",
       " ['fail', 'miss', 7.3],\n",
       " ['charge', 'accuse', 6.31],\n",
       " ['annoy', 'tease', 5.98],\n",
       " ['decrease', 'shrink', 7.14],\n",
       " ['disperse', 'sow', 5.31],\n",
       " ['chew', 'grind', 6.31],\n",
       " ['hurt', 'kill', 4.81],\n",
       " ['scramble', 'change', 1.81],\n",
       " ['purchase', 'acquire', 8.0],\n",
       " ['touch', 'push', 4.15],\n",
       " ['ask', 'recall', 2.99],\n",
       " ['live', 'move', 0.66],\n",
       " ['move', 'scramble', 5.15],\n",
       " ['throw', 'move', 3.15],\n",
       " ['advise', 'warn', 6.14],\n",
       " ['travel', 'come', 3.47],\n",
       " ['cook', 'stew', 4.65],\n",
       " ['ride', 'run', 4.15],\n",
       " ['have', 'acquire', 4.15],\n",
       " ['grow', 'increase', 8.63],\n",
       " ['go', 'drive', 5.31],\n",
       " ['bother', 'frustrate', 7.3],\n",
       " ['weave', 'move', 3.15],\n",
       " ['try', 'think', 3.49],\n",
       " ['inform', 'instruct', 7.55],\n",
       " ['connect', 'touch', 5.98],\n",
       " ['fix', 'set', 4.48],\n",
       " ['drip', 'fall', 1.66],\n",
       " ['result', 'happen', 5.43],\n",
       " ['express', 'explain', 5.81],\n",
       " ['protect', 'keep', 3.98],\n",
       " ['be', 'attend', 3.65],\n",
       " ['acknowledge', 'respond', 6.97],\n",
       " ['lift', 'hold', 3.82],\n",
       " ['beat', 'spank', 7.3],\n",
       " ['foil', 'cover', 1.66],\n",
       " ['go', 'sneak', 1.83],\n",
       " ['charge', 'go', 3.32],\n",
       " ['organize', 'set', 5.64],\n",
       " ['give', 'treat', 6.47],\n",
       " ['warn', 'inform', 5.31],\n",
       " ['acquire', 'find', 6.81],\n",
       " ['disperse', 'move', 4.98],\n",
       " ['grab', 'obtain', 4.83],\n",
       " ['advance', 'charge', 5.98],\n",
       " ['pray', 'communicate', 1.99],\n",
       " ['collect', 'get', 8.13],\n",
       " ['spray', 'sprinkle', 4.15],\n",
       " ['bounce', 'move', 3.82],\n",
       " ['please', 'like', 2.82],\n",
       " ['go', 'vanish', 5.48],\n",
       " ['correct', 'change', 5.64],\n",
       " ['hitch', 'tie', 2.99],\n",
       " ['practice', 'learn', 4.65],\n",
       " ['ride', 'go', 4.65],\n",
       " ['retreat', 'move', 4.65],\n",
       " ['pretend', 'assume', 2.82],\n",
       " ['delay', 'hesitate', 8.13],\n",
       " ['take', 'lift', 4.32],\n",
       " ['get', 'reap', 7.64],\n",
       " ['toss', 'tumble', 2.82],\n",
       " ['breathe', 'choke', 1.33],\n",
       " ['visit', 'haunt', 1.66],\n",
       " ['pick', 'gather', 6.64],\n",
       " ['weave', 'make', 4.98],\n",
       " ['lift', 'evaluate', 2.66],\n",
       " ['move', 'slither', 4.48],\n",
       " ['observe', 'analyze', 5.98],\n",
       " ['beat', 'overpower', 6.64],\n",
       " ['hurt', 'humiliate', 5.15],\n",
       " ['leave', 'skip', 3.32],\n",
       " ['yell', 'talk', 2.32],\n",
       " ['rinse', 'flush', 5.89],\n",
       " ['see', 'travel', 4.65],\n",
       " ['hamper', 'hold', 3.15],\n",
       " ['sing', 'chirp', 5.31],\n",
       " ['believe', 'feel', 2.99],\n",
       " ['calculate', 'solve', 6.31],\n",
       " ['count', 'evaluate', 4.65],\n",
       " ['fail', 'decline', 3.65],\n",
       " ['move', 'remove', 3.49],\n",
       " ['speak', 'scream', 2.82],\n",
       " ['criticize', 'remark', 3.15],\n",
       " ['visit', 'talk', 2.32],\n",
       " ['go', 'ascend', 4.48],\n",
       " ['crash', 'fall', 3.49],\n",
       " ['tell', 'remark', 6.31],\n",
       " ['understand', 'solve', 5.15],\n",
       " ['respond', 'say', 7.97],\n",
       " ['touch', 'pinch', 3.17],\n",
       " ['guess', 'suspect', 7.64],\n",
       " ['join', 'marry', 4.48],\n",
       " ['drink', 'suck', 5.48],\n",
       " ['tear', 'split', 8.47],\n",
       " ['create', 'draw', 4.48],\n",
       " ['follow', 'go', 3.65],\n",
       " ['drown', 'kill', 4.81],\n",
       " ['forget', 'deny', 2.82],\n",
       " ['catch', 'find', 3.98],\n",
       " ['play', 'set', 1.0],\n",
       " ['irritate', 'rub', 3.49],\n",
       " ['perish', 'starve', 5.98],\n",
       " ['attach', 'fix', 4.65],\n",
       " ['tread', 'move', 3.49],\n",
       " ['use', 'waste', 2.66],\n",
       " ['pardon', 'grant', 3.65],\n",
       " ['transplant', 'change', 4.23],\n",
       " ['hit', 'crash', 6.31],\n",
       " ['choose', 'determine', 7.47],\n",
       " ['receive', 'accept', 6.31],\n",
       " ['shoot', 'hurt', 5.31],\n",
       " ['squeeze', 'cuddle', 5.31],\n",
       " ['sew', 'attach', 7.14],\n",
       " ['hold', 'touch', 6.31],\n",
       " ['attract', 'catch', 2.82],\n",
       " ['wag', 'wiggle', 6.81],\n",
       " ['meet', 'visit', 7.3],\n",
       " ['bend', 'angle', 6.64],\n",
       " ['disappear', 'remove', 5.64],\n",
       " ['walk', 'shuffle', 5.31],\n",
       " ['reel', 'turn', 3.82],\n",
       " ['listen', 'concentrate', 4.98],\n",
       " ['desire', 'hope', 6.81],\n",
       " ['deliver', 'get', 1.99],\n",
       " ['change', 'renounce', 3.82],\n",
       " ['control', 'steer', 7.14],\n",
       " ['give', 'allow', 4.65],\n",
       " ['select', 'elect', 5.15],\n",
       " ['advise', 'inform', 6.47],\n",
       " ['urge', 'hurry', 3.98],\n",
       " ['be', 'do', 0.83],\n",
       " ['loosen', 'relax', 7.14],\n",
       " ['seize', 'catch', 4.65],\n",
       " ['overcome', 'beat', 7.64],\n",
       " ['frustrate', 'disappoint', 3.82],\n",
       " ['grow', 'rise', 5.48],\n",
       " ['fail', 'fall', 2.99],\n",
       " ['create', 'do', 5.31],\n",
       " ['grate', 'annoy', 6.47],\n",
       " ['address', 'talk', 5.98],\n",
       " ['be', 'live', 6.31],\n",
       " ['attempt', 'do', 5.81],\n",
       " ['direct', 'aim', 7.47],\n",
       " ['wipe', 'rub', 7.64],\n",
       " ['beat', 'strike', 6.14],\n",
       " ['get', 'buy', 7.14],\n",
       " ['climb', 'rise', 8.3],\n",
       " ['search', 'examine', 7.97],\n",
       " ['engage', 'fight', 4.48],\n",
       " ['earn', 'pay', 0.91],\n",
       " ['bend', 'move', 3.02],\n",
       " ['start', 'create', 3.32],\n",
       " ['forgive', 'excuse', 6.97],\n",
       " ['defeat', 'overwhelm', 5.31],\n",
       " ['attend', 'help', 4.81],\n",
       " ['tear', 'remove', 3.65],\n",
       " ['determine', 'try', 3.15],\n",
       " ['urge', 'tell', 3.82],\n",
       " ['finish', 'do', 4.07],\n",
       " ['yearn', 'ache', 6.97],\n",
       " ['understand', 'evaluate', 3.49],\n",
       " ['touch', 'hug', 3.65],\n",
       " ['deny', 'repress', 6.14],\n",
       " ['accept', 'give', 0.5],\n",
       " ['yell', 'speak', 4.48],\n",
       " ['hurt', 'degrade', 5.64],\n",
       " ['request', 'beg', 5.64],\n",
       " ['have', 'possess', 8.63],\n",
       " ['imitate', 'impersonate', 8.47],\n",
       " ['pass', 'serve', 3.49],\n",
       " ['exploit', 'use', 7.14],\n",
       " ['apply', 'exploit', 0.66],\n",
       " ['engage', 'involve', 8.3],\n",
       " ['involve', 'include', 8.13],\n",
       " ['overcome', 'exceed', 4.65],\n",
       " ['overcome', 'surpass', 7.47],\n",
       " ['gamble', 'bet', 9.13],\n",
       " ['yield', 'submit', 6.64],\n",
       " ['yield', 'capitulate', 5.81],\n",
       " ['face', 'approach', 5.64],\n",
       " ['release', 'discharge', 6.64],\n",
       " ['care', 'mind', 4.81],\n",
       " ['mind', 'worry', 4.15],\n",
       " ['settle', 'concur', 3.15],\n",
       " ['reduce', 'restrict', 6.97],\n",
       " ['limit', 'reduce', 6.14],\n",
       " ['work', 'collaborate', 4.98],\n",
       " ['refrain', 'abstain', 8.8],\n",
       " ['abstain', 'forbear', 5.48],\n",
       " ['refrain', 'forbear', 5.98],\n",
       " ['allow', 'approve', 5.81],\n",
       " ['permit', 'approve', 6.97],\n",
       " ['rebel', 'protest', 7.64]]"
      ]
     },
     "execution_count": 29,
     "metadata": {},
     "output_type": "execute_result"
    }
   ],
   "source": [
    "simdict['HYPER/HYPONYMS']"
   ]
  },
  {
   "cell_type": "code",
   "execution_count": 37,
   "id": "c6fc6c02",
   "metadata": {},
   "outputs": [
    {
     "data": {
      "text/plain": [
       "[Synset('calculate.v.01'),\n",
       " Synset('calculate.v.02'),\n",
       " Synset('account.v.02'),\n",
       " Synset('forecast.v.01'),\n",
       " Synset('calculate.v.05'),\n",
       " Synset('count.v.08')]"
      ]
     },
     "execution_count": 37,
     "metadata": {},
     "output_type": "execute_result"
    }
   ],
   "source": [
    "wn.synsets('calculate')"
   ]
  },
  {
   "cell_type": "code",
   "execution_count": 38,
   "id": "dc8133d1",
   "metadata": {},
   "outputs": [
    {
     "data": {
      "text/plain": [
       "{Synset('add.v.04'),\n",
       " Synset('assess.v.04'),\n",
       " Synset('average.v.03'),\n",
       " Synset('budget.v.01'),\n",
       " Synset('capitalize.v.04'),\n",
       " Synset('carry_back.v.01'),\n",
       " Synset('cube.v.01'),\n",
       " Synset('differentiate.v.03'),\n",
       " Synset('divide.v.02'),\n",
       " Synset('estimate.v.01'),\n",
       " Synset('extract.v.08'),\n",
       " Synset('factor.v.01'),\n",
       " Synset('factorize.v.01'),\n",
       " Synset('foot.v.03'),\n",
       " Synset('give.v.27'),\n",
       " Synset('guesstimate.v.01'),\n",
       " Synset('halve.v.01'),\n",
       " Synset('integrate.v.04'),\n",
       " Synset('interpolate.v.01'),\n",
       " Synset('lowball.v.01'),\n",
       " Synset('make.v.44'),\n",
       " Synset('miscalculate.v.02'),\n",
       " Synset('misgauge.v.01'),\n",
       " Synset('multiply.v.01'),\n",
       " Synset('overcapitalize.v.01'),\n",
       " Synset('place.v.11'),\n",
       " Synset('process.v.03'),\n",
       " Synset('prorate.v.02'),\n",
       " Synset('quantize.v.01'),\n",
       " Synset('quantize.v.02'),\n",
       " Synset('quarter.v.04'),\n",
       " Synset('raise.v.23'),\n",
       " Synset('recalculate.v.01'),\n",
       " Synset('reckon.v.06'),\n",
       " Synset('resolve.v.06'),\n",
       " Synset('square.v.02'),\n",
       " Synset('subtract.v.01'),\n",
       " Synset('survey.v.06'),\n",
       " Synset('triangulate.v.03'),\n",
       " Synset('truncate.v.02')}"
      ]
     },
     "execution_count": 38,
     "metadata": {},
     "output_type": "execute_result"
    }
   ],
   "source": [
    "get_hyponyms(wn.synset('calculate.v.01'))"
   ]
  },
  {
   "cell_type": "code",
   "execution_count": 39,
   "id": "6c68fbbe",
   "metadata": {},
   "outputs": [
    {
     "data": {
      "text/plain": [
       "[Synset('attention_deficit_disorder.n.01'),\n",
       " Synset('add.v.01'),\n",
       " Synset('add.v.02'),\n",
       " Synset('lend.v.01'),\n",
       " Synset('add.v.04'),\n",
       " Synset('total.v.02'),\n",
       " Synset('add.v.06')]"
      ]
     },
     "execution_count": 39,
     "metadata": {},
     "output_type": "execute_result"
    }
   ],
   "source": [
    "wn.synsets('add')"
   ]
  },
  {
   "cell_type": "code",
   "execution_count": 32,
   "id": "06b702d2",
   "metadata": {},
   "outputs": [
    {
     "data": {
      "text/plain": [
       "True"
      ]
     },
     "execution_count": 32,
     "metadata": {},
     "output_type": "execute_result"
    }
   ],
   "source": [
    "is_hyponym('calculate','add')"
   ]
  },
  {
   "cell_type": "code",
   "execution_count": 16,
   "id": "092cc074",
   "metadata": {},
   "outputs": [
    {
     "data": {
      "text/plain": [
       "False"
      ]
     },
     "execution_count": 16,
     "metadata": {},
     "output_type": "execute_result"
    }
   ],
   "source": [
    "is_hyponym('add','calculate')"
   ]
  },
  {
   "cell_type": "markdown",
   "id": "489aec64",
   "metadata": {},
   "source": [
    "## Testing the lengths"
   ]
  },
  {
   "cell_type": "code",
   "execution_count": 69,
   "id": "14f63849",
   "metadata": {},
   "outputs": [],
   "source": [
    "pairlist = [list(a) for a in np.array(simdict['HYPER/HYPONYMS']).T[:2].T]"
   ]
  },
  {
   "cell_type": "code",
   "execution_count": 156,
   "id": "6958377d",
   "metadata": {},
   "outputs": [
    {
     "name": "stdout",
     "output_type": "stream",
     "text": [
      "758\n"
     ]
    },
    {
     "data": {
      "text/plain": [
       "0.3733509234828496"
      ]
     },
     "execution_count": 156,
     "metadata": {},
     "output_type": "execute_result"
    }
   ],
   "source": [
    "# Compare the lengths, how often is the hyper smaller than the hypo? Deviation vectors\n",
    "compare = []\n",
    "for a in pairlist[:243]+pairlist[250:515]+pairlist[550:800]:\n",
    "    local = [mf.M_vec_mult_dev(objsubset5[a[0]].val,objsubset5[a[0]].val,objsubset5.mean,objsubset5.std),mf.M_vec_mult_dev(objsubset5[a[1]].val,objsubset5[a[1]].val,objsubset5.mean,objsubset5.std)]\n",
    "    \n",
    "    if is_hyponym(a[0],a[1]):\n",
    "        compare.append(local[0]<local[1])\n",
    "    else :\n",
    "        compare.append(local[0]>local[1])\n",
    "print(len(compare))\n",
    "compare.count(True)/len(compare)"
   ]
  },
  {
   "cell_type": "code",
   "execution_count": 98,
   "id": "31bfbc9e",
   "metadata": {},
   "outputs": [
    {
     "data": {
      "text/plain": [
       "800"
      ]
     },
     "execution_count": 98,
     "metadata": {},
     "output_type": "execute_result"
    }
   ],
   "source": [
    "len(pairlist)"
   ]
  },
  {
   "cell_type": "code",
   "execution_count": 157,
   "id": "ba2ffea6",
   "metadata": {},
   "outputs": [
    {
     "data": {
      "text/plain": [
       "0.32717678100263853"
      ]
     },
     "execution_count": 157,
     "metadata": {},
     "output_type": "execute_result"
    }
   ],
   "source": [
    "# Normalised observable vectors\n",
    "compare = []\n",
    "for a in pairlist[:243]+pairlist[250:515]+pairlist[550:800]:\n",
    "    local = [mf.M_vec_mult(objsubset5[a[0]].val,objsubset5[a[0]].val,objsubset5.mean_sqr),mf.M_vec_mult(objsubset5[a[1]].val,objsubset5[a[1]].val,objsubset5.mean_sqr)]\n",
    "    \n",
    "    if is_hyponym(a[0],a[1]):\n",
    "        compare.append(local[0]<local[1])\n",
    "    else :\n",
    "        compare.append(local[0]>local[1])\n",
    "compare.count(True)/len(compare)"
   ]
  },
  {
   "cell_type": "code",
   "execution_count": 117,
   "id": "5eb8aeb4",
   "metadata": {},
   "outputs": [
    {
     "data": {
      "text/plain": [
       "['keep', 'save']"
      ]
     },
     "execution_count": 117,
     "metadata": {},
     "output_type": "execute_result"
    }
   ],
   "source": [
    "#pairlist[243]"
   ]
  },
  {
   "cell_type": "code",
   "execution_count": 122,
   "id": "f114450d",
   "metadata": {},
   "outputs": [
    {
     "data": {
      "text/plain": [
       "25"
      ]
     },
     "execution_count": 122,
     "metadata": {},
     "output_type": "execute_result"
    }
   ],
   "source": [
    "#test = wn.synsets('keep')\n",
    "#len(test)"
   ]
  },
  {
   "cell_type": "code",
   "execution_count": 140,
   "id": "8e253f7d",
   "metadata": {},
   "outputs": [
    {
     "name": "stdout",
     "output_type": "stream",
     "text": [
      "Synset('restrain.v.01')\n",
      "[Synset('confine.v.03'), Synset('control.v.02'), Synset('hold.v.36'), Synset('inhibit.v.04')]\n",
      "[Synset('choke.v.07'), Synset('quench.v.03'), Synset('restrain.v.01')]\n"
     ]
    }
   ],
   "source": [
    "# The word restrain has among its hyponyms inhibit, which has among its hyponyms restrain, which leads to an infinte loop\n",
    "#print(test[16])\n",
    "#print(test[16].hyponyms())\n",
    "#print(test[16].hyponyms()[3].hyponyms())"
   ]
  },
  {
   "cell_type": "markdown",
   "id": "7dc1e243",
   "metadata": {},
   "source": [
    "### Testing high vs low node"
   ]
  },
  {
   "cell_type": "code",
   "execution_count": 17,
   "id": "f5c7f409",
   "metadata": {},
   "outputs": [],
   "source": [
    "# Make observables object\n",
    "set6 = mf.observables([\"HighNode.txt\"])\n",
    "# Load matrices and make vector dictionaries\n",
    "objsubset6 = mf.vector_dictionary(\"matrices_1160_arg_obj_context_subj.txt\",set6)\n",
    "subobjset6 = mf.vector_dictionary(\"matrices_1160_arg_subj_context_obj.txt\",set6,[0])\n",
    "obj08sub02set6 = mf.vector_dictionary([[\"matrices_1160_arg_obj_context_subj.txt\",\"matrices_1160_arg_subj_context_obj.txt\"],[0.8,0.2]],set6,[1])\n",
    "obj09sub01set6 = mf.vector_dictionary([[\"matrices_1160_arg_obj_context_subj.txt\",\"matrices_1160_arg_subj_context_obj.txt\"],[0.9,0.1]],set6,[1])"
   ]
  },
  {
   "cell_type": "code",
   "execution_count": 18,
   "id": "2aaffa11",
   "metadata": {},
   "outputs": [],
   "source": [
    "# Make observables object\n",
    "set7 = mf.observables([\"LowNode.txt\"])\n",
    "# Load matrices and make vector dictionaries\n",
    "objsubset7 = mf.vector_dictionary(\"matrices_1160_arg_obj_context_subj.txt\",set7)\n",
    "subobjset4 = mf.vector_dictionary(\"matrices_1160_arg_subj_context_obj.txt\",set7,[0])\n",
    "obj08sub02set7 = mf.vector_dictionary([[\"matrices_1160_arg_obj_context_subj.txt\",\"matrices_1160_arg_subj_context_obj.txt\"],[0.8,0.2]],set7,[1])\n",
    "obj09sub01set7 = mf.vector_dictionary([[\"matrices_1160_arg_obj_context_subj.txt\",\"matrices_1160_arg_subj_context_obj.txt\"],[0.9,0.1]],set7,[1])"
   ]
  },
  {
   "cell_type": "code",
   "execution_count": 160,
   "id": "b27f9493",
   "metadata": {},
   "outputs": [],
   "source": [
    "pairlist = [list(a) for a in np.array(simdict['HYPER/HYPONYMS']).T[:2].T]"
   ]
  },
  {
   "cell_type": "code",
   "execution_count": 161,
   "id": "4fb90605",
   "metadata": {},
   "outputs": [
    {
     "name": "stdout",
     "output_type": "stream",
     "text": [
      "758\n"
     ]
    },
    {
     "data": {
      "text/plain": [
       "0.39841688654353563"
      ]
     },
     "execution_count": 161,
     "metadata": {},
     "output_type": "execute_result"
    }
   ],
   "source": [
    "#High Node\n",
    "# Compare the lengths, how often is the hyper smaller than the hypo? Deviation vectors\n",
    "compare = []\n",
    "for a in pairlist[:243]+pairlist[250:515]+pairlist[550:800]:\n",
    "    local = [mf.M_vec_mult_dev(objsubset6[a[0]].val,objsubset6[a[0]].val,objsubset6.mean,objsubset6.std),mf.M_vec_mult_dev(objsubset6[a[1]].val,objsubset6[a[1]].val,objsubset6.mean,objsubset6.std)]\n",
    "    \n",
    "    if is_hyponym(a[0],a[1]):\n",
    "        compare.append(local[0]<local[1])\n",
    "    else :\n",
    "        compare.append(local[0]>local[1])\n",
    "print(len(compare))\n",
    "compare.count(True)/len(compare)"
   ]
  },
  {
   "cell_type": "code",
   "execution_count": 162,
   "id": "1b988241",
   "metadata": {},
   "outputs": [
    {
     "name": "stdout",
     "output_type": "stream",
     "text": [
      "758\n"
     ]
    },
    {
     "data": {
      "text/plain": [
       "0.370712401055409"
      ]
     },
     "execution_count": 162,
     "metadata": {},
     "output_type": "execute_result"
    }
   ],
   "source": [
    "# Compare the lengths, how often is the hyper smaller than the hypo? Deviation vectors\n",
    "compare = []\n",
    "for a in pairlist[:243]+pairlist[250:515]+pairlist[550:800]:\n",
    "    local = [mf.M_vec_mult_dev(objsubset7[a[0]].val,objsubset7[a[0]].val,objsubset7.mean,objsubset7.std),mf.M_vec_mult_dev(objsubset7[a[1]].val,objsubset7[a[1]].val,objsubset7.mean,objsubset7.std)]\n",
    "    \n",
    "    if is_hyponym(a[0],a[1]):\n",
    "        compare.append(local[0]<local[1])\n",
    "    else :\n",
    "        compare.append(local[0]>local[1])\n",
    "print(len(compare))\n",
    "compare.count(True)/len(compare)"
   ]
  },
  {
   "cell_type": "markdown",
   "id": "9482929d",
   "metadata": {},
   "source": [
    "### Precision on prediction of Hyper/Hypo"
   ]
  },
  {
   "cell_type": "code",
   "execution_count": 163,
   "id": "687ad2e8",
   "metadata": {},
   "outputs": [],
   "source": [
    "pairlist = [list(a) for a in np.array(simdict['HYPER/HYPONYMS']).T[:2].T]"
   ]
  },
  {
   "cell_type": "code",
   "execution_count": 177,
   "id": "4b5c08bc",
   "metadata": {},
   "outputs": [
    {
     "name": "stdout",
     "output_type": "stream",
     "text": [
      "[78.51704634 39.38844643]\n",
      "[246.77285905 148.38009907]\n",
      "51.15210949028466\n"
     ]
    },
    {
     "data": {
      "text/plain": [
       "0.5560686015831134"
      ]
     },
     "execution_count": 177,
     "metadata": {},
     "output_type": "execute_result"
    }
   ],
   "source": [
    "# Precision of predicting which are the hypo/hyper\n",
    "compare = []\n",
    "for a in pairlist[:243]+pairlist[250:515]+pairlist[550:800]:\n",
    "    local = [mf.M_vec_mult_dev(objsubset5[a[0]].val,objsubset5[a[0]].val,objsubset5.mean,objsubset5.std),mf.M_vec_mult_dev(objsubset5[a[1]].val,objsubset5[a[1]].val,objsubset5.mean,objsubset5.std)]\n",
    "    \n",
    "    if is_hyponym(a[0],a[1]):\n",
    "        compare.append(local)\n",
    "    else :\n",
    "        compare.append([local[1],local[0]])\n",
    "mymean = np.mean(np.array(compare),axis = 0)\n",
    "mystd = np.std(np.array(compare),axis = 0)\n",
    "print(mymean)\n",
    "print(mystd)\n",
    "mydivide = mymean[1] + mystd[1]/mystd[0] * (mymean[0]-mymean[1])/2\n",
    "print(mydivide)\n",
    "myprecision = []\n",
    "for a in compare:\n",
    "    myprecision.append(a[0] > mydivide)\n",
    "    myprecision.append(a[1] < mydivide)\n",
    "myprecision.count(True)/len(myprecision)"
   ]
  },
  {
   "cell_type": "code",
   "execution_count": 169,
   "id": "bd5e4e7e",
   "metadata": {},
   "outputs": [
    {
     "data": {
      "text/plain": [
       "[[5.23461715148488, 73.0910399737601],\n",
       " [3.0268293053672295, 2.960775001076481],\n",
       " [2.2913009821966495, 2.4642368384772575],\n",
       " [15.365119301759123, 31.226639444476643],\n",
       " [16.545574850818117, 2.967707953487911],\n",
       " [94.86775599632743, 2.201936752437856],\n",
       " [2.2184023057198727, 3.569018935956074],\n",
       " [3.585210362566973, 2.35662166935],\n",
       " [11.05370455011977, 4.9488278824471434],\n",
       " [6.04220899676834, 101.82016109471029],\n",
       " [11.05370455011977, 259.2123929632238],\n",
       " [3.5378761149824984, 12.955581206888283],\n",
       " [94.86775599632743, 2.448320298401484],\n",
       " [103.00506102105467, 38.26927825250708],\n",
       " [2.4698257207143284, 2.964259546677599],\n",
       " [691.0159504470498, 128.14042086139486],\n",
       " [1.7387716941604578, 2.2668951716880823],\n",
       " [32.39620136802295, 13.246644920327386],\n",
       " [57.02675940015975, 92.74349899393941],\n",
       " [10.330871804593787, 2.7507147212736838],\n",
       " [37.16139000612645, 4.213037439709207],\n",
       " [3.9012033578759198, 3.902308003010446],\n",
       " [1.7118853825662208, 3.4830773636805032],\n",
       " [3.74025094942773, 3.955980163903381],\n",
       " [12.286535124792513, 14.404600677473109],\n",
       " [39.983185256724994, 691.0159504470498],\n",
       " [1.872642060193305, 3.0317826760491853],\n",
       " [12.286535124792513, 37.16139000612645],\n",
       " [500.97410476861023, 13.819327637581965],\n",
       " [39.983185256724994, 2.470028317231436],\n",
       " [10.405255526762947, 1.7845307383393303],\n",
       " [17.840939257494455, 7.1329228915631715],\n",
       " [2.2413313933490002, 2.5726003309038217],\n",
       " [691.0159504470498, 285.31386284690575],\n",
       " [12.955581206888283, 37.16139000612645],\n",
       " [7.718232368322251, 1.6660477542818963],\n",
       " [42.59192867744915, 24.974992984286835],\n",
       " [56.514519724009105, 2.9425534637101327],\n",
       " [5.163138621739629, 1.7574375903968886],\n",
       " [11.179055607324322, 691.0159504470498],\n",
       " [3.0243864955827298, 4.368634192272852],\n",
       " [500.97410476861023, 2.5559765702232555],\n",
       " [23.90565243751275, 165.17675072101034],\n",
       " [691.0159504470498, 2.010669963442691],\n",
       " [94.42044372911062, 2.7822389668592105],\n",
       " [3.586296249003085, 42.120800617143736],\n",
       " [40.639963120536784, 2.7507147212736838],\n",
       " [4.171321909109319, 3.3248508504866283],\n",
       " [2.815586348897805, 73.0910399737601],\n",
       " [2.2336586235853573, 2.713470901296558],\n",
       " [94.42044372911062, 2.748535450463873],\n",
       " [7.718232368322251, 2.967707953487911],\n",
       " [26.458933854912274, 35.43369401163103],\n",
       " [4.368634192272852, 4.900915424235177],\n",
       " [165.17675072101034, 5.740320305084887],\n",
       " [252.74872462511308, 187.76342621503323],\n",
       " [4.900915424235177, 1.7845307383393303],\n",
       " [1.7118853825662208, 3.777100978297397],\n",
       " [61.7224061639435, 128.14042086139486],\n",
       " [38.78627631442357, 1.2836661341425486],\n",
       " [31.226639444476643, 14.404600677473109],\n",
       " [72.6395536781685, 5.978043711444271],\n",
       " [3.262687174541047, 4.900915424235177],\n",
       " [17.547683958352547, 808.1090066195932],\n",
       " [15.365119301759123, 2.919926923891826],\n",
       " [15.365119301759123, 0.9989752446132935],\n",
       " [3.192738861370911, 3.763527117966228],\n",
       " [271.1124127011693, 78.88008537909472],\n",
       " [3.586296249003085, 2.619826700718838],\n",
       " [56.514519724009105, 4.3618850874606405],\n",
       " [5.858562134230429, 3.0887158886537986],\n",
       " [23.780946394184365, 3.9560803295975915],\n",
       " [2.4098591871515183, 2.4156888161369325],\n",
       " [2.705220082472706, 3.545992463950412],\n",
       " [2.191570809640262, 5.79308875185543],\n",
       " [46.59954882886296, 3.5256228755384242],\n",
       " [6.794500164403549, 28.041495292669996],\n",
       " [92.74349899393941, 3.6264857693745167],\n",
       " [12.286535124792513, 1.6601370949814462],\n",
       " [42.120800617143736, 1.8052698067250585],\n",
       " [92.74349899393941, 2.2454179967269465],\n",
       " [151.40273774724022, 1.8718656685809663],\n",
       " [2.9456492358532036, 2.2413313933490002],\n",
       " [808.1090066195932, 2.7822389668592105],\n",
       " [69.33731850112498, 1.9210730886272402],\n",
       " [26.458933854912274, 73.0910399737601],\n",
       " [2.2454179967269465, 2.416314186914997],\n",
       " [369.4100486518224, 81.67390168039424],\n",
       " [2.936583657719289, 3.1568278476864378],\n",
       " [4.914279529844044, 3.880829875381794],\n",
       " [26.018836676700072, 26.13663917320097],\n",
       " [38.78627631442357, 6.974641293494797],\n",
       " [15.365119301759123, 2.50976411115589],\n",
       " [92.74349899393941, 2.2032749286714326],\n",
       " [5.858562134230429, 3.8512682791961534],\n",
       " [3.1862174047133913, 3.526457833447822],\n",
       " [4.171321909109319, 3.1870623898982786],\n",
       " [2.1350954283736225, 1.8528477814602755],\n",
       " [40.639963120536784, 500.97410476861023],\n",
       " [6.443271241677046, 1.8052698067250585],\n",
       " [2.156972532309021, 2.7675375755019345],\n",
       " [46.59954882886296, 3.4446406660828663],\n",
       " [3.3087328846100132, 2.1302808974928813],\n",
       " [7.718232368322251, 2.815586348897805],\n",
       " [2.815586348897805, 2.756001082954818],\n",
       " [3.887211112504901, 2.9224744833768455],\n",
       " [3.1506534867693357, 4.935080625872539],\n",
       " [1.8170050416945867, 2.7649318168343906],\n",
       " [37.16139000612645, 2.8557468637656953],\n",
       " [56.514519724009105, 4.8931723901726265],\n",
       " [94.42044372911062, 85.66678079695626],\n",
       " [7.427812739533539, 330.23448114918835],\n",
       " [500.97410476861023, 2236.200124990689],\n",
       " [13.438263657766665, 2.605673993497385],\n",
       " [69.33731850112498, 31.226639444476643],\n",
       " [50.25403901283776, 9.08749904364837],\n",
       " [1.9320432153551366, 1.2248320742527414],\n",
       " [151.40273774724022, 1.8052698067250585],\n",
       " [165.17675072101034, 3.551952295896883],\n",
       " [45.53118111340775, 1.69860982357972],\n",
       " [15.365119301759123, 2.9292057612095297],\n",
       " [808.1090066195932, 85.66678079695626],\n",
       " [6.297422475294325, 22.850458290034627],\n",
       " [94.86775599632743, 8.362499474614738],\n",
       " [16.813812496114362, 92.74349899393941],\n",
       " [15.365119301759123, 2.9078648272187717],\n",
       " [2.515287016154835, 2.298226767078296],\n",
       " [31.870038448044284, 2.737955728757974],\n",
       " [40.707260061406785, 2.629106933565623],\n",
       " [4.914279529844044, 1.1065604854032596],\n",
       " [4.171321909109319, 1.999856767412158],\n",
       " [6.14584122957972, 3.8096415291538803],\n",
       " [3.7190332224162588, 2.6115096602048067],\n",
       " [22.23553388198044, 2.6622779823156177],\n",
       " [252.74872462511308, 5.624296784400919],\n",
       " [5.740320305084887, 8.630175380959818],\n",
       " [92.74349899393941, 27.589820913119723],\n",
       " [4.914279529844044, 2.6900091231040157],\n",
       " [19.585819923699347, 17.379335916256768],\n",
       " [808.1090066195932, 38.26927825250708],\n",
       " [17.840939257494455, 4.472470048375035],\n",
       " [1.852725685962918, 4.724713571733296],\n",
       " [4.368634192272852, 2.50548726791473],\n",
       " [1.8133019120291114, 3.5378761149824984],\n",
       " [14.404600677473109, 3.2384963499673156],\n",
       " [38.78627631442357, 3.483355971522974],\n",
       " [8.630175380959818, 1.6075630170236452],\n",
       " [1.9282098018385923, 1.7118853825662208],\n",
       " [3.318519531503089, 2.2454179967269465],\n",
       " [2.1538861857713485, 2.1654675639816396],\n",
       " [18.65178746584171, 94.86775599632743],\n",
       " [7.1329228915631715, 3.543134082046104],\n",
       " [11.884209270157621, 3.027876317727526],\n",
       " [3.5789047530472002, 2.6489339143792354],\n",
       " [94.42044372911062, 2.258055683764],\n",
       " [30.066030942842875, 1.9559268979468956],\n",
       " [4.171321909109319, 2.342576242846188],\n",
       " [7.649350609644244, 2.542211661304746],\n",
       " [31.870038448044284, 19.276442413582977],\n",
       " [4.472470048375035, 269.42617651837406],\n",
       " [37.16139000612645, 2.6841778286073965],\n",
       " [271.1124127011693, 2.1275963642720903],\n",
       " [2.2454179967269465, 16.545574850818117],\n",
       " [1.4898868467875888, 7.718232368322251],\n",
       " [330.23448114918835, 17.568841212023962],\n",
       " [3.0462504300484605, 2.05108003235718],\n",
       " [17.94309979143959, 3.8332053275993063],\n",
       " [69.33731850112498, 30.066030942842875],\n",
       " [1.6722900054449772, 2.6542175675927338],\n",
       " [17.403163034312207, 8.630175380959818],\n",
       " [3.569018935956074, 2.054758869498103],\n",
       " [12.286535124792513, 3.4830773636805032],\n",
       " [3.3087328846100132, 2.9933443413843372],\n",
       " [94.86775599632743, 2.8221150382432176],\n",
       " [42.120800617143736, 2.619826700718838],\n",
       " [691.0159504470498, 17.568841212023962],\n",
       " [139.31353772161594, 26.018836676700072],\n",
       " [101.3103045197489, 3.2117073431078875],\n",
       " [26.018836676700072, 5.346427207265073],\n",
       " [1.4149513722631353, 4.3618850874606405],\n",
       " [383.4286244523438, 31.23772661361419],\n",
       " [12.286535124792513, 2.1412099437031937],\n",
       " [2.9831882005568033, 3.0390933236018753],\n",
       " [8.098747794828189, 259.2123929632238],\n",
       " [7.718232368322251, 30.98022280141379],\n",
       " [4.7689420132322535, 1.9210730886272402],\n",
       " [1.7117059682044613, 35.23709645155428],\n",
       " [2.625335055178511, 3.7616460087181802],\n",
       " [2.9878250499088916, 3.408351361476984],\n",
       " [18.27712946471485, 3.2580615321770368],\n",
       " [2.201936752437856, 9.20479820467367],\n",
       " [35.23709645155428, 2.3689554754685833],\n",
       " [330.23448114918835, 46.29259946055822],\n",
       " [3.5896762985133037, 3.065419308807763],\n",
       " [2236.200124990689, 28.041495292669996],\n",
       " [151.40273774724022, 94.86775599632743],\n",
       " [81.67390168039424, 2.737955728757974],\n",
       " [7.718232368322251, 2.2184023057198727],\n",
       " [92.74349899393941, 31.23772661361419],\n",
       " [14.404600677473109, 3.4830773636805032],\n",
       " [18.65178746584171, 3.8096415291538803],\n",
       " [1.69860982357972, 6.184112670809051],\n",
       " [51.76276171167411, 369.4100486518224],\n",
       " [7.718232368322251, 3.4052236526387945],\n",
       " [39.74493645365276, 46.59954882886296],\n",
       " [11.179055607324322, 136.94999295353048],\n",
       " [2.261194509087038, 2.112895699056493],\n",
       " [4.171321909109319, 4.518605574200919],\n",
       " [6.297422475294325, 4.0835193372841925],\n",
       " [6.184112670809051, 36.8021306948887],\n",
       " [1.6657283225015407, 3.0317826760491853],\n",
       " [691.0159504470498, 8.748412052408403],\n",
       " [15.365119301759123, 151.40273774724022],\n",
       " [1.9559268979468956, 3.180315202037692],\n",
       " [1.8170050416945867, 3.8324132234762427],\n",
       " [14.404600677473109, 2.267453757845199],\n",
       " [15.365119301759123, 3.0685742548434587],\n",
       " [1.8133019120291114, 26.13663917320097],\n",
       " [3.2727791710439713, 2.490072510258787],\n",
       " [15.365119301759123, 69.33731850112498],\n",
       " [15.365119301759123, 3.3248508504866283],\n",
       " [42.59192867744915, 2.8625165900138914],\n",
       " [476.74743199371653, 3.5256228755384242],\n",
       " [42.120800617143736, 2.8809710853765753],\n",
       " [2.1538861857713485, 3.408351361476984],\n",
       " [3.569018935956074, 4.302062321677993],\n",
       " [128.14042086139486, 3.044939021793484],\n",
       " [3.4692985850667495, 2.898925684541965],\n",
       " [18.65178746584171, 5.040059936164403],\n",
       " [1.6279056354664152, 101.3103045197489],\n",
       " [691.0159504470498, 2.5559765702232555],\n",
       " [1.7845307383393303, 2.6115096602048067],\n",
       " [15.365119301759123, 2.307943842146732],\n",
       " [3.3351012142239296, 3.483355971522974],\n",
       " [7.1329228915631715, 3.9923911378935757],\n",
       " [26.018836676700072, 1.8133019120291114],\n",
       " [269.42617651837406, 7.1329228915631715],\n",
       " [4.472470048375035, 3.6724563279144657],\n",
       " [2.2454179967269465, 2.605673993497385],\n",
       " [259.2123929632238, 3.1506534867693357],\n",
       " [691.0159504470498, 1.9110976731064453],\n",
       " [259.2123929632238, 2.1350954283736225],\n",
       " [3.1862174047133913, 3.5732982637028305],\n",
       " [56.514519724009105, 6.090099010528017],\n",
       " [11.179055607324322, 40.639963120536784],\n",
       " [252.74872462511308, 4.914279529844044],\n",
       " [38.78627631442357, 2.9078648272187717],\n",
       " [3.7291419047956538, 3.158783148434814],\n",
       " [2.2433776467302406, 4.584318147444176],\n",
       " [26.018836676700072, 4.627767136766214],\n",
       " [2.9456492358532036, 2.7525781486670113],\n",
       " [330.23448114918835, 30.388858895063635],\n",
       " [26.458933854912274, 2.3283452822404356],\n",
       " [6.297422475294325, 3.851677811128938],\n",
       " [94.86775599632743, 76.74337834603332],\n",
       " [808.1090066195932, 3.955980163903381],\n",
       " [36.8021306948887, 2.580997753444444],\n",
       " [11.179055607324322, 30.15972332168011],\n",
       " [15.365119301759123, 38.78627631442357],\n",
       " [2.661984912152818, 4.584318147444176],\n",
       " [50.25403901283776, 12.54926131156066],\n",
       " [2.7316391157827797, 17.840939257494455],\n",
       " [17.547683958352547, 6.04220899676834],\n",
       " [30.98022280141379, 3.9475085775456353],\n",
       " [1.9320432153551366, 9.20479820467367],\n",
       " [3.545992463950412, 2.7675375755019345],\n",
       " [18.27712946471485, 56.514519724009105],\n",
       " [181.00995226292872, 28.041495292669996],\n",
       " [36.12641709621675, 2.261194509087038],\n",
       " [165.17675072101034, 28.041495292669996],\n",
       " [136.94999295353048, 691.0159504470498],\n",
       " [7.718232368322251, 23.038177941726428],\n",
       " [27.589820913119723, 8.946383774764163],\n",
       " [12.955581206888283, 2.1393306911181944],\n",
       " [8.064973876227247, 3.1260229472670407],\n",
       " [17.94309979143959, 2.6524114489314314],\n",
       " [16.156341612857005, 3.256986011195862],\n",
       " [383.4286244523438, 2.9211743857602506],\n",
       " [14.44601552929616, 2.411031135755359],\n",
       " [5.924080439906426, 2.22306010722821],\n",
       " [3.585210362566973, 3.517791365644113],\n",
       " [2.1538861857713485, 11.727132574240997],\n",
       " [1.6657283225015407, 2.91398317636525],\n",
       " [1.7118853825662208, 2.223911323123569],\n",
       " [2.5023908379603887, 3.141369398302507],\n",
       " [19.245836193478326, 330.23448114918835],\n",
       " [3.096302863009164, 5.807005094384335],\n",
       " [92.74349899393941, 3.2580615321770368],\n",
       " [14.44601552929616, 22.23553388198044],\n",
       " [383.4286244523438, 27.589820913119723],\n",
       " [3.74025094942773, 3.4207308077186593],\n",
       " [4.400169197777178, 3.158783148434814],\n",
       " [38.26927825250708, 1.0473013134505884],\n",
       " [808.1090066195932, 2.258055683764],\n",
       " [1.69860982357972, 3.373181253616822],\n",
       " [165.17675072101034, 128.14042086139486],\n",
       " [181.00995226292872, 30.15972332168011],\n",
       " [14.618883508626821, 2.763096090572002],\n",
       " [17.94309979143959, 2.600804055220372],\n",
       " [17.840939257494455, 1.5059813337051298],\n",
       " [26.458933854912274, 1.782116939198628],\n",
       " [165.17675072101034, 3.880829875381794],\n",
       " [691.0159504470498, 12.21666506207059],\n",
       " [11.179055607324322, 17.379335916256768],\n",
       " [94.42044372911062, 38.26927825250708],\n",
       " [5.79308875185543, 3.1180045237829277],\n",
       " [252.74872462511308, 14.477542007645537],\n",
       " [2.4435711793325914, 3.8324132234762427],\n",
       " [5.753332755239475, 3.0243864955827298],\n",
       " [6.5696382774832465, 25.83969421366447],\n",
       " [2.1350954283736225, 4.1827090681010795],\n",
       " [5.803557401939975, 269.42617651837406],\n",
       " [151.40273774724022, 6.443271241677046],\n",
       " [3.1640226877351236, 37.16139000612645],\n",
       " [4.9488278824471434, 2.7198535627105422],\n",
       " [3.5896762985133037, 4.935080625872539],\n",
       " [8.064973876227247, 3.3351012142239296],\n",
       " [16.545574850818117, 2.7198535627105422],\n",
       " [4.171321909109319, 2.6372027063833863],\n",
       " [2.7316391157827797, 1.7117059682044613],\n",
       " [2.1538861857713485, 2.4098453467150662],\n",
       " [69.33731850112498, 17.547683958352547],\n",
       " [1.7118853825662208, 1.4964754005444636],\n",
       " [6.14584122957972, 2.2668951716880823],\n",
       " [92.74349899393941, 2.98594603118603],\n",
       " [3.754502102470906, 2.483045583366107],\n",
       " [3.74025094942773, 4.164489209847846],\n",
       " [129.32677758253806, 2.2668951716880823],\n",
       " [2.1538861857713485, 2.9878250499088916],\n",
       " [2.6914830290827103, 2.054758869498103],\n",
       " [4.130365259869256, 2.6532531693648336],\n",
       " [154.03017793367806, 330.23448114918835],\n",
       " [330.23448114918835, 4.472277582934208],\n",
       " [3.577444599282177, 1.726020354432028],\n",
       " [3.1679520704143296, 18.65178746584171],\n",
       " [4.249311061336033, 1.3800972577966608],\n",
       " [92.74349899393941, 8.946383774764163],\n",
       " [2.6622371270691203, 4.400169197777178],\n",
       " [2.5559765702232555, 12.21666506207059],\n",
       " [2.2454179967269465, 111.06518311318834],\n",
       " [2.7198535627105422, 51.76276171167411],\n",
       " [330.23448114918835, 39.983185256724994],\n",
       " [3.6787715876810663, 2.241998778661323],\n",
       " [1.2765314335556728, 2.595834775213956],\n",
       " [14.44601552929616, 2.6622779823156177],\n",
       " [11.727132574240997, 2.717540329146934],\n",
       " [101.3103045197489, 2.771420454258487],\n",
       " [2.2336586235853573, 3.7618494459567584],\n",
       " [1.7118853825662208, 2.4156888161369325],\n",
       " [94.33720067471106, 2.629106933565623],\n",
       " [69.33731850112498, 38.78627631442357],\n",
       " [15.365119301759123, 4.425413126456758],\n",
       " [36.8021306948887, 17.94309979143959],\n",
       " [1.7387716941604578, 9.1330124401595],\n",
       " [3.6787715876810663, 5.163138621739629],\n",
       " [16.156341612857005, 271.2149504752532],\n",
       " [69.33731850112498, 0.9989752446132935],\n",
       " [23.90565243751275, 1.5217136816673906],\n",
       " [3.74025094942773, 3.131204774236015],\n",
       " [500.97410476861023, 330.23448114918835],\n",
       " [5.06008881326035, 2.98594603118603],\n",
       " [15.365119301759123, 11.884209270157621],\n",
       " [73.0910399737601, 23.780946394184365],\n",
       " [6.090099010528017, 68.36347021089816],\n",
       " [6.297422475294325, 3.4692985850667495],\n",
       " [15.365119301759123, 2.342576242846188],\n",
       " [15.365119301759123, 3.4301817655237365],\n",
       " [154.03017793367806, 17.568841212023962],\n",
       " [2.3593995702811177, 3.223905992183474],\n",
       " [16.813812496114362, 383.4286244523438],\n",
       " [2.1654675639816396, 3.408351361476984],\n",
       " [27.589820913119723, 45.53118111340775],\n",
       " [2.605673993497385, 4.161676382463711],\n",
       " [14.404600677473109, 3.902308003010446],\n",
       " [92.74349899393941, 12.118350114568884],\n",
       " [500.97410476861023, 4.213359402798832],\n",
       " [7.718232368322251, 1.975616152612003],\n",
       " [2.22306010722821, 2.52615561235358],\n",
       " [11.179055607324322, 13.819327637581965],\n",
       " [3.4692985850667495, 4.025703049326231],\n",
       " [808.1090066195932, 5.924080439906426],\n",
       " [3.569018935956074, 3.399449965859295],\n",
       " [17.94309979143959, 4.161676382463711],\n",
       " [6.184112670809051, 17.94309979143959],\n",
       " [25.83969421366447, 50.25403901283776],\n",
       " [8.064973876227247, 3.4990065260194045],\n",
       " [4.126652382057752, 3.69993850827753],\n",
       " [14.404600677473109, 2.4435711793325914],\n",
       " [69.33731850112498, 3.3999401910741844],\n",
       " [94.42044372911062, 2.1275963642720903],\n",
       " [1.7118853825662208, 3.075210081780665],\n",
       " [14.404600677473109, 3.8512682791961534],\n",
       " [808.1090066195932, 1.8935485584024467],\n",
       " [1.936984993807276, 46.59954882886296],\n",
       " [2.1412099437031937, 3.48476089397022],\n",
       " [252.74872462511308, 30.417285427393796],\n",
       " [5.408126642194472, 1.7705845238424],\n",
       " [15.365119301759123, 2.791907520981373],\n",
       " [2.223911323123569, 3.2384963499673156],\n",
       " [23.90565243751275, 7.100117843806542],\n",
       " [3.318519531503089, 13.438263657766665],\n",
       " [69.33731850112498, 2.761025200970595],\n",
       " [1.7118853825662208, 3.567762644979779],\n",
       " [2.769746715603777, 1.9559268979468956],\n",
       " [3.8332053275993063, 36.12641709621675],\n",
       " [165.17675072101034, 2.800253114161884],\n",
       " [39.74493645365276, 4.238121946595159],\n",
       " [37.16139000612645, 2.4510088106921355],\n",
       " [383.4286244523438, 4.158136539053984],\n",
       " [3.7822760388191106, 4.549185514417386],\n",
       " [4.7689420132322535, 3.7035705458375716],\n",
       " [13.638914732629585, 330.23448114918835],\n",
       " [2.5726003309038217, 14.404600677473109],\n",
       " [85.66678079695626, 101.82016109471029],\n",
       " [29.68544487673034, 57.02675940015975],\n",
       " [1.6279056354664152, 2.6560827401378417],\n",
       " [1.7845307383393303, 2.483045583366107],\n",
       " [8.064973876227247, 3.483355971522974],\n",
       " [12.286535124792513, 2.2947018253529565],\n",
       " [3.4692985850667495, 3.779933821321438],\n",
       " [14.404600677473109, 3.6293428225181485],\n",
       " [14.44601552929616, 3.780580822911361],\n",
       " [15.365119301759123, 2.191570809640262],\n",
       " [3.256986011195862, 17.568841212023962],\n",
       " [2.9456492358532036, 165.17675072101034],\n",
       " [10.371766446989957, 2.2336586235853573],\n",
       " [2.9710708401375645, 1.2765314335556728],\n",
       " [3.9012033578759198, 3.412358868638292],\n",
       " [2.2454179967269465, 3.8399587105633497],\n",
       " [5.753332755239475, 3.98559374311038],\n",
       " [94.86775599632743, 17.568841212023962],\n",
       " [3.577444599282177, 53.305501544374046],\n",
       " [6.974641293494797, 3.0243864955827298],\n",
       " [8.005515318930101, 85.66678079695626],\n",
       " [129.32677758253806, 9.1330124401595],\n",
       " [1.69860982357972, 1.2022684402207313],\n",
       " [2.7316391157827797, 7.1329228915631715],\n",
       " [23.038177941726428, 2.7829682395817805],\n",
       " [14.44601552929616, 92.74349899393941],\n",
       " [2.5023908379603887, 3.0462504300484605],\n",
       " [23.90565243751275, 32.39620136802295],\n",
       " [691.0159504470498, 3.3087328846100132],\n",
       " [123.2919553916872, 30.015071270808786],\n",
       " [26.458933854912274, 2.975089568149472],\n",
       " [92.74349899393941, 1.8604868494296862],\n",
       " [51.76276171167411, 1.580532385066152],\n",
       " [3.551952295896883, 2.5276565854002113],\n",
       " [15.365119301759123, 2.5492423660324386],\n",
       " [37.16139000612645, 2.6994192888154167],\n",
       " [8.748412052408403, 165.17675072101034],\n",
       " [4.472470048375035, 2.6762709123059434],\n",
       " [31.226639444476643, 4.7689420132322535],\n",
       " [17.94309979143959, 3.4830773636805032],\n",
       " [165.17675072101034, 2.16408680407332],\n",
       " [2.6914830290827103, 3.6461942895898503],\n",
       " [3.065419308807763, 14.404600677473109],\n",
       " [151.40273774724022, 3.080426688912429],\n",
       " [4.368634192272852, 2.5510660565213623],\n",
       " [330.23448114918835, 5.322073623577237],\n",
       " [3.7616460087181802, 3.9560803295975915],\n",
       " [3.569018935956074, 2.5559765702232555],\n",
       " [2.6354802337206134, 1.726020354432028],\n",
       " [2.761025200970595, 2.5389455293383785],\n",
       " [2.4698257207143284, 4.152175319038612],\n",
       " [38.78627631442357, 4.379847229987806],\n",
       " [4.368634192272852, 14.12029830766619],\n",
       " [3.5378761149824984, 1.5217136816673906],\n",
       " [2.936583657719289, 2.99391880580394],\n",
       " [31.870038448044284, 81.67390168039424],\n",
       " [139.31353772161594, 26.13663917320097],\n",
       " [2.9456492358532036, 111.06518311318834],\n",
       " [2.1916507396390648, 2.113376143203828],\n",
       " [1.1065604854032596, 4.039116557898989],\n",
       " [17.82049614095081, 383.4286244523438],\n",
       " [15.365119301759123, 3.2071072485133016],\n",
       " [39.457866471826556, 8.946383774764163],\n",
       " [330.23448114918835, 19.585819923699347],\n",
       " [2.3685011871835933, 4.567585815809831],\n",
       " [4.025703049326231, 2.898925684541965],\n",
       " [2.9710708401375645, 2.595834775213956],\n",
       " [259.2123929632238, 2.4510088106921355],\n",
       " [94.86775599632743, 42.120800617143736],\n",
       " [15.365119301759123, 42.120800617143736],\n",
       " [3.416599350546034, 2.887032837127829],\n",
       " [15.365119301759123, 2.7288903517934906],\n",
       " [691.0159504470498, 3.3258816722001496],\n",
       " [38.26927825250708, 2.3283452822404356],\n",
       " [2.7198535627105422, 2.6685331138495516],\n",
       " [1.7118853825662208, 17.94309979143959],\n",
       " [7.718232368322251, 3.4361330135759576],\n",
       " [5.753332755239475, 3.0628321076618037],\n",
       " [500.97410476861023, 136.94999295353048],\n",
       " [7.718232368322251, 2.3689554754685833],\n",
       " [2.2454179967269465, 39.457866471826556],\n",
       " [13.819327637581965, 691.0159504470498],\n",
       " [11.884209270157621, 2.469528255600472],\n",
       " [8.005515318930101, 2.6622779823156177],\n",
       " [1.8170050416945867, 3.629126722120994],\n",
       " [2.3453371187860914, 2.91398317636525],\n",
       " [14.44601552929616, 31.23772661361419],\n",
       " [691.0159504470498, 2.7288903517934906],\n",
       " [2.2913009821966495, 3.1913693584571043],\n",
       " [46.29259946055822, 128.14042086139486],\n",
       " [18.65178746584171, 1.6289088795327304],\n",
       " [15.365119301759123, 2.448320298401484],\n",
       " [11.884209270157621, 3.793259483061927],\n",
       " [3.627749296697336, 2.4098591871515183],\n",
       " [1.8052698067250585, 14.404600677473109],\n",
       " [92.74349899393941, 39.457866471826556],\n",
       " [3.3259810619944252, 3.9475085775456353],\n",
       " [2.7316391157827797, 7.718232368322251],\n",
       " [15.365119301759123, 3.6175933962849376],\n",
       " [13.438263657766665, 3.8399587105633497],\n",
       " [57.02675940015975, 383.4286244523438],\n",
       " [3.569018935956074, 3.1862174047133913],\n",
       " [12.21666506207059, 8.748412052408403],\n",
       " [165.17675072101034, 2.6994192888154167],\n",
       " [2.5726003309038217, 2.9456492358532036],\n",
       " [2.4698257207143284, 3.0685742548434587],\n",
       " [691.0159504470498, 1.7036296397650692],\n",
       " [500.97410476861023, 104.00672837944039],\n",
       " [17.94309979143959, 4.3395031692906185],\n",
       " [2.276540886180834, 5.978043711444271],\n",
       " [5.624296784400919, 4.914279529844044],\n",
       " [808.1090066195932, 101.82016109471029],\n",
       " [3.74025094942773, 3.594873278254309],\n",
       " [92.74349899393941, 51.76276171167411],\n",
       " [1.8118432383867904, 1.3975563436330352],\n",
       " [2.4435711793325914, 3.48476089397022],\n",
       " [12.21666506207059, 18.65178746584171],\n",
       " [29.68544487673034, 56.514519724009105],\n",
       " [2.748535450463873, 7.718232368322251],\n",
       " [23.90565243751275, 42.120800617143736],\n",
       " [4.171321909109319, 5.214033068785952],\n",
       " [4.368634192272852, 9.20479820467367],\n",
       " [92.74349899393941, 271.2149504752532],\n",
       " [4.368634192272852, 1.7845307383393303],\n",
       " [6.090099010528017, 3.365306823998256],\n",
       " [12.017628679539058, 271.2149504752532],\n",
       " [42.120800617143736, 6.443271241677046],\n",
       " [3.9923911378935757, 3.9475085775456353],\n",
       " [1.1065604854032596, 500.97410476861023],\n",
       " [2.4698257207143284, 3.3009095919055307],\n",
       " [3.6318714668654986, 2.1408484290479577],\n",
       " [7.1329228915631715, 3.4704468430415427],\n",
       " [383.4286244523438, 39.69771627913512],\n",
       " [14.12029830766619, 165.17675072101034],\n",
       " [14.618883508626821, 2.7288903517934906],\n",
       " [29.68544487673034, 18.27712946471485],\n",
       " [4.025703049326231, 2.307943842146732],\n",
       " [1.6224531599984358, 2.0073704264124324],\n",
       " [7.718232368322251, 5.23461715148488],\n",
       " [2.6994192888154167, 3.5256228755384242],\n",
       " [19.585819923699347, 17.403163034312207],\n",
       " [285.31386284690575, 42.59192867744915],\n",
       " [6.297422475294325, 3.027876317727526],\n",
       " [2.35662166935, 3.286142736348215],\n",
       " [3.367245244736498, 16.156341612857005],\n",
       " [46.29259946055822, 8.630175380959818],\n",
       " [285.31386284690575, 3.0093131506762916],\n",
       " [3.545992463950412, 2.5570207246332894],\n",
       " [1.6660477542818963, 2.3689554754685833],\n",
       " [5.23461715148488, 2.717540329146934],\n",
       " [3.1112706904028147, 4.584318147444176],\n",
       " [17.840939257494455, 5.803557401939975],\n",
       " [53.305501544374046, 5.163138621739629],\n",
       " [3.0562633346808137, 4.249311061336033],\n",
       " [2.156972532309021, 3.180315202037692],\n",
       " [1.9320432153551366, 2.4098453467150662],\n",
       " [4.935080625872539, 2.4578997359933905],\n",
       " [3.6461942895898503, 3.9012033578759198],\n",
       " [1.7118853825662208, 37.16139000612645],\n",
       " [69.33731850112498, 2.7979229189723127],\n",
       " [11.179055607324322, 10.044455260975779],\n",
       " [3.569018935956074, 1.69860982357972],\n",
       " [57.02675940015975, 2.8005228730463734],\n",
       " [10.371766446989957, 15.365119301759123],\n",
       " [15.365119301759123, 2.7979229189723127],\n",
       " [15.365119301759123, 8.064973876227247],\n",
       " [39.457866471826556, 12.118350114568884],\n",
       " [6.297422475294325, 76.74337834603332],\n",
       " [3.74025094942773, 3.9311024502618515],\n",
       " [1.872642060193305, 42.120800617143736],\n",
       " [11.179055607324322, 2236.200124990689],\n",
       " [26.458933854912274, 6.04220899676834],\n",
       " [94.86775599632743, 13.246644920327386],\n",
       " [1.9559268979468956, 2.7675375755019345],\n",
       " [15.365119301759123, 3.992257505634952],\n",
       " [7.718232368322251, 40.707260061406785],\n",
       " [14.44601552929616, 3.6264857693745167],\n",
       " [3.569018935956074, 3.8332053275993063],\n",
       " [2.22306010722821, 476.74743199371653],\n",
       " [4.368634192272852, 3.1180045237829277],\n",
       " [3.367245244736498, 2.25310689479028],\n",
       " [16.813812496114362, 51.76276171167411],\n",
       " [11.05370455011977, 181.00995226292872],\n",
       " [123.2919553916872, 4.054384916501147],\n",
       " [1.8604868494296862, 14.477542007645537],\n",
       " [165.17675072101034, 11.370825040663942],\n",
       " [12.955581206888283, 3.938282075748835],\n",
       " [259.2123929632238, 2.8907654073294564],\n",
       " [94.86775599632743, 2.9933443413843372],\n",
       " [94.86775599632743, 3.0562633346808137],\n",
       " [476.74743199371653, 3.6005712018018756],\n",
       " [330.23448114918835, 6.6332920273516205],\n",
       " [14.44601552929616, 12.118350114568884],\n",
       " [11.179055607324322, 211.67918877828026],\n",
       " [15.365119301759123, 4.935080625872539],\n",
       " [13.819327637581965, 2.5559765702232555],\n",
       " [3.0562633346808137, 2.448320298401484],\n",
       " [3.318519531503089, 2.3242261747592807],\n",
       " [500.97410476861023, 30.15972332168011],\n",
       " [3.405499097202317, 3.1443999520677464],\n",
       " [15.365119301759123, 2.483045583366107],\n",
       " [6.090099010528017, 33.64025193643194],\n",
       " [94.86775599632743, 2.9878250499088916],\n",
       " [69.33731850112498, 3.763527117966228],\n",
       " [2.3453371187860914, 3.0317826760491853],\n",
       " [8.005515318930101, 2.705855169009429],\n",
       " [94.86775599632743, 1.872642060193305],\n",
       " [15.365119301759123, 2.8221150382432176],\n",
       " [1.936984993807276, 35.23709645155428],\n",
       " [2.2413313933490002, 2.7525781486670113],\n",
       " [691.0159504470498, 11.370825040663942],\n",
       " [500.97410476861023, 2.7507147212736838],\n",
       " [3.483355971522974, 2.50548726791473],\n",
       " [2.2336586235853573, 2.238939594402864],\n",
       " [22.850458290034627, 2.4024615520359323],\n",
       " [10.330871804593787, 12.54926131156066],\n",
       " [808.1090066195932, 3.992257505634952],\n",
       " [2.7316391157827797, 11.370825040663942],\n",
       " [15.365119301759123, 5.539884535536853],\n",
       " [3.951642893105927, 5.803557401939975],\n",
       " [12.955581206888283, 3.1640226877351236],\n",
       " [1.7118853825662208, 3.416599350546034],\n",
       " [151.40273774724022, 1.7574375903968886],\n",
       " [2.2454179967269465, 2.661984912152818],\n",
       " [3.498447221873389, 5.93488969464361],\n",
       " [6.297422475294325, 269.42617651837406],\n",
       " [165.17675072101034, 1.9148831084411548],\n",
       " [4.238121946595159, 3.49373440527876],\n",
       " [5.624296784400919, 2.2184023057198727],\n",
       " [5.23461715148488, 2.756001082954818],\n",
       " [2.7316391157827797, 7.235006047405678],\n",
       " [9.20479820467367, 53.305501544374046],\n",
       " [15.365119301759123, 14.618883508626821],\n",
       " [13.438263657766665, 2.2433776467302406],\n",
       " [2.9211743857602506, 2.563563270168011],\n",
       " [2.2454179967269465, 22.850458290034627],\n",
       " [94.86775599632743, 2.1916507396390648],\n",
       " [4.368634192272852, 3.8512682791961534],\n",
       " [92.74349899393941, 2.9211743857602506],\n",
       " [4.914279529844044, 2.756001082954818],\n",
       " [383.4286244523438, 1.8604868494296862],\n",
       " [3.569018935956074, 3.446603409885541],\n",
       " [5.06008881326035, 1.975616152612003],\n",
       " [36.12641709621675, 2.112895699056493],\n",
       " [1.8170050416945867, 2.4216200390959246],\n",
       " [3.0462504300484605, 3.6293428225181485],\n",
       " [94.42044372911062, 31.870038448044284],\n",
       " [94.86775599632743, 101.3103045197489],\n",
       " [37.16139000612645, 3.0887158886537986],\n",
       " [26.13663917320097, 5.978043711444271],\n",
       " [211.67918877828026, 14.12029830766619],\n",
       " [46.59954882886296, 476.74743199371653],\n",
       " [3.545992463950412, 3.1862174047133913],\n",
       " [3.0447691917357442, 4.046864908217618],\n",
       " [1.6657283225015407, 2.22306010722821],\n",
       " [15.365119301759123, 2.469528255600472],\n",
       " [285.31386284690575, 3.286142736348215],\n",
       " [19.245836193478326, 2.960775001076481],\n",
       " [69.33731850112498, 2.5492423660324386],\n",
       " [17.94309979143959, 3.8512682791961534],\n",
       " [50.25403901283776, 6.5696382774832465],\n",
       " [136.94999295353048, 252.74872462511308],\n",
       " [1.7118853825662208, 4.213037439709207],\n",
       " [2.800253114161884, 2.5276565854002113],\n",
       " [1.6657283225015407, 3.9397357023058364],\n",
       " [3.569018935956074, 165.17675072101034],\n",
       " [19.276442413582977, 14.12029830766619],\n",
       " [3.0685742548434587, 3.4301817655237365],\n",
       " [29.065986663759134, 22.850458290034627],\n",
       " [6.974641293494797, 3.445829798111201],\n",
       " [2.1654675639816396, 14.618883508626821],\n",
       " [11.884209270157621, 3.851677811128938],\n",
       " [38.78627631442357, 3.4130005677177784],\n",
       " [1.4898868467875888, 2.6560827401378417],\n",
       " [1.4149513722631353, 4.8931723901726265],\n",
       " [500.97410476861023, 46.29259946055822],\n",
       " [69.33731850112498, 1.8133019120291114],\n",
       " [23.90565243751275, 2.8959020772449637],\n",
       " [330.23448114918835, 187.76342621503323],\n",
       " [16.076883689640304, 9.08749904364837],\n",
       " [14.44601552929616, 39.457866471826556],\n",
       " [45.53118111340775, 3.586296249003085],\n",
       " [123.2919553916872, 664.8674567832358],\n",
       " [2.4995941144030973, 2.321973180783981],\n",
       " [12.21666506207059, 14.12029830766619],\n",
       " [2.9957087782946745, 12.955581206888283],\n",
       " [2.7675375755019345, 3.577444599282177],\n",
       " [6.04220899676834, 2.113376143203828],\n",
       " [53.305501544374046, 4.368634192272852],\n",
       " [94.42044372911062, 664.8674567832358],\n",
       " [2.156972532309021, 3.526457833447822],\n",
       " [10.355866500219978, 2.2454179967269465],\n",
       " [123.2919553916872, 10.371766446989957],\n",
       " [664.8674567832358, 65.9185516677289],\n",
       " [12.017628679539058, 49.74339264637458],\n",
       " [3.1862174047133913, 1.905112271860721],\n",
       " [37.35509163025864, 12.955581206888283],\n",
       " [500.97410476861023, 17.379335916256768],\n",
       " [2.113376143203828, 10.405255526762947],\n",
       " [17.840939257494455, 1.6224531599984358],\n",
       " [6.184112670809051, 2.1384848570402744],\n",
       " [10.08030615859202, 19.585819923699347],\n",
       " [15.365119301759123, 6.974641293494797],\n",
       " [94.42044372911062, 127.63474858375382],\n",
       " [3.0268293053672295, 2.6685331138495516],\n",
       " [3.5378761149824984, 2.4683398987800884],\n",
       " [42.59192867744915, 4.054384916501147],\n",
       " [14.618883508626821, 3.0462504300484605],\n",
       " [6.5696382774832465, 40.707260061406785],\n",
       " [92.74349899393941, 45.53118111340775],\n",
       " [6.14584122957972, 664.8674567832358],\n",
       " [4.3618850874606405, 3.351526046713174],\n",
       " [2.7316391157827797, 4.914279529844044],\n",
       " [3.569018935956074, 3.551952295896883],\n",
       " [3.048556247094599, 26.13663917320097],\n",
       " [252.74872462511308, 330.23448114918835],\n",
       " [13.438263657766665, 2.661984912152818],\n",
       " [1.7118853825662208, 2.887032837127829],\n",
       " [29.68544487673034, 1.3975563436330352],\n",
       " [2236.200124990689, 6.416708928675082],\n",
       " [2.913065966769362, 2.5871950131808257],\n",
       " [31.40413664966626, 64.54222485045409],\n",
       " [7.253440559000028, 285.31386284690575],\n",
       " [19.15760042497413, 7.253440559000028],\n",
       " [2.1384848570402744, 321.93171889789676],\n",
       " [4529.9430889237065, 321.93171889789676],\n",
       " [2.9957087782946745, 12.5375411864198],\n",
       " [2.9957087782946745, 1.9925916023003813],\n",
       " [3.514888768053964, 3.293412204584763],\n",
       " [3.8087905041736083, 13.74966247003631],\n",
       " [3.8087905041736083, 3.4792338811793044],\n",
       " [7.48962856783596, 18.07971934635402],\n",
       " [157.6717682989216, 2.843349811814513],\n",
       " [2.7288172585378794, 2.4743102677411217],\n",
       " [2.4743102677411217, 3.4361330135759576],\n",
       " [3.2345736034787076, 3.84140134185913],\n",
       " [0.9059413440197476, 11.727132574240997],\n",
       " [3.221883779503706, 11.727132574240997],\n",
       " [12.7230543488542, 2.322513664631544],\n",
       " [3.44841011862852, 3.3933372812737934],\n",
       " [4.321444636160023, 3.3933372812737934],\n",
       " [3.44841011862852, 4.321444636160023],\n",
       " [187.76342621503323, 11.009094466425042],\n",
       " [6.623476320177149, 11.009094466425042],\n",
       " [1.8812464484414233, 2.8110834102833366]]"
      ]
     },
     "execution_count": 169,
     "metadata": {},
     "output_type": "execute_result"
    }
   ],
   "source": [
    "compare"
   ]
  },
  {
   "cell_type": "code",
   "execution_count": 172,
   "id": "f3bbbaf7",
   "metadata": {},
   "outputs": [
    {
     "name": "stdout",
     "output_type": "stream",
     "text": [
      "[['cover', 'protect'], [259.2123929632238, 11.05370455011977]]\n",
      "[['take', 'carry'], [691.0159504470498, 128.14042086139486]]\n",
      "[['put', 'take'], [39.983185256724994, 691.0159504470498]]\n",
      "[['obtain', 'get'], [13.819327637581965, 500.97410476861023]]\n",
      "[['take', 'use'], [691.0159504470498, 285.31386284690575]]\n",
      "[['take', 'acquire'], [691.0159504470498, 11.179055607324322]]\n",
      "[['get', 'grab'], [500.97410476861023, 2.5559765702232555]]\n",
      "[['kidnap', 'take'], [2.010669963442691, 691.0159504470498]]\n",
      "[['accept', 'allow'], [252.74872462511308, 187.76342621503323]]\n",
      "[['become', 'make'], [17.547683958352547, 808.1090066195932]]\n",
      "[['begin', 'introduce'], [271.1124127011693, 78.88008537909472]]\n",
      "[['make', 'compose'], [808.1090066195932, 2.7822389668592105]]\n",
      "[['describe', 'write'], [369.4100486518224, 81.67390168039424]]\n",
      "[['gain', 'get'], [40.639963120536784, 500.97410476861023]]\n",
      "[['supply', 'give'], [7.427812739533539, 330.23448114918835]]\n",
      "[['get', 'have'], [500.97410476861023, 2236.200124990689]]\n",
      "[['make', 'develop'], [808.1090066195932, 85.66678079695626]]\n",
      "[['believe', 'accept'], [5.624296784400919, 252.74872462511308]]\n",
      "[['make', 'reproduce'], [808.1090066195932, 38.26927825250708]]\n",
      "[['watch', 'see'], [4.472470048375035, 269.42617651837406]]\n",
      "[['originate', 'begin'], [2.1275963642720903, 271.1124127011693]]\n",
      "[['give', 'return'], [330.23448114918835, 17.568841212023962]]\n",
      "[['return', 'take'], [17.568841212023962, 691.0159504470498]]\n",
      "[['say', 'announce'], [383.4286244523438, 31.23772661361419]]\n",
      "[['wrap', 'cover'], [8.098747794828189, 259.2123929632238]]\n",
      "[['deliver', 'give'], [46.29259946055822, 330.23448114918835]]\n",
      "[['have', 'retain'], [2236.200124990689, 28.041495292669996]]\n",
      "[['explain', 'describe'], [51.76276171167411, 369.4100486518224]]\n",
      "[['capture', 'take'], [8.748412052408403, 691.0159504470498]]\n",
      "[['set', 'swing'], [476.74743199371653, 3.5256228755384242]]\n",
      "[['grab', 'take'], [2.5559765702232555, 691.0159504470498]]\n",
      "[['look', 'see'], [7.1329228915631715, 269.42617651837406]]\n",
      "[['cover', 'spread'], [259.2123929632238, 3.1506534867693357]]\n",
      "[['take', 'snatch'], [691.0159504470498, 1.9110976731064453]]\n",
      "[['cover', 'hide'], [259.2123929632238, 2.1350954283736225]]\n",
      "[['accept', 'understand'], [252.74872462511308, 4.914279529844044]]\n",
      "[['give', 'sell'], [330.23448114918835, 30.388858895063635]]\n",
      "[['bake', 'make'], [3.955980163903381, 808.1090066195932]]\n",
      "[['receive', 'take'], [136.94999295353048, 691.0159504470498]]\n",
      "[['remark', 'say'], [2.9211743857602506, 383.4286244523438]]\n",
      "[['grant', 'give'], [19.245836193478326, 330.23448114918835]]\n",
      "[['suggest', 'say'], [27.589820913119723, 383.4286244523438]]\n",
      "[['invent', 'make'], [2.258055683764, 808.1090066195932]]\n",
      "[['take', 'seize'], [691.0159504470498, 12.21666506207059]]\n",
      "[['acknowledge', 'accept'], [14.477542007645537, 252.74872462511308]]\n",
      "[['observe', 'see'], [5.803557401939975, 269.42617651837406]]\n",
      "[['send', 'give'], [154.03017793367806, 330.23448114918835]]\n",
      "[['give', 'lend'], [330.23448114918835, 4.472277582934208]]\n",
      "[['put', 'give'], [39.983185256724994, 330.23448114918835]]\n",
      "[['appear', 'show'], [16.156341612857005, 271.2149504752532]]\n",
      "[['get', 'give'], [500.97410476861023, 330.23448114918835]]\n",
      "[['express', 'say'], [16.813812496114362, 383.4286244523438]]\n",
      "[['recruit', 'get'], [4.213359402798832, 500.97410476861023]]\n",
      "[['make', 'prepare'], [808.1090066195932, 5.924080439906426]]\n",
      "[['make', 'construct'], [808.1090066195932, 1.8935485584024467]]\n",
      "[['agree', 'accept'], [30.417285427393796, 252.74872462511308]]\n",
      "[['say', 'reply'], [383.4286244523438, 4.158136539053984]]\n",
      "[['let', 'give'], [13.638914732629585, 330.23448114918835]]\n",
      "[['take', 'steal'], [691.0159504470498, 3.3087328846100132]]\n",
      "[['give', 'award'], [330.23448114918835, 5.322073623577237]]\n",
      "[['say', 'repeat'], [383.4286244523438, 17.82049614095081]]\n",
      "[['give', 'pay'], [330.23448114918835, 19.585819923699347]]\n",
      "[['smother', 'cover'], [2.4510088106921355, 259.2123929632238]]\n",
      "[['take', 'abduct'], [691.0159504470498, 3.3258816722001496]]\n",
      "[['get', 'receive'], [500.97410476861023, 136.94999295353048]]\n",
      "[['obtain', 'take'], [13.819327637581965, 691.0159504470498]]\n",
      "[['take', 'unload'], [691.0159504470498, 2.7288903517934906]]\n",
      "[['say', 'ask'], [383.4286244523438, 57.02675940015975]]\n",
      "[['take', 'borrow'], [691.0159504470498, 1.7036296397650692]]\n",
      "[['reach', 'get'], [104.00672837944039, 500.97410476861023]]\n",
      "[['make', 'build'], [808.1090066195932, 101.82016109471029]]\n",
      "[['show', 'tell'], [271.2149504752532, 92.74349899393941]]\n",
      "[['show', 'direct'], [271.2149504752532, 12.017628679539058]]\n",
      "[['perceive', 'get'], [1.1065604854032596, 500.97410476861023]]\n",
      "[['claim', 'say'], [39.69771627913512, 383.4286244523438]]\n",
      "[['help', 'use'], [42.59192867744915, 285.31386284690575]]\n",
      "[['recycle', 'use'], [3.0093131506762916, 285.31386284690575]]\n",
      "[['have', 'acquire'], [2236.200124990689, 11.179055607324322]]\n",
      "[['fix', 'set'], [2.22306010722821, 476.74743199371653]]\n",
      "[['foil', 'cover'], [2.8907654073294564, 259.2123929632238]]\n",
      "[['organize', 'set'], [3.6005712018018756, 476.74743199371653]]\n",
      "[['give', 'treat'], [330.23448114918835, 6.6332920273516205]]\n",
      "[['acquire', 'find'], [11.179055607324322, 211.67918877828026]]\n",
      "[['collect', 'get'], [30.15972332168011, 500.97410476861023]]\n",
      "[['take', 'lift'], [691.0159504470498, 11.370825040663942]]\n",
      "[['get', 'reap'], [500.97410476861023, 2.7507147212736838]]\n",
      "[['weave', 'make'], [3.992257505634952, 808.1090066195932]]\n",
      "[['see', 'travel'], [269.42617651837406, 6.297422475294325]]\n",
      "[['respond', 'say'], [1.8604868494296862, 383.4286244523438]]\n",
      "[['catch', 'find'], [14.12029830766619, 211.67918877828026]]\n",
      "[['play', 'set'], [46.59954882886296, 476.74743199371653]]\n",
      "[['use', 'waste'], [285.31386284690575, 3.286142736348215]]\n",
      "[['receive', 'accept'], [136.94999295353048, 252.74872462511308]]\n",
      "[['deliver', 'get'], [46.29259946055822, 500.97410476861023]]\n",
      "[['give', 'allow'], [330.23448114918835, 187.76342621503323]]\n",
      "[['be', 'do'], [123.2919553916872, 664.8674567832358]]\n",
      "[['create', 'do'], [94.42044372911062, 664.8674567832358]]\n",
      "[['attempt', 'do'], [65.9185516677289, 664.8674567832358]]\n",
      "[['get', 'buy'], [500.97410476861023, 17.379335916256768]]\n",
      "[['finish', 'do'], [6.14584122957972, 664.8674567832358]]\n",
      "[['accept', 'give'], [252.74872462511308, 330.23448114918835]]\n",
      "[['have', 'possess'], [2236.200124990689, 6.416708928675082]]\n",
      "[['exploit', 'use'], [7.253440559000028, 285.31386284690575]]\n",
      "[['engage', 'involve'], [2.1384848570402744, 321.93171889789676]]\n",
      "[['involve', 'include'], [321.93171889789676, 4529.9430889237065]]\n"
     ]
    }
   ],
   "source": [
    "# Compare the lengths, how often is the hyper smaller than the hypo? Deviation vectors\n",
    "compare = []\n",
    "for a in pairlist[:243]+pairlist[250:515]+pairlist[550:800]:\n",
    "    local = [mf.M_vec_mult_dev(objsubset5[a[0]].val,objsubset5[a[0]].val,objsubset5.mean,objsubset5.std),mf.M_vec_mult_dev(objsubset5[a[1]].val,objsubset5[a[1]].val,objsubset5.mean,objsubset5.std)]\n",
    "    \n",
    "    if is_hyponym(a[0],a[1]):\n",
    "        compare.append(local)\n",
    "    else :\n",
    "        compare.append([local[1],local[0]])\n",
    "    if local[0]>200 or local[1]>200:\n",
    "        print([a,local])"
   ]
  },
  {
   "cell_type": "code",
   "execution_count": 28,
   "id": "0169fe9d",
   "metadata": {},
   "outputs": [
    {
     "data": {
      "text/plain": [
       "346"
      ]
     },
     "execution_count": 28,
     "metadata": {},
     "output_type": "execute_result"
    }
   ],
   "source": [
    "allmyhypos = set()\n",
    "for a in list(map(get_hyponyms,wn.synsets('have'))):\n",
    "    allmyhypos = allmyhypos.union(a)\n",
    "len(allmyhypos)"
   ]
  },
  {
   "cell_type": "code",
   "execution_count": 29,
   "id": "ddfa6b92",
   "metadata": {},
   "outputs": [
    {
     "data": {
      "text/plain": [
       "477"
      ]
     },
     "execution_count": 29,
     "metadata": {},
     "output_type": "execute_result"
    }
   ],
   "source": [
    "allmyhypos = set()\n",
    "for a in list(map(get_hyponyms,wn.synsets('give'))):\n",
    "    allmyhypos = allmyhypos.union(a)\n",
    "len(allmyhypos)"
   ]
  },
  {
   "cell_type": "code",
   "execution_count": 30,
   "id": "ec7f6a3b",
   "metadata": {},
   "outputs": [
    {
     "data": {
      "text/plain": [
       "25"
      ]
     },
     "execution_count": 30,
     "metadata": {},
     "output_type": "execute_result"
    }
   ],
   "source": [
    "allmyhypos = set()\n",
    "for a in list(map(get_hyponyms,wn.synsets('include'))):\n",
    "    allmyhypos = allmyhypos.union(a)\n",
    "len(allmyhypos)"
   ]
  },
  {
   "cell_type": "code",
   "execution_count": null,
   "id": "fdd31c7b",
   "metadata": {},
   "outputs": [],
   "source": []
  }
 ],
 "metadata": {
  "kernelspec": {
   "display_name": "Python 3",
   "language": "python",
   "name": "python3"
  },
  "language_info": {
   "codemirror_mode": {
    "name": "ipython",
    "version": 3
   },
   "file_extension": ".py",
   "mimetype": "text/x-python",
   "name": "python",
   "nbconvert_exporter": "python",
   "pygments_lexer": "ipython3",
   "version": "3.9.4"
  }
 },
 "nbformat": 4,
 "nbformat_minor": 5
}
