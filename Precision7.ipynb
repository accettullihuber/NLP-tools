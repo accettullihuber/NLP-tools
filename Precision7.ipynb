{
 "cells": [
  {
   "cell_type": "markdown",
   "id": "80a6b798",
   "metadata": {},
   "source": [
    "# Import"
   ]
  },
  {
   "cell_type": "code",
   "execution_count": 83,
   "id": "c6043e24",
   "metadata": {},
   "outputs": [],
   "source": [
    "import numpy as np\n",
    "import random\n",
    "from scipy.stats import spearmanr, pearsonr\n",
    "from scipy.optimize import fsolve\n",
    "\n",
    "#import the custom functions\n",
    "import MFunctions as mf"
   ]
  },
  {
   "cell_type": "code",
   "execution_count": 84,
   "id": "c89b5b16",
   "metadata": {},
   "outputs": [],
   "source": [
    "#Load verb_symilarity from which we extract the pairs\n",
    "simdict = mf.verb_similarity(\"SimVerb-3500.txt\")"
   ]
  },
  {
   "cell_type": "markdown",
   "id": "ec692dd1",
   "metadata": {},
   "source": [
    "# Preliminary loading"
   ]
  },
  {
   "cell_type": "markdown",
   "id": "5071fefd",
   "metadata": {},
   "source": [
    "## Choosing the seeds for the various samples"
   ]
  },
  {
   "cell_type": "code",
   "execution_count": 3,
   "id": "43c1955f",
   "metadata": {},
   "outputs": [],
   "source": [
    "#Experiment 2 requires averaging over a number of different random samples. To generate these in a way \n",
    "#which is random but repeatable we need a list of seeds for the random generator. We decided to pick 20 samples\n",
    "\n",
    "#seed the random generator before genearting the integer seeds for the random samples\n",
    "random.seed(7)\n",
    "\n",
    "seed_list = [(random.randint(0,5000),random.randint(0,5000)) for a in range(20)]\n",
    "\n",
    "#Make a second seed_list for when we need 3 seeds instead of 2\n",
    "\n",
    "seed_list2 = [(random.randint(0,5000),random.randint(0,5000),random.randint(0,5000)) for a in range(20)]"
   ]
  },
  {
   "cell_type": "markdown",
   "id": "f94fef01",
   "metadata": {},
   "source": [
    "## 13 obs defs"
   ]
  },
  {
   "cell_type": "code",
   "execution_count": 4,
   "id": "76a6772c",
   "metadata": {},
   "outputs": [],
   "source": [
    "# Make observables object\n",
    "set1 = mf.observables([\"Linear.txt\",\"Quadratic.txt\"])\n",
    "# Load matrices and make vector dictionaries\n",
    "objsubset1 = mf.vector_dictionary(\"matrices_1160_arg_obj_context_subj.txt\",set1)\n",
    "subobjset1 = mf.vector_dictionary(\"matrices_1160_arg_subj_context_obj.txt\",set1,[0])\n",
    "obj08sub02set1 = mf.vector_dictionary([[\"matrices_1160_arg_obj_context_subj.txt\",\"matrices_1160_arg_subj_context_obj.txt\"],[0.8,0.2]],set1,[1])\n",
    "obj09sub01set1 = mf.vector_dictionary([[\"matrices_1160_arg_obj_context_subj.txt\",\"matrices_1160_arg_subj_context_obj.txt\"],[0.9,0.1]],set1,[1])\n",
    "\n",
    "file_list1 = [objsubset1,obj09sub01set1,obj08sub02set1,subobjset1]"
   ]
  },
  {
   "cell_type": "markdown",
   "id": "39b9449d",
   "metadata": {},
   "source": [
    "## 15 obs defs"
   ]
  },
  {
   "cell_type": "code",
   "execution_count": 5,
   "id": "05a0bb27",
   "metadata": {},
   "outputs": [],
   "source": [
    "# Make observables object\n",
    "set2 = mf.observables([\"Cubic1.txt\",\"Quartic1.txt\"])\n",
    "# Load matrices and make vector dictionaries\n",
    "objsubset2 = mf.vector_dictionary(\"matrices_1160_arg_obj_context_subj.txt\",set2)\n",
    "subobjset2 = mf.vector_dictionary(\"matrices_1160_arg_subj_context_obj.txt\",set2,[0])\n",
    "obj08sub02set2 = mf.vector_dictionary([[\"matrices_1160_arg_obj_context_subj.txt\",\"matrices_1160_arg_subj_context_obj.txt\"],[0.8,0.2]],set2,[1])\n",
    "obj09sub01set2 = mf.vector_dictionary([[\"matrices_1160_arg_obj_context_subj.txt\",\"matrices_1160_arg_subj_context_obj.txt\"],[0.9,0.1]],set2,[1])\n",
    "\n",
    "file_list2 = [objsubset2,obj09sub01set2,obj08sub02set2,subobjset2]"
   ]
  },
  {
   "cell_type": "markdown",
   "id": "a528790a",
   "metadata": {},
   "source": [
    "## 28 obs defs"
   ]
  },
  {
   "cell_type": "code",
   "execution_count": 6,
   "id": "642aa105",
   "metadata": {},
   "outputs": [],
   "source": [
    "# Make observables object\n",
    "set3 = mf.observables([\"Linear.txt\",\"Quadratic.txt\",\"Cubic1.txt\",\"Quartic1.txt\",\"Additional1.txt\"])\n",
    "# Load matrices and make vector dictionaries\n",
    "objsubset3 = mf.vector_dictionary(\"matrices_1160_arg_obj_context_subj.txt\",set3)\n",
    "subobjset3 = mf.vector_dictionary(\"matrices_1160_arg_subj_context_obj.txt\",set3,[0])\n",
    "obj08sub02set3 = mf.vector_dictionary([[\"matrices_1160_arg_obj_context_subj.txt\",\"matrices_1160_arg_subj_context_obj.txt\"],[0.8,0.2]],set3,[1])\n",
    "obj09sub01set3 = mf.vector_dictionary([[\"matrices_1160_arg_obj_context_subj.txt\",\"matrices_1160_arg_subj_context_obj.txt\"],[0.9,0.1]],set3,[1])\n",
    "\n",
    "file_list3 = [objsubset3,obj09sub01set3,obj08sub02set3,subobjset3]"
   ]
  },
  {
   "cell_type": "markdown",
   "id": "0a5db54c",
   "metadata": {},
   "source": [
    "# Observable deviation vectors"
   ]
  },
  {
   "cell_type": "markdown",
   "id": "95dd29b4",
   "metadata": {},
   "source": [
    "## Some plots"
   ]
  },
  {
   "cell_type": "code",
   "execution_count": 7,
   "id": "d3f331ff",
   "metadata": {},
   "outputs": [],
   "source": [
    "import seaborn as sns\n",
    "import pandas as pd\n",
    "from matplotlib import pyplot as plt"
   ]
  },
  {
   "cell_type": "code",
   "execution_count": 8,
   "id": "c091fab3",
   "metadata": {},
   "outputs": [],
   "source": [
    "# Use as data the inner products of the vectors. Data of synonyms\n",
    "syndat = {'syn' : [a for a in mf.averaged_product_list(simdict,'SYNONYMS',objsubset1,\"std_dev\").values()]}\n",
    "syndat = pd.DataFrame(data = syndat)\n",
    "#Antonym data\n",
    "antdat = {'ant' : [a for a in mf.averaged_product_list(simdict,'ANTONYMS',objsubset1,\"std_dev\").values()]}\n",
    "antdat = pd.DataFrame(data = antdat)\n",
    "#None dat\n",
    "nondat = {'none' : [a for a in mf.averaged_product_list(simdict,'NONE',objsubset1,\"std_dev\").values()]}\n",
    "nondat = pd.DataFrame(data = nondat)\n",
    "#Cohypo\n",
    "cohdat = {'cohypo' : [a for a in mf.averaged_product_list(simdict,'COHYPONYMS',objsubset1,\"std_dev\").values()]}\n",
    "cohdat = pd.DataFrame(data = cohdat)\n",
    "#Hyper/hypo\n",
    "hypdat = {'hyper/hypo' : [a for a in mf.averaged_product_list(simdict,'HYPER/HYPONYMS',objsubset1,\"std_dev\").values()]}\n",
    "hypdat = pd.DataFrame(data = hypdat)"
   ]
  },
  {
   "cell_type": "code",
   "execution_count": 9,
   "id": "c74b28c9",
   "metadata": {},
   "outputs": [],
   "source": [
    "#Apply default theme for seaborn\n",
    "sns.set_theme()"
   ]
  },
  {
   "cell_type": "code",
   "execution_count": 10,
   "id": "4f62a6f7",
   "metadata": {},
   "outputs": [
    {
     "data": {
      "text/plain": [
       "<AxesSubplot:ylabel='Count'>"
      ]
     },
     "execution_count": 10,
     "metadata": {},
     "output_type": "execute_result"
    },
    {
     "data": {
      "image/png": "[encoded data removed]",
      "text/plain": [
       "<Figure size 432x288 with 1 Axes>"
      ]
     },
     "metadata": {},
     "output_type": "display_data"
    }
   ],
   "source": [
    "sns.histplot(data = syndat, binwidth = 0.05)\n",
    "sns.histplot(data = antdat, binwidth = 0.05)"
   ]
  },
  {
   "cell_type": "code",
   "execution_count": 11,
   "id": "6891669f",
   "metadata": {},
   "outputs": [
    {
     "data": {
      "text/plain": [
       "<AxesSubplot:ylabel='Count'>"
      ]
     },
     "execution_count": 11,
     "metadata": {},
     "output_type": "execute_result"
    },
    {
     "data": {
      "image/png": "[encoded data removed]",
      "text/plain": [
       "<Figure size 432x288 with 1 Axes>"
      ]
     },
     "metadata": {},
     "output_type": "display_data"
    }
   ],
   "source": [
    "sns.histplot(data = syndat, binwidth = 0.05)\n",
    "sns.histplot(data = antdat, binwidth = 0.05)\n",
    "sns.histplot(data = nondat, binwidth = 0.05)"
   ]
  },
  {
   "cell_type": "code",
   "execution_count": 12,
   "id": "80d60cd1",
   "metadata": {},
   "outputs": [
    {
     "data": {
      "text/plain": [
       "<AxesSubplot:ylabel='Count'>"
      ]
     },
     "execution_count": 12,
     "metadata": {},
     "output_type": "execute_result"
    },
    {
     "data": {
      "image/png": "[encoded data removed]",
      "text/plain": [
       "<Figure size 432x288 with 1 Axes>"
      ]
     },
     "metadata": {},
     "output_type": "display_data"
    }
   ],
   "source": [
    "sns.histplot(data = cohdat, binwidth = 0.05)\n",
    "sns.histplot(data = hypdat, binwidth = 0.05)"
   ]
  },
  {
   "cell_type": "code",
   "execution_count": 16,
   "id": "9495549f",
   "metadata": {},
   "outputs": [],
   "source": [
    "# Use as data the inner products of the vectors. Data of synonyms\n",
    "syndat = {'syn' : [a for a in mf.averaged_product_list(simdict,'SYNONYMS',subobjset3,\"std_dev\").values()]}\n",
    "syndat = pd.DataFrame(data = syndat)\n",
    "#Antonym data\n",
    "antdat = {'ant' : [a for a in mf.averaged_product_list(simdict,'ANTONYMS',subobjset3,\"std_dev\").values()]}\n",
    "antdat = pd.DataFrame(data = antdat)\n",
    "#None dat\n",
    "nondat = {'none' : [a for a in mf.averaged_product_list(simdict,'NONE',subobjset3,\"std_dev\").values()]}\n",
    "nondat = pd.DataFrame(data = nondat)\n",
    "#Cohypo\n",
    "cohdat = {'cohypo' : [a for a in mf.averaged_product_list(simdict,'COHYPONYMS',subobjset3,\"std_dev\").values()]}\n",
    "cohdat = pd.DataFrame(data = cohdat)\n",
    "#Hyper/hypo\n",
    "hypdat = {'hyper/hypo' : [a for a in mf.averaged_product_list(simdict,'HYPER/HYPONYMS',subobjset3,\"std_dev\").values()]}\n",
    "hypdat = pd.DataFrame(data = hypdat)"
   ]
  },
  {
   "cell_type": "code",
   "execution_count": 14,
   "id": "2ecd3276",
   "metadata": {},
   "outputs": [],
   "source": [
    "#Apply default theme for seaborn\n",
    "sns.set_theme()"
   ]
  },
  {
   "cell_type": "code",
   "execution_count": 15,
   "id": "3e77719b",
   "metadata": {},
   "outputs": [
    {
     "data": {
      "text/plain": [
       "<AxesSubplot:ylabel='Count'>"
      ]
     },
     "execution_count": 15,
     "metadata": {},
     "output_type": "execute_result"
    },
    {
     "data": {
      "image/png": "[encoded data removed]",
      "text/plain": [
       "<Figure size 432x288 with 1 Axes>"
      ]
     },
     "metadata": {},
     "output_type": "display_data"
    }
   ],
   "source": [
    "sns.histplot(data = syndat, binwidth = 0.05)\n",
    "sns.histplot(data = antdat, binwidth = 0.05)"
   ]
  },
  {
   "cell_type": "code",
   "execution_count": 26,
   "id": "3373e140",
   "metadata": {},
   "outputs": [
    {
     "data": {
      "text/plain": [
       "<AxesSubplot:ylabel='Probability'>"
      ]
     },
     "execution_count": 26,
     "metadata": {},
     "output_type": "execute_result"
    },
    {
     "data": {
      "image/png": "[encoded data removed]",
      "text/plain": [
       "<Figure size 432x288 with 1 Axes>"
      ]
     },
     "metadata": {},
     "output_type": "display_data"
    }
   ],
   "source": [
    "sns.histplot(data = syndat, binwidth = 0.05,stat = \"probability\")\n",
    "sns.histplot(data = antdat, binwidth = 0.05,stat = \"probability\")"
   ]
  },
  {
   "cell_type": "code",
   "execution_count": 29,
   "id": "738ca0fc",
   "metadata": {},
   "outputs": [
    {
     "data": {
      "text/plain": [
       "<AxesSubplot:ylabel='Probability'>"
      ]
     },
     "execution_count": 29,
     "metadata": {},
     "output_type": "execute_result"
    },
    {
     "data": {
      "image/png": "[encoded data removed]",
      "text/plain": [
       "<Figure size 432x288 with 2 Axes>"
      ]
     },
     "metadata": {},
     "output_type": "display_data"
    }
   ],
   "source": [
    "fig, axes = plt.subplots(1,2)\n",
    "sns.histplot(data = syndat, binwidth = 0.05,stat = \"probability\",ax = axes[0],kde=True)\n",
    "sns.histplot(data = antdat, binwidth = 0.05,stat = \"probability\",ax = axes[1],kde=True)"
   ]
  },
  {
   "cell_type": "code",
   "execution_count": 16,
   "id": "739c34ff",
   "metadata": {},
   "outputs": [
    {
     "data": {
      "text/plain": [
       "<AxesSubplot:ylabel='Count'>"
      ]
     },
     "execution_count": 16,
     "metadata": {},
     "output_type": "execute_result"
    },
    {
     "data": {
      "image/png": "[encoded data removed]",
      "text/plain": [
       "<Figure size 432x288 with 1 Axes>"
      ]
     },
     "metadata": {},
     "output_type": "display_data"
    }
   ],
   "source": [
    "sns.histplot(data = syndat, binwidth = 0.05)\n",
    "sns.histplot(data = antdat, binwidth = 0.05)\n",
    "sns.histplot(data = nondat, binwidth = 0.05)"
   ]
  },
  {
   "cell_type": "code",
   "execution_count": 30,
   "id": "5aabbe8c",
   "metadata": {},
   "outputs": [
    {
     "data": {
      "image/png": "[encoded data removed]",
      "text/plain": [
       "<Figure size 1224x360 with 3 Axes>"
      ]
     },
     "metadata": {},
     "output_type": "display_data"
    }
   ],
   "source": [
    "fig, axes = plt.subplots(1,3,figsize=(17,5),sharey = True)\n",
    "axes[0].set_title(\"antonym pairs\")\n",
    "axes[1].set_title(\"none pairs\")\n",
    "axes[2].set_title(\"synonym pairs\")\n",
    "#axes[0].set_ylim(0,0.1)\n",
    "#axes[0].set_xlim(-1,1)\n",
    "sns.histplot(data = syndat, binwidth = 0.05,stat = \"probability\",ax = axes[2],kde=True)\n",
    "sns.histplot(data = antdat, binwidth = 0.05,stat = \"probability\",ax = axes[0],kde=True)\n",
    "sns.histplot(data = nondat, binwidth = 0.05,stat = \"probability\",ax = axes[1],kde=True)\n",
    "fig.savefig(\"diagonal_with_lines.png\")"
   ]
  },
  {
   "cell_type": "code",
   "execution_count": 31,
   "id": "9b0cd1cf",
   "metadata": {},
   "outputs": [
    {
     "data": {
      "image/png": "[encoded data removed]",
      "text/plain": [
       "<Figure size 1224x360 with 3 Axes>"
      ]
     },
     "metadata": {},
     "output_type": "display_data"
    }
   ],
   "source": [
    "fig, axes = plt.subplots(1,3,figsize=(17,5),sharey = True)\n",
    "axes[0].set_title(\"antonym pairs\")\n",
    "axes[1].set_title(\"none pairs\")\n",
    "axes[2].set_title(\"synonym pairs\")\n",
    "sns.histplot(data = syndat, binwidth = 0.05,stat = \"probability\",ax = axes[2])\n",
    "sns.histplot(data = antdat, binwidth = 0.05,stat = \"probability\",ax = axes[0])\n",
    "sns.histplot(data = nondat, binwidth = 0.05,stat = \"probability\",ax = axes[1])\n",
    "fig.savefig(\"diagonal_no_lines.png\")"
   ]
  },
  {
   "cell_type": "code",
   "execution_count": 17,
   "id": "eb1b3de1",
   "metadata": {},
   "outputs": [
    {
     "data": {
      "text/plain": [
       "<AxesSubplot:ylabel='Count'>"
      ]
     },
     "execution_count": 17,
     "metadata": {},
     "output_type": "execute_result"
    },
    {
     "data": {
      "image/png": "[encoded data removed]",
      "text/plain": [
       "<Figure size 432x288 with 1 Axes>"
      ]
     },
     "metadata": {},
     "output_type": "display_data"
    }
   ],
   "source": [
    "sns.histplot(data = cohdat, binwidth = 0.05)\n",
    "sns.histplot(data = hypdat, binwidth = 0.05)"
   ]
  },
  {
   "cell_type": "code",
   "execution_count": 39,
   "id": "e5121481",
   "metadata": {},
   "outputs": [
    {
     "data": {
      "image/png": "[encoded data removed]",
      "text/plain": [
       "<Figure size 1080x360 with 2 Axes>"
      ]
     },
     "metadata": {},
     "output_type": "display_data"
    }
   ],
   "source": [
    "fig, axes = plt.subplots(1,2,figsize=(15,5),sharey = True)\n",
    "axes[0].set_title(\"hyper/hyponym pairs\")\n",
    "axes[1].set_title(\"cohyponym pairs\")\n",
    "sns.histplot(data = hypdat, binwidth = 0.05,stat = \"probability\",ax = axes[0])\n",
    "sns.histplot(data = cohdat, binwidth = 0.05,stat = \"probability\",ax = axes[1])\n",
    "fig.savefig(\"diagonal_no_lines_hyp.png\")"
   ]
  },
  {
   "cell_type": "code",
   "execution_count": 40,
   "id": "616e5a70",
   "metadata": {},
   "outputs": [
    {
     "data": {
      "image/png": "[encoded data removed]",
      "text/plain": [
       "<Figure size 1080x360 with 2 Axes>"
      ]
     },
     "metadata": {},
     "output_type": "display_data"
    }
   ],
   "source": [
    "fig, axes = plt.subplots(1,2,figsize=(15,5),sharey = True)\n",
    "axes[0].set_title(\"hyper/hyponym pairs\")\n",
    "axes[1].set_title(\"cohyponym pairs\")\n",
    "sns.histplot(data = hypdat, binwidth = 0.05,stat = \"probability\",ax = axes[0],kde=True)\n",
    "sns.histplot(data = cohdat, binwidth = 0.05,stat = \"probability\",ax = axes[1],kde=True)\n",
    "fig.savefig(\"diagonal_with_lines_hyp.png\")"
   ]
  },
  {
   "cell_type": "code",
   "execution_count": 34,
   "id": "de608403",
   "metadata": {},
   "outputs": [
    {
     "name": "stdout",
     "output_type": "stream",
     "text": [
      "[0.05637290815348894, 0.32174248346655265]\n",
      "[0.1141253941249292, 0.3602126910632807]\n"
     ]
    }
   ],
   "source": [
    "print(mf.averaged_product(simdict,'HYPER/HYPONYMS',subobjset3,'maha'))\n",
    "print(mf.averaged_product(simdict,'COHYPONYMS',subobjset3,'maha'))"
   ]
  },
  {
   "cell_type": "markdown",
   "id": "6985577a",
   "metadata": {},
   "source": [
    "## Precision is computed by averaging: function definition"
   ]
  },
  {
   "cell_type": "code",
   "execution_count": null,
   "id": "6abb0f6d",
   "metadata": {},
   "outputs": [],
   "source": [
    "'''We decided to compute the recall on the binary classification problems: syn vs ant, syn vs non-syn,\n",
    "   ant vs non-ant and hyper vs cohypo. Also, we compute the precision on the predictions for some of these classes'''"
   ]
  },
  {
   "cell_type": "code",
   "execution_count": null,
   "id": "d27ecb88",
   "metadata": {},
   "outputs": [],
   "source": [
    "# We decided to compute the precision by averaging over the precision in each category, which scales well\n",
    "# for cases where the sample sizes are very different for syn/non/ant (we have ~300 syn ~100 ant ~2000 none)"
   ]
  },
  {
   "cell_type": "code",
   "execution_count": 55,
   "id": "e0f56cb4",
   "metadata": {},
   "outputs": [],
   "source": [
    "def synvsant1(file_name):\n",
    "    #Using observable vectors with cosine distance\n",
    "\n",
    "    #Compute the mean and the standard deviation for the SYNONYMS\n",
    "    syn1 = mf.averaged_product(simdict,'SYNONYMS',file_name,\"std_dev\")\n",
    "\n",
    "    #Compute the mean and the standard deviation for the ANTONYMS\n",
    "    ant1 = mf.averaged_product(simdict,'ANTONYMS',file_name,\"std_dev\")\n",
    "    \n",
    "    #Use the means and deviations to set the divide between synonyms and antonyms\n",
    "    divide1 = ant1[0] + ant1[1]/syn1[1] * (syn1[0]-ant1[0])/2\n",
    "    \n",
    "    # Use the earlier defined function to compute the list of scalar products of the verbs and compare with divide\n",
    "    prodlist1 = mf.averaged_product_list(simdict,'SYNONYMS',file_name,\"std_dev\")\n",
    "\n",
    "    prodlist5 = mf.averaged_product_list(simdict,'ANTONYMS',file_name,\"std_dev\")\n",
    "    \n",
    "    # Compare and count the number of synonyms we get right\n",
    "    syncomparison1 = [a > divide1 for a in list(prodlist1.values())]\n",
    "\n",
    "    # Compare and count the number of antonyms we get right\n",
    "    antcomparison1 = [a < divide1 for a in list(prodlist5.values())]\n",
    "\n",
    "    #Compute the recall\n",
    "    recall1 = 1/2*(syncomparison1.count(True)/len(syncomparison1) + antcomparison1.count(True)/len(antcomparison1))\n",
    "    \n",
    "    #precision\n",
    "    precision1 = 1/2*(syncomparison1.count(True)/(syncomparison1.count(True)+antcomparison1.count(False))+antcomparison1.count(True)/(antcomparison1.count(True)+syncomparison1.count(False)))\n",
    "    \n",
    "    #f1 score\n",
    "    #precision1 = 2 * precision1 * recall1 /(precision1 + recall1)\n",
    "    \n",
    "    return recall1"
   ]
  },
  {
   "cell_type": "code",
   "execution_count": 8,
   "id": "2077df48",
   "metadata": {},
   "outputs": [],
   "source": [
    "def synvsnonsyn1(file_name):\n",
    "    #Using observable vectors with cosine distance\n",
    "\n",
    "    #Compute the mean and the standard deviation for the SYNONYMS\n",
    "    syn1 = mf.averaged_product(simdict,'SYNONYMS',file_name,\"std_dev\")\n",
    "\n",
    "    #Compute the mean and the standard deviation for the ANTONYMS\n",
    "    ant1 = mf.averaged_product(simdict,['ANTONYMS','NONE'],file_name,\"std_dev\")\n",
    "    \n",
    "    #Use the means and deviations to set the divide between synonyms and antonyms\n",
    "    divide1 = ant1[0] + ant1[1]/syn1[1] * (syn1[0]-ant1[0])/2\n",
    "    \n",
    "    # Use the earlier defined function to compute the list of scalar products of the verbs and compare with divide\n",
    "    prodlist1 = mf.averaged_product_list(simdict,'SYNONYMS',file_name,\"std_dev\")\n",
    "\n",
    "    prodlist5 = mf.averaged_product_list(simdict,['ANTONYMS','NONE'],file_name,\"std_dev\")\n",
    "    \n",
    "    # Compare and count the number of synonyms we get right\n",
    "    syncomparison1 = [a > divide1 for a in list(prodlist1.values())]\n",
    "\n",
    "    # Compare and count the number of antonyms we get right\n",
    "    antcomparison1 = [a < divide1 for a in list(prodlist5.values())]\n",
    "\n",
    "    #Compute the recall\n",
    "    recall1 = 1/2*(syncomparison1.count(True)/len(syncomparison1) + antcomparison1.count(True)/len(antcomparison1))\n",
    "    \n",
    "    #precision\n",
    "    precision1 = 1/2*(syncomparison1.count(True)/(syncomparison1.count(True)+antcomparison1.count(False))+antcomparison1.count(True)/(antcomparison1.count(True)+syncomparison1.count(False)))\n",
    "    \n",
    "    #f1 score\n",
    "    #precision1 = 2 * precision1 * recall1 /(precision1 + recall1)\n",
    "    \n",
    "    return recall1"
   ]
  },
  {
   "cell_type": "code",
   "execution_count": 9,
   "id": "0aa47655",
   "metadata": {},
   "outputs": [],
   "source": [
    "def antvsnonant1(file_name):\n",
    "    #Using observable vectors with cosine distance\n",
    "\n",
    "    #Compute the mean and the standard deviation for the SYNONYMS\n",
    "    syn1 = mf.averaged_product(simdict,'ANTONYMS',file_name,\"std_dev\")\n",
    "\n",
    "    #Compute the mean and the standard deviation for the ANTONYMS\n",
    "    ant1 = mf.averaged_product(simdict,['SYNONYMS','NONE'],file_name,\"std_dev\")\n",
    "    \n",
    "    #Use the means and deviations to set the divide between synonyms and antonyms\n",
    "    divide1 = ant1[0] + ant1[1]/syn1[1] * (syn1[0]-ant1[0])/2\n",
    "    \n",
    "    # Use the earlier defined function to compute the list of scalar products of the verbs and compare with divide\n",
    "    prodlist1 = mf.averaged_product_list(simdict,'ANTONYMS',file_name,\"std_dev\")\n",
    "\n",
    "    prodlist5 = mf.averaged_product_list(simdict,['SYNONYMS','NONE'],file_name,\"std_dev\")\n",
    "    \n",
    "    # Compare and count the number of synonyms we get right\n",
    "    syncomparison1 = [a > divide1 for a in list(prodlist1.values())]\n",
    "\n",
    "    # Compare and count the number of antonyms we get right\n",
    "    antcomparison1 = [a < divide1 for a in list(prodlist5.values())]\n",
    "\n",
    "    #Compute the recall\n",
    "    recall1 = 1/2*(syncomparison1.count(True)/len(syncomparison1) + antcomparison1.count(True)/len(antcomparison1))\n",
    "    \n",
    "    #precision\n",
    "    precision1 = 1/2*(syncomparison1.count(True)/(syncomparison1.count(True)+antcomparison1.count(False))+antcomparison1.count(True)/(antcomparison1.count(True)+syncomparison1.count(False)))\n",
    "    \n",
    "    #f1 score\n",
    "    #precision1 = 2 * precision1 * recall1 /(precision1 + recall1)\n",
    "    \n",
    "    return recall1"
   ]
  },
  {
   "cell_type": "code",
   "execution_count": 10,
   "id": "3ab761f9",
   "metadata": {},
   "outputs": [],
   "source": [
    "def hypohyper1(file_name):\n",
    "    #Using observable vectors with cosine distance\n",
    "\n",
    "    #Compute the mean and the standard deviation for the SYNONYMS\n",
    "    syn1 = mf.averaged_product(simdict,'COHYPONYMS',file_name,\"std_dev\")\n",
    "\n",
    "    #Compute the mean and the standard deviation for the ANTONYMS\n",
    "    ant1 = mf.averaged_product(simdict,'HYPER/HYPONYMS',file_name,\"std_dev\")\n",
    "    \n",
    "    #Use the means and deviations to set the divide between synonyms and antonyms\n",
    "    divide1 = ant1[0] + ant1[1]/syn1[1] * (syn1[0]-ant1[0])/2\n",
    "    \n",
    "    # Use the earlier defined function to compute the list of scalar products of the verbs and compare with divide\n",
    "    prodlist1 = mf.averaged_product_list(simdict,'COHYPONYMS',file_name,\"std_dev\")\n",
    "\n",
    "    prodlist5 = mf.averaged_product_list(simdict,'HYPER/HYPONYMS',file_name,\"std_dev\")\n",
    "    \n",
    "    # Compare and count the number of synonyms we get right\n",
    "    syncomparison1 = [a > divide1 for a in list(prodlist1.values())]\n",
    "\n",
    "    # Compare and count the number of antonyms we get right\n",
    "    antcomparison1 = [a < divide1 for a in list(prodlist5.values())]\n",
    "\n",
    "    #Compute the recall\n",
    "    recall1 = 1/2*(syncomparison1.count(True)/len(syncomparison1) + antcomparison1.count(True)/len(antcomparison1))\n",
    "    \n",
    "    #precision\n",
    "    precision1 = 1/2*(syncomparison1.count(True)/(syncomparison1.count(True)+antcomparison1.count(False))+antcomparison1.count(True)/(antcomparison1.count(True)+syncomparison1.count(False)))\n",
    "    \n",
    "    return recall1"
   ]
  },
  {
   "cell_type": "code",
   "execution_count": 11,
   "id": "28c93ede",
   "metadata": {},
   "outputs": [],
   "source": [
    "def synvsnonevsant1(file_name):\n",
    "    #Using observable vectors with cosine distance\n",
    "\n",
    "    #Compute the mean and the standard deviation for the SYNONYMS\n",
    "    syn1 = mf.averaged_product(simdict,'SYNONYMS',file_name,\"std_dev\")\n",
    "    \n",
    "    #Compute the mean and the standard deviation for the NONE\n",
    "    non1 = mf.averaged_product(simdict,'NONE',file_name,\"std_dev\")\n",
    "\n",
    "    #Compute the mean and the standard deviation for the ANTONYMS\n",
    "    ant1 = mf.averaged_product(simdict,'ANTONYMS',file_name,\"std_dev\")\n",
    "\n",
    "    #Use the means and deviations to set the divide between synonyms and none\n",
    "    divide1 = non1[0] + np.arctan(non1[1]/syn1[1]) * (syn1[0]-non1[0])/2\n",
    "\n",
    "    #Use the means and deviations to set the divide between none and antonyms\n",
    "    divide5 = ant1[0] + np.arctan(ant1[1]/non1[1]) * (non1[0]-ant1[0])/2\n",
    "    \n",
    "    # Use the earlier defined function to compute the list of scalar products of the verbs and compare with divide\n",
    "    prodlist1 = mf.averaged_product_list(simdict,'SYNONYMS',file_name,\"std_dev\")\n",
    "\n",
    "    prodlist5 = mf.averaged_product_list(simdict,'ANTONYMS',file_name,\"std_dev\")\n",
    "\n",
    "    prodlist9 = mf.averaged_product_list(simdict,'NONE',file_name,\"std_dev\")\n",
    "\n",
    "    # Compare and count the number of synonyms we get right\n",
    "    syncomparison1 = [a > divide1 for a in list(prodlist1.values())]\n",
    "\n",
    "    # Compare and count the number of none we get right\n",
    "    noncomparison1 = [a > divide5 and a < divide1 for a in list(prodlist9.values())]\n",
    "\n",
    "    # Compare and count the number of antonyms we get right\n",
    "    antcomparison1 = [a < divide5 for a in list(prodlist5.values())]\n",
    "\n",
    "    #Compute the average precision\n",
    "    precision1 = 1/3*(syncomparison1.count(True)/len(syncomparison1) + antcomparison1.count(True)/len(antcomparison1) + noncomparison1.count(True)/len(noncomparison1))\n",
    "\n",
    "    return precision1"
   ]
  },
  {
   "cell_type": "markdown",
   "id": "ca4931f7",
   "metadata": {},
   "source": [
    "## Precision is computed by averaging: use better definition for divide"
   ]
  },
  {
   "cell_type": "code",
   "execution_count": null,
   "id": "f587afef",
   "metadata": {},
   "outputs": [],
   "source": [
    "'''We decided to compute the recall on the binary classification problems: syn vs ant, syn vs non-syn,\n",
    "   ant vs non-ant and hyper vs cohypo. Also, we compute the precision on the predictions for some of these classes'''"
   ]
  },
  {
   "cell_type": "code",
   "execution_count": null,
   "id": "6b9e6de5",
   "metadata": {},
   "outputs": [],
   "source": [
    "# We decided to compute the precision by averaging over the precision in each category, which scales well\n",
    "# for cases where the sample sizes are very different for syn/non/ant (we have ~300 syn ~100 ant ~2000 none)"
   ]
  },
  {
   "cell_type": "code",
   "execution_count": 71,
   "id": "35148db4",
   "metadata": {},
   "outputs": [],
   "source": [
    "def synvsant3(file_name):\n",
    "    #Using observable vectors with cosine distance\n",
    "\n",
    "    #Compute the mean and the standard deviation for the SYNONYMS\n",
    "    syn1 = mf.averaged_product(simdict,'SYNONYMS',file_name,\"std_dev\")\n",
    "\n",
    "    #Compute the mean and the standard deviation for the ANTONYMS\n",
    "    ant1 = mf.averaged_product(simdict,'ANTONYMS',file_name,\"std_dev\")\n",
    "    \n",
    "    #Use the means and deviations to set the divide between synonyms and antonyms\n",
    "    divide1 = ant1[0] + 4/np.pi * np.arctan(ant1[1]/syn1[1]) * (syn1[0]-ant1[0])/2\n",
    "    \n",
    "    # Use the earlier defined function to compute the list of scalar products of the verbs and compare with divide\n",
    "    prodlist1 = mf.averaged_product_list(simdict,'SYNONYMS',file_name,\"std_dev\")\n",
    "\n",
    "    prodlist5 = mf.averaged_product_list(simdict,'ANTONYMS',file_name,\"std_dev\")\n",
    "    \n",
    "    # Compare and count the number of synonyms we get right\n",
    "    syncomparison1 = [a > divide1 for a in list(prodlist1.values())]\n",
    "\n",
    "    # Compare and count the number of antonyms we get right\n",
    "    antcomparison1 = [a < divide1 for a in list(prodlist5.values())]\n",
    "\n",
    "    #Compute the recall\n",
    "    recall1 = 1/2*(syncomparison1.count(True)/len(syncomparison1) + antcomparison1.count(True)/len(antcomparison1))\n",
    "    \n",
    "    #precision\n",
    "    precision1 = 1/2*(syncomparison1.count(True)/(syncomparison1.count(True)+antcomparison1.count(False))+antcomparison1.count(True)/(antcomparison1.count(True)+syncomparison1.count(False)))\n",
    "    \n",
    "    #f1 score\n",
    "    #precision1 = 2 * precision1 * recall1 /(precision1 + recall1)\n",
    "    \n",
    "    return recall1"
   ]
  },
  {
   "cell_type": "code",
   "execution_count": 72,
   "id": "48ca6fcb",
   "metadata": {},
   "outputs": [],
   "source": [
    "def synvsnonsyn3(file_name):\n",
    "    #Using observable vectors with cosine distance\n",
    "\n",
    "    #Compute the mean and the standard deviation for the SYNONYMS\n",
    "    syn1 = mf.averaged_product(simdict,'SYNONYMS',file_name,\"std_dev\")\n",
    "\n",
    "    #Compute the mean and the standard deviation for the ANTONYMS\n",
    "    ant1 = mf.averaged_product(simdict,['ANTONYMS','NONE'],file_name,\"std_dev\")\n",
    "    \n",
    "    #Use the means and deviations to set the divide between synonyms and antonyms\n",
    "    divide1 = ant1[0] + 4/np.pi * np.arctan(ant1[1]/syn1[1]) * (syn1[0]-ant1[0])/2\n",
    "    \n",
    "    # Use the earlier defined function to compute the list of scalar products of the verbs and compare with divide\n",
    "    prodlist1 = mf.averaged_product_list(simdict,'SYNONYMS',file_name,\"std_dev\")\n",
    "\n",
    "    prodlist5 = mf.averaged_product_list(simdict,['ANTONYMS','NONE'],file_name,\"std_dev\")\n",
    "    \n",
    "    # Compare and count the number of synonyms we get right\n",
    "    syncomparison1 = [a > divide1 for a in list(prodlist1.values())]\n",
    "\n",
    "    # Compare and count the number of antonyms we get right\n",
    "    antcomparison1 = [a < divide1 for a in list(prodlist5.values())]\n",
    "\n",
    "    #Compute the recall\n",
    "    recall1 = 1/2*(syncomparison1.count(True)/len(syncomparison1) + antcomparison1.count(True)/len(antcomparison1))\n",
    "    \n",
    "    #precision\n",
    "    precision1 = 1/2*(syncomparison1.count(True)/(syncomparison1.count(True)+antcomparison1.count(False))+antcomparison1.count(True)/(antcomparison1.count(True)+syncomparison1.count(False)))\n",
    "    \n",
    "    #f1 score\n",
    "    #precision1 = 2 * precision1 * recall1 /(precision1 + recall1)\n",
    "    \n",
    "    return recall1"
   ]
  },
  {
   "cell_type": "code",
   "execution_count": 73,
   "id": "ee27f7f6",
   "metadata": {},
   "outputs": [],
   "source": [
    "def antvsnonant3(file_name):\n",
    "    #Using observable vectors with cosine distance\n",
    "\n",
    "    #Compute the mean and the standard deviation for the SYNONYMS\n",
    "    syn1 = mf.averaged_product(simdict,'ANTONYMS',file_name,\"std_dev\")\n",
    "\n",
    "    #Compute the mean and the standard deviation for the ANTONYMS\n",
    "    ant1 = mf.averaged_product(simdict,['SYNONYMS','NONE'],file_name,\"std_dev\")\n",
    "    \n",
    "    #Use the means and deviations to set the divide between synonyms and antonyms\n",
    "    divide1 = ant1[0] + 4/np.pi * np.arctan(ant1[1]/syn1[1]) * (syn1[0]-ant1[0])/2\n",
    "    \n",
    "    # Use the earlier defined function to compute the list of scalar products of the verbs and compare with divide\n",
    "    prodlist1 = mf.averaged_product_list(simdict,'ANTONYMS',file_name,\"std_dev\")\n",
    "\n",
    "    prodlist5 = mf.averaged_product_list(simdict,['SYNONYMS','NONE'],file_name,\"std_dev\")\n",
    "    \n",
    "    # Compare and count the number of synonyms we get right\n",
    "    syncomparison1 = [a > divide1 for a in list(prodlist1.values())]\n",
    "\n",
    "    # Compare and count the number of antonyms we get right\n",
    "    antcomparison1 = [a < divide1 for a in list(prodlist5.values())]\n",
    "\n",
    "    #Compute the recall\n",
    "    recall1 = 1/2*(syncomparison1.count(True)/len(syncomparison1) + antcomparison1.count(True)/len(antcomparison1))\n",
    "    \n",
    "    #precision\n",
    "    precision1 = 1/2*(syncomparison1.count(True)/(syncomparison1.count(True)+antcomparison1.count(False))+antcomparison1.count(True)/(antcomparison1.count(True)+syncomparison1.count(False)))\n",
    "    \n",
    "    #f1 score\n",
    "    #precision1 = 2 * precision1 * recall1 /(precision1 + recall1)\n",
    "    \n",
    "    return recall1"
   ]
  },
  {
   "cell_type": "code",
   "execution_count": 74,
   "id": "9d1cba19",
   "metadata": {},
   "outputs": [],
   "source": [
    "def hypohyper3(file_name):\n",
    "    #Using observable vectors with cosine distance\n",
    "\n",
    "    #Compute the mean and the standard deviation for the SYNONYMS\n",
    "    syn1 = mf.averaged_product(simdict,'COHYPONYMS',file_name,\"std_dev\")\n",
    "\n",
    "    #Compute the mean and the standard deviation for the ANTONYMS\n",
    "    ant1 = mf.averaged_product(simdict,'HYPER/HYPONYMS',file_name,\"std_dev\")\n",
    "    \n",
    "    #Use the means and deviations to set the divide between synonyms and antonyms\n",
    "    divide1 = ant1[0] + 4/np.pi * np.arctan(ant1[1]/syn1[1]) * (syn1[0]-ant1[0])/2\n",
    "    \n",
    "    # Use the earlier defined function to compute the list of scalar products of the verbs and compare with divide\n",
    "    prodlist1 = mf.averaged_product_list(simdict,'COHYPONYMS',file_name,\"std_dev\")\n",
    "\n",
    "    prodlist5 = mf.averaged_product_list(simdict,'HYPER/HYPONYMS',file_name,\"std_dev\")\n",
    "    \n",
    "    # Compare and count the number of synonyms we get right\n",
    "    syncomparison1 = [a > divide1 for a in list(prodlist1.values())]\n",
    "\n",
    "    # Compare and count the number of antonyms we get right\n",
    "    antcomparison1 = [a < divide1 for a in list(prodlist5.values())]\n",
    "\n",
    "    #Compute the recall\n",
    "    recall1 = 1/2*(syncomparison1.count(True)/len(syncomparison1) + antcomparison1.count(True)/len(antcomparison1))\n",
    "    \n",
    "    #precision\n",
    "    precision1 = 1/2*(syncomparison1.count(True)/(syncomparison1.count(True)+antcomparison1.count(False))+antcomparison1.count(True)/(antcomparison1.count(True)+syncomparison1.count(False)))\n",
    "    \n",
    "    return recall1"
   ]
  },
  {
   "cell_type": "code",
   "execution_count": 75,
   "id": "6da6cc87",
   "metadata": {},
   "outputs": [],
   "source": [
    "def synvsnonevsant3(file_name):\n",
    "    #Using observable vectors with cosine distance\n",
    "\n",
    "    #Compute the mean and the standard deviation for the SYNONYMS\n",
    "    syn1 = mf.averaged_product(simdict,'SYNONYMS',file_name,\"std_dev\")\n",
    "    \n",
    "    #Compute the mean and the standard deviation for the NONE\n",
    "    non1 = mf.averaged_product(simdict,'NONE',file_name,\"std_dev\")\n",
    "\n",
    "    #Compute the mean and the standard deviation for the ANTONYMS\n",
    "    ant1 = mf.averaged_product(simdict,'ANTONYMS',file_name,\"std_dev\")\n",
    "\n",
    "    #Use the means and deviations to set the divide between synonyms and none\n",
    "    divide1 = non1[0] + 4/np.pi*np.arctan(non1[1]/syn1[1]) * (syn1[0]-non1[0])/2\n",
    "\n",
    "    #Use the means and deviations to set the divide between none and antonyms\n",
    "    divide5 = ant1[0] + 4/np.pi*np.arctan(ant1[1]/non1[1]) * (non1[0]-ant1[0])/2\n",
    "    \n",
    "    # Use the earlier defined function to compute the list of scalar products of the verbs and compare with divide\n",
    "    prodlist1 = mf.averaged_product_list(simdict,'SYNONYMS',file_name,\"std_dev\")\n",
    "\n",
    "    prodlist5 = mf.averaged_product_list(simdict,'ANTONYMS',file_name,\"std_dev\")\n",
    "\n",
    "    prodlist9 = mf.averaged_product_list(simdict,'NONE',file_name,\"std_dev\")\n",
    "\n",
    "    # Compare and count the number of synonyms we get right\n",
    "    syncomparison1 = [a > divide1 for a in list(prodlist1.values())]\n",
    "\n",
    "    # Compare and count the number of none we get right\n",
    "    noncomparison1 = [a > divide5 and a < divide1 for a in list(prodlist9.values())]\n",
    "\n",
    "    # Compare and count the number of antonyms we get right\n",
    "    antcomparison1 = [a < divide5 for a in list(prodlist5.values())]\n",
    "\n",
    "    #Compute the average precision\n",
    "    precision1 = 1/3*(syncomparison1.count(True)/len(syncomparison1) + antcomparison1.count(True)/len(antcomparison1) + noncomparison1.count(True)/len(noncomparison1))\n",
    "\n",
    "    return precision1"
   ]
  },
  {
   "cell_type": "code",
   "execution_count": 76,
   "id": "dc9c8e23",
   "metadata": {},
   "outputs": [],
   "source": [
    "def synvsnonevsant3a(file_name,myseed1,myseed2,myseed3,samplesize1,samplesize2,samplesize3):\n",
    "    \n",
    "    #Since here we use just a subset of the pairs of synonyms and antonyms to determine the means and deviation, we have to do this by hand\n",
    "\n",
    "    #Compute the products for all the observable deviation vectors associated to the SYNONYMS pairs\n",
    "    all1 = mf.averaged_product_list(simdict,'SYNONYMS',file_name,\"std_dev\")\n",
    "\n",
    "    #The subset from which we copute the means is randomly selected, we seed the random generator for repeatable results. Chosen seed 7\n",
    "    random.seed(myseed1)\n",
    "\n",
    "    mysample = random.sample(list(all1),samplesize1)\n",
    "\n",
    "    #Find complementary sample where we will predict and test\n",
    "    mycomplsample = set(all1.keys()) - set(mysample)\n",
    "\n",
    "    #Compute the means and standard deviations\n",
    "    syn1 = [np.mean(np.array(list(map(all1.get,mysample)))),np.std(np.array(list(map(all1.get,mysample))))]\n",
    "\n",
    "    #Now the same thing for the antonyms\n",
    "\n",
    "    #Compute the products for all the observable deviation vectors associated to the SYNONYMS pairs\n",
    "    all5 = mf.averaged_product_list(simdict,'ANTONYMS',file_name,\"std_dev\")\n",
    "    \n",
    "    #The subset from which we copute the means is randomly selected, we seed the random generator for repeatable results. Chosen seed 13\n",
    "    random.seed(myseed2)\n",
    "\n",
    "    mysample2 = random.sample(list(all5),samplesize2)\n",
    "\n",
    "    #Find complementary sample where we will predict and test\n",
    "    mycomplsample2 = set(all5.keys()) - set(mysample2)\n",
    "\n",
    "    #Compute the means and standard deviations\n",
    "    ant1 = [np.mean(np.array(list(map(all5.get,mysample2)))),np.std(np.array(list(map(all5.get,mysample2))))]\n",
    "    \n",
    "    #Finally the same for None\n",
    "\n",
    "    #Compute the products for all the observable deviation vectors associated to the SYNONYMS pairs\n",
    "    all9 = mf.averaged_product_list(simdict,'NONE',file_name,\"std_dev\")\n",
    "    \n",
    "    #The subset from which we copute the means is randomly selected, we seed the random generator for repeatable results. Chosen seed 13\n",
    "    random.seed(myseed3)\n",
    "\n",
    "    mysample3 = random.sample(list(all9),samplesize3)\n",
    "\n",
    "    #Find complementary sample where we will predict and test\n",
    "    mycomplsample3 = set(all9.keys()) - set(mysample3)\n",
    "\n",
    "    #Compute the means and standard deviations\n",
    "    non1 = [np.mean(np.array(list(map(all9.get,mysample3)))),np.std(np.array(list(map(all9.get,mysample3))))]\n",
    "    \n",
    "    #Use the means and deviations to set the divide between synonyms and none\n",
    "    divide1 = non1[0] + 4/np.pi*np.arctan(non1[1]/syn1[1]) * (syn1[0]-non1[0])/2\n",
    "\n",
    "    #Use the means and deviations to set the divide between none and antonyms\n",
    "    divide5 = ant1[0] + 4/np.pi*np.arctan(ant1[1]/non1[1]) * (non1[0]-ant1[0])/2\n",
    "    \n",
    "    # Next we test on the complementary sample\n",
    "    # Compare and count the number of synonyms we get right\n",
    "    syncomparison1 = [a > divide1 for a in list(map(all1.get,mycomplsample))]\n",
    "\n",
    "\n",
    "    # Compare and count the number of none we get right\n",
    "    noncomparison1 = [a > divide5 and a < divide1 for a in list(map(all9.get,mycomplsample3))]\n",
    "    \n",
    "    # Compare and count the number of antonyms we get right\n",
    "    antcomparison1 = [a < divide5 for a in list(map(all5.get,mycomplsample2))]\n",
    "    \n",
    "    #Compute the average precision\n",
    "    precision1 = 1/3*(syncomparison1.count(True)/len(syncomparison1) + antcomparison1.count(True)/len(antcomparison1) + noncomparison1.count(True)/len(noncomparison1))\n",
    "    \n",
    "    return precision1"
   ]
  },
  {
   "cell_type": "markdown",
   "id": "98f65639",
   "metadata": {},
   "source": [
    "## Recall syn vs ant"
   ]
  },
  {
   "cell_type": "code",
   "execution_count": 78,
   "id": "16709587",
   "metadata": {},
   "outputs": [
    {
     "data": {
      "text/plain": [
       "[[0.5602808691043986,\n",
       "  0.5545398339515986,\n",
       "  0.5565712771595125,\n",
       "  0.5234499205087441],\n",
       " [0.5787405052110934,\n",
       "  0.5684949655537891,\n",
       "  0.5754725313548843,\n",
       "  0.5537007595831125],\n",
       " [0.5562179826885709,\n",
       "  0.5607224871930754,\n",
       "  0.5779014308426074,\n",
       "  0.5635930047694753]]"
      ]
     },
     "execution_count": 78,
     "metadata": {},
     "output_type": "execute_result"
    }
   ],
   "source": [
    "# Experiment 1 synonym vs antonym\n",
    "[[synvsant1(a) for a in localf] for localf in [file_list1,file_list2,file_list3]]"
   ]
  },
  {
   "cell_type": "code",
   "execution_count": 77,
   "id": "2f92fab0",
   "metadata": {},
   "outputs": [
    {
     "data": {
      "text/plain": [
       "[[0.5602808691043986,\n",
       "  0.5545398339515986,\n",
       "  0.5565712771595125,\n",
       "  0.5234499205087441],\n",
       " [0.5787405052110934,\n",
       "  0.5697314962020844,\n",
       "  0.5738385444267797,\n",
       "  0.5537007595831125],\n",
       " [0.5545839957604664,\n",
       "  0.5652269916975798,\n",
       "  0.5779014308426074,\n",
       "  0.5635930047694753]]"
      ]
     },
     "execution_count": 77,
     "metadata": {},
     "output_type": "execute_result"
    }
   ],
   "source": [
    "# Experiment 1 synonym vs antonym\n",
    "[[synvsant3(a) for a in localf] for localf in [file_list1,file_list2,file_list3]]"
   ]
  },
  {
   "cell_type": "markdown",
   "id": "6d53a4bb",
   "metadata": {},
   "source": [
    "## Recall syn vs non-syn"
   ]
  },
  {
   "cell_type": "code",
   "execution_count": 23,
   "id": "7c81f1b6",
   "metadata": {},
   "outputs": [
    {
     "data": {
      "text/plain": [
       "[[0.549286502259706,\n",
       "  0.5644461051208143,\n",
       "  0.5683946597392737,\n",
       "  0.5495133625137896],\n",
       " [0.5218734801845724,\n",
       "  0.5320391919623264,\n",
       "  0.5285903230015538,\n",
       "  0.5075012158523422],\n",
       " [0.5406139164679786,\n",
       "  0.5456967723568555,\n",
       "  0.5562272398372536,\n",
       "  0.5544123578045859]]"
      ]
     },
     "execution_count": 23,
     "metadata": {},
     "output_type": "execute_result"
    }
   ],
   "source": [
    "# Experiment 1 synonym vs antonym\n",
    "[[synvsnonsyn1(a) for a in localf] for localf in [file_list1,file_list2,file_list3]]"
   ]
  },
  {
   "cell_type": "code",
   "execution_count": 18,
   "id": "1fac35e9",
   "metadata": {},
   "outputs": [
    {
     "data": {
      "text/plain": [
       "[[0.5498781182164336,\n",
       "  0.5634037341494371,\n",
       "  0.5655374067352289,\n",
       "  0.5501049784705171],\n",
       " [0.5214657248259256,\n",
       "  0.5307239955873456,\n",
       "  0.5261408253561557,\n",
       "  0.5103154692003844],\n",
       " [0.5388449995848309,\n",
       "  0.5464233182686262,\n",
       "  0.554458322954106,\n",
       "  0.5547311483577098]]"
      ]
     },
     "execution_count": 18,
     "metadata": {},
     "output_type": "execute_result"
    }
   ],
   "source": [
    "# Experiment 1 synonym vs antonym\n",
    "[[synvsnonsyn3(a) for a in localf] for localf in [file_list1,file_list2,file_list3]]"
   ]
  },
  {
   "cell_type": "markdown",
   "id": "43b0946e",
   "metadata": {},
   "source": [
    "## Recall ant vs non-ant"
   ]
  },
  {
   "cell_type": "code",
   "execution_count": 24,
   "id": "cc75188e",
   "metadata": {},
   "outputs": [
    {
     "data": {
      "text/plain": [
       "[[0.4996939415447127,\n",
       "  0.5006553030729771,\n",
       "  0.4966953197465911,\n",
       "  0.5265125483966668],\n",
       " [0.4431857868706556,\n",
       "  0.4598256030102633,\n",
       "  0.46404094799259454,\n",
       "  0.44787805729864916],\n",
       " [0.4848022261527889,\n",
       "  0.4700381915888377,\n",
       "  0.4679539898381082,\n",
       "  0.48834536912902904]]"
      ]
     },
     "execution_count": 24,
     "metadata": {},
     "output_type": "execute_result"
    }
   ],
   "source": [
    "# Experiment 1 synonym vs antonym\n",
    "[[antvsnonant1(a) for a in localf] for localf in [file_list1,file_list2,file_list3]]"
   ]
  },
  {
   "cell_type": "code",
   "execution_count": 19,
   "id": "12a39203",
   "metadata": {},
   "outputs": [
    {
     "data": {
      "text/plain": [
       "[[0.5001107818948586,\n",
       "  0.5021142442984877,\n",
       "  0.49510869769310784,\n",
       "  0.5292220106726151],\n",
       " [0.44084622346398084,\n",
       "  0.4581113001288074,\n",
       "  0.4659974689153513,\n",
       "  0.45121278009981636],\n",
       " [0.47996162064523884,\n",
       "  0.47504027579058844,\n",
       "  0.4688684098855004,\n",
       "  0.49188851210526907]]"
      ]
     },
     "execution_count": 19,
     "metadata": {},
     "output_type": "execute_result"
    }
   ],
   "source": [
    "# Experiment 1 synonym vs antonym\n",
    "[[antvsnonant3(a) for a in localf] for localf in [file_list1,file_list2,file_list3]]"
   ]
  },
  {
   "cell_type": "markdown",
   "id": "6ed83a4a",
   "metadata": {},
   "source": [
    "## Recall Hyper vs Hypo"
   ]
  },
  {
   "cell_type": "code",
   "execution_count": 25,
   "id": "d9165ca9",
   "metadata": {},
   "outputs": [
    {
     "data": {
      "text/plain": [
       "[[0.5248026315789474,\n",
       "  0.5194078947368421,\n",
       "  0.5286842105263159,\n",
       "  0.5505921052631579],\n",
       " [0.5328947368421053,\n",
       "  0.5220065789473685,\n",
       "  0.5242763157894736,\n",
       "  0.5445065789473684],\n",
       " [0.5319078947368421,\n",
       "  0.5445394736842105,\n",
       "  0.5438157894736843,\n",
       "  0.5655921052631578]]"
      ]
     },
     "execution_count": 25,
     "metadata": {},
     "output_type": "execute_result"
    }
   ],
   "source": [
    "# Experiment 1 synonym vs antonym\n",
    "[[hypohyper1(a) for a in localf] for localf in [file_list1,file_list2,file_list3]]"
   ]
  },
  {
   "cell_type": "code",
   "execution_count": 21,
   "id": "a25a3211",
   "metadata": {},
   "outputs": [
    {
     "data": {
      "text/plain": [
       "[[0.5261842105263158,\n",
       "  0.5254276315789475,\n",
       "  0.5288157894736842,\n",
       "  0.5546052631578948],\n",
       " [0.5330263157894737,\n",
       "  0.5201315789473684,\n",
       "  0.5270394736842106,\n",
       "  0.5460197368421053],\n",
       " [0.5327960526315789,\n",
       "  0.5440460526315789,\n",
       "  0.5458223684210526,\n",
       "  0.5669736842105264]]"
      ]
     },
     "execution_count": 21,
     "metadata": {},
     "output_type": "execute_result"
    }
   ],
   "source": [
    "# Experiment 1 synonym vs antonym\n",
    "[[hypohyper3(a) for a in localf] for localf in [file_list1,file_list2,file_list3]]"
   ]
  },
  {
   "cell_type": "code",
   "execution_count": 70,
   "id": "6ba4cee1",
   "metadata": {},
   "outputs": [
    {
     "data": {
      "text/plain": [
       "1.0"
      ]
     },
     "execution_count": 70,
     "metadata": {},
     "output_type": "execute_result"
    }
   ],
   "source": [
    "4 / np.pi * np.arctan(1)"
   ]
  },
  {
   "cell_type": "markdown",
   "id": "d51daf0a",
   "metadata": {},
   "source": [
    "## Recall Hyper vs Hypo"
   ]
  },
  {
   "cell_type": "code",
   "execution_count": 25,
   "id": "26293209",
   "metadata": {},
   "outputs": [
    {
     "data": {
      "text/plain": [
       "[[0.5248026315789474,\n",
       "  0.5194078947368421,\n",
       "  0.5286842105263159,\n",
       "  0.5505921052631579],\n",
       " [0.5328947368421053,\n",
       "  0.5220065789473685,\n",
       "  0.5242763157894736,\n",
       "  0.5445065789473684],\n",
       " [0.5319078947368421,\n",
       "  0.5445394736842105,\n",
       "  0.5438157894736843,\n",
       "  0.5655921052631578]]"
      ]
     },
     "execution_count": 25,
     "metadata": {},
     "output_type": "execute_result"
    }
   ],
   "source": [
    "# Experiment 1 synonym vs antonym\n",
    "[[hypohyper1(a) for a in localf] for localf in [file_list1,file_list2,file_list3]]"
   ]
  },
  {
   "cell_type": "code",
   "execution_count": 21,
   "id": "78883784",
   "metadata": {},
   "outputs": [
    {
     "data": {
      "text/plain": [
       "[[0.5261842105263158,\n",
       "  0.5254276315789475,\n",
       "  0.5288157894736842,\n",
       "  0.5546052631578948],\n",
       " [0.5330263157894737,\n",
       "  0.5201315789473684,\n",
       "  0.5270394736842106,\n",
       "  0.5460197368421053],\n",
       " [0.5327960526315789,\n",
       "  0.5440460526315789,\n",
       "  0.5458223684210526,\n",
       "  0.5669736842105264]]"
      ]
     },
     "execution_count": 21,
     "metadata": {},
     "output_type": "execute_result"
    }
   ],
   "source": [
    "# Experiment 1 synonym vs antonym\n",
    "[[hypohyper3(a) for a in localf] for localf in [file_list1,file_list2,file_list3]]"
   ]
  },
  {
   "cell_type": "code",
   "execution_count": 25,
   "id": "6bcc8634",
   "metadata": {},
   "outputs": [
    {
     "data": {
      "text/plain": [
       "[[0.5248026315789474,\n",
       "  0.5194078947368421,\n",
       "  0.5286842105263159,\n",
       "  0.5505921052631579],\n",
       " [0.5328947368421053,\n",
       "  0.5220065789473685,\n",
       "  0.5242763157894736,\n",
       "  0.5445065789473684],\n",
       " [0.5319078947368421,\n",
       "  0.5445394736842105,\n",
       "  0.5438157894736843,\n",
       "  0.5655921052631578]]"
      ]
     },
     "execution_count": 25,
     "metadata": {},
     "output_type": "execute_result"
    }
   ],
   "source": [
    "# Experiment 1 synonym vs antonym\n",
    "[[hypohyper1(a) for a in localf] for localf in [file_list1,file_list2,file_list3]]"
   ]
  },
  {
   "cell_type": "code",
   "execution_count": 21,
   "id": "3a1e6e58",
   "metadata": {},
   "outputs": [
    {
     "data": {
      "text/plain": [
       "[[0.5261842105263158,\n",
       "  0.5254276315789475,\n",
       "  0.5288157894736842,\n",
       "  0.5546052631578948],\n",
       " [0.5330263157894737,\n",
       "  0.5201315789473684,\n",
       "  0.5270394736842106,\n",
       "  0.5460197368421053],\n",
       " [0.5327960526315789,\n",
       "  0.5440460526315789,\n",
       "  0.5458223684210526,\n",
       "  0.5669736842105264]]"
      ]
     },
     "execution_count": 21,
     "metadata": {},
     "output_type": "execute_result"
    }
   ],
   "source": [
    "# Experiment 1 synonym vs antonym\n",
    "[[hypohyper3(a) for a in localf] for localf in [file_list1,file_list2,file_list3]]"
   ]
  },
  {
   "cell_type": "markdown",
   "id": "d7f4f64b",
   "metadata": {},
   "source": [
    "## Recall Syn vs None vs Ant"
   ]
  },
  {
   "cell_type": "code",
   "execution_count": 80,
   "id": "19029064",
   "metadata": {},
   "outputs": [
    {
     "data": {
      "text/plain": [
       "[[0.35955434932417024,\n",
       "  0.3720657083828439,\n",
       "  0.37631475099505785,\n",
       "  0.3464504666550702],\n",
       " [0.3822739295885076,\n",
       "  0.37650739185266047,\n",
       "  0.3737121090062266,\n",
       "  0.37028718102886904],\n",
       " [0.3665683192537412,\n",
       "  0.37871154367318055,\n",
       "  0.3869738601196402,\n",
       "  0.3738240643611487]]"
      ]
     },
     "execution_count": 80,
     "metadata": {},
     "output_type": "execute_result"
    }
   ],
   "source": [
    "# Experiment 1 synonym vs antonym vs none with arctan divide\n",
    "[[synvsnonevsant3(a) for a in localf] for localf in [file_list1,file_list2,file_list3]]"
   ]
  },
  {
   "cell_type": "code",
   "execution_count": 79,
   "id": "99b4be94",
   "metadata": {},
   "outputs": [
    {
     "data": {
      "text/plain": [
       "[array([[0.36077569, 0.02359251],\n",
       "        [0.37103494, 0.025398  ],\n",
       "        [0.3712687 , 0.02525421],\n",
       "        [0.35007486, 0.02628853]]),\n",
       " array([[0.38432141, 0.02726537],\n",
       "        [0.38498753, 0.02691835],\n",
       "        [0.38859759, 0.0282821 ],\n",
       "        [0.37430775, 0.02123917]]),\n",
       " array([[0.36987355, 0.02762202],\n",
       "        [0.37405951, 0.02778592],\n",
       "        [0.38059072, 0.02515478],\n",
       "        [0.37073808, 0.02442994]])]"
      ]
     },
     "execution_count": 79,
     "metadata": {},
     "output_type": "execute_result"
    }
   ],
   "source": [
    "# Synonyms vs Antonyms, sample size 60%\n",
    "\n",
    "[(lambda x1 : np.array([np.mean(x1,axis = 0),np.std(x1,axis=0)]).T)([[synvsnonevsant3a(myfile,*a,200,70,1360) for myfile in localf] for a in seed_list2 ]) for localf in [file_list1,file_list2,file_list3]]"
   ]
  },
  {
   "cell_type": "code",
   "execution_count": 81,
   "id": "acedfbc0",
   "metadata": {},
   "outputs": [
    {
     "data": {
      "text/plain": [
       "[array([[0.36695337, 0.01117801],\n",
       "        [0.37041815, 0.00990794],\n",
       "        [0.37191127, 0.00869998],\n",
       "        [0.3498673 , 0.00666508]]),\n",
       " array([[0.38778229, 0.01265807],\n",
       "        [0.38223328, 0.01690674],\n",
       "        [0.38585774, 0.0176931 ],\n",
       "        [0.37114399, 0.00842501]]),\n",
       " array([[0.36805414, 0.01350321],\n",
       "        [0.37743045, 0.0086716 ],\n",
       "        [0.3840906 , 0.00893291],\n",
       "        [0.37061118, 0.01487417]])]"
      ]
     },
     "execution_count": 81,
     "metadata": {},
     "output_type": "execute_result"
    }
   ],
   "source": [
    "# Synonyms vs Antonyms, sample size 20%\n",
    "\n",
    "[(lambda x1 : np.array([np.mean(x1,axis = 0),np.std(x1,axis=0)]).T)([[synvsnonevsant3a(myfile,*a,65,24,450) for myfile in localf] for a in seed_list2 ]) for localf in [file_list1,file_list2,file_list3]]"
   ]
  },
  {
   "cell_type": "code",
   "execution_count": 82,
   "id": "9d255022",
   "metadata": {},
   "outputs": [
    {
     "data": {
      "text/plain": [
       "[array([[0.37749819, 0.02628831],\n",
       "        [0.38256104, 0.02264991],\n",
       "        [0.38211777, 0.0196448 ],\n",
       "        [0.36507579, 0.0263554 ]]),\n",
       " array([[0.392108  , 0.02314671],\n",
       "        [0.39109473, 0.02895237],\n",
       "        [0.38834674, 0.02867817],\n",
       "        [0.37729476, 0.01454838]]),\n",
       " array([[0.38166062, 0.03184089],\n",
       "        [0.38736934, 0.02974954],\n",
       "        [0.38682471, 0.02704442],\n",
       "        [0.36551393, 0.02779838]])]"
      ]
     },
     "execution_count": 82,
     "metadata": {},
     "output_type": "execute_result"
    }
   ],
   "source": [
    "# Synonyms vs Antonyms, sample size 5\n",
    "\n",
    "[(lambda x1 : np.array([np.mean(x1,axis = 0),np.std(x1,axis=0)]).T)([[synvsnonevsant3a(myfile,*a,5,5,5) for myfile in localf] for a in seed_list2 ]) for localf in [file_list1,file_list2,file_list3]]"
   ]
  },
  {
   "cell_type": "markdown",
   "id": "75d42597",
   "metadata": {},
   "source": [
    "# Observable deviation vectors, Mahalanobis"
   ]
  },
  {
   "cell_type": "markdown",
   "id": "fa209e14",
   "metadata": {},
   "source": [
    "## Some plots"
   ]
  },
  {
   "cell_type": "code",
   "execution_count": 19,
   "id": "e7eb3145",
   "metadata": {},
   "outputs": [],
   "source": [
    "import seaborn as sns\n",
    "import pandas as pd\n",
    "from matplotlib import pyplot as plt"
   ]
  },
  {
   "cell_type": "code",
   "execution_count": 15,
   "id": "b1201919",
   "metadata": {},
   "outputs": [],
   "source": [
    "# Use as data the inner products of the vectors. Data of synonyms\n",
    "syndat = {'syn' : [a for a in mf.averaged_product_list(simdict,'SYNONYMS',objsubset1,\"maha\").values()]}\n",
    "syndat = pd.DataFrame(data = syndat)\n",
    "#Antonym data\n",
    "antdat = {'ant' : [a for a in mf.averaged_product_list(simdict,'ANTONYMS',objsubset1,\"maha\").values()]}\n",
    "antdat = pd.DataFrame(data = antdat)\n",
    "#None dat\n",
    "nondat = {'none' : [a for a in mf.averaged_product_list(simdict,'NONE',objsubset1,\"maha\").values()]}\n",
    "nondat = pd.DataFrame(data = nondat)\n",
    "#Cohypo\n",
    "cohdat = {'cohypo' : [a for a in mf.averaged_product_list(simdict,'COHYPONYMS',objsubset1,\"maha\").values()]}\n",
    "cohdat = pd.DataFrame(data = cohdat)\n",
    "#Hyper/hypo\n",
    "hypdat = {'hyper/hypo' : [a for a in mf.averaged_product_list(simdict,'HYPER/HYPONYMS',objsubset1,\"maha\").values()]}\n",
    "hypdat = pd.DataFrame(data = hypdat)"
   ]
  },
  {
   "cell_type": "code",
   "execution_count": 16,
   "id": "e13caae4",
   "metadata": {},
   "outputs": [],
   "source": [
    "#Apply default theme for seaborn\n",
    "sns.set_theme()"
   ]
  },
  {
   "cell_type": "code",
   "execution_count": 17,
   "id": "35ca8967",
   "metadata": {},
   "outputs": [
    {
     "data": {
      "text/plain": [
       "<AxesSubplot:ylabel='Count'>"
      ]
     },
     "execution_count": 17,
     "metadata": {},
     "output_type": "execute_result"
    },
    {
     "data": {
      "image/png": "[encoded data removed]",
      "text/plain": [
       "<Figure size 432x288 with 1 Axes>"
      ]
     },
     "metadata": {},
     "output_type": "display_data"
    }
   ],
   "source": [
    "sns.histplot(data = syndat, binwidth = 0.05)\n",
    "sns.histplot(data = antdat, binwidth = 0.05)\n",
    "#sns.histplot(data = nondat, binwidth = 0.05)"
   ]
  },
  {
   "cell_type": "code",
   "execution_count": 96,
   "id": "24dbce7f",
   "metadata": {},
   "outputs": [
    {
     "data": {
      "text/plain": [
       "<AxesSubplot:ylabel='Count'>"
      ]
     },
     "execution_count": 96,
     "metadata": {},
     "output_type": "execute_result"
    },
    {
     "data": {
      "image/png": "[encoded data removed]",
      "text/plain": [
       "<Figure size 432x288 with 1 Axes>"
      ]
     },
     "metadata": {},
     "output_type": "display_data"
    }
   ],
   "source": [
    "sns.histplot(data = nondat, binwidth = 0.05)"
   ]
  },
  {
   "cell_type": "code",
   "execution_count": 77,
   "id": "3378a760",
   "metadata": {},
   "outputs": [
    {
     "data": {
      "text/plain": [
       "<AxesSubplot:ylabel='Count'>"
      ]
     },
     "execution_count": 77,
     "metadata": {},
     "output_type": "execute_result"
    },
    {
     "data": {
      "image/png": "[encoded data removed]",
      "text/plain": [
       "<Figure size 432x288 with 1 Axes>"
      ]
     },
     "metadata": {},
     "output_type": "display_data"
    }
   ],
   "source": [
    "sns.histplot(data = syndat.join(antdat).join(nondat), binwidth = 0.05)"
   ]
  },
  {
   "cell_type": "code",
   "execution_count": 21,
   "id": "2c99086d",
   "metadata": {},
   "outputs": [
    {
     "data": {
      "image/png": "[encoded data removed]",
      "text/plain": [
       "<Figure size 1224x360 with 3 Axes>"
      ]
     },
     "metadata": {},
     "output_type": "display_data"
    }
   ],
   "source": [
    "fig, axes = plt.subplots(1,3,figsize=(17,5),sharey = True, sharex = True)\n",
    "axes[0].set_title(\"antonym pairs\")\n",
    "axes[1].set_title(\"none pairs\")\n",
    "axes[2].set_title(\"synonym pairs\")\n",
    "sns.histplot(data = syndat, binwidth = 0.05,stat = \"probability\",ax = axes[2],kde=True)\n",
    "sns.histplot(data = antdat, binwidth = 0.05,stat = \"probability\",ax = axes[0],kde=True)\n",
    "sns.histplot(data = nondat, binwidth = 0.05,stat = \"probability\",ax = axes[1],kde=True)\n",
    "fig.savefig(\"mahalanobis_with_lines.png\")"
   ]
  },
  {
   "cell_type": "code",
   "execution_count": 22,
   "id": "f79351f9",
   "metadata": {},
   "outputs": [
    {
     "data": {
      "image/png": "[encoded data removed]",
      "text/plain": [
       "<Figure size 1224x360 with 3 Axes>"
      ]
     },
     "metadata": {},
     "output_type": "display_data"
    }
   ],
   "source": [
    "fig, axes = plt.subplots(1,3,figsize=(17,5),sharey = True, sharex = True)\n",
    "axes[0].set_title(\"antonym pairs\")\n",
    "axes[1].set_title(\"none pairs\")\n",
    "axes[2].set_title(\"synonym pairs\")\n",
    "sns.histplot(data = syndat, binwidth = 0.05,stat = \"probability\",ax = axes[2])\n",
    "sns.histplot(data = antdat, binwidth = 0.05,stat = \"probability\",ax = axes[0])\n",
    "sns.histplot(data = nondat, binwidth = 0.05,stat = \"probability\",ax = axes[1])\n",
    "fig.savefig(\"mahalanobis_no_lines.png\")"
   ]
  },
  {
   "cell_type": "code",
   "execution_count": 29,
   "id": "88676bb7",
   "metadata": {},
   "outputs": [
    {
     "data": {
      "text/plain": [
       "190"
      ]
     },
     "execution_count": 29,
     "metadata": {},
     "output_type": "execute_result"
    }
   ],
   "source": [
    "len(simdict['COHYPONYMS'])"
   ]
  },
  {
   "cell_type": "code",
   "execution_count": 78,
   "id": "07904df2",
   "metadata": {},
   "outputs": [
    {
     "data": {
      "text/plain": [
       "<AxesSubplot:ylabel='Count'>"
      ]
     },
     "execution_count": 78,
     "metadata": {},
     "output_type": "execute_result"
    },
    {
     "data": {
      "image/png": "[encoded data removed]",
      "text/plain": [
       "<Figure size 432x288 with 1 Axes>"
      ]
     },
     "metadata": {},
     "output_type": "display_data"
    }
   ],
   "source": [
    "sns.histplot(data = cohdat, binwidth = 0.05)\n",
    "sns.histplot(data = hypdat, binwidth = 0.05)"
   ]
  },
  {
   "cell_type": "code",
   "execution_count": 95,
   "id": "5e67fdfa",
   "metadata": {},
   "outputs": [
    {
     "data": {
      "text/plain": [
       "<seaborn.axisgrid.FacetGrid at 0x7fe8d3285310>"
      ]
     },
     "execution_count": 95,
     "metadata": {},
     "output_type": "execute_result"
    },
    {
     "data": {
      "image/png": "[encoded data removed]",
      "text/plain": [
       "<Figure size 418.85x360 with 1 Axes>"
      ]
     },
     "metadata": {},
     "output_type": "display_data"
    },
    {
     "data": {
      "image/png": "[encoded data removed]",
      "text/plain": [
       "<Figure size 417.725x360 with 1 Axes>"
      ]
     },
     "metadata": {},
     "output_type": "display_data"
    },
    {
     "data": {
      "image/png": "[encoded data removed]",
      "text/plain": [
       "<Figure size 427.225x360 with 1 Axes>"
      ]
     },
     "metadata": {},
     "output_type": "display_data"
    }
   ],
   "source": [
    "sns.displot(data = syndat, kind=\"ecdf\")\n",
    "sns.displot(data = antdat, kind=\"ecdf\")\n",
    "sns.displot(data = nondat, kind=\"ecdf\")"
   ]
  },
  {
   "cell_type": "code",
   "execution_count": 90,
   "id": "79134a3b",
   "metadata": {},
   "outputs": [],
   "source": [
    "#Next try 28 observables instead of 13"
   ]
  },
  {
   "cell_type": "code",
   "execution_count": 23,
   "id": "fa34414b",
   "metadata": {},
   "outputs": [],
   "source": [
    "# Use as data the inner products of the vectors. Data of synonyms\n",
    "syndat = {'syn' : [a for a in mf.averaged_product_list(simdict,'SYNONYMS',objsubset3,\"maha\").values()]}\n",
    "syndat = pd.DataFrame(data = syndat)\n",
    "#Antonym data\n",
    "antdat = {'ant' : [a for a in mf.averaged_product_list(simdict,'ANTONYMS',objsubset3,\"maha\").values()]}\n",
    "antdat = pd.DataFrame(data = antdat)\n",
    "#None dat\n",
    "nondat = {'none' : [a for a in mf.averaged_product_list(simdict,'NONE',objsubset3,\"maha\").values()]}\n",
    "nondat = pd.DataFrame(data = nondat)\n",
    "#Cohypo\n",
    "cohdat = {'cohypo' : [a for a in mf.averaged_product_list(simdict,'COHYPONYMS',objsubset3,\"maha\").values()]}\n",
    "cohdat = pd.DataFrame(data = cohdat)\n",
    "#Hyper/hypo\n",
    "hypdat = {'hyper/hypo' : [a for a in mf.averaged_product_list(simdict,'HYPER/HYPONYMS',objsubset3,\"maha\").values()]}\n",
    "hypdat = pd.DataFrame(data = hypdat)"
   ]
  },
  {
   "cell_type": "code",
   "execution_count": 86,
   "id": "7a7aa101",
   "metadata": {},
   "outputs": [
    {
     "data": {
      "text/plain": [
       "<AxesSubplot:ylabel='Count'>"
      ]
     },
     "execution_count": 86,
     "metadata": {},
     "output_type": "execute_result"
    },
    {
     "data": {
      "image/png": "[encoded data removed]",
      "text/plain": [
       "<Figure size 432x288 with 1 Axes>"
      ]
     },
     "metadata": {},
     "output_type": "display_data"
    }
   ],
   "source": [
    "sns.histplot(data = syndat, binwidth = 0.05)\n",
    "sns.histplot(data = antdat, binwidth = 0.05)\n",
    "#sns.histplot(data = nondat, binwidth = 0.05)"
   ]
  },
  {
   "cell_type": "code",
   "execution_count": 87,
   "id": "ce989aa2",
   "metadata": {},
   "outputs": [
    {
     "data": {
      "text/plain": [
       "<AxesSubplot:ylabel='Count'>"
      ]
     },
     "execution_count": 87,
     "metadata": {},
     "output_type": "execute_result"
    },
    {
     "data": {
      "image/png": "[encoded data removed]",
      "text/plain": [
       "<Figure size 432x288 with 1 Axes>"
      ]
     },
     "metadata": {},
     "output_type": "display_data"
    }
   ],
   "source": [
    "sns.histplot(data = syndat.join(antdat).join(nondat), binwidth = 0.05)"
   ]
  },
  {
   "cell_type": "code",
   "execution_count": 88,
   "id": "fdee7026",
   "metadata": {},
   "outputs": [
    {
     "data": {
      "text/plain": [
       "<AxesSubplot:ylabel='Count'>"
      ]
     },
     "execution_count": 88,
     "metadata": {},
     "output_type": "execute_result"
    },
    {
     "data": {
      "image/png": "[encoded data removed]",
      "text/plain": [
       "<Figure size 432x288 with 1 Axes>"
      ]
     },
     "metadata": {},
     "output_type": "display_data"
    }
   ],
   "source": [
    "sns.histplot(data = cohdat, binwidth = 0.05)\n",
    "sns.histplot(data = hypdat, binwidth = 0.05)"
   ]
  },
  {
   "cell_type": "code",
   "execution_count": 24,
   "id": "a9fc5418",
   "metadata": {},
   "outputs": [
    {
     "data": {
      "image/png": "[encoded data removed]",
      "text/plain": [
       "<Figure size 1224x360 with 3 Axes>"
      ]
     },
     "metadata": {},
     "output_type": "display_data"
    }
   ],
   "source": [
    "fig, axes = plt.subplots(1,3,figsize=(17,5),sharey = True, sharex = True)\n",
    "axes[0].set_title(\"antonym pairs\")\n",
    "axes[1].set_title(\"none pairs\")\n",
    "axes[2].set_title(\"synonym pairs\")\n",
    "sns.histplot(data = syndat, binwidth = 0.05,stat = \"probability\",ax = axes[2],kde=True)\n",
    "sns.histplot(data = antdat, binwidth = 0.05,stat = \"probability\",ax = axes[0],kde=True)\n",
    "sns.histplot(data = nondat, binwidth = 0.05,stat = \"probability\",ax = axes[1],kde=True)\n",
    "fig.savefig(\"mahalanobis_with_lines.png\")"
   ]
  },
  {
   "cell_type": "code",
   "execution_count": 26,
   "id": "cbb1dc2a",
   "metadata": {},
   "outputs": [
    {
     "data": {
      "image/png": "[encoded data removed]",
      "text/plain": [
       "<Figure size 1224x360 with 3 Axes>"
      ]
     },
     "metadata": {},
     "output_type": "display_data"
    }
   ],
   "source": [
    "fig, axes = plt.subplots(1,3,figsize=(17,5),sharey = True, sharex = True)\n",
    "axes[0].set_title(\"antonym pairs\")\n",
    "axes[1].set_title(\"none pairs\")\n",
    "axes[2].set_title(\"synonym pairs\")\n",
    "sns.histplot(data = syndat, binwidth = 0.05,stat = \"probability\",ax = axes[2])\n",
    "sns.histplot(data = antdat, binwidth = 0.05,stat = \"probability\",ax = axes[0])\n",
    "sns.histplot(data = nondat, binwidth = 0.05,stat = \"probability\",ax = axes[1])\n",
    "fig.savefig(\"mahalanobis_no_lines.png\")"
   ]
  },
  {
   "cell_type": "markdown",
   "id": "e768bd3f",
   "metadata": {},
   "source": [
    "## Precision is computed by averaging: function definition"
   ]
  },
  {
   "cell_type": "code",
   "execution_count": null,
   "id": "46c59d0f",
   "metadata": {},
   "outputs": [],
   "source": [
    "'''We decided to compute the recall on the binary classification problems: syn vs ant, syn vs non-syn,\n",
    "   ant vs non-ant and hyper vs cohypo. Also, we compute the precision on the predictions for some of these classes'''"
   ]
  },
  {
   "cell_type": "code",
   "execution_count": null,
   "id": "29564b31",
   "metadata": {},
   "outputs": [],
   "source": [
    "# We decided to compute the precision by averaging over the precision in each category, which scales well\n",
    "# for cases where the sample sizes are very different for syn/non/ant (we have ~300 syn ~100 ant ~2000 none)"
   ]
  },
  {
   "cell_type": "code",
   "execution_count": 29,
   "id": "1d3dc78a",
   "metadata": {},
   "outputs": [],
   "source": [
    "def synvsant2(file_name):\n",
    "    #Using observable vectors with cosine distance\n",
    "\n",
    "    #Compute the mean and the standard deviation for the SYNONYMS\n",
    "    syn1 = mf.averaged_product(simdict,'SYNONYMS',file_name,\"maha\")\n",
    "\n",
    "    #Compute the mean and the standard deviation for the ANTONYMS\n",
    "    ant1 = mf.averaged_product(simdict,'ANTONYMS',file_name,\"maha\")\n",
    "    \n",
    "    #Use the means and deviations to set the divide between synonyms and antonyms\n",
    "    divide1 = ant1[0] + ant1[1]/syn1[1] * (syn1[0]-ant1[0])/2\n",
    "    \n",
    "    # Use the earlier defined function to compute the list of scalar products of the verbs and compare with divide\n",
    "    prodlist1 = mf.averaged_product_list(simdict,'SYNONYMS',file_name,\"maha\")\n",
    "\n",
    "    prodlist5 = mf.averaged_product_list(simdict,'ANTONYMS',file_name,\"maha\")\n",
    "    \n",
    "    # Compare and count the number of synonyms we get right\n",
    "    syncomparison1 = [a > divide1 for a in list(prodlist1.values())]\n",
    "\n",
    "    # Compare and count the number of antonyms we get right\n",
    "    antcomparison1 = [a < divide1 for a in list(prodlist5.values())]\n",
    "\n",
    "    #Compute the recall\n",
    "    recall1 = 1/2*(syncomparison1.count(True)/len(syncomparison1) + antcomparison1.count(True)/len(antcomparison1))\n",
    "    \n",
    "    #precision\n",
    "    precision1 = 1/2*(syncomparison1.count(True)/(syncomparison1.count(True)+antcomparison1.count(False))+antcomparison1.count(True)/(antcomparison1.count(True)+syncomparison1.count(False)))\n",
    "    \n",
    "    #f1 score\n",
    "    #precision1 = 2 * precision1 * recall1 /(precision1 + recall1)\n",
    "    \n",
    "    return recall1"
   ]
  },
  {
   "cell_type": "code",
   "execution_count": 30,
   "id": "24b3beee",
   "metadata": {},
   "outputs": [],
   "source": [
    "def synvsnonsyn2(file_name):\n",
    "    #Using observable vectors with cosine distance\n",
    "\n",
    "    #Compute the mean and the standard deviation for the SYNONYMS\n",
    "    syn1 = mf.averaged_product(simdict,'SYNONYMS',file_name,\"maha\")\n",
    "\n",
    "    #Compute the mean and the standard deviation for the ANTONYMS\n",
    "    ant1 = mf.averaged_product(simdict,['ANTONYMS','NONE'],file_name,\"maha\")\n",
    "    \n",
    "    #Use the means and deviations to set the divide between synonyms and antonyms\n",
    "    divide1 = ant1[0] + ant1[1]/syn1[1] * (syn1[0]-ant1[0])/2\n",
    "    \n",
    "    # Use the earlier defined function to compute the list of scalar products of the verbs and compare with divide\n",
    "    prodlist1 = mf.averaged_product_list(simdict,'SYNONYMS',file_name,\"maha\")\n",
    "\n",
    "    prodlist5 = mf.averaged_product_list(simdict,['ANTONYMS','NONE'],file_name,\"maha\")\n",
    "    \n",
    "    # Compare and count the number of synonyms we get right\n",
    "    syncomparison1 = [a > divide1 for a in list(prodlist1.values())]\n",
    "\n",
    "    # Compare and count the number of antonyms we get right\n",
    "    antcomparison1 = [a < divide1 for a in list(prodlist5.values())]\n",
    "\n",
    "    #Compute the recall\n",
    "    recall1 = 1/2*(syncomparison1.count(True)/len(syncomparison1) + antcomparison1.count(True)/len(antcomparison1))\n",
    "    \n",
    "    #precision\n",
    "    precision1 = 1/2*(syncomparison1.count(True)/(syncomparison1.count(True)+antcomparison1.count(False))+antcomparison1.count(True)/(antcomparison1.count(True)+syncomparison1.count(False)))\n",
    "    \n",
    "    #f1 score\n",
    "    #precision1 = 2 * precision1 * recall1 /(precision1 + recall1)\n",
    "    \n",
    "    return recall1"
   ]
  },
  {
   "cell_type": "code",
   "execution_count": 31,
   "id": "da3a301e",
   "metadata": {},
   "outputs": [],
   "source": [
    "def antvsnonant2(file_name):\n",
    "    #Using observable vectors with cosine distance\n",
    "\n",
    "    #Compute the mean and the standard deviation for the SYNONYMS\n",
    "    syn1 = mf.averaged_product(simdict,'ANTONYMS',file_name,\"maha\")\n",
    "\n",
    "    #Compute the mean and the standard deviation for the ANTONYMS\n",
    "    ant1 = mf.averaged_product(simdict,['SYNONYMS','NONE'],file_name,\"maha\")\n",
    "    \n",
    "    #Use the means and deviations to set the divide between synonyms and antonyms\n",
    "    divide1 = ant1[0] + ant1[1]/syn1[1] * (syn1[0]-ant1[0])/2\n",
    "    \n",
    "    # Use the earlier defined function to compute the list of scalar products of the verbs and compare with divide\n",
    "    prodlist1 = mf.averaged_product_list(simdict,'ANTONYMS',file_name,\"maha\")\n",
    "\n",
    "    prodlist5 = mf.averaged_product_list(simdict,['SYNONYMS','NONE'],file_name,\"maha\")\n",
    "    \n",
    "    # Compare and count the number of synonyms we get right\n",
    "    syncomparison1 = [a > divide1 for a in list(prodlist1.values())]\n",
    "\n",
    "    # Compare and count the number of antonyms we get right\n",
    "    antcomparison1 = [a < divide1 for a in list(prodlist5.values())]\n",
    "\n",
    "    #Compute the recall\n",
    "    recall1 = 1/2*(syncomparison1.count(True)/len(syncomparison1) + antcomparison1.count(True)/len(antcomparison1))\n",
    "    \n",
    "    #precision\n",
    "    precision1 = 1/2*(syncomparison1.count(True)/(syncomparison1.count(True)+antcomparison1.count(False))+antcomparison1.count(True)/(antcomparison1.count(True)+syncomparison1.count(False)))\n",
    "    \n",
    "    #f1 score\n",
    "    #precision1 = 2 * precision1 * recall1 /(precision1 + recall1)\n",
    "    \n",
    "    return recall1"
   ]
  },
  {
   "cell_type": "code",
   "execution_count": 32,
   "id": "edd6aacc",
   "metadata": {},
   "outputs": [],
   "source": [
    "def hypohyper2(file_name):\n",
    "    #Using observable vectors with cosine distance\n",
    "\n",
    "    #Compute the mean and the standard deviation for the SYNONYMS\n",
    "    syn1 = mf.averaged_product(simdict,'COHYPONYMS',file_name,\"maha\")\n",
    "\n",
    "    #Compute the mean and the standard deviation for the ANTONYMS\n",
    "    ant1 = mf.averaged_product(simdict,'HYPER/HYPONYMS',file_name,\"maha\")\n",
    "    \n",
    "    #Use the means and deviations to set the divide between synonyms and antonyms\n",
    "    divide1 = ant1[0] + ant1[1]/syn1[1] * (syn1[0]-ant1[0])/2\n",
    "    \n",
    "    # Use the earlier defined function to compute the list of scalar products of the verbs and compare with divide\n",
    "    prodlist1 = mf.averaged_product_list(simdict,'COHYPONYMS',file_name,\"maha\")\n",
    "\n",
    "    prodlist5 = mf.averaged_product_list(simdict,'HYPER/HYPONYMS',file_name,\"maha\")\n",
    "    \n",
    "    # Compare and count the number of synonyms we get right\n",
    "    syncomparison1 = [a > divide1 for a in list(prodlist1.values())]\n",
    "\n",
    "    # Compare and count the number of antonyms we get right\n",
    "    antcomparison1 = [a < divide1 for a in list(prodlist5.values())]\n",
    "\n",
    "    #Compute the recall\n",
    "    recall1 = 1/2*(syncomparison1.count(True)/len(syncomparison1) + antcomparison1.count(True)/len(antcomparison1))\n",
    "    \n",
    "    #precision\n",
    "    precision1 = 1/2*(syncomparison1.count(True)/(syncomparison1.count(True)+antcomparison1.count(False))+antcomparison1.count(True)/(antcomparison1.count(True)+syncomparison1.count(False)))\n",
    "    \n",
    "    return recall1"
   ]
  },
  {
   "cell_type": "code",
   "execution_count": null,
   "id": "f7daf66e",
   "metadata": {},
   "outputs": [],
   "source": []
  },
  {
   "cell_type": "markdown",
   "id": "787ede41",
   "metadata": {},
   "source": [
    "## Precision is computed by averaging: use better definition for divide"
   ]
  },
  {
   "cell_type": "code",
   "execution_count": null,
   "id": "ce6753c7",
   "metadata": {},
   "outputs": [],
   "source": [
    "'''We decided to compute the recall on the binary classification problems: syn vs ant, syn vs non-syn,\n",
    "   ant vs non-ant and hyper vs cohypo. Also, we compute the precision on the predictions for some of these classes'''"
   ]
  },
  {
   "cell_type": "code",
   "execution_count": null,
   "id": "30cf02b8",
   "metadata": {},
   "outputs": [],
   "source": [
    "# We decided to compute the precision by averaging over the precision in each category, which scales well\n",
    "# for cases where the sample sizes are very different for syn/non/ant (we have ~300 syn ~100 ant ~2000 none)"
   ]
  },
  {
   "cell_type": "code",
   "execution_count": 36,
   "id": "ed2ca7fa",
   "metadata": {},
   "outputs": [],
   "source": [
    "def synvsant4(file_name):\n",
    "    #Using observable vectors with cosine distance\n",
    "\n",
    "    #Compute the mean and the standard deviation for the SYNONYMS\n",
    "    syn1 = mf.averaged_product(simdict,'SYNONYMS',file_name,\"maha\")\n",
    "\n",
    "    #Compute the mean and the standard deviation for the ANTONYMS\n",
    "    ant1 = mf.averaged_product(simdict,'ANTONYMS',file_name,\"maha\")\n",
    "    \n",
    "    #Use the means and deviations to set the divide between synonyms and antonyms\n",
    "    divide1 = ant1[0] + 4*np.pi*np.arctan(ant1[1]/syn1[1]) * (syn1[0]-ant1[0])/2\n",
    "    \n",
    "    # Use the earlier defined function to compute the list of scalar products of the verbs and compare with divide\n",
    "    prodlist1 = mf.averaged_product_list(simdict,'SYNONYMS',file_name,\"maha\")\n",
    "\n",
    "    prodlist5 = mf.averaged_product_list(simdict,'ANTONYMS',file_name,\"maha\")\n",
    "    \n",
    "    # Compare and count the number of synonyms we get right\n",
    "    syncomparison1 = [a > divide1 for a in list(prodlist1.values())]\n",
    "\n",
    "    # Compare and count the number of antonyms we get right\n",
    "    antcomparison1 = [a < divide1 for a in list(prodlist5.values())]\n",
    "\n",
    "    #Compute the recall\n",
    "    recall1 = 1/2*(syncomparison1.count(True)/len(syncomparison1) + antcomparison1.count(True)/len(antcomparison1))\n",
    "    \n",
    "    #precision\n",
    "    precision1 = 1/2*(syncomparison1.count(True)/(syncomparison1.count(True)+antcomparison1.count(False))+antcomparison1.count(True)/(antcomparison1.count(True)+syncomparison1.count(False)))\n",
    "    \n",
    "    #f1 score\n",
    "    #precision1 = 2 * precision1 * recall1 /(precision1 + recall1)\n",
    "    \n",
    "    return recall1"
   ]
  },
  {
   "cell_type": "code",
   "execution_count": 37,
   "id": "7059d93a",
   "metadata": {},
   "outputs": [],
   "source": [
    "def synvsnonsyn4(file_name):\n",
    "    #Using observable vectors with cosine distance\n",
    "\n",
    "    #Compute the mean and the standard deviation for the SYNONYMS\n",
    "    syn1 = mf.averaged_product(simdict,'SYNONYMS',file_name,\"maha\")\n",
    "\n",
    "    #Compute the mean and the standard deviation for the ANTONYMS\n",
    "    ant1 = mf.averaged_product(simdict,['ANTONYMS','NONE'],file_name,\"maha\")\n",
    "    \n",
    "    #Use the means and deviations to set the divide between synonyms and antonyms\n",
    "    divide1 = ant1[0] + 4*np.pi*np.arctan(ant1[1]/syn1[1]) * (syn1[0]-ant1[0])/2\n",
    "    \n",
    "    # Use the earlier defined function to compute the list of scalar products of the verbs and compare with divide\n",
    "    prodlist1 = mf.averaged_product_list(simdict,'SYNONYMS',file_name,\"maha\")\n",
    "\n",
    "    prodlist5 = mf.averaged_product_list(simdict,['ANTONYMS','NONE'],file_name,\"maha\")\n",
    "    \n",
    "    # Compare and count the number of synonyms we get right\n",
    "    syncomparison1 = [a > divide1 for a in list(prodlist1.values())]\n",
    "\n",
    "    # Compare and count the number of antonyms we get right\n",
    "    antcomparison1 = [a < divide1 for a in list(prodlist5.values())]\n",
    "\n",
    "    #Compute the recall\n",
    "    recall1 = 1/2*(syncomparison1.count(True)/len(syncomparison1) + antcomparison1.count(True)/len(antcomparison1))\n",
    "    \n",
    "    #precision\n",
    "    precision1 = 1/2*(syncomparison1.count(True)/(syncomparison1.count(True)+antcomparison1.count(False))+antcomparison1.count(True)/(antcomparison1.count(True)+syncomparison1.count(False)))\n",
    "    \n",
    "    #f1 score\n",
    "    #precision1 = 2 * precision1 * recall1 /(precision1 + recall1)\n",
    "    \n",
    "    return recall1"
   ]
  },
  {
   "cell_type": "code",
   "execution_count": 38,
   "id": "89ab7484",
   "metadata": {},
   "outputs": [],
   "source": [
    "def antvsnonant4(file_name):\n",
    "    #Using observable vectors with cosine distance\n",
    "\n",
    "    #Compute the mean and the standard deviation for the SYNONYMS\n",
    "    syn1 = mf.averaged_product(simdict,'ANTONYMS',file_name,\"maha\")\n",
    "\n",
    "    #Compute the mean and the standard deviation for the ANTONYMS\n",
    "    ant1 = mf.averaged_product(simdict,['SYNONYMS','NONE'],file_name,\"maha\")\n",
    "    \n",
    "    #Use the means and deviations to set the divide between synonyms and antonyms\n",
    "    divide1 = ant1[0] + 4*np.pi*np.arctan(ant1[1]/syn1[1]) * (syn1[0]-ant1[0])/2\n",
    "    \n",
    "    # Use the earlier defined function to compute the list of scalar products of the verbs and compare with divide\n",
    "    prodlist1 = mf.averaged_product_list(simdict,'ANTONYMS',file_name,\"maha\")\n",
    "\n",
    "    prodlist5 = mf.averaged_product_list(simdict,['SYNONYMS','NONE'],file_name,\"maha\")\n",
    "    \n",
    "    # Compare and count the number of synonyms we get right\n",
    "    syncomparison1 = [a > divide1 for a in list(prodlist1.values())]\n",
    "\n",
    "    # Compare and count the number of antonyms we get right\n",
    "    antcomparison1 = [a < divide1 for a in list(prodlist5.values())]\n",
    "\n",
    "    #Compute the recall\n",
    "    recall1 = 1/2*(syncomparison1.count(True)/len(syncomparison1) + antcomparison1.count(True)/len(antcomparison1))\n",
    "    \n",
    "    #precision\n",
    "    precision1 = 1/2*(syncomparison1.count(True)/(syncomparison1.count(True)+antcomparison1.count(False))+antcomparison1.count(True)/(antcomparison1.count(True)+syncomparison1.count(False)))\n",
    "    \n",
    "    #f1 score\n",
    "    #precision1 = 2 * precision1 * recall1 /(precision1 + recall1)\n",
    "    \n",
    "    return recall1"
   ]
  },
  {
   "cell_type": "code",
   "execution_count": 39,
   "id": "e21b2e27",
   "metadata": {},
   "outputs": [],
   "source": [
    "def hypohyper4(file_name):\n",
    "    #Using observable vectors with cosine distance\n",
    "\n",
    "    #Compute the mean and the standard deviation for the SYNONYMS\n",
    "    syn1 = mf.averaged_product(simdict,'COHYPONYMS',file_name,\"maha\")\n",
    "\n",
    "    #Compute the mean and the standard deviation for the ANTONYMS\n",
    "    ant1 = mf.averaged_product(simdict,'HYPER/HYPONYMS',file_name,\"maha\")\n",
    "    \n",
    "    #Use the means and deviations to set the divide between synonyms and antonyms\n",
    "    divide1 = ant1[0] + 4*np.pi* np.arctan(ant1[1]/syn1[1]) * (syn1[0]-ant1[0])/2\n",
    "    \n",
    "    # Use the earlier defined function to compute the list of scalar products of the verbs and compare with divide\n",
    "    prodlist1 = mf.averaged_product_list(simdict,'COHYPONYMS',file_name,\"maha\")\n",
    "\n",
    "    prodlist5 = mf.averaged_product_list(simdict,'HYPER/HYPONYMS',file_name,\"maha\")\n",
    "    \n",
    "    # Compare and count the number of synonyms we get right\n",
    "    syncomparison1 = [a > divide1 for a in list(prodlist1.values())]\n",
    "\n",
    "    # Compare and count the number of antonyms we get right\n",
    "    antcomparison1 = [a < divide1 for a in list(prodlist5.values())]\n",
    "\n",
    "    #Compute the recall\n",
    "    recall1 = 1/2*(syncomparison1.count(True)/len(syncomparison1) + antcomparison1.count(True)/len(antcomparison1))\n",
    "    \n",
    "    #precision\n",
    "    precision1 = 1/2*(syncomparison1.count(True)/(syncomparison1.count(True)+antcomparison1.count(False))+antcomparison1.count(True)/(antcomparison1.count(True)+syncomparison1.count(False)))\n",
    "    \n",
    "    return recall1"
   ]
  },
  {
   "cell_type": "code",
   "execution_count": 61,
   "id": "1273774a",
   "metadata": {},
   "outputs": [],
   "source": [
    "def synvsnonevsant4(file_name):\n",
    "    #Using observable vectors with cosine distance\n",
    "\n",
    "    #Compute the mean and the standard deviation for the SYNONYMS\n",
    "    syn1 = mf.averaged_product(simdict,'SYNONYMS',file_name,\"maha\")\n",
    "    \n",
    "    #Compute the mean and the standard deviation for the NONE\n",
    "    non1 = mf.averaged_product(simdict,'NONE',file_name,\"maha\")\n",
    "\n",
    "    #Compute the mean and the standard deviation for the ANTONYMS\n",
    "    ant1 = mf.averaged_product(simdict,'ANTONYMS',file_name,\"maha\")\n",
    "\n",
    "    #Use the means and deviations to set the divide between synonyms and none\n",
    "    divide1 = non1[0] + 4*np.pi*np.arctan(non1[1]/syn1[1]) * (syn1[0]-non1[0])/2\n",
    "\n",
    "    #Use the means and deviations to set the divide between none and antonyms\n",
    "    divide5 = ant1[0] + 4*np.pi*np.arctan(ant1[1]/non1[1]) * (non1[0]-ant1[0])/2\n",
    "    \n",
    "    # Use the earlier defined function to compute the list of scalar products of the verbs and compare with divide\n",
    "    prodlist1 = mf.averaged_product_list(simdict,'SYNONYMS',file_name,\"maha\")\n",
    "\n",
    "    prodlist5 = mf.averaged_product_list(simdict,'ANTONYMS',file_name,\"maha\")\n",
    "\n",
    "    prodlist9 = mf.averaged_product_list(simdict,'NONE',file_name,\"maha\")\n",
    "\n",
    "    # Compare and count the number of synonyms we get right\n",
    "    syncomparison1 = [a > divide1 for a in list(prodlist1.values())]\n",
    "\n",
    "    # Compare and count the number of none we get right\n",
    "    noncomparison1 = [a > divide5 and a < divide1 for a in list(prodlist9.values())]\n",
    "\n",
    "    # Compare and count the number of antonyms we get right\n",
    "    antcomparison1 = [a < divide5 for a in list(prodlist5.values())]\n",
    "\n",
    "    #Compute the average precision\n",
    "    precision1 = 1/3*(syncomparison1.count(True)/len(syncomparison1) + antcomparison1.count(True)/len(antcomparison1) + noncomparison1.count(True)/len(noncomparison1))\n",
    "\n",
    "    return precision1"
   ]
  },
  {
   "cell_type": "markdown",
   "id": "8a02356d",
   "metadata": {},
   "source": [
    "## Recall syn vs ant"
   ]
  },
  {
   "cell_type": "code",
   "execution_count": 41,
   "id": "37e2333b",
   "metadata": {},
   "outputs": [
    {
     "data": {
      "text/plain": [
       "[[0.5488871224165341,\n",
       "  0.550918565624448,\n",
       "  0.5717629394099982,\n",
       "  0.5419537184243066],\n",
       " [0.5873520579402932,\n",
       "  0.5787405052110934,\n",
       "  0.5807719484190073,\n",
       "  0.5820526408761703],\n",
       " [0.5738827062356474,\n",
       "  0.5763116057233705,\n",
       "  0.5730436318671612,\n",
       "  0.5342254018724607]]"
      ]
     },
     "execution_count": 41,
     "metadata": {},
     "output_type": "execute_result"
    }
   ],
   "source": [
    "# Experiment 1 synonym vs antonym\n",
    "[[synvsant2(a) for a in localf] for localf in [file_list1,file_list2,file_list3]]"
   ]
  },
  {
   "cell_type": "code",
   "execution_count": 47,
   "id": "fbf55b9b",
   "metadata": {},
   "outputs": [
    {
     "data": {
      "text/plain": [
       "[0.5689807454513337,\n",
       " 0.5681858328917153,\n",
       " 0.5583819113230878,\n",
       " 0.5517576399929341]"
      ]
     },
     "execution_count": 47,
     "metadata": {},
     "output_type": "execute_result"
    }
   ],
   "source": [
    "[synvsant4(a) for a in file_list1]"
   ]
  },
  {
   "cell_type": "code",
   "execution_count": 42,
   "id": "5fc621d5",
   "metadata": {},
   "outputs": [
    {
     "ename": "ZeroDivisionError",
     "evalue": "division by zero",
     "output_type": "error",
     "traceback": [
      "\u001b[0;31m---------------------------------------------------------------------------\u001b[0m",
      "\u001b[0;31mZeroDivisionError\u001b[0m                         Traceback (most recent call last)",
      "\u001b[0;32m<ipython-input-42-fe3b6dd69f2b>\u001b[0m in \u001b[0;36m<module>\u001b[0;34m\u001b[0m\n\u001b[1;32m      1\u001b[0m \u001b[0;31m# Experiment 1 synonym vs antonym\u001b[0m\u001b[0;34m\u001b[0m\u001b[0;34m\u001b[0m\u001b[0;34m\u001b[0m\u001b[0m\n\u001b[0;32m----> 2\u001b[0;31m \u001b[0;34m[\u001b[0m\u001b[0;34m[\u001b[0m\u001b[0msynvsant4\u001b[0m\u001b[0;34m(\u001b[0m\u001b[0ma\u001b[0m\u001b[0;34m)\u001b[0m \u001b[0;32mfor\u001b[0m \u001b[0ma\u001b[0m \u001b[0;32min\u001b[0m \u001b[0mlocalf\u001b[0m\u001b[0;34m]\u001b[0m \u001b[0;32mfor\u001b[0m \u001b[0mlocalf\u001b[0m \u001b[0;32min\u001b[0m \u001b[0;34m[\u001b[0m\u001b[0mfile_list1\u001b[0m\u001b[0;34m,\u001b[0m\u001b[0mfile_list2\u001b[0m\u001b[0;34m,\u001b[0m\u001b[0mfile_list3\u001b[0m\u001b[0;34m]\u001b[0m\u001b[0;34m]\u001b[0m\u001b[0;34m\u001b[0m\u001b[0;34m\u001b[0m\u001b[0m\n\u001b[0m",
      "\u001b[0;32m<ipython-input-42-fe3b6dd69f2b>\u001b[0m in \u001b[0;36m<listcomp>\u001b[0;34m(.0)\u001b[0m\n\u001b[1;32m      1\u001b[0m \u001b[0;31m# Experiment 1 synonym vs antonym\u001b[0m\u001b[0;34m\u001b[0m\u001b[0;34m\u001b[0m\u001b[0;34m\u001b[0m\u001b[0m\n\u001b[0;32m----> 2\u001b[0;31m \u001b[0;34m[\u001b[0m\u001b[0;34m[\u001b[0m\u001b[0msynvsant4\u001b[0m\u001b[0;34m(\u001b[0m\u001b[0ma\u001b[0m\u001b[0;34m)\u001b[0m \u001b[0;32mfor\u001b[0m \u001b[0ma\u001b[0m \u001b[0;32min\u001b[0m \u001b[0mlocalf\u001b[0m\u001b[0;34m]\u001b[0m \u001b[0;32mfor\u001b[0m \u001b[0mlocalf\u001b[0m \u001b[0;32min\u001b[0m \u001b[0;34m[\u001b[0m\u001b[0mfile_list1\u001b[0m\u001b[0;34m,\u001b[0m\u001b[0mfile_list2\u001b[0m\u001b[0;34m,\u001b[0m\u001b[0mfile_list3\u001b[0m\u001b[0;34m]\u001b[0m\u001b[0;34m]\u001b[0m\u001b[0;34m\u001b[0m\u001b[0;34m\u001b[0m\u001b[0m\n\u001b[0m",
      "\u001b[0;32m<ipython-input-42-fe3b6dd69f2b>\u001b[0m in \u001b[0;36m<listcomp>\u001b[0;34m(.0)\u001b[0m\n\u001b[1;32m      1\u001b[0m \u001b[0;31m# Experiment 1 synonym vs antonym\u001b[0m\u001b[0;34m\u001b[0m\u001b[0;34m\u001b[0m\u001b[0;34m\u001b[0m\u001b[0m\n\u001b[0;32m----> 2\u001b[0;31m \u001b[0;34m[\u001b[0m\u001b[0;34m[\u001b[0m\u001b[0msynvsant4\u001b[0m\u001b[0;34m(\u001b[0m\u001b[0ma\u001b[0m\u001b[0;34m)\u001b[0m \u001b[0;32mfor\u001b[0m \u001b[0ma\u001b[0m \u001b[0;32min\u001b[0m \u001b[0mlocalf\u001b[0m\u001b[0;34m]\u001b[0m \u001b[0;32mfor\u001b[0m \u001b[0mlocalf\u001b[0m \u001b[0;32min\u001b[0m \u001b[0;34m[\u001b[0m\u001b[0mfile_list1\u001b[0m\u001b[0;34m,\u001b[0m\u001b[0mfile_list2\u001b[0m\u001b[0;34m,\u001b[0m\u001b[0mfile_list3\u001b[0m\u001b[0;34m]\u001b[0m\u001b[0;34m]\u001b[0m\u001b[0;34m\u001b[0m\u001b[0;34m\u001b[0m\u001b[0m\n\u001b[0m",
      "\u001b[0;32m<ipython-input-36-d3a2f9f9a9ef>\u001b[0m in \u001b[0;36msynvsant4\u001b[0;34m(file_name)\u001b[0m\n\u001b[1;32m     26\u001b[0m \u001b[0;34m\u001b[0m\u001b[0m\n\u001b[1;32m     27\u001b[0m     \u001b[0;31m#precision\u001b[0m\u001b[0;34m\u001b[0m\u001b[0;34m\u001b[0m\u001b[0;34m\u001b[0m\u001b[0m\n\u001b[0;32m---> 28\u001b[0;31m     \u001b[0mprecision1\u001b[0m \u001b[0;34m=\u001b[0m \u001b[0;36m1\u001b[0m\u001b[0;34m/\u001b[0m\u001b[0;36m2\u001b[0m\u001b[0;34m*\u001b[0m\u001b[0;34m(\u001b[0m\u001b[0msyncomparison1\u001b[0m\u001b[0;34m.\u001b[0m\u001b[0mcount\u001b[0m\u001b[0;34m(\u001b[0m\u001b[0;32mTrue\u001b[0m\u001b[0;34m)\u001b[0m\u001b[0;34m/\u001b[0m\u001b[0;34m(\u001b[0m\u001b[0msyncomparison1\u001b[0m\u001b[0;34m.\u001b[0m\u001b[0mcount\u001b[0m\u001b[0;34m(\u001b[0m\u001b[0;32mTrue\u001b[0m\u001b[0;34m)\u001b[0m\u001b[0;34m+\u001b[0m\u001b[0mantcomparison1\u001b[0m\u001b[0;34m.\u001b[0m\u001b[0mcount\u001b[0m\u001b[0;34m(\u001b[0m\u001b[0;32mFalse\u001b[0m\u001b[0;34m)\u001b[0m\u001b[0;34m)\u001b[0m\u001b[0;34m+\u001b[0m\u001b[0mantcomparison1\u001b[0m\u001b[0;34m.\u001b[0m\u001b[0mcount\u001b[0m\u001b[0;34m(\u001b[0m\u001b[0;32mTrue\u001b[0m\u001b[0;34m)\u001b[0m\u001b[0;34m/\u001b[0m\u001b[0;34m(\u001b[0m\u001b[0mantcomparison1\u001b[0m\u001b[0;34m.\u001b[0m\u001b[0mcount\u001b[0m\u001b[0;34m(\u001b[0m\u001b[0;32mTrue\u001b[0m\u001b[0;34m)\u001b[0m\u001b[0;34m+\u001b[0m\u001b[0msyncomparison1\u001b[0m\u001b[0;34m.\u001b[0m\u001b[0mcount\u001b[0m\u001b[0;34m(\u001b[0m\u001b[0;32mFalse\u001b[0m\u001b[0;34m)\u001b[0m\u001b[0;34m)\u001b[0m\u001b[0;34m)\u001b[0m\u001b[0;34m\u001b[0m\u001b[0;34m\u001b[0m\u001b[0m\n\u001b[0m\u001b[1;32m     29\u001b[0m \u001b[0;34m\u001b[0m\u001b[0m\n\u001b[1;32m     30\u001b[0m     \u001b[0;31m#f1 score\u001b[0m\u001b[0;34m\u001b[0m\u001b[0;34m\u001b[0m\u001b[0;34m\u001b[0m\u001b[0m\n",
      "\u001b[0;31mZeroDivisionError\u001b[0m: division by zero"
     ]
    }
   ],
   "source": [
    "# Experiment 1 synonym vs antonym\n",
    "[[synvsant4(a) for a in localf] for localf in [file_list1,file_list2,file_list3]]"
   ]
  },
  {
   "cell_type": "markdown",
   "id": "02e1d6fa",
   "metadata": {},
   "source": [
    "## Recall syn vs non-syn"
   ]
  },
  {
   "cell_type": "code",
   "execution_count": 48,
   "id": "daa5527b",
   "metadata": {},
   "outputs": [
    {
     "data": {
      "text/plain": [
       "[[0.5387041386427529,\n",
       "  0.5522297545757565,\n",
       "  0.5609423745299693,\n",
       "  0.5418801821999217],\n",
       " [0.5304022395407044,\n",
       "  0.5393417197490007,\n",
       "  0.5468740732832758,\n",
       "  0.5173362751029027],\n",
       " [0.5402402642847823,\n",
       "  0.5499982207038895,\n",
       "  0.5624325350224784,\n",
       "  0.5272172995029833]]"
      ]
     },
     "execution_count": 48,
     "metadata": {},
     "output_type": "execute_result"
    }
   ],
   "source": [
    "# Experiment 1 synonym vs antonym\n",
    "[[synvsnonsyn2(a) for a in localf] for localf in [file_list1,file_list2,file_list3]]"
   ]
  },
  {
   "cell_type": "code",
   "execution_count": 49,
   "id": "6445b097",
   "metadata": {},
   "outputs": [
    {
     "data": {
      "text/plain": [
       "[[0.5461460446247465,\n",
       "  0.5385647604474336,\n",
       "  0.5356096461573134,\n",
       "  0.5407903633322657],\n",
       " [0.5172087588816531,\n",
       "  0.514983155996821,\n",
       "  0.5195663262280108,\n",
       "  0.5204544915364815],\n",
       " [0.5467776947439593,\n",
       "  0.5367009477717282,\n",
       "  0.5262134799473328,\n",
       "  0.5313141287973144]]"
      ]
     },
     "execution_count": 49,
     "metadata": {},
     "output_type": "execute_result"
    }
   ],
   "source": [
    "# Experiment 1 synonym vs antonym\n",
    "[[synvsnonsyn4(a) for a in localf] for localf in [file_list1,file_list2,file_list3]]"
   ]
  },
  {
   "cell_type": "markdown",
   "id": "7e0a688a",
   "metadata": {},
   "source": [
    "## Recall ant vs non-ant"
   ]
  },
  {
   "cell_type": "code",
   "execution_count": 50,
   "id": "7f7826ba",
   "metadata": {},
   "outputs": [
    {
     "data": {
      "text/plain": [
       "[[0.49155241110222353,\n",
       "  0.4822542425710412,\n",
       "  0.4927221928055609,\n",
       "  0.4918415706243968],\n",
       " [0.4495191314699443,\n",
       "  0.46449158620896847,\n",
       "  0.46219896428316604,\n",
       "  0.4227474660988625],\n",
       " [0.4535598541434306,\n",
       "  0.4638193842028773,\n",
       "  0.4739512334343514,\n",
       "  0.49041642726511425]]"
      ]
     },
     "execution_count": 50,
     "metadata": {},
     "output_type": "execute_result"
    }
   ],
   "source": [
    "# Experiment 1 synonym vs antonym\n",
    "[[antvsnonant2(a) for a in localf] for localf in [file_list1,file_list2,file_list3]]"
   ]
  },
  {
   "cell_type": "code",
   "execution_count": 51,
   "id": "11c345b1",
   "metadata": {},
   "outputs": [
    {
     "data": {
      "text/plain": [
       "[[0.4971309366890859,\n",
       "  0.4828306839561529,\n",
       "  0.5023883825467819,\n",
       "  0.49447592653094946],\n",
       " [0.4943595116583862,\n",
       "  0.4767583339905141,\n",
       "  0.4770474935126874,\n",
       "  0.477208972206888],\n",
       " [0.498910957643763,\n",
       "  0.4995362181689818,\n",
       "  0.5056142011123254,\n",
       "  0.5374499134399092]]"
      ]
     },
     "execution_count": 51,
     "metadata": {},
     "output_type": "execute_result"
    }
   ],
   "source": [
    "# Experiment 1 synonym vs antonym\n",
    "[[antvsnonant4(a) for a in localf] for localf in [file_list1,file_list2,file_list3]]"
   ]
  },
  {
   "cell_type": "markdown",
   "id": "10bc9589",
   "metadata": {},
   "source": [
    "## Recall Hyper vs Hypo"
   ]
  },
  {
   "cell_type": "code",
   "execution_count": 52,
   "id": "fb96bb70",
   "metadata": {},
   "outputs": [
    {
     "data": {
      "text/plain": [
       "[[0.5132236842105263,\n",
       "  0.5088486842105263,\n",
       "  0.4820394736842105,\n",
       "  0.5636842105263158],\n",
       " [0.52875, 0.506578947368421, 0.5158552631578948, 0.5407894736842105],\n",
       " [0.505296052631579,\n",
       "  0.5084210526315789,\n",
       "  0.4915131578947368,\n",
       "  0.5615131578947369]]"
      ]
     },
     "execution_count": 52,
     "metadata": {},
     "output_type": "execute_result"
    }
   ],
   "source": [
    "# Experiment 1 synonym vs antonym\n",
    "[[hypohyper2(a) for a in localf] for localf in [file_list1,file_list2,file_list3]]"
   ]
  },
  {
   "cell_type": "code",
   "execution_count": 53,
   "id": "81c6bec4",
   "metadata": {},
   "outputs": [
    {
     "data": {
      "text/plain": [
       "[[0.5108223684210527,\n",
       "  0.5136184210526316,\n",
       "  0.4831578947368421,\n",
       "  0.5429605263157895],\n",
       " [0.5384539473684211,\n",
       "  0.5346052631578948,\n",
       "  0.5219736842105264,\n",
       "  0.5488815789473684],\n",
       " [0.5156578947368421,\n",
       "  0.506546052631579,\n",
       "  0.4869078947368421,\n",
       "  0.5318421052631579]]"
      ]
     },
     "execution_count": 53,
     "metadata": {},
     "output_type": "execute_result"
    }
   ],
   "source": [
    "# Experiment 1 synonym vs antonym\n",
    "[[hypohyper4(a) for a in localf] for localf in [file_list1,file_list2,file_list3]]"
   ]
  },
  {
   "cell_type": "markdown",
   "id": "0a09c006",
   "metadata": {},
   "source": [
    "## Recall Syn vs None vs ant"
   ]
  },
  {
   "cell_type": "code",
   "execution_count": 62,
   "id": "ffc85c88",
   "metadata": {},
   "outputs": [
    {
     "data": {
      "text/plain": [
       "[[0.37372607705088523,\n",
       "  0.3591392325407671,\n",
       "  0.35721051705706436,\n",
       "  0.36015348419440496],\n",
       " [0.40814343755520227,\n",
       "  0.4138844727080021,\n",
       "  0.4220691279514808,\n",
       "  0.4549843961608667],\n",
       " [0.3993131857581985,\n",
       "  0.4027622237340907,\n",
       "  0.3883692157349446,\n",
       "  0.35987406703519237]]"
      ]
     },
     "execution_count": 62,
     "metadata": {},
     "output_type": "execute_result"
    }
   ],
   "source": [
    "# Experiment 1 synonym vs antonym\n",
    "[[synvsnonevsant4(a) for a in localf] for localf in [file_list1,file_list2,file_list3]]"
   ]
  },
  {
   "cell_type": "markdown",
   "id": "8a94702b",
   "metadata": {},
   "source": [
    "# Comparison: flat vs Maha"
   ]
  },
  {
   "cell_type": "code",
   "execution_count": 128,
   "id": "c711dff4",
   "metadata": {},
   "outputs": [
    {
     "data": {
      "text/plain": [
       "[[0.5602808691043986,\n",
       "  0.5545398339515986,\n",
       "  0.5565712771595125,\n",
       "  0.5234499205087441],\n",
       " [0.5738827062356474,\n",
       "  0.5763116057233705,\n",
       "  0.5730436318671612,\n",
       "  0.5342254018724607]]"
      ]
     },
     "execution_count": 128,
     "metadata": {},
     "output_type": "execute_result"
    }
   ],
   "source": [
    "#Syn vs ant\n",
    "[[synvsant1(a) for a in file_list1],[synvsant2(a) for a in file_list3]]"
   ]
  },
  {
   "cell_type": "code",
   "execution_count": 129,
   "id": "5e169757",
   "metadata": {},
   "outputs": [
    {
     "data": {
      "text/plain": [
       "[[0.549286502259706,\n",
       "  0.5644461051208143,\n",
       "  0.5683946597392737,\n",
       "  0.5495133625137896],\n",
       " [0.5402402642847823,\n",
       "  0.5499982207038895,\n",
       "  0.5624325350224784,\n",
       "  0.5272172995029833]]"
      ]
     },
     "execution_count": 129,
     "metadata": {},
     "output_type": "execute_result"
    }
   ],
   "source": [
    "# Syn vs non-syn\n",
    "[[synvsnonsyn1(a) for a in file_list1],[synvsnonsyn2(a) for a in file_list3]]"
   ]
  },
  {
   "cell_type": "code",
   "execution_count": 130,
   "id": "d88abadd",
   "metadata": {},
   "outputs": [
    {
     "data": {
      "text/plain": [
       "[[0.4996939415447127,\n",
       "  0.5006553030729771,\n",
       "  0.4966953197465911,\n",
       "  0.5265125483966668],\n",
       " [0.4535598541434306,\n",
       "  0.4638193842028773,\n",
       "  0.4739512334343514,\n",
       "  0.49041642726511425]]"
      ]
     },
     "execution_count": 130,
     "metadata": {},
     "output_type": "execute_result"
    }
   ],
   "source": [
    "# Ant vs non-ant\n",
    "[[antvsnonant1(a) for a in file_list1],[antvsnonant2(a) for a in file_list3]]"
   ]
  },
  {
   "cell_type": "code",
   "execution_count": 131,
   "id": "53e9f5bf",
   "metadata": {},
   "outputs": [
    {
     "data": {
      "text/plain": [
       "[[0.5248026315789474,\n",
       "  0.5194078947368421,\n",
       "  0.5286842105263159,\n",
       "  0.5505921052631579],\n",
       " [0.505296052631579,\n",
       "  0.5084210526315789,\n",
       "  0.4915131578947368,\n",
       "  0.5615131578947369]]"
      ]
     },
     "execution_count": 131,
     "metadata": {},
     "output_type": "execute_result"
    }
   ],
   "source": [
    "# Hyper/hypo vs cohypo\n",
    "[[hypohyper1(a) for a in file_list1],[hypohyper2(a) for a in file_list3]]"
   ]
  },
  {
   "cell_type": "code",
   "execution_count": 99,
   "id": "d9f5ef44",
   "metadata": {},
   "outputs": [
    {
     "data": {
      "text/plain": [
       "{('take', 'remove'): 0.05333230896639107,\n",
       " ('shine', 'polish'): 0.16235516848618092,\n",
       " ('bake', 'broil'): 0.28948777357667116,\n",
       " ('decay', 'decompose'): 0.5445967702417007,\n",
       " ('jump', 'skip'): 0.46027377532356994,\n",
       " ('go', 'move'): -0.05204735585692516,\n",
       " ('thaw', 'melt'): 0.2979185548225758,\n",
       " ('see', 'meet'): 0.16186812298277814,\n",
       " ('claim', 'take'): -0.2150729374306289,\n",
       " ('sting', 'prick'): 0.8863593031763863,\n",
       " ('search', 'seek'): 0.2043643949718246,\n",
       " ('alter', 'change'): 0.284600216530576,\n",
       " ('disturb', 'interrupt'): -0.03675559267781458,\n",
       " ('seem', 'appear'): 0.2271378879707521,\n",
       " ('have', 'hold'): 0.1034603935011828,\n",
       " ('travel', 'move'): 0.003358913935313452,\n",
       " ('travel', 'go'): -0.07996937779616323,\n",
       " ('start', 'begin'): 0.02241424551605661,\n",
       " ('prepare', 'cook'): 0.4302618801290346,\n",
       " ('let', 'allow'): -0.08977739494468376,\n",
       " ('look', 'appear'): -0.006285893332194711,\n",
       " ('float', 'drift'): 0.09875632832852282,\n",
       " ('suppose', 'guess'): -0.17187570678309158,\n",
       " ('call', 'yell'): -0.2574112064670324,\n",
       " ('associate', 'connect'): 0.1111524897604937,\n",
       " ('reply', 'respond'): 0.5444690515841136,\n",
       " ('demand', 'need'): -0.08236924765679449,\n",
       " ('take', 'choose'): 0.06940071147076295,\n",
       " ('remember', 'recall'): -0.2964623430247768,\n",
       " ('keep', 'hold'): 0.00904954453275351,\n",
       " ('make', 'do'): 0.19665816837470831,\n",
       " ('rise', 'lift'): -0.40385224864915087,\n",
       " ('see', 'hear'): -0.15348918589417831,\n",
       " ('blend', 'mix'): 0.7111002127371271,\n",
       " ('help', 'assist'): 0.011002935939942223,\n",
       " ('bury', 'forget'): -0.22338175613766986,\n",
       " ('learn', 'teach'): -0.27950344563391416,\n",
       " ('organize', 'prepare'): -0.3262626676982862,\n",
       " ('do', 'perform'): 0.16216640983787625,\n",
       " ('earn', 'gain'): -0.044623014617937246,\n",
       " ('ponder', 'reflect'): -0.2791753390728814,\n",
       " ('rinse', 'wash'): -0.01886617405485213,\n",
       " ('squeeze', 'crush'): 0.14769387608980855,\n",
       " ('soothe', 'console'): 0.055702717983591575,\n",
       " ('return', 'recall'): 0.47848686792536804,\n",
       " ('comprehend', 'perceive'): 0.22163090110991432,\n",
       " ('restore', 'repair'): 0.4380807439447045,\n",
       " ('buy', 'purchase'): -0.03776077678380649,\n",
       " ('perspire', 'sweat'): 0.5988715944080388,\n",
       " ('assume', 'presume'): -0.1685792559725849,\n",
       " ('acknowledge', 'admit'): 0.7319467011822671,\n",
       " ('assault', 'attack'): 0.0704206444423201,\n",
       " ('disturb', 'upset'): -0.03277728053423082,\n",
       " ('show', 'express'): -0.02041440839354124,\n",
       " ('ride', 'drive'): -0.09275659492745215,\n",
       " ('hurt', 'offend'): 0.5392462073344525,\n",
       " ('go', 'start'): 0.19093963886677592,\n",
       " ('achieve', 'accomplish'): 0.1469557513616869,\n",
       " ('attempt', 'try'): -0.03029416450415514,\n",
       " ('strike', 'hit'): -0.004835968313722079,\n",
       " ('disintegrate', 'decay'): 0.6484923754419941,\n",
       " ('find', 'determine'): -0.2806713127109421,\n",
       " ('yell', 'scream'): 0.5628643185716796,\n",
       " ('suggest', 'advise'): 0.2533596972343183,\n",
       " ('suppose', 'imagine'): 0.4580703304511932,\n",
       " ('follow', 'come'): 0.2048023915652399,\n",
       " ('rationalize', 'justify'): 0.19923483946591097,\n",
       " ('choke', 'die'): 0.3388724035952815,\n",
       " ('disown', 'renounce'): -0.04174664909853428,\n",
       " ('unite', 'combine'): -0.030917967800506575,\n",
       " ('scratch', 'rub'): 0.7383358581237683,\n",
       " ('hurt', 'ache'): -0.097529987250968,\n",
       " ('run', 'operate'): 0.2439115187819016,\n",
       " ('prove', 'show'): -0.13034149635065462,\n",
       " ('assist', 'aid'): -0.02894626487250847,\n",
       " ('remain', 'stay'): 0.0631219564902682,\n",
       " ('flush', 'blush'): 0.5091283384776719,\n",
       " ('reflect', 'shine'): -0.20703432039657832,\n",
       " ('marry', 'wed'): -0.03990269898808191,\n",
       " ('learn', 'read'): -0.08737189787033928,\n",
       " ('decline', 'reject'): 0.2909615365560213,\n",
       " ('get', 'acquire'): 0.014910611203253208,\n",
       " ('snooze', 'doze'): 0.8123512748551288,\n",
       " ('restore', 'fix'): 0.234528462110041,\n",
       " ('sink', 'dip'): -0.2089717420544907,\n",
       " ('console', 'comfort'): -0.03384016042549641,\n",
       " ('annoy', 'irritate'): 0.10936881939964815,\n",
       " ('let', 'permit'): -0.027942969417723566,\n",
       " ('search', 'look'): 0.23010590254724136,\n",
       " ('stain', 'tarnish'): 0.6072765496427102,\n",
       " ('ignore', 'disregard'): 0.37765243729874676,\n",
       " ('gather', 'collect'): 0.07057479579293105,\n",
       " ('incline', 'tend'): -0.24403952959654043,\n",
       " ('forget', 'leave'): -0.009003925481428515,\n",
       " ('yell', 'holler'): 0.720277243236724,\n",
       " ('hop', 'skip'): 0.20878964854100035,\n",
       " ('originate', 'start'): -0.1228025087168255,\n",
       " ('run', 'flow'): -0.2058124069965894,\n",
       " ('fix', 'mend'): -0.4911774413402024,\n",
       " ('lead', 'direct'): 0.49370740040089095,\n",
       " ('betray', 'cheat'): -0.09672686709730147,\n",
       " ('blur', 'smear'): 0.7457821225878659,\n",
       " ('differ', 'disagree'): -0.04379071976587004,\n",
       " ('exist', 'live'): -0.07340573913175136,\n",
       " ('burst', 'explode'): 0.5893841156792002,\n",
       " ('pinch', 'squeeze'): 0.8826529765360818,\n",
       " ('shrink', 'reduce'): -0.08594815704883547,\n",
       " ('abduct', 'kidnap'): 0.21745522522104166,\n",
       " ('sway', 'swing'): 0.62073485065618,\n",
       " ('disallow', 'forbid'): 0.10673359098079026,\n",
       " ('spell', 'write'): -0.0899465006027408,\n",
       " ('stray', 'wander'): 0.6513891248716844,\n",
       " ('crackle', 'crunch'): 0.52179360043802,\n",
       " ('grind', 'grate'): 0.8137356234876325,\n",
       " ('depart', 'go'): -0.030164268959083793,\n",
       " ('knock', 'tap'): 0.08240318049629956,\n",
       " ('interrupt', 'break'): 0.3219696656731003,\n",
       " ('make', 'create'): -0.16977359770586867,\n",
       " ('bump', 'knock'): -0.027141868452642548,\n",
       " ('swim', 'drown'): 0.5162714851929059,\n",
       " ('mend', 'heal'): 0.6963170704045486,\n",
       " ('lie', 'lay'): 0.24672229716286215,\n",
       " ('build', 'construct'): -0.0490181912743201,\n",
       " ('perish', 'die'): -0.3140695942827139,\n",
       " ('slip', 'slide'): 0.8014443870637357,\n",
       " ('irritate', 'bother'): -0.12077507753826455,\n",
       " ('divide', 'separate'): -0.39496401296715006,\n",
       " ('leap', 'bound'): 0.6379876189548228,\n",
       " ('divide', 'split'): 0.035391053573142754,\n",
       " ('smash', 'crush'): 0.19016099124869468,\n",
       " ('hesitate', 'pause'): 0.5739379812825908,\n",
       " ('tap', 'rap'): 0.17350134669260164,\n",
       " ('sting', 'bite'): 0.5738488763121742,\n",
       " ('soak', 'drench'): 0.2515365509529382,\n",
       " ('direct', 'steer'): -0.10694714685063773,\n",
       " ('decorate', 'adorn'): -0.1353519301686871,\n",
       " ('have', 'give'): 0.16525979107118896,\n",
       " ('prohibit', 'disallow'): 0.08651902986836923,\n",
       " ('duplicate', 'repeat'): -0.07474084794866254,\n",
       " ('grow', 'raise'): -0.20282219647470134,\n",
       " ('descend', 'fall'): 0.5554471611514498,\n",
       " ('jump', 'leap'): 0.47319627908118717,\n",
       " ('fight', 'struggle'): -0.06756164732136602,\n",
       " ('think', 'guess'): 0.12176479829682675,\n",
       " ('speak', 'talk'): 0.22609662566844357,\n",
       " ('separate', 'split'): 0.4330828138199732,\n",
       " ('accept', 'take'): -0.03441601010449221,\n",
       " ('say', 'tell'): 0.5918786329225216,\n",
       " ('munch', 'crunch'): 0.8389654236366849,\n",
       " ('crack', 'break'): -0.21363495689453174,\n",
       " ('explain', 'excuse'): -0.006607465178196309,\n",
       " ('comfort', 'soothe'): 0.8991806933283618,\n",
       " ('dip', 'dunk'): 0.8007898611703943,\n",
       " ('put', 'lay'): 0.6334654693348433,\n",
       " ('squeeze', 'hug'): 0.3609096269433786,\n",
       " ('seem', 'look'): -0.08441032257918843,\n",
       " ('live', 'survive'): 0.3398949278527751,\n",
       " ('roam', 'wander'): 0.19962734134877352,\n",
       " ('accumulate', 'gather'): 0.19510942244905838,\n",
       " ('save', 'spare'): 0.21157065503626718,\n",
       " ('prohibit', 'forbid'): 0.49070262995423286,\n",
       " ('wander', 'drift'): 0.49506073887858526,\n",
       " ('debate', 'argue'): -0.15093701810139507,\n",
       " ('worry', 'concern'): 0.018042338604588145,\n",
       " ('demand', 'ask'): 0.07500911158907558,\n",
       " ('instruct', 'teach'): 0.11963561595408732,\n",
       " ('grow', 'develop'): -0.11237842537476878,\n",
       " ('repair', 'fix'): -0.08263239400489963,\n",
       " ('capture', 'catch'): 0.21109970713121043,\n",
       " ('discover', 'learn'): 0.10725553172488125,\n",
       " ('collect', 'accumulate'): -0.1609166529571763,\n",
       " ('enter', 'participate'): -0.08406182955988356,\n",
       " ('obtain', 'receive'): -0.09744920063459592,\n",
       " ('win', 'succeed'): -0.1397630261808638,\n",
       " ('glow', 'shine'): -0.25029993248819415,\n",
       " ('scold', 'reprimand'): 0.5349508066134665,\n",
       " ('toss', 'chuck'): 0.6710026811033323,\n",
       " ('get', 'bring'): -0.05191586541375493,\n",
       " ('slide', 'slither'): 0.47523630016167534,\n",
       " ('shake', 'stir'): -0.327819254297003,\n",
       " ('pick', 'pluck'): -0.5077468104803406,\n",
       " ('vanish', 'disappear'): 0.352434000712036,\n",
       " ('snap', 'crack'): 0.5495732662099706,\n",
       " ('excuse', 'rationalize'): 0.6724280157167544,\n",
       " ('decrease', 'diminish'): 0.24006981431235697,\n",
       " ('acknowledge', 'know'): 0.2008883665902375,\n",
       " ('overwhelm', 'overcome'): -0.434655376321151,\n",
       " ('croak', 'die'): -0.039294146885870865,\n",
       " ('desire', 'want'): 0.02992498765135644,\n",
       " ('exist', 'be'): 0.23121463616597784,\n",
       " ('discover', 'find'): 0.2200251302638276,\n",
       " ('lift', 'raise'): -0.12976792295198897,\n",
       " ('incline', 'lean'): 0.11830622119968974,\n",
       " ('smear', 'smudge'): 0.830760215472278,\n",
       " ('mix', 'combine'): -0.3967570916775284,\n",
       " ('bound', 'jump'): -0.07332858436620232,\n",
       " ('cast', 'throw'): 0.28621174765083096,\n",
       " ('aid', 'help'): -0.08015266248178377,\n",
       " ('bother', 'annoy'): 0.4172190800120213,\n",
       " ('calculate', 'compute'): -0.04847048685837077,\n",
       " ('demolish', 'smash'): 0.26623994232961673,\n",
       " ('refuse', 'decline'): 0.45369676251435775,\n",
       " ('holler', 'scream'): 0.3605495994917698,\n",
       " ('earn', 'make'): -0.026996021115719193,\n",
       " ('bring', 'take'): 0.31873057303249436,\n",
       " ('snuggle', 'cuddle'): 0.19525441602982546,\n",
       " ('select', 'choose'): -0.1845703924109069,\n",
       " ('hear', 'listen'): -0.22268522633953264,\n",
       " ('ignore', 'neglect'): -0.39021282363526255,\n",
       " ('need', 'want'): -0.005376526505074588,\n",
       " ('write', 'compose'): 0.022391188089840957,\n",
       " ('gather', 'meet'): -0.19290958524340596,\n",
       " ('weep', 'cry'): -0.011084648452109446,\n",
       " ('glow', 'burn'): 0.5150211405029232,\n",
       " ('excuse', 'pardon'): 0.6149584999518721,\n",
       " ('hug', 'embrace'): 0.27781583543740707,\n",
       " ('inquire', 'ask'): -0.02686262431817293,\n",
       " ('defeat', 'overcome'): 0.2864563938909545,\n",
       " ('vary', 'change'): -0.12574367200682232,\n",
       " ('prefer', 'choose'): -0.035835870522081203,\n",
       " ('push', 'tug'): -0.4836896890188542,\n",
       " ('descend', 'come'): -0.3455039735955507,\n",
       " ('understand', 'realize'): 0.3184555073049125,\n",
       " ('touch', 'reach'): -0.16430516529269534,\n",
       " ('yield', 'give'): -0.2042680339133235,\n",
       " ('allow', 'permit'): 0.148590072035386,\n",
       " ('arrive', 'come'): 0.27563176817641916,\n",
       " ('flex', 'bend'): 0.5000557277126576,\n",
       " ('mistreat', 'abuse'): 0.447456226778649,\n",
       " ('see', 'visit'): 0.00848806184942178,\n",
       " ('bound', 'tie'): 0.00839157552917008,\n",
       " ('remember', 'think'): 0.0006970905672609065,\n",
       " ('obtain', 'hold'): 0.06660099467864868,\n",
       " ('set', 'prepare'): -0.0965970684295999,\n",
       " ('restore', 'mend'): -0.35306111989440514,\n",
       " ('exchange', 'change'): -0.14882135045195705,\n",
       " ('capture', 'get'): 0.020187046846754788,\n",
       " ('examine', 'study'): 0.400623748483385,\n",
       " ('hang', 'fall'): 0.5308724024062459,\n",
       " ('determine', 'set'): -0.19058099968610173,\n",
       " ('scream', 'cry'): 0.5965396390963515,\n",
       " ('set', 'lay'): -0.1289241706557618,\n",
       " ('persuade', 'sway'): -0.1674711119729017,\n",
       " ('set', 'put'): 0.08701848007906181,\n",
       " ('hold', 'bear'): 0.273383163479384,\n",
       " ('allow', 'grant'): 0.054192393473035845,\n",
       " ('command', 'control'): 0.1329164808894946,\n",
       " ('affect', 'touch'): 0.13628009223333792,\n",
       " ('crush', 'demolish'): 0.5514334952017628,\n",
       " ('sing', 'whistle'): -0.09111071671976634,\n",
       " ('learn', 'acquire'): 0.5722435578143622,\n",
       " ('buzz', 'hum'): 0.6195744711882859,\n",
       " ('wake', 'awake'): 0.6799886583253832,\n",
       " ('have', 'receive'): -0.06596294563530826,\n",
       " ('examine', 'analyze'): 0.3826391813448084,\n",
       " ('deal', 'sell'): -0.12928724632950697,\n",
       " ('demand', 'take'): -0.16928679875357794,\n",
       " ('reach', 'strive'): -0.019860226630037277,\n",
       " ('urge', 'recommend'): 0.23495239547365518,\n",
       " ('mend', 'repair'): -0.00017990056647604224,\n",
       " ('fly', 'flee'): -0.20948313715061032,\n",
       " ('blend', 'combine'): -0.22247684429661843,\n",
       " ('taste', 'try'): -0.1268514317969606,\n",
       " ('toss', 'flip'): 0.9195048700170558,\n",
       " ('get', 'go'): 0.039706018457471536,\n",
       " ('think', 'recall'): 0.20576562332483608,\n",
       " ('holler', 'call'): -0.09413521484917507,\n",
       " ('believe', 'think'): 0.13517701557373488,\n",
       " ('reach', 'achieve'): 0.027466891800868302,\n",
       " ('advise', 'notify'): -0.18943895024483778,\n",
       " ('catch', 'grab'): 0.0965513177853274,\n",
       " ('decompose', 'disintegrate'): 0.7533948098079857,\n",
       " ('examine', 'see'): 0.07771372356994585,\n",
       " ('sting', 'burn'): -0.032843418857211384,\n",
       " ('kidnap', 'snatch'): 0.7286083756509059,\n",
       " ('practice', 'do'): -0.20729687948397957,\n",
       " ('block', 'stop'): 0.25168586101180673,\n",
       " ('have', 'own'): -0.06438143402357457,\n",
       " ('own', 'possess'): -0.2717529346558239,\n",
       " ('encourage', 'boost'): -0.08516509711755059,\n",
       " ('promote', 'advance'): -0.16315666067289364,\n",
       " ('apply', 'use'): -0.35213598959370557,\n",
       " ('avoid', 'invalidate'): -0.0227666578669308,\n",
       " ('nullify', 'avoid'): -0.12676157581340539,\n",
       " ('invalidate', 'nullify'): 0.8142770202676812,\n",
       " ('count', 'matter'): -0.03957311266234498,\n",
       " ('assume', 'adopt'): -0.20398425855740185,\n",
       " ('submit', 'bow'): 0.016518077030331348,\n",
       " ('incline', 'dispose'): 0.5912174198393774,\n",
       " ('secure', 'insure'): -0.13141848909425674,\n",
       " ('insure', 'ensure'): -0.4517848244054927,\n",
       " ('ensure', 'secure'): 0.15383958798868425,\n",
       " ('discharge', 'free'): 0.4153517115159754,\n",
       " ('retire', 'retreat'): 0.44265601854837283,\n",
       " ('retire', 'withdraw'): 0.5364591177930433,\n",
       " ('withdraw', 'retreat'): 0.43997100896110763,\n",
       " ('deal', 'cope'): -0.32841084790150704,\n",
       " ('cope', 'manage'): -0.4058654781843771,\n",
       " ('deal', 'manage'): 0.2715098765402677,\n",
       " ('care', 'worry'): 0.6222621444971014,\n",
       " ('commit', 'dedicate'): -0.38696861328785237,\n",
       " ('commit', 'devote'): 0.6009436125058737,\n",
       " ('devote', 'dedicate'): -0.2918692835643765,\n",
       " ('restrict', 'limit'): 0.21977275563334187,\n",
       " ('cooperate', 'collaborate'): 0.6933940630432228,\n",
       " ('enforce', 'impose'): 0.5403426816585576}"
      ]
     },
     "execution_count": 99,
     "metadata": {},
     "output_type": "execute_result"
    }
   ],
   "source": [
    "mf.averaged_product_list(simdict,'SYNONYMS',objsubset3,\"maha\")"
   ]
  },
  {
   "cell_type": "code",
   "execution_count": 111,
   "id": "7e88416b",
   "metadata": {},
   "outputs": [
    {
     "data": {
      "text/plain": [
       "{('feed', 'starve'): -0.2967050427642526,\n",
       " ('connect', 'separate'): 0.6668901483956435,\n",
       " ('forget', 'recall'): -0.012282019654222943,\n",
       " ('sell', 'purchase'): -0.1542564868254181,\n",
       " ('melt', 'freeze'): -0.2955884411822633,\n",
       " ('agree', 'differ'): 0.09303536519196376,\n",
       " ('buy', 'sell'): 0.09228603396240681,\n",
       " ('arrive', 'depart'): 0.24144974200576758,\n",
       " ('disbelieve', 'believe'): 0.06715140276658801,\n",
       " ('separate', 'combine'): -0.17977754558708756,\n",
       " ('finish', 'start'): 0.007287906113417849,\n",
       " ('implode', 'explode'): 0.3079754559801736,\n",
       " ('lose', 'find'): 0.1415841776237894,\n",
       " ('reject', 'accept'): 0.010578888668356472,\n",
       " ('defend', 'prosecute'): 0.2517658253930243,\n",
       " ('sit', 'lie'): 0.2730597973262059,\n",
       " ('sink', 'float'): -0.06985857724538495,\n",
       " ('fall', 'rise'): 0.19647094763030157,\n",
       " ('climb', 'fall'): 0.03537669329991459,\n",
       " ('accept', 'deny'): 0.14015846141108046,\n",
       " ('admit', 'give'): 0.1450617412259738,\n",
       " ('permit', 'deny'): -0.017379763906112473,\n",
       " ('accept', 'refuse'): 0.6666875141305157,\n",
       " ('move', 'stay'): 0.0020530616322959943,\n",
       " ('remove', 'add'): 0.01782196624337976,\n",
       " ('permit', 'disallow'): -0.28588574205797607,\n",
       " ('appear', 'vanish'): -0.2693432159600989,\n",
       " ('divide', 'unite'): 0.06249917802983285,\n",
       " ('sit', 'rise'): 0.2809005071439699,\n",
       " ('go', 'stay'): -0.10053368491367026,\n",
       " ('allow', 'deny'): 0.14423140981883642,\n",
       " ('mend', 'break'): -0.07967044151691412,\n",
       " ('follow', 'lead'): -0.01490578740794777,\n",
       " ('detach', 'attach'): -0.3942380654757925,\n",
       " ('begin', 'stop'): 0.023729957583645416,\n",
       " ('swim', 'dip'): -0.25488374539314496,\n",
       " ('ascend', 'descend'): 0.33689917720029045,\n",
       " ('deny', 'admit'): 0.36260575832938857,\n",
       " ('leave', 'take'): -0.0606984377427744,\n",
       " ('retreat', 'advance'): -0.28041284885848083,\n",
       " ('come', 'leave'): -0.059314156191926246,\n",
       " ('lower', 'raise'): -0.12847999774789956,\n",
       " ('miss', 'hit'): 0.3414387825898179,\n",
       " ('loosen', 'tie'): -0.19471592091543097,\n",
       " ('decrease', 'increase'): -0.11677853722239678,\n",
       " ('push', 'pull'): 0.3377963134018399,\n",
       " ('enter', 'leave'): 0.0482889800773856,\n",
       " ('agree', 'disagree'): -0.17481464164478266,\n",
       " ('win', 'lose'): -0.10281964605833338,\n",
       " ('lose', 'gain'): 0.3244548006834279,\n",
       " ('make', 'break'): 0.07422330203687945,\n",
       " ('begin', 'finish'): -0.36101290799292035,\n",
       " ('accept', 'decline'): 0.2358233149840506,\n",
       " ('pull', 'press'): 0.240867616285039,\n",
       " ('forbid', 'allow'): 0.05491671391136993,\n",
       " ('prohibit', 'allow'): 0.03656544066359858,\n",
       " ('show', 'hide'): -0.204404404561512,\n",
       " ('disintegrate', 'integrate'): -0.2740080533206635,\n",
       " ('forget', 'remember'): -0.23062530779909737,\n",
       " ('hope', 'despair'): -0.269778676941209,\n",
       " ('hold', 'release'): -0.0370276087542941,\n",
       " ('walk', 'ride'): -0.3509410246789693,\n",
       " ('leave', 'arrive'): -0.16397507329491795,\n",
       " ('like', 'dislike'): 0.0649840640725963,\n",
       " ('lower', 'lift'): -0.2982667310780057,\n",
       " ('ignore', 'acknowledge'): 0.13945887216762728,\n",
       " ('multiply', 'divide'): -0.24460698634056904,\n",
       " ('disappear', 'appear'): -0.3515886583425368,\n",
       " ('sink', 'swim'): -0.09966474111965766,\n",
       " ('exhale', 'inhale'): -0.11220084919943973,\n",
       " ('spread', 'gather'): 0.022740155179031808,\n",
       " ('stop', 'retain'): -0.03349677845769823,\n",
       " ('break', 'fix'): 0.08682720419182212,\n",
       " ('give', 'demand'): 0.14529824303068362,\n",
       " ('fail', 'succeed'): -0.5614967979740333,\n",
       " ('win', 'fail'): 0.09668634862839047,\n",
       " ('stand', 'sit'): 0.2775377308552105,\n",
       " ('ascend', 'fall'): -0.11107485289841953,\n",
       " ('defend', 'attack'): 0.016698895352022205,\n",
       " ('disallow', 'allow'): -0.18441362892165689,\n",
       " ('repair', 'break'): -0.11989650687487191,\n",
       " ('give', 'take'): 0.08971533581743454,\n",
       " ('stay', 'leave'): 0.0009546640895126122,\n",
       " ('start', 'stop'): 0.133652744469036,\n",
       " ('forbid', 'permit'): -0.23483517861939093,\n",
       " ('disown', 'leave'): 0.005699591897922207,\n",
       " ('enjoy', 'hate'): -0.48319397422444355,\n",
       " ('lose', 'keep'): 0.02176735720646756,\n",
       " ('reject', 'take'): -0.17369418695689864,\n",
       " ('laugh', 'cry'): -0.11808739137281757,\n",
       " ('take', 'refuse'): -0.12775928279430054,\n",
       " ('add', 'subtract'): 0.036088113854383964,\n",
       " ('attend', 'miss'): 0.3880920214994575,\n",
       " ('lend', 'borrow'): -0.29850992752458705,\n",
       " ('change', 'remain'): 0.18608342811711467,\n",
       " ('let', 'forbid'): -0.35831287822626073,\n",
       " ('boil', 'freeze'): -0.09682620360803418,\n",
       " ('strike', 'miss'): -0.2796319307381865,\n",
       " ('change', 'stay'): 0.158275883206688,\n",
       " ('burst', 'implode'): 0.8314225755091791,\n",
       " ('delay', 'hurry'): 0.3496692576737408,\n",
       " ('lose', 'earn'): 0.0623422918268019,\n",
       " ('allow', 'refuse'): 0.2674174332616528,\n",
       " ('forget', 'think'): -0.0012646049767690226,\n",
       " ('release', 'obtain'): 0.16720223106596258,\n",
       " ('separate', 'join'): -0.4007755245990284,\n",
       " ('lose', 'obtain'): 0.06481944339498143,\n",
       " ('diminish', 'increase'): -0.057724773580511375,\n",
       " ('get', 'keep'): -0.05300734801414837,\n",
       " ('break', 'build'): -0.13293723744800814,\n",
       " ('lose', 'get'): -0.02968973563475516}"
      ]
     },
     "execution_count": 111,
     "metadata": {},
     "output_type": "execute_result"
    }
   ],
   "source": [
    "mf.averaged_product_list(simdict,'ANTONYMS',objsubset3,\"maha\")"
   ]
  },
  {
   "cell_type": "code",
   "execution_count": 101,
   "id": "12b8c820",
   "metadata": {},
   "outputs": [
    {
     "data": {
      "text/plain": [
       "array([ 5.47415060e-01, -4.33280896e+00,  4.84024258e+00,  2.13637135e-01,\n",
       "        6.42724502e-02,  9.91527351e-03,  4.75557120e+00,  3.32840623e+00,\n",
       "        4.59378328e-01,  1.87732334e+01,  4.79736123e-02,  2.99663248e-01,\n",
       "       -2.37184488e+00])"
      ]
     },
     "execution_count": 101,
     "metadata": {},
     "output_type": "execute_result"
    }
   ],
   "source": [
    "objsubset1['blend'].val"
   ]
  },
  {
   "cell_type": "code",
   "execution_count": 102,
   "id": "14a16028",
   "metadata": {},
   "outputs": [
    {
     "data": {
      "text/plain": [
       "array([ 6.06807093e-02, -5.86366064e+00,  7.86317349e+00,  5.84740263e-02,\n",
       "        1.86328809e-01,  1.74429559e-01,  1.50326556e+01,  6.00726963e+00,\n",
       "       -6.33859732e-01,  3.43825160e+01,  8.09107359e-02,  3.68214848e-03,\n",
       "       -3.55811086e-01])"
      ]
     },
     "execution_count": 102,
     "metadata": {},
     "output_type": "execute_result"
    }
   ],
   "source": [
    "objsubset1['mix'].val"
   ]
  },
  {
   "cell_type": "code",
   "execution_count": 103,
   "id": "2962d81c",
   "metadata": {},
   "outputs": [
    {
     "data": {
      "text/plain": [
       "5.725572296271304"
      ]
     },
     "execution_count": 103,
     "metadata": {},
     "output_type": "execute_result"
    }
   ],
   "source": [
    "mf.M_vec_mult_dev_Maha(objsubset1['mix'].val,objsubset1['mix'].val,objsubset1.mean,objsubset1.inv_cov)"
   ]
  },
  {
   "cell_type": "code",
   "execution_count": 104,
   "id": "4dab1c90",
   "metadata": {},
   "outputs": [
    {
     "data": {
      "text/plain": [
       "19.32612631162237"
      ]
     },
     "execution_count": 104,
     "metadata": {},
     "output_type": "execute_result"
    }
   ],
   "source": [
    "mf.M_vec_mult_dev_Maha(objsubset1['blend'].val,objsubset1['blend'].val,objsubset1.mean,objsubset1.inv_cov)"
   ]
  },
  {
   "cell_type": "code",
   "execution_count": 105,
   "id": "dca44634",
   "metadata": {},
   "outputs": [
    {
     "data": {
      "text/plain": [
       "6.936347453028846"
      ]
     },
     "execution_count": 105,
     "metadata": {},
     "output_type": "execute_result"
    }
   ],
   "source": [
    "mf.M_vec_mult_dev_Maha(objsubset1['mix'].val,objsubset1['blend'].val,objsubset1.mean,objsubset1.inv_cov)"
   ]
  },
  {
   "cell_type": "code",
   "execution_count": 106,
   "id": "18855726",
   "metadata": {},
   "outputs": [
    {
     "data": {
      "text/plain": [
       "10.488565202161828"
      ]
     },
     "execution_count": 106,
     "metadata": {},
     "output_type": "execute_result"
    }
   ],
   "source": [
    "np.sqrt(19.3*5.7)"
   ]
  },
  {
   "cell_type": "code",
   "execution_count": 107,
   "id": "f0083c88",
   "metadata": {},
   "outputs": [
    {
     "data": {
      "text/plain": [
       "0.6681389930293269"
      ]
     },
     "execution_count": 107,
     "metadata": {},
     "output_type": "execute_result"
    }
   ],
   "source": [
    "mf.M_vec_mult_dev_Maha(objsubset1['associate'].val,objsubset1['associate'].val,objsubset1.mean,objsubset1.inv_cov)"
   ]
  },
  {
   "cell_type": "code",
   "execution_count": 108,
   "id": "fd1c24fc",
   "metadata": {},
   "outputs": [
    {
     "data": {
      "text/plain": [
       "5.5100562839049525"
      ]
     },
     "execution_count": 108,
     "metadata": {},
     "output_type": "execute_result"
    }
   ],
   "source": [
    "mf.M_vec_mult_dev_Maha(objsubset1['connect'].val,objsubset1['connect'].val,objsubset1.mean,objsubset1.inv_cov)"
   ]
  },
  {
   "cell_type": "code",
   "execution_count": 109,
   "id": "9f9e5090",
   "metadata": {},
   "outputs": [
    {
     "data": {
      "text/plain": [
       "0.3195178579650959"
      ]
     },
     "execution_count": 109,
     "metadata": {},
     "output_type": "execute_result"
    }
   ],
   "source": [
    "mf.M_vec_mult_dev_Maha(objsubset1['associate'].val,objsubset1['connect'].val,objsubset1.mean,objsubset1.inv_cov)"
   ]
  },
  {
   "cell_type": "code",
   "execution_count": 110,
   "id": "e7f14498",
   "metadata": {},
   "outputs": [
    {
     "data": {
      "text/plain": [
       "1.905255888325765"
      ]
     },
     "execution_count": 110,
     "metadata": {},
     "output_type": "execute_result"
    }
   ],
   "source": [
    "np.sqrt(5.5*0.66)"
   ]
  },
  {
   "cell_type": "code",
   "execution_count": 112,
   "id": "0c118361",
   "metadata": {},
   "outputs": [
    {
     "data": {
      "text/plain": [
       "5.142830015755015"
      ]
     },
     "execution_count": 112,
     "metadata": {},
     "output_type": "execute_result"
    }
   ],
   "source": [
    "mf.M_vec_mult_dev_Maha(objsubset1['finish'].val,objsubset1['finish'].val,objsubset1.mean,objsubset1.inv_cov)"
   ]
  },
  {
   "cell_type": "code",
   "execution_count": 113,
   "id": "90472c17",
   "metadata": {},
   "outputs": [
    {
     "data": {
      "text/plain": [
       "69.32753187721872"
      ]
     },
     "execution_count": 113,
     "metadata": {},
     "output_type": "execute_result"
    }
   ],
   "source": [
    "mf.M_vec_mult_dev_Maha(objsubset1['start'].val,objsubset1['start'].val,objsubset1.mean,objsubset1.inv_cov)"
   ]
  },
  {
   "cell_type": "code",
   "execution_count": 114,
   "id": "5bb6e5b9",
   "metadata": {},
   "outputs": [
    {
     "data": {
      "text/plain": [
       "4.237217032800108"
      ]
     },
     "execution_count": 114,
     "metadata": {},
     "output_type": "execute_result"
    }
   ],
   "source": [
    "mf.M_vec_mult_dev_Maha(objsubset1['finish'].val,objsubset1['start'].val,objsubset1.mean,objsubset1.inv_cov)"
   ]
  },
  {
   "cell_type": "code",
   "execution_count": 119,
   "id": "91d00bc8",
   "metadata": {},
   "outputs": [
    {
     "data": {
      "text/plain": [
       "18.758997841036177"
      ]
     },
     "execution_count": 119,
     "metadata": {},
     "output_type": "execute_result"
    }
   ],
   "source": [
    "np.sqrt(5.1*69)"
   ]
  },
  {
   "cell_type": "code",
   "execution_count": 115,
   "id": "cfd239d4",
   "metadata": {},
   "outputs": [
    {
     "data": {
      "text/plain": [
       "2.650244507560363"
      ]
     },
     "execution_count": 115,
     "metadata": {},
     "output_type": "execute_result"
    }
   ],
   "source": [
    "mf.M_vec_mult_dev_Maha(objsubset1['delay'].val,objsubset1['delay'].val,objsubset1.mean,objsubset1.inv_cov)"
   ]
  },
  {
   "cell_type": "code",
   "execution_count": 117,
   "id": "4642e90d",
   "metadata": {},
   "outputs": [
    {
     "data": {
      "text/plain": [
       "2.5974754190411433"
      ]
     },
     "execution_count": 117,
     "metadata": {},
     "output_type": "execute_result"
    }
   ],
   "source": [
    "mf.M_vec_mult_dev_Maha(objsubset1['hurry'].val,objsubset1['hurry'].val,objsubset1.mean,objsubset1.inv_cov)"
   ]
  },
  {
   "cell_type": "code",
   "execution_count": 118,
   "id": "3a4ddd6d",
   "metadata": {},
   "outputs": [
    {
     "data": {
      "text/plain": [
       "1.126431072229135"
      ]
     },
     "execution_count": 118,
     "metadata": {},
     "output_type": "execute_result"
    }
   ],
   "source": [
    "mf.M_vec_mult_dev_Maha(objsubset1['delay'].val,objsubset1['hurry'].val,objsubset1.mean,objsubset1.inv_cov)"
   ]
  },
  {
   "cell_type": "code",
   "execution_count": 127,
   "id": "dce93431",
   "metadata": {},
   "outputs": [
    {
     "data": {
      "text/plain": [
       "0.08164965809277261"
      ]
     },
     "execution_count": 127,
     "metadata": {},
     "output_type": "execute_result"
    }
   ],
   "source": [
    "0.1/np.sqrt(3*0.5)"
   ]
  },
  {
   "cell_type": "code",
   "execution_count": 4,
   "id": "0c0de0f0",
   "metadata": {},
   "outputs": [
    {
     "data": {
      "text/plain": [
       "306"
      ]
     },
     "execution_count": 4,
     "metadata": {},
     "output_type": "execute_result"
    }
   ],
   "source": [
    "len(simdict['SYNONYMS'])"
   ]
  },
  {
   "cell_type": "code",
   "execution_count": 5,
   "id": "7ae8521b",
   "metadata": {},
   "outputs": [
    {
     "data": {
      "text/plain": [
       "111"
      ]
     },
     "execution_count": 5,
     "metadata": {},
     "output_type": "execute_result"
    }
   ],
   "source": [
    "len(simdict['ANTONYMS'])"
   ]
  },
  {
   "cell_type": "code",
   "execution_count": 32,
   "id": "e5240871",
   "metadata": {},
   "outputs": [
    {
     "data": {
      "text/plain": [
       "190"
      ]
     },
     "execution_count": 32,
     "metadata": {},
     "output_type": "execute_result"
    }
   ],
   "source": [
    "len(simdict['COHYPONYMS'])"
   ]
  },
  {
   "cell_type": "code",
   "execution_count": 33,
   "id": "14a030e1",
   "metadata": {},
   "outputs": [
    {
     "data": {
      "text/plain": [
       "800"
      ]
     },
     "execution_count": 33,
     "metadata": {},
     "output_type": "execute_result"
    }
   ],
   "source": [
    "len(simdict['HYPER/HYPONYMS'])"
   ]
  },
  {
   "cell_type": "code",
   "execution_count": 34,
   "id": "4e11f15e",
   "metadata": {},
   "outputs": [
    {
     "name": "stdout",
     "output_type": "stream",
     "text": [
      "[0.19449852834670114, 0.7286991448892701]\n"
     ]
    }
   ],
   "source": [
    "print(mf.averaged_product(simdict,'NONE',objsubset1,\"plain_dev\"))"
   ]
  },
  {
   "cell_type": "code",
   "execution_count": 36,
   "id": "45de7410",
   "metadata": {},
   "outputs": [
    {
     "data": {
      "text/plain": [
       "[[[0.18283011891159115, 0.4875770015152735],\n",
       "  [0.1865230024425557, 0.47703140544767303],\n",
       "  [0.193787209750406, 0.4717811907126341],\n",
       "  [0.240215784303051, 0.5059754138407245]],\n",
       " [[0.31531163054484945, 0.5149285441313115],\n",
       "  [0.32339161000833416, 0.49594675300859004],\n",
       "  [0.333440748425028, 0.48336781321665245],\n",
       "  [0.4466865840241602, 0.5617302869991032]],\n",
       " [[0.20377438501264636, 0.4530870300342831],\n",
       "  [0.20420227553796666, 0.4501316317396267],\n",
       "  [0.2089174227031328, 0.4517869568158021],\n",
       "  [0.25593326887468926, 0.4842001288953564]]]"
      ]
     },
     "execution_count": 36,
     "metadata": {},
     "output_type": "execute_result"
    }
   ],
   "source": [
    "[[mf.averaged_product(simdict,'COHYPONYMS',a,\"std_dev\") for a in b] for b in [file_list1,file_list2,file_list3]]"
   ]
  },
  {
   "cell_type": "code",
   "execution_count": 37,
   "id": "03db3dc7",
   "metadata": {},
   "outputs": [
    {
     "data": {
      "text/plain": [
       "[[[[0.12819513814742128, 0.5071554695289946],\n",
       "   [0.18283011891159115, 0.4875770015152735]],\n",
       "  [[0.1302268730352817, 0.5047809468546545],\n",
       "   [0.1865230024425557, 0.47703140544767303]],\n",
       "  [[0.13413771448778683, 0.5014386364259339],\n",
       "   [0.193787209750406, 0.4717811907126341]],\n",
       "  [[0.12538794135946613, 0.5024734689765858],\n",
       "   [0.240215784303051, 0.5059754138407245]]],\n",
       " [[[0.23430703642978412, 0.4918431036851528],\n",
       "   [0.31531163054484945, 0.5149285441313115]],\n",
       "  [[0.23239728478787797, 0.4896192077598706],\n",
       "   [0.32339161000833416, 0.49594675300859004]],\n",
       "  [[0.23265881542388137, 0.4885868888170528],\n",
       "   [0.333440748425028, 0.48336781321665245]],\n",
       "  [[0.3231436801778295, 0.5651977514993983],\n",
       "   [0.4466865840241602, 0.5617302869991032]]],\n",
       " [[[0.133299760494055, 0.4588170772144774],\n",
       "   [0.20377438501264636, 0.4530870300342831]],\n",
       "  [[0.13644245116332462, 0.45804412047494086],\n",
       "   [0.20420227553796666, 0.4501316317396267]],\n",
       "  [[0.14087734413300423, 0.4575093618111323],\n",
       "   [0.2089174227031328, 0.4517869568158021]],\n",
       "  [[0.13904167569765882, 0.46937113288585547],\n",
       "   [0.25593326887468926, 0.4842001288953564]]]]"
      ]
     },
     "execution_count": 37,
     "metadata": {},
     "output_type": "execute_result"
    }
   ],
   "source": [
    "#Hyper/hyponym pairs vs cohyponym pairs\n",
    "[[[mf.averaged_product(simdict,'HYPER/HYPONYMS',a,\"std_dev\"),mf.averaged_product(simdict,'COHYPONYMS',a,\"std_dev\")] for a in b] for b in [file_list1,file_list2,file_list3]]"
   ]
  },
  {
   "cell_type": "markdown",
   "id": "4bd1307f",
   "metadata": {},
   "source": [
    "## CoHyponym lengths"
   ]
  },
  {
   "cell_type": "code",
   "execution_count": 42,
   "id": "dcf59811",
   "metadata": {},
   "outputs": [
    {
     "data": {
      "text/plain": [
       "array([-0.66684582, -2.11659776, 16.72542505,  0.61158851,  0.71535442,\n",
       "        0.10775297, 21.11985818, 15.35261374,  0.47499309,  4.47998606,\n",
       "        0.18523731,  0.44468334,  1.41144436])"
      ]
     },
     "execution_count": 42,
     "metadata": {},
     "output_type": "execute_result"
    }
   ],
   "source": [
    "objsubset1['abandon'].val"
   ]
  },
  {
   "cell_type": "code",
   "execution_count": 43,
   "id": "9d2568fa",
   "metadata": {},
   "outputs": [
    {
     "data": {
      "text/plain": [
       "[['walk', 'trail', 4.81],\n",
       " ['attack', 'sneak', 1.66],\n",
       " ['drive', 'walk', 1.49],\n",
       " ['tear', 'break', 6.14],\n",
       " ['give', 'bring', 4.98],\n",
       " ['sing', 'hum', 5.98],\n",
       " ['respect', 'like', 5.48],\n",
       " ['pull', 'lift', 2.82],\n",
       " ['color', 'decorate', 4.48],\n",
       " ['dump', 'waste', 5.98],\n",
       " ['kick', 'punch', 1.66],\n",
       " ['brush', 'paint', 6.97],\n",
       " ['boom', 'crash', 6.31],\n",
       " ['get', 'ask', 2.49],\n",
       " ['weave', 'drive', 0.91],\n",
       " ['cook', 'mix', 3.49],\n",
       " ['ridicule', 'tease', 8.47],\n",
       " ['disintegrate', 'dissolve', 8.13],\n",
       " ['smear', 'wipe', 6.31],\n",
       " ['drip', 'sink', 1.99],\n",
       " ['strike', 'blow', 7.3],\n",
       " ['sprinkle', 'pour', 2.66],\n",
       " ['glance', 'stare', 2.49],\n",
       " ['lie', 'deceive', 9.3],\n",
       " ['blow', 'pop', 2.49],\n",
       " ['sip', 'gulp', 2.99],\n",
       " ['cover', 'bury', 6.97],\n",
       " ['hit', 'beat', 7.97],\n",
       " ['shake', 'dance', 5.15],\n",
       " ['bake', 'fry', 4.81],\n",
       " ['add', 'multiply', 3.15],\n",
       " ['blow', 'whistle', 2.82],\n",
       " ['lean', 'stand', 3.98],\n",
       " ['blow', 'hit', 3.15],\n",
       " ['float', 'swim', 4.65],\n",
       " ['spill', 'pour', 4.65],\n",
       " ['retreat', 'run', 5.64],\n",
       " ['erode', 'deteriorate', 7.47],\n",
       " ['rearrange', 'organize', 8.13],\n",
       " ['whistle', 'hum', 4.98],\n",
       " ['sell', 'barter', 5.31],\n",
       " ['smell', 'taste', 2.49],\n",
       " ['accumulate', 'gain', 9.13],\n",
       " ['grab', 'clench', 6.47],\n",
       " ['lie', 'promise', 0.33],\n",
       " ['walk', 'crawl', 2.32],\n",
       " ['pick', 'elect', 7.47],\n",
       " ['prosecute', 'try', 4.48],\n",
       " ['grab', 'reach', 7.14],\n",
       " ['hurt', 'feel', 5.15],\n",
       " ['fall', 'bounce', 1.66],\n",
       " ['cook', 'boil', 5.98],\n",
       " ['inspect', 'search', 6.31],\n",
       " ['sell', 'hustle', 3.65],\n",
       " ['leave', 'ascend', 0.66],\n",
       " ['beg', 'ask', 4.48],\n",
       " ['jump', 'flip', 3.98],\n",
       " ['crawl', 'run', 1.33],\n",
       " ['flex', 'stretch', 6.47],\n",
       " ['slide', 'swing', 3.49],\n",
       " ['break', 'unite', 0.5],\n",
       " ['smell', 'touch', 1.0],\n",
       " ['inform', 'ask', 2.49],\n",
       " ['crush', 'grind', 7.47],\n",
       " ['weave', 'knit', 6.14],\n",
       " ['design', 'invent', 6.47],\n",
       " ['hold', 'stay', 4.48],\n",
       " ['dunk', 'soak', 5.48],\n",
       " ['grab', 'snatch', 7.97],\n",
       " ['fly', 'ascend', 6.64],\n",
       " ['add', 'accumulate', 8.47],\n",
       " ['slither', 'crawl', 6.81],\n",
       " ['attend', 'come', 8.75],\n",
       " ['crash', 'smash', 6.81],\n",
       " ['swap', 'fly', 1.0],\n",
       " ['respect', 'acknowledge', 4.98],\n",
       " ['throw', 'kick', 1.66],\n",
       " ['disguise', 'cover', 5.58],\n",
       " ['release', 'give', 3.32],\n",
       " ['pause', 'stop', 6.64],\n",
       " ['swallow', 'gulp', 8.13],\n",
       " ['fall', 'stand', 0.83],\n",
       " ['attend', 'go', 7.14],\n",
       " ['run', 'hustle', 3.15],\n",
       " ['turn', 'stir', 4.68],\n",
       " ['divide', 'subtract', 2.16],\n",
       " ['climb', 'ascend', 8.3],\n",
       " ['go', 'wait', 0.3],\n",
       " ['draw', 'design', 5.81],\n",
       " ['jump', 'run', 0.83],\n",
       " ['hit', 'run', 0.17],\n",
       " ['deceive', 'cheat', 8.3],\n",
       " ['decorate', 'fix', 3.15],\n",
       " ['add', 'gain', 6.81],\n",
       " ['reappear', 'show', 4.81],\n",
       " ['break', 'restore', 0.33],\n",
       " ['grind', 'bump', 3.82],\n",
       " ['return', 'come', 3.02],\n",
       " ['lift', 'push', 1.99],\n",
       " ['give', 'exchange', 3.15],\n",
       " ['return', 'retreat', 6.31],\n",
       " ['pop', 'snap', 4.48],\n",
       " ['poise', 'stand', 5.64],\n",
       " ['conquer', 'beat', 8.47],\n",
       " ['die', 'decay', 5.98],\n",
       " ['assume', 'think', 5.15],\n",
       " ['walk', 'run', 2.99],\n",
       " ['scramble', 'mix', 7.14],\n",
       " ['play', 'enjoy', 4.98],\n",
       " ['scramble', 'run', 4.65],\n",
       " ['accumulate', 'grow', 7.14],\n",
       " ['stand', 'kneel', 0.66],\n",
       " ['pinch', 'bite', 2.49],\n",
       " ['stretch', 'reach', 6.31],\n",
       " ['drag', 'haul', 8.45],\n",
       " ['wrap', 'foil', 2.99],\n",
       " ['tear', 'sob', 5.31],\n",
       " ['play', 'participate', 4.81],\n",
       " ['kill', 'smash', 5.48],\n",
       " ['divide', 'add', 0.0],\n",
       " ['glide', 'float', 5.48],\n",
       " ['ask', 'want', 3.15],\n",
       " ['burn', 'cook', 2.66],\n",
       " ['catch', 'receive', 6.97],\n",
       " ['drink', 'swallow', 4.98],\n",
       " ['retain', 'save', 7.3],\n",
       " ['advise', 'teach', 6.31],\n",
       " ['walk', 'follow', 2.82],\n",
       " ['weave', 'spin', 4.32],\n",
       " ['restore', 'replace', 4.32],\n",
       " ['break', 'deteriorate', 5.31],\n",
       " ['compose', 'originate', 5.15],\n",
       " ['tan', 'blush', 1.16],\n",
       " ['fly', 'cruise', 2.57],\n",
       " ['snatch', 'catch', 3.32],\n",
       " ['disintegrate', 'burn', 4.48],\n",
       " ['catch', 'obtain', 5.81],\n",
       " ['squint', 'stare', 4.15],\n",
       " ['object', 'disagree', 7.85],\n",
       " ['shift', 'drive', 3.15],\n",
       " ['attach', 'join', 7.47],\n",
       " ['freeze', 'burn', 1.33],\n",
       " ['recycle', 'waste', 0.45],\n",
       " ['fly', 'swim', 0.33],\n",
       " ['suck', 'sip', 4.15],\n",
       " ['shift', 'turn', 4.32],\n",
       " ['lift', 'pick', 6.47],\n",
       " ['go', 'sell', 0.66],\n",
       " ['ask', 'talk', 5.31],\n",
       " ['kill', 'demolish', 5.15],\n",
       " ['swing', 'push', 3.98],\n",
       " ['accept', 'want', 2.66],\n",
       " ['taste', 'touch', 1.83],\n",
       " ['descend', 'retreat', 2.16],\n",
       " ['go', 'begin', 4.32],\n",
       " ['collect', 'obtain', 6.97],\n",
       " ['smell', 'feel', 2.16],\n",
       " ['steal', 'grab', 5.73],\n",
       " ['subtract', 'multiply', 0.83],\n",
       " ['separate', 'drift', 5.64],\n",
       " ['bring', 'send', 1.99],\n",
       " ['swim', 'run', 1.83],\n",
       " ['boil', 'burn', 2.99],\n",
       " ['command', 'instruct', 7.97],\n",
       " ['swing', 'fall', 0.83],\n",
       " ['kill', 'look', 0.0],\n",
       " ['flush', 'drain', 5.81],\n",
       " ['launch', 'send', 5.31],\n",
       " ['assume', 'believe', 2.99],\n",
       " ['confuse', 'blur', 4.81],\n",
       " ['teach', 'explain', 7.8],\n",
       " ['feel', 'taste', 1.16],\n",
       " ['wash', 'spray', 4.65],\n",
       " ['smash', 'shatter', 8.13],\n",
       " ['carry', 'help', 3.15],\n",
       " ['mix', 'dissolve', 5.81],\n",
       " ['pour', 'drain', 4.81],\n",
       " ['fly', 'drive', 0.83],\n",
       " ['start', 'develop', 5.64],\n",
       " ['receive', 'earn', 6.47],\n",
       " ['attack', 'engage', 4.83],\n",
       " ['die', 'grow', 0.0],\n",
       " ['hit', 'throw', 2.82],\n",
       " ['slice', 'chop', 7.3],\n",
       " ['write', 'talk', 1.66],\n",
       " ['grind', 'chop', 2.49],\n",
       " ['upset', 'overwhelm', 4.81],\n",
       " ['boom', 'hum', 1.0],\n",
       " ['break', 'erode', 4.81],\n",
       " ['gamble', 'risk', 8.3]]"
      ]
     },
     "execution_count": 43,
     "metadata": {},
     "output_type": "execute_result"
    }
   ],
   "source": [
    "simdict['COHYPONYMS']"
   ]
  },
  {
   "cell_type": "code",
   "execution_count": 47,
   "id": "7c742b85",
   "metadata": {},
   "outputs": [],
   "source": [
    "test1 = [[mf.M_vec_mult_dev(objsubset1[a[0]].val,objsubset1[a[0]].val,objsubset1.mean,objsubset1.std),mf.M_vec_mult_dev(objsubset1[a[1]].val,objsubset1[a[1]].val,objsubset1.mean,objsubset1.std)] for a in simdict['COHYPONYMS']]"
   ]
  },
  {
   "cell_type": "code",
   "execution_count": 51,
   "id": "8538a84d",
   "metadata": {},
   "outputs": [
    {
     "data": {
      "text/plain": [
       "[[6.803167411867327, 2.368400933411927],\n",
       " [30.49524605621724, 2.5751458230264817],\n",
       " [10.127047263078987, 6.803167411867327],\n",
       " [2.7223709485336816, 11.017800555471329],\n",
       " [174.83944940063265, 46.85459432239316],\n",
       " [3.8135967471381065, 2.4866063573440282],\n",
       " [1.0955469353855936, 3.880419506091338],\n",
       " [2.8412323106449993, 9.47582443329093],\n",
       " [2.3883063580872523, 2.9775295279915515],\n",
       " [1.8684818486833055, 2.86177629131433],\n",
       " [3.5413386224115415, 2.2482049340722865],\n",
       " [3.443190640808203, 5.967949708597222],\n",
       " [2.5348687086937205, 3.4657190278032797],\n",
       " [206.43046581963043, 36.096612413796464],\n",
       " [3.5553934958134343, 10.127047263078987],\n",
       " [3.3036012057165025, 3.2803473459064953],\n",
       " [4.757248463677444, 2.7726050677862424],\n",
       " [2.8896119146378885, 2.3958706858977163],\n",
       " [3.1425907286929067, 1.5231906270590838],\n",
       " [2.7018716428144467, 2.1498524811622337],\n",
       " [24.666396432620225, 1.432025316119547],\n",
       " [2.994331250901441, 5.172562285988424],\n",
       " [3.1125302224414684, 3.5636814301710737],\n",
       " [5.631315532829758, 2.240990358451843],\n",
       " [1.432025316119547, 3.400666443923282],\n",
       " [3.184776857808058, 2.357130729790128],\n",
       " [103.91331289728214, 1.558230463438595],\n",
       " [13.849512305619253, 10.814923255969031],\n",
       " [2.1031160250467593, 2.2863911889093753],\n",
       " [3.5327414756047757, 3.7285013366821804],\n",
       " [42.18453431506988, 1.9347988627309003],\n",
       " [1.432025316119547, 2.4190825470413513],\n",
       " [2.61278368136089, 2.6242663163288005],\n",
       " [1.432025316119547, 13.849512305619253],\n",
       " [3.1287539110954117, 2.872207937136975],\n",
       " [3.4795084494448183, 5.172562285988424],\n",
       " [2.4161448408127013, 30.43334621245438],\n",
       " [3.059013538529411, 1.9740086597381177],\n",
       " [4.002640728852658, 2.3278651794541942],\n",
       " [2.4190825470413513, 2.4866063573440282],\n",
       " [19.81048195195071, 3.2742081745083174],\n",
       " [1.8804484487927657, 1.7068240853442613],\n",
       " [1.6771656982749223, 29.655101064160824],\n",
       " [2.1804544860312656, 2.1258015938837294],\n",
       " [5.631315532829758, 2.9906011236265755],\n",
       " [6.803167411867327, 3.175801279979233],\n",
       " [8.635431732546062, 6.718804495479069],\n",
       " [2.0524497298325906, 25.32712144992648],\n",
       " [2.1804544860312656, 45.30507301361143],\n",
       " [1.4518970312350945, 1.436413412495542],\n",
       " [3.5383084550414874, 2.1147641535086765],\n",
       " [3.3036012057165025, 4.698130458220628],\n",
       " [1.1480535706397876, 1.1696432356760489],\n",
       " [19.81048195195071, 2.3828637368948704],\n",
       " [81.54146097128685, 1.7527802586892707],\n",
       " [0.994102989916962, 36.096612413796464],\n",
       " [1.344751539741535, 3.9678614213319334],\n",
       " [3.175801279979233, 30.43334621245438],\n",
       " [3.559502933390588, 1.4630381767558809],\n",
       " [1.9113387110908961, 3.11713853377154],\n",
       " [11.017800555471329, 1.4569205429317569],\n",
       " [1.8804484487927657, 3.097214598572989],\n",
       " [10.7115738716019, 36.096612413796464],\n",
       " [1.574845656246872, 3.2375890419593882],\n",
       " [3.5553934958134343, 2.564287568543945],\n",
       " [15.23570324481917, 1.9084665512246368],\n",
       " [76.0304280500765, 4.276740776546719],\n",
       " [2.0476095272620847, 2.562878174308203],\n",
       " [2.1804544860312656, 1.524352367991973],\n",
       " [1.9242873166276002, 1.7527802586892707],\n",
       " [42.18453431506988, 1.6771656982749223],\n",
       " [5.12476956416427, 3.175801279979233],\n",
       " [2.942608627488276, 54.58582019253289],\n",
       " [3.4657190278032797, 3.1050513332977396],\n",
       " [1.5389617664975208, 1.9242873166276002],\n",
       " [1.0955469353855936, 11.511887727444812],\n",
       " [6.291408254029774, 3.5413386224115415],\n",
       " [3.7361205593568076, 103.91331289728214],\n",
       " [78.38292257325841, 174.83944940063265],\n",
       " [2.17649202680786, 12.768960172642132],\n",
       " [2.055794605042038, 2.357130729790128],\n",
       " [3.5383084550414874, 2.6242663163288005],\n",
       " [2.942608627488276, 73.07842925418663],\n",
       " [30.43334621245438, 2.3828637368948704],\n",
       " [27.791213589980153, 1.6577511825291367],\n",
       " [14.275223560302084, 2.3163799049094247],\n",
       " [8.972902738479725, 1.7527802586892707],\n",
       " [73.07842925418663, 2.514717395691506],\n",
       " [24.050223939478897, 15.23570324481917],\n",
       " [1.344751539741535, 30.43334621245438],\n",
       " [13.849512305619253, 30.43334621245438],\n",
       " [2.240990358451843, 3.1145937077774857],\n",
       " [2.9775295279915515, 1.946394647473343],\n",
       " [42.18453431506988, 29.655101064160824],\n",
       " [2.837938482840113, 76.85292221420993],\n",
       " [11.017800555471329, 1.5671959314234691],\n",
       " [3.2375890419593882, 2.1896295324427846],\n",
       " [15.69979012923605, 54.58582019253289],\n",
       " [9.47582443329093, 1.425687463948368],\n",
       " [174.83944940063265, 4.27140985544223],\n",
       " [15.69979012923605, 2.4161448408127013],\n",
       " [3.400666443923282, 2.7281869351479506],\n",
       " [2.3070670546293646, 2.6242663163288005],\n",
       " [1.142852649461637, 10.814923255969031],\n",
       " [5.178002566230086, 3.1552229744919695],\n",
       " [23.33477972314035, 6.7762500081852854],\n",
       " [6.803167411867327, 30.43334621245438],\n",
       " [2.418247881321857, 3.2803473459064953],\n",
       " [18.655488813316964, 33.50644174826752],\n",
       " [2.418247881321857, 30.43334621245438],\n",
       " [1.6771656982749223, 3.543185028445923],\n",
       " [2.6242663163288005, 3.016849258476666],\n",
       " [3.01525319209339, 1.818153592544677],\n",
       " [1.4630381767558809, 45.30507301361143],\n",
       " [2.702141765226842, 1.970655593132395],\n",
       " [7.368027800133637, 2.4809371751402027],\n",
       " [2.7223709485336816, 2.7228137491487168],\n",
       " [18.655488813316964, 1.5589646163660595],\n",
       " [32.58464034559824, 3.1050513332977396],\n",
       " [14.275223560302084, 42.18453431506988],\n",
       " [3.592845768230747, 3.1287539110954117],\n",
       " [36.096612413796464, 39.95574028348707],\n",
       " [1.0501368213749454, 3.3036012057165025],\n",
       " [13.225261910811875, 65.74340119434933],\n",
       " [1.4862902873470358, 2.055794605042038],\n",
       " [18.855758812655385, 5.431223016925357],\n",
       " [24.813134164717074, 15.904691460098526],\n",
       " [6.803167411867327, 57.35512623208212],\n",
       " [3.5553934958134343, 1.0244900203717238],\n",
       " [1.5671959314234691, 19.74065716836946],\n",
       " [11.017800555471329, 1.9740086597381177],\n",
       " [2.334850380207853, 1.71990669244316],\n",
       " [3.0854362089822978, 3.700116837778154],\n",
       " [1.9242873166276002, 9.849334044351526],\n",
       " [1.524352367991973, 13.225261910811875],\n",
       " [2.8896119146378885, 1.0501368213749454],\n",
       " [13.225261910811875, 10.745502016478259],\n",
       " [3.046195380719414, 3.5636814301710737],\n",
       " [1.7912553551559838, 2.164389964797115],\n",
       " [0.6701551022690092, 10.127047263078987],\n",
       " [1.2382357507603383, 28.327425092823457],\n",
       " [2.7604593742198618, 1.0501368213749454],\n",
       " [2.6093569751561465, 2.86177629131433],\n",
       " [1.9242873166276002, 2.872207937136975],\n",
       " [2.0544477470288034, 3.184776857808058],\n",
       " [0.6701551022690092, 27.791213589980153],\n",
       " [9.47582443329093, 8.635431732546062],\n",
       " [73.07842925418663, 19.81048195195071],\n",
       " [36.096612413796464, 1.8502246716391106],\n",
       " [32.58464034559824, 1.3121528992714053],\n",
       " [3.11713853377154, 1.425687463948368],\n",
       " [136.04882129345532, 39.95574028348707],\n",
       " [1.7068240853442613, 3.097214598572989],\n",
       " [1.7342158407856703, 2.4161448408127013],\n",
       " [73.07842925418663, 129.1660212153226],\n",
       " [22.555748691115028, 10.745502016478259],\n",
       " [1.8804484487927657, 1.436413412495542],\n",
       " [2.9244677482667534, 2.1804544860312656],\n",
       " [2.3163799049094247, 1.9347988627309003],\n",
       " [3.1453322494740688, 2.5169287916196237],\n",
       " [46.85459432239316, 78.85397456689233],\n",
       " [2.872207937136975, 30.43334621245438],\n",
       " [4.698130458220628, 1.0501368213749454],\n",
       " [2.7173045418312154, 2.877276350489203],\n",
       " [3.11713853377154, 3.5383084550414874],\n",
       " [32.58464034559824, 4.331167305025081],\n",
       " [5.3821485634549004, 2.6764182297348764],\n",
       " [25.404207642044483, 78.85397456689233],\n",
       " [23.33477972314035, 3.712232889767299],\n",
       " [2.8107652886622896, 2.6334929517109398],\n",
       " [15.904691460098526, 36.29164136931717],\n",
       " [1.436413412495542, 1.7068240853442613],\n",
       " [1.998770799611325, 2.7118589370196102],\n",
       " [3.1050513332977396, 1.8843377563312576],\n",
       " [34.34319200261542, 27.76168357001044],\n",
       " [3.2803473459064953, 2.3958706858977163],\n",
       " [5.172562285988424, 2.6764182297348764],\n",
       " [1.9242873166276002, 10.127047263078987],\n",
       " [57.492518828181176, 50.494653500294525],\n",
       " [65.74340119434933, 7.823844289598414],\n",
       " [30.49524605621724, 1.7861174683482484],\n",
       " [5.178002566230086, 3.543185028445923],\n",
       " [13.849512305619253, 6.291408254029774],\n",
       " [4.580169476539713, 3.5511085060747267],\n",
       " [63.55944569471328, 1.8502246716391106],\n",
       " [3.2375890419593882, 3.5511085060747267],\n",
       " [1.5345927528610774, 2.1071631003710487],\n",
       " [2.5348687086937205, 2.4866063573440282],\n",
       " [11.017800555471329, 3.059013538529411],\n",
       " [3.0698716123830594, 3.1098293986880683]]"
      ]
     },
     "execution_count": 51,
     "metadata": {},
     "output_type": "execute_result"
    }
   ],
   "source": [
    "test1"
   ]
  },
  {
   "cell_type": "code",
   "execution_count": 58,
   "id": "3e7a1e36",
   "metadata": {},
   "outputs": [
    {
     "data": {
      "text/plain": [
       "[0.47947067492124684, 0.3162972242324257]"
      ]
     },
     "execution_count": 58,
     "metadata": {},
     "output_type": "execute_result"
    }
   ],
   "source": [
    "#Compute the lengths of the single words in the cohyponym list\n",
    "test1 = [[mf.M_vec_mult_dev(objsubset1[a[0]].val,objsubset1[a[0]].val,objsubset1.mean,objsubset1.std),mf.M_vec_mult_dev(objsubset1[a[1]].val,objsubset1[a[1]].val,objsubset1.mean,objsubset1.std)] for a in simdict['COHYPONYMS']]\n",
    "#Compute the ratios among the pairs, the shortest over the longest and average out\n",
    "(lambda x: [np.mean(x),np.std(x)])([a[0]/a[1] if a[0]<a[1] else a[1]/a[0] for a in test1])"
   ]
  },
  {
   "cell_type": "code",
   "execution_count": 59,
   "id": "b0533247",
   "metadata": {},
   "outputs": [
    {
     "data": {
      "text/plain": [
       "[0.3876835135814728, 0.3018850194295431]"
      ]
     },
     "execution_count": 59,
     "metadata": {},
     "output_type": "execute_result"
    }
   ],
   "source": [
    "#Compute the lengths of the single words in the hyper/hyponym list\n",
    "test2 = [[mf.M_vec_mult_dev(objsubset1[a[0]].val,objsubset1[a[0]].val,objsubset1.mean,objsubset1.std),mf.M_vec_mult_dev(objsubset1[a[1]].val,objsubset1[a[1]].val,objsubset1.mean,objsubset1.std)] for a in simdict['HYPER/HYPONYMS']]\n",
    "#Compute the ratios among the pairs, the shortest over the longest and average out\n",
    "(lambda x: [np.mean(x),np.std(x)])([a[0]/a[1] if a[0]<a[1] else a[1]/a[0] for a in test2])"
   ]
  },
  {
   "cell_type": "code",
   "execution_count": 60,
   "id": "6f92ebed",
   "metadata": {},
   "outputs": [
    {
     "data": {
      "text/plain": [
       "[[4.738961022741927, 42.18453431506988],\n",
       " [2.5481967302089665, 2.59122684755926],\n",
       " [1.8804484487927657, 2.0655066562002764],\n",
       " [19.74065716836946, 11.739971015801938],\n",
       " [2.5690019437751497, 10.135243241088403],\n",
       " [1.7342158407856703, 73.07842925418663],\n",
       " [1.436413412495542, 3.097214598572989],\n",
       " [3.1552229744919695, 1.9740086597381177],\n",
       " [6.0975135214506695, 4.23774142517098],\n",
       " [59.294443509139924, 3.543185028445923],\n",
       " [103.91331289728214, 6.0975135214506695],\n",
       " [3.0246796663372457, 10.814923255969031],\n",
       " [73.07842925418663, 1.6944370001260862],\n",
       " [65.61064585125379, 25.6985364828244],\n",
       " [2.1031160250467593, 2.552945326774769],\n",
       " [238.3845131357383, 34.34319200261542],\n",
       " [1.8860611424261768, 1.4444759712613464],\n",
       " [10.127047263078987, 24.18051578475127],\n",
       " [36.096612413796464, 74.13564649175945],\n",
       " [6.725565169140313, 2.3559315499078304],\n",
       " [32.58464034559824, 3.1436508767367455],\n",
       " [3.4767354834100983, 3.4532584045085573],\n",
       " [1.4518970312350945, 3.1050513332977396],\n",
       " [3.3036012057165025, 3.5327414756047757],\n",
       " [11.017800555471329, 10.23551550720147],\n",
       " [20.963776203935485, 238.3845131357383],\n",
       " [2.616127614568235, 1.48877493972185],\n",
       " [10.23551550720147, 32.58464034559824],\n",
       " [10.745502016478259, 206.43046581963043],\n",
       " [2.1031890084143443, 20.963776203935485],\n",
       " [1.344751539741535, 8.972902738479725],\n",
       " [4.331167305025081, 8.938615851333589],\n",
       " [1.9671516382942897, 2.17649202680786],\n",
       " [238.3845131357383, 119.30608103550976],\n",
       " [10.814923255969031, 32.58464034559824],\n",
       " [6.7762500081852854, 1.2745232494559817],\n",
       " [23.239932236153074, 27.76168357001044],\n",
       " [39.95574028348707, 2.5348999817406948],\n",
       " [1.3814651469840225, 3.7515934839551464],\n",
       " [238.3845131357383, 8.108791578481815],\n",
       " [2.61278368136089, 3.5383084550414874],\n",
       " [206.43046581963043, 2.1804544860312656],\n",
       " [13.147948635435212, 76.0304280500765],\n",
       " [1.626622075541418, 238.3845131357383],\n",
       " [2.334850380207853, 59.04328061465565],\n",
       " [30.43334621245438, 3.1506611907124356],\n",
       " [2.3559315499078304, 29.655101064160824],\n",
       " [2.8412323106449993, 2.9092104870437963],\n",
       " [2.4504068135840402, 42.18453431506988],\n",
       " [2.2905270861137423, 1.8564323007681973],\n",
       " [59.04328061465565, 2.3499939674204082],\n",
       " [2.5690019437751497, 6.7762500081852854],\n",
       " [21.128918722745052, 18.773351729167757],\n",
       " [3.5383084550414874, 4.376849657467031],\n",
       " [76.0304280500765, 5.183189987055442],\n",
       " [136.04882129345532, 70.20934352164981],\n",
       " [1.344751539741535, 4.376849657467031],\n",
       " [1.4518970312350945, 3.348549408398529],\n",
       " [46.85459432239316, 34.34319200261542],\n",
       " [1.0244900203717238, 27.791213589980153],\n",
       " [11.017800555471329, 19.74065716836946],\n",
       " [44.13749814862019, 5.2804399868518885],\n",
       " [4.376849657467031, 2.872207937136975],\n",
       " [10.773185300968422, 285.7259647651783],\n",
       " [2.50958628854123, 11.739971015801938],\n",
       " [11.739971015801938, 0.6701551022690092],\n",
       " [2.7699011706003214, 3.464918066590181],\n",
       " [129.1660212153226, 45.00451608533701],\n",
       " [3.1506611907124356, 2.097803796210916],\n",
       " [39.95574028348707, 3.9364829494623965],\n",
       " [5.178002566230086, 2.662852858795854],\n",
       " [15.162581664675404, 3.5241668571119473],\n",
       " [2.0079783984339072, 2.0593182964054515],\n",
       " [2.3025469962458085, 3.126025581914095],\n",
       " [1.9171583503966818, 5.172562285988424],\n",
       " [18.655488813316964, 3.11713853377154],\n",
       " [5.665422346181099, 18.855758812655385],\n",
       " [74.13564649175945, 2.877276350489203],\n",
       " [10.23551550720147, 1.3121528992714053],\n",
       " [30.43334621245438, 1.3304940341751261],\n",
       " [74.13564649175945, 1.8502246716391106],\n",
       " [1.4314646317525859, 81.54146097128685],\n",
       " [1.9671516382942897, 2.514717395691506],\n",
       " [285.7259647651783, 2.334850380207853],\n",
       " [1.5389617664975208, 41.00846544045668],\n",
       " [21.128918722745052, 42.18453431506988],\n",
       " [1.8502246716391106, 2.030536395582823],\n",
       " [236.2475696422319, 63.55944569471328],\n",
       " [2.7334831813093494, 2.517818796351885],\n",
       " [3.4633852165474868, 3.683984541119708],\n",
       " [21.652847007113774, 17.98333386464949],\n",
       " [6.408181457819537, 27.791213589980153],\n",
       " [2.108382500980628, 11.739971015801938],\n",
       " [74.13564649175945, 1.8048274478464614],\n",
       " [5.178002566230086, 3.4657190278032797],\n",
       " [2.7476762360566442, 3.1028359051040755],\n",
       " [2.702141765226842, 2.8412323106449993],\n",
       " [1.7917201760249848, 1.558230463438595],\n",
       " [29.655101064160824, 206.43046581963043],\n",
       " [5.50302265364207, 1.3304940341751261],\n",
       " [2.385152543352731, 1.7877597652569144],\n",
       " [2.8674807547005376, 18.655488813316964],\n",
       " [2.9244677482667534, 1.7438331570774062],\n",
       " [6.7762500081852854, 2.4504068135840402],\n",
       " [2.419224930654798, 2.4504068135840402],\n",
       " [2.4846152510236013, 3.4795084494448183],\n",
       " [4.450673050972979, 2.762031003795887],\n",
       " [1.4862902873470358, 2.357130729790128],\n",
       " [32.58464034559824, 2.43679217103621],\n",
       " [39.95574028348707, 4.439318896726764],\n",
       " [50.494653500294525, 59.04328061465565],\n",
       " [5.903482838983559, 174.83944940063265],\n",
       " [206.43046581963043, 786.0674664255126],\n",
       " [2.1847789460062375, 11.399954331535971],\n",
       " [41.00846544045668, 19.74065716836946],\n",
       " [28.63386424638543, 6.718804495479069],\n",
       " [1.3764508717483144, 0.9117331061095002],\n",
       " [81.54146097128685, 1.3304940341751261],\n",
       " [76.0304280500765, 3.114637117569499],\n",
       " [1.425687463948368, 31.45544467255531],\n",
       " [2.5169287916196237, 11.739971015801938],\n",
       " [285.7259647651783, 50.494653500294525],\n",
       " [10.453023426920485, 5.311275226193702],\n",
       " [7.374083576426497, 73.07842925418663],\n",
       " [12.816983257702775, 74.13564649175945],\n",
       " [2.505603270180812, 11.739971015801938],\n",
       " [1.8855066125319782, 2.118258961317356],\n",
       " [2.327342334190446, 24.050223939478897],\n",
       " [2.2811159565070005, 25.32712144992648],\n",
       " [0.8592116022839839, 3.683984541119708],\n",
       " [1.4630381767558809, 2.8412323106449993],\n",
       " [3.3935862945528936, 4.02356648217105],\n",
       " [3.2872831732866192, 2.2116760886129785],\n",
       " [15.904691460098526, 2.308460788171555],\n",
       " [3.712232889767299, 136.04882129345532],\n",
       " [5.431223016925357, 5.183189987055442],\n",
       " [74.13564649175945, 19.37292288149231],\n",
       " [3.683984541119708, 2.2669277219633424],\n",
       " [16.094263800895792, 11.879513417242636],\n",
       " [285.7259647651783, 25.6985364828244],\n",
       " [2.8566236488521564, 8.938615851333589],\n",
       " [4.286322791647045, 1.530588512016138],\n",
       " [2.0897852935141965, 3.5383084550414874],\n",
       " [1.5142522240911815, 3.0246796663372457],\n",
       " [2.7281869351479506, 11.017800555471329],\n",
       " [3.0440200141697704, 27.791213589980153],\n",
       " [5.431223016925357, 1.244590684342515],\n",
       " [1.5345927528610774, 1.4518970312350945],\n",
       " [1.8502246716391106, 2.9065759607712343],\n",
       " [1.8320972756306833, 1.7397719362327038],\n",
       " [12.768960172642132, 73.07842925418663],\n",
       " [4.331167305025081, 3.1125302224414684],\n",
       " [2.599729415998376, 6.803167411867327],\n",
       " [3.1627381877399494, 2.2640442211813596],\n",
       " [1.9084665512246368, 59.04328061465565],\n",
       " [1.5354059595522116, 16.843667539451168],\n",
       " [1.970655593132395, 2.8412323106449993],\n",
       " [2.1346695284527772, 6.208978717031606],\n",
       " [24.050223939478897, 14.25614537099633],\n",
       " [2.8566236488521564, 102.81909903905562],\n",
       " [2.282478036905801, 32.58464034559824],\n",
       " [1.71990669244316, 129.1660212153226],\n",
       " [1.8502246716391106, 10.135243241088403],\n",
       " [1.1571676992072608, 6.7762500081852854],\n",
       " [174.83944940063265, 15.69979012923605],\n",
       " [1.644975414127468, 2.7223709485336816],\n",
       " [13.849512305619253, 3.03222377691939],\n",
       " [41.00846544045668, 16.843667539451168],\n",
       " [2.257943844666563, 1.3089757334775949],\n",
       " [15.286468076146479, 5.431223016925357],\n",
       " [1.6699735868482237, 3.097214598572989],\n",
       " [10.23551550720147, 3.1050513332977396],\n",
       " [2.9244677482667534, 2.5751458230264817],\n",
       " [2.4161448408127013, 73.07842925418663],\n",
       " [30.43334621245438, 2.097803796210916],\n",
       " [15.69979012923605, 238.3845131357383],\n",
       " [17.98333386464949, 86.93414492776819],\n",
       " [57.35512623208212, 2.5864256631723244],\n",
       " [17.98333386464949, 4.862015024309137],\n",
       " [1.1164078386581036, 3.9364829494623965],\n",
       " [144.87872117097558, 21.031289024756067],\n",
       " [10.23551550720147, 1.7874969766566853],\n",
       " [2.564287568543945, 2.616760230173068],\n",
       " [7.368027800133637, 103.91331289728214],\n",
       " [6.7762500081852854, 26.864047941934516],\n",
       " [4.27140985544223, 1.5389617664975208],\n",
       " [23.33477972314035, 1.3473721834974839],\n",
       " [2.225610529965183, 3.2803473459064953],\n",
       " [2.8985727958585144, 2.5806766871090807],\n",
       " [15.318415045005716, 2.7173045418312154],\n",
       " [8.255766710354905, 1.7342158407856703],\n",
       " [23.33477972314035, 1.9593928201614923],\n",
       " [34.16607531450211, 174.83944940063265],\n",
       " [2.584291001925257, 3.1453322494740688],\n",
       " [786.0674664255126, 18.855758812655385],\n",
       " [73.07842925418663, 81.54146097128685],\n",
       " [2.327342334190446, 63.55944569471328],\n",
       " [6.7762500081852854, 1.436413412495542],\n",
       " [74.13564649175945, 21.031289024756067],\n",
       " [3.1050513332977396, 11.017800555471329],\n",
       " [12.768960172642132, 3.3935862945528936],\n",
       " [1.425687463948368, 5.3801222341153645],\n",
       " [36.29164136931717, 236.2475696422319],\n",
       " [6.7762500081852854, 2.991749313418559],\n",
       " [18.655488813316964, 27.029159398232053],\n",
       " [65.74340119434933, 8.108791578481815],\n",
       " [1.4569205429317569, 1.7425279004489718],\n",
       " [4.078926148246835, 2.8412323106449993],\n",
       " [5.311275226193702, 3.5815451309990647],\n",
       " [30.49524605621724, 5.3801222341153645],\n",
       " [2.616127614568235, 1.2382357507603383],\n",
       " [7.480502099259185, 238.3845131357383],\n",
       " [11.739971015801938, 81.54146097128685],\n",
       " [2.7726050677862424, 1.5354059595522116],\n",
       " [1.4862902873470358, 3.400666443923282],\n",
       " [1.8843377563312576, 11.017800555471329],\n",
       " [2.647783314057644, 11.739971015801938],\n",
       " [1.5142522240911815, 21.652847007113774],\n",
       " [1.6717279686649953, 2.810559400447316],\n",
       " [11.739971015801938, 41.00846544045668],\n",
       " [2.9092104870437963, 11.739971015801938],\n",
       " [2.431021276923775, 27.76168357001044],\n",
       " [185.22516210630812, 3.11713853377154],\n",
       " [2.4623315871983364, 30.43334621245438],\n",
       " [1.8320972756306833, 2.8985727958585144],\n",
       " [3.097214598572989, 3.875527060077532],\n",
       " [2.6287980114628935, 34.34319200261542],\n",
       " [1.9242873166276002, 2.4856190330846344],\n",
       " [12.768960172642132, 4.276740776546719],\n",
       " [1.2608660501190905, 57.35512623208212],\n",
       " [2.1804544860312656, 238.3845131357383],\n",
       " [2.2116760886129785, 1.344751539741535],\n",
       " [1.9113387110908961, 11.739971015801938],\n",
       " [3.0440200141697704, 2.9057095492052736],\n",
       " [3.5636814301710737, 4.331167305025081],\n",
       " [1.5142522240911815, 17.98333386464949],\n",
       " [4.331167305025081, 102.81909903905562],\n",
       " [3.2482919955762095, 2.8566236488521564],\n",
       " [1.8502246716391106, 2.1847789460062375],\n",
       " [103.91331289728214, 2.762031003795887],\n",
       " [238.3845131357383, 1.524352367991973],\n",
       " [103.91331289728214, 1.7917201760249848],\n",
       " [3.1425907286929067, 2.7476762360566442],\n",
       " [76.5487354114554, 5.431223016925357],\n",
       " [3.091617058154682, 49.36683184217734],\n",
       " [2.401348121644997, 1.9379911951851272],\n",
       " [4.23774142517098, 2.6242663163288005],\n",
       " [2.5725050681989603, 1.142852649461637],\n",
       " [34.16607531450211, 46.85459432239316],\n",
       " [285.7259647651783, 15.23570324481917],\n",
       " [3.880419506091338, 39.95574028348707],\n",
       " [8.108791578481815, 29.655101064160824],\n",
       " [136.04882129345532, 3.683984541119708],\n",
       " [2.505603270180812, 27.791213589980153],\n",
       " [2.735599820245897, 3.2944089437014696],\n",
       " [1.84870428387164, 4.122423514335606],\n",
       " [17.98333386464949, 3.881824942091565],\n",
       " [2.514717395691506, 2.320565375017098],\n",
       " [174.83944940063265, 19.81048195195071],\n",
       " [1.9347988627309003, 21.128918722745052],\n",
       " [3.4255199517601427, 5.311275226193702],\n",
       " [54.58582019253289, 73.07842925418663],\n",
       " [3.5327414756047757, 285.7259647651783],\n",
       " [30.49524605621724, 1.590374074477412],\n",
       " [22.555748691115028, 8.108791578481815],\n",
       " [11.739971015801938, 27.791213589980153],\n",
       " [2.252471350379563, 4.122423514335606],\n",
       " [28.63386424638543, 8.635431732546062],\n",
       " [1.6023486371527673, 8.938615851333589],\n",
       " [10.773185300968422, 3.543185028445923],\n",
       " [3.5158291833063027, 26.864047941934516],\n",
       " [1.3764508717483144, 8.255766710354905],\n",
       " [3.126025581914095, 2.385152543352731],\n",
       " [39.95574028348707, 15.318415045005716],\n",
       " [18.855758812655385, 76.5487354114554],\n",
       " [28.327425092823457, 1.4569205429317569],\n",
       " [18.855758812655385, 76.0304280500765],\n",
       " [65.74340119434933, 238.3845131357383],\n",
       " [16.466774761017593, 6.7762500081852854],\n",
       " [8.110512477641082, 19.37292288149231],\n",
       " [10.814923255969031, 1.783135327749259],\n",
       " [2.6966336321584934, 6.291408254029774],\n",
       " [13.849512305619253, 2.2482049340722865],\n",
       " [11.495722388417164, 2.837938482840113],\n",
       " [2.5758692766442777, 144.87872117097558],\n",
       " [2.0645607576611176, 10.7115738716019],\n",
       " [4.685803192726374, 1.946394647473343],\n",
       " [3.059013538529411, 3.1552229744919695],\n",
       " [8.459039606821394, 1.8320972756306833],\n",
       " [2.508806580515847, 1.2382357507603383],\n",
       " [1.4518970312350945, 1.818153592544677],\n",
       " [2.148776356216465, 2.7228137491487168],\n",
       " [11.912335897185057, 174.83944940063265],\n",
       " [1.473921219928427, 4.541934175300821],\n",
       " [2.7173045418312154, 74.13564649175945],\n",
       " [15.904691460098526, 10.7115738716019],\n",
       " [19.37292288149231, 144.87872117097558],\n",
       " [2.9917926267895223, 3.3036012057165025],\n",
       " [3.9694065201687154, 2.735599820245897],\n",
       " [25.6985364828244, 0.7372127485162671],\n",
       " [1.9084665512246368, 285.7259647651783],\n",
       " [1.425687463948368, 2.956601910824024],\n",
       " [34.34319200261542, 76.0304280500765],\n",
       " [22.555748691115028, 76.5487354114554],\n",
       " [13.318714705903826, 2.3702071162154716],\n",
       " [2.1896295324427846, 13.849512305619253],\n",
       " [8.938615851333589, 1.1480535706397876],\n",
       " [21.128918722745052, 1.4158256214916745],\n",
       " [3.4633852165474868, 76.0304280500765],\n",
       " [238.3845131357383, 10.063771252681843],\n",
       " [8.108791578481815, 11.879513417242636],\n",
       " [59.04328061465565, 25.6985364828244],\n",
       " [5.172562285988424, 2.7018716428144467],\n",
       " [11.511887727444812, 136.04882129345532],\n",
       " [3.400666443923282, 2.027162950656009],\n",
       " [2.61278368136089, 2.567568614391101],\n",
       " [4.924889593904328, 13.148698790975313],\n",
       " [3.7361205593568076, 1.7917201760249848],\n",
       " [5.1675629489828845, 102.81909903905562],\n",
       " [81.54146097128685, 5.50302265364207],\n",
       " [32.58464034559824, 2.74350405816987],\n",
       " [4.23774142517098, 2.0298895969617767],\n",
       " [4.450673050972979, 3.1453322494740688],\n",
       " [6.291408254029774, 2.9057095492052736],\n",
       " [2.0298895969617767, 10.135243241088403],\n",
       " [2.207585808459478, 2.8412323106449993],\n",
       " [1.6023486371527673, 1.3473721834974839],\n",
       " [1.8320972756306833, 2.0263037982487115],\n",
       " [41.00846544045668, 10.773185300968422],\n",
       " [1.4518970312350945, 1.0501368213749454],\n",
       " [1.8860611424261768, 4.02356648217105],\n",
       " [74.13564649175945, 1.6653844583296251],\n",
       " [3.3012712806638986, 2.1147641535086765],\n",
       " [3.3036012057165025, 3.7285013366821804],\n",
       " [49.36683184217734, 1.8860611424261768],\n",
       " [2.5806766871090807, 1.8320972756306833],\n",
       " [2.2863911889093753, 1.6699735868482237],\n",
       " [3.3936743432843506, 2.2547816261841094],\n",
       " [78.85397456689233, 174.83944940063265],\n",
       " [174.83944940063265, 3.9362637186331764],\n",
       " [3.1435143535044285, 1.3456832911737684],\n",
       " [2.0132692901440277, 12.768960172642132],\n",
       " [0.9621598918259898, 3.711742362282382],\n",
       " [8.110512477641082, 74.13564649175945],\n",
       " [2.3958706858977163, 3.9694065201687154],\n",
       " [2.1804544860312656, 10.063771252681843],\n",
       " [72.47870975751172, 1.8502246716391106],\n",
       " [2.0298895969617767, 36.29164136931717],\n",
       " [20.963776203935485, 174.83944940063265],\n",
       " [2.7688199586291606, 1.8546607586130988],\n",
       " [0.8898247410665391, 2.189632979172622],\n",
       " [2.308460788171555, 10.7115738716019],\n",
       " [8.459039606821394, 2.3163799049094247],\n",
       " [57.35512623208212, 2.368400933411927],\n",
       " [1.8564323007681973, 3.3203420621791806],\n",
       " [1.4518970312350945, 2.0079783984339072],\n",
       " [2.2811159565070005, 32.67852522846102],\n",
       " [41.00846544045668, 27.791213589980153],\n",
       " [4.002640728852658, 11.739971015801938],\n",
       " [13.849512305619253, 30.49524605621724],\n",
       " [1.4444759712613464, 6.099460616781326],\n",
       " [2.7688199586291606, 3.7515934839551464],\n",
       " [11.495722388417164, 76.85292221420993],\n",
       " [41.00846544045668, 0.6701551022690092],\n",
       " [1.142852649461637, 13.147948635435212],\n",
       " [3.3036012057165025, 2.7115301778673913],\n",
       " [206.43046581963043, 174.83944940063265],\n",
       " [1.6653844583296251, 4.58692903101695],\n",
       " [11.739971015801938, 6.803167411867327],\n",
       " [15.162581664675404, 42.18453431506988],\n",
       " [3.880419506091338, 33.50644174826752],\n",
       " [5.311275226193702, 1.9242873166276002],\n",
       " [11.739971015801938, 1.970655593132395],\n",
       " [2.999694353564921, 11.739971015801938],\n",
       " [78.85397456689233, 15.69979012923605],\n",
       " [2.8964719962895056, 1.9412024975170528],\n",
       " [12.816983257702775, 144.87872117097558],\n",
       " [2.8985727958585144, 1.7397719362327038],\n",
       " [31.45544467255531, 19.37292288149231],\n",
       " [2.1847789460062375, 3.718639311662396],\n",
       " [3.4767354834100983, 11.017800555471329],\n",
       " [10.271459461157844, 74.13564649175945],\n",
       " [3.69658039143708, 206.43046581963043],\n",
       " [1.6613085435345072, 6.7762500081852854],\n",
       " [1.946394647473343, 2.1501154328124223],\n",
       " [10.745502016478259, 8.108791578481815],\n",
       " [3.592845768230747, 1.9242873166276002],\n",
       " [285.7259647651783, 4.685803192726374],\n",
       " [3.097214598572989, 2.987775747439233],\n",
       " [13.849512305619253, 3.718639311662396],\n",
       " [5.3801222341153645, 13.849512305619253],\n",
       " [13.148698790975313, 28.63386424638543],\n",
       " [6.291408254029774, 3.077439274327944],\n",
       " [3.2860634629829764, 3.541259262158437],\n",
       " [11.017800555471329, 2.027162950656009],\n",
       " [2.9775295279915515, 41.00846544045668],\n",
       " [1.71990669244316, 59.04328061465565],\n",
       " [1.4518970312350945, 2.6551255989324534],\n",
       " [3.4657190278032797, 11.017800555471329],\n",
       " [285.7259647651783, 1.501387319653767],\n",
       " [1.605419436043919, 18.655488813316964],\n",
       " [1.7874969766566853, 3.0734470437121133],\n",
       " [19.85722924735155, 136.04882129345532],\n",
       " [4.3150470518896675, 1.3915948937971196],\n",
       " [11.739971015801938, 2.3828637368948704],\n",
       " [2.7281869351479506, 1.818153592544677],\n",
       " [4.42601743393508, 13.147948635435212],\n",
       " [11.399954331535971, 2.9065759607712343],\n",
       " [2.01229736372157, 41.00846544045668],\n",
       " [1.4518970312350945, 3.1474834237892715],\n",
       " [1.5354059595522116, 2.3497984285368183],\n",
       " [3.03222377691939, 28.327425092823457],\n",
       " [76.0304280500765, 2.3620248880263652],\n",
       " [3.8135967471381065, 27.029159398232053],\n",
       " [32.58464034559824, 2.0436856386257802],\n",
       " [144.87872117097558, 3.2591655645870112],\n",
       " [4.107564331714097, 3.340009608045259],\n",
       " [4.27140985544223, 3.2742081745083174],\n",
       " [9.627839158697439, 174.83944940063265],\n",
       " [2.17649202680786, 11.017800555471329],\n",
       " [50.494653500294525, 59.294443509139924],\n",
       " [20.140051623777342, 36.096612413796464],\n",
       " [1.2608660501190905, 2.359322167602223],\n",
       " [2.1147641535086765, 1.344751539741535],\n",
       " [6.291408254029774, 3.0440200141697704],\n",
       " [1.9347382658121979, 10.23551550720147],\n",
       " [3.356716928522107, 1.9242873166276002],\n",
       " [11.017800555471329, 3.2876921915427824],\n",
       " [3.468395936239318, 10.7115738716019],\n",
       " [11.739971015801938, 1.9171583503966818],\n",
       " [15.69979012923605, 2.837938482840113],\n",
       " [2.514717395691506, 76.0304280500765],\n",
       " [1.8564323007681973, 7.329498813458892],\n",
       " [0.8898247410665391, 2.463244256720587],\n",
       " [2.990054655788642, 3.4532584045085573],\n",
       " [1.8502246716391106, 3.417729154329281],\n",
       " [2.567568614391101, 2.6242663163288005],\n",
       " [15.69979012923605, 73.07842925418663],\n",
       " [3.1435143535044285, 41.58403410047157],\n",
       " [6.408181457819537, 2.61278368136089],\n",
       " [50.494653500294525, 6.551742410828088],\n",
       " [49.36683184217734, 6.099460616781326],\n",
       " [1.425687463948368, 0.807001720259873],\n",
       " [4.331167305025081, 1.6023486371527673],\n",
       " [16.466774761017593, 2.4224789698557148],\n",
       " [10.7115738716019, 74.13564649175945],\n",
       " [2.148776356216465, 2.7223709485336816],\n",
       " [13.147948635435212, 24.18051578475127],\n",
       " [238.3845131357383, 2.9244677482667534],\n",
       " [15.800870221917286, 72.59012034148215],\n",
       " [21.128918722745052, 2.5607036019947604],\n",
       " [74.13564649175945, 1.5458539884465026],\n",
       " [36.29164136931717, 1.0137565482116722],\n",
       " [2.1258243703314994, 3.114637117569499],\n",
       " [11.739971015801938, 2.1421261243583487],\n",
       " [2.3381967548449847, 32.58464034559824],\n",
       " [76.0304280500765, 7.480502099259185],\n",
       " [2.2568900480997773, 2.8566236488521564],\n",
       " [4.27140985544223, 19.74065716836946],\n",
       " [3.1050513332977396, 13.849512305619253],\n",
       " [76.0304280500765, 1.585766161589783],\n",
       " [3.2375890419593882, 2.2863911889093753],\n",
       " [11.017800555471329, 2.584291001925257],\n",
       " [2.57368100495911, 81.54146097128685],\n",
       " [2.1498524811622337, 3.5383084550414874],\n",
       " [174.83944940063265, 3.116919157272579],\n",
       " [3.5241668571119473, 3.2803473459064953],\n",
       " [3.097214598572989, 2.1804544860312656],\n",
       " [1.3456832911737684, 2.240990358451843],\n",
       " [2.01229736372157, 2.130075485985593],\n",
       " [3.727804738792952, 2.1031160250467593],\n",
       " [3.9678614213319334, 27.791213589980153],\n",
       " [3.5383084550414874, 13.225261910811875],\n",
       " [1.142852649461637, 3.0246796663372457],\n",
       " [2.5728231917725104, 2.517818796351885],\n",
       " [24.050223939478897, 63.55944569471328],\n",
       " [86.93414492776819, 21.652847007113774],\n",
       " [2.514717395691506, 72.47870975751172],\n",
       " [1.7527802586892707, 1.6245816319532058],\n",
       " [0.8592116022839839, 3.0264393868294497],\n",
       " [144.87872117097558, 13.76384461937755],\n",
       " [2.784564187046619, 11.739971015801938],\n",
       " [8.110512477641082, 24.813134164717074],\n",
       " [174.83944940063265, 16.094263800895792],\n",
       " [4.118999678231208, 1.9469185761597765],\n",
       " [3.592845768230747, 2.4856190330846344],\n",
       " [2.463244256720587, 2.189632979172622],\n",
       " [2.0436856386257802, 103.91331289728214],\n",
       " [73.07842925418663, 30.43334621245438],\n",
       " [30.43334621245438, 11.739971015801938],\n",
       " [2.98864477893047, 2.45855660843457],\n",
       " [11.739971015801938, 2.274749231110378],\n",
       " [238.3845131357383, 2.9145395711885502],\n",
       " [1.9347988627309003, 25.6985364828244],\n",
       " [2.2552434335061937, 2.0298895969617767],\n",
       " [13.849512305619253, 1.4518970312350945],\n",
       " [3.020780021567161, 6.7762500081852854],\n",
       " [2.567568614391101, 2.401348121644997],\n",
       " [206.43046581963043, 65.74340119434933],\n",
       " [6.7762500081852854, 1.9593928201614923],\n",
       " [24.813134164717074, 1.8502246716391106],\n",
       " [10.745502016478259, 238.3845131357383],\n",
       " [6.803167411867327, 2.0772572897616874],\n",
       " [6.551742410828088, 2.308460788171555],\n",
       " [1.4862902873470358, 3.184776857808058],\n",
       " [2.0243513630694894, 2.508806580515847],\n",
       " [21.031289024756067, 10.7115738716019],\n",
       " [238.3845131357383, 2.274749231110378],\n",
       " [2.7767618038288777, 1.8804484487927657],\n",
       " [34.34319200261542, 34.16607531450211],\n",
       " [12.768960172642132, 1.2666635635954375],\n",
       " [11.739971015801938, 1.6944370001260862],\n",
       " [3.3643451048041686, 6.803167411867327],\n",
       " [3.1970359239275785, 2.0593182964054515],\n",
       " [11.017800555471329, 1.3304940341751261],\n",
       " [76.5487354114554, 4.276740776546719],\n",
       " [76.5487354114554, 238.3845131357383],\n",
       " [3.92523088844595, 1.0955469353855936],\n",
       " [4.331167305025081, 3.5158291833063027],\n",
       " [6.127481284170462, 42.18453431506988],\n",
       " [29.655101064160824, 10.745502016478259],\n",
       " [65.61064585125379, 285.7259647651783],\n",
       " [2.8566236488521564, 5.1675629489828845],\n",
       " [0.8592116022839839, 102.81909903905562],\n",
       " [102.81909903905562, 2.2568900480997773],\n",
       " [34.34319200261542, 1.970655593132395],\n",
       " [2.5348999817406948, 1.1164078386581036],\n",
       " [1.8502246716391106, 3.8135967471381065],\n",
       " [1.7643043635013516, 238.3845131357383],\n",
       " [5.3801222341153645, 4.23774142517098],\n",
       " [2.632612178374084, 76.0304280500765],\n",
       " [3.03222377691939, 1.2382357507603383],\n",
       " [1.4518970312350945, 2.315662308007035],\n",
       " [70.20934352164981, 4.3150470518896675],\n",
       " [238.3845131357383, 206.43046581963043],\n",
       " [13.260827579755151, 8.635431732546062],\n",
       " [1.3473721834974839, 13.148698790975313],\n",
       " [119.30608103550976, 1.7092955384281654],\n",
       " [4.541934175300821, 2.0132692901440277],\n",
       " [174.83944940063265, 76.5487354114554],\n",
       " [2.5035695591157383, 1.8810583594384753],\n",
       " [76.5487354114554, 5.183189987055442],\n",
       " [34.34319200261542, 9.47582443329093],\n",
       " [59.04328061465565, 15.23570324481917],\n",
       " [59.294443509139924, 59.04328061465565],\n",
       " [197.9907606342848, 1.8860611424261768],\n",
       " [2.1031160250467593, 2.999694353564921],\n",
       " [76.0304280500765, 2.1258243703314994],\n",
       " [1.3764508717483144, 8.459039606821394],\n",
       " [2.877276350489203, 9.145267597493584],\n",
       " [24.813134164717074, 74.13564649175945],\n",
       " [2.927556442013851, 3.5158291833063027],\n",
       " [1.6023486371527673, 6.7762500081852854],\n",
       " [11.739971015801938, 3.175801279979233],\n",
       " [11.399954331535971, 3.417729154329281],\n",
       " [144.87872117097558, 36.096612413796464],\n",
       " [3.097214598572989, 2.7476762360566442],\n",
       " [7.480502099259185, 10.063771252681843],\n",
       " [2.3381967548449847, 76.0304280500765],\n",
       " [2.17649202680786, 2.514717395691506],\n",
       " [2.1031160250467593, 2.647783314057644],\n",
       " [238.3845131357383, 1.317182841121185],\n",
       " [45.30507301361143, 206.43046581963043],\n",
       " [13.849512305619253, 3.5413386224115415],\n",
       " [2.000089865011548, 5.2804399868518885],\n",
       " [3.712232889767299, 3.683984541119708],\n",
       " [285.7259647651783, 59.294443509139924],\n",
       " [3.3036012057165025, 3.1617469181196336],\n",
       " [74.13564649175945, 36.29164136931717],\n",
       " [1.4288251886572096, 0.994102989916962],\n",
       " [3.0734470437121133, 2.027162950656009],\n",
       " [10.063771252681843, 12.768960172642132],\n",
       " [20.140051623777342, 39.95574028348707],\n",
       " [2.3499939674204082, 6.7762500081852854],\n",
       " [13.147948635435212, 30.43334621245438],\n",
       " [2.8412323106449993, 4.735614635253906],\n",
       " [8.255766710354905, 3.5383084550414874],\n",
       " [76.85292221420993, 74.13564649175945],\n",
       " [3.5383084550414874, 1.344751539741535],\n",
       " [3.880419506091338, 1.7565171858474142],\n",
       " [76.85292221420993, 9.145267597493584],\n",
       " [5.50302265364207, 30.43334621245438],\n",
       " [3.5636814301710737, 3.5158291833063027],\n",
       " [0.8592116022839839, 206.43046581963043],\n",
       " [2.8605194196343713, 2.1031160250467593],\n",
       " [2.9906011236265755, 1.8140916659200104],\n",
       " [4.331167305025081, 3.046195380719414],\n",
       " [24.974737002736646, 144.87872117097558],\n",
       " [13.225261910811875, 76.0304280500765],\n",
       " [13.318714705903826, 2.274749231110378],\n",
       " [20.140051623777342, 15.318415045005716],\n",
       " [3.592845768230747, 1.9113387110908961],\n",
       " [1.1696432356760489, 1.6328555260658395],\n",
       " [6.7762500081852854, 4.738961022741927],\n",
       " [3.11713853377154, 2.3381967548449847],\n",
       " [15.286468076146479, 16.094263800895792],\n",
       " [27.76168357001044, 119.30608103550976],\n",
       " [5.311275226193702, 2.599729415998376],\n",
       " [2.86177629131433, 1.9740086597381177],\n",
       " [2.7320707967344284, 11.495722388417164],\n",
       " [34.16607531450211, 5.431223016925357],\n",
       " [2.6093569751561465, 119.30608103550976],\n",
       " [3.126025581914095, 2.147509597836136],\n",
       " [1.2745232494559817, 1.9593928201614923],\n",
       " [4.738961022741927, 2.3163799049094247],\n",
       " [2.681256012564855, 4.122423514335606],\n",
       " [8.938615851333589, 5.1675629489828845],\n",
       " [41.58403410047157, 3.7515934839551464],\n",
       " [2.5749764536295063, 3.711742362282382],\n",
       " [1.7877597652569144, 2.7726050677862424],\n",
       " [1.3764508717483144, 2.0263037982487115],\n",
       " [4.450673050972979, 2.0602560374074415],\n",
       " [3.4532584045085573, 3.2375890419593882],\n",
       " [1.4518970312350945, 32.58464034559824],\n",
       " [2.418247881321857, 41.00846544045668],\n",
       " [8.585759829480418, 8.108791578481815],\n",
       " [3.097214598572989, 1.425687463948368],\n",
       " [36.096612413796464, 1.9805210329567882],\n",
       " [7.329498813458892, 11.739971015801938],\n",
       " [11.739971015801938, 2.418247881321857],\n",
       " [6.291408254029774, 11.739971015801938],\n",
       " [24.813134164717074, 10.271459461157844],\n",
       " [5.311275226193702, 54.58582019253289],\n",
       " [3.3036012057165025, 3.497332459897044],\n",
       " [1.48877493972185, 30.43334621245438],\n",
       " [786.0674664255126, 8.108791578481815],\n",
       " [3.543185028445923, 21.128918722745052],\n",
       " [73.07842925418663, 10.127047263078987],\n",
       " [1.5354059595522116, 2.385152543352731],\n",
       " [3.5553934958134343, 11.739971015801938],\n",
       " [25.32712144992648, 6.7762500081852854],\n",
       " [10.7115738716019, 2.877276350489203],\n",
       " [3.03222377691939, 3.097214598572989],\n",
       " [1.946394647473343, 185.22516210630812],\n",
       " [2.7018716428144467, 3.5383084550414874],\n",
       " [1.9027772528692626, 2.7320707967344284],\n",
       " [12.816983257702775, 36.29164136931717],\n",
       " [6.0975135214506695, 76.5487354114554],\n",
       " [72.59012034148215, 2.942608627488276],\n",
       " [11.511887727444812, 1.5458539884465026],\n",
       " [9.47582443329093, 76.0304280500765],\n",
       " [10.814923255969031, 3.5021984604873317],\n",
       " [2.4809371751402027, 103.91331289728214],\n",
       " [73.07842925418663, 2.5751458230264817],\n",
       " [2.5749764536295063, 73.07842925418663],\n",
       " [2.3278651794541942, 185.22516210630812],\n",
       " [174.83944940063265, 5.658340538575355],\n",
       " [10.271459461157844, 10.7115738716019],\n",
       " [8.108791578481815, 124.31314124635975],\n",
       " [4.450673050972979, 11.739971015801938],\n",
       " [2.1804544860312656, 10.745502016478259],\n",
       " [1.6944370001260862, 2.5749764536295063],\n",
       " [1.9267953397308166, 2.9065759607712343],\n",
       " [22.555748691115028, 206.43046581963043],\n",
       " [2.7118589370196102, 2.994331250901441],\n",
       " [2.1147641535086765, 11.739971015801938],\n",
       " [24.449966792801572, 3.880419506091338],\n",
       " [73.07842925418663, 2.5806766871090807],\n",
       " [3.464918066590181, 41.00846544045668],\n",
       " [2.616127614568235, 2.0243513630694894],\n",
       " [2.2825837324073106, 6.551742410828088],\n",
       " [1.48877493972185, 73.07842925418663],\n",
       " [2.4161448408127013, 11.739971015801938],\n",
       " [1.605419436043919, 23.33477972314035],\n",
       " [1.9671516382942897, 2.320565375017098],\n",
       " [238.3845131357383, 9.47582443329093],\n",
       " [206.43046581963043, 2.3559315499078304],\n",
       " [3.0440200141697704, 2.0897852935141965],\n",
       " [1.8564323007681973, 1.8663120740035035],\n",
       " [10.453023426920485, 2.0163241503423484],\n",
       " [8.635431732546062, 6.725565169140313],\n",
       " [3.5553934958134343, 285.7259647651783],\n",
       " [9.47582443329093, 1.6023486371527673],\n",
       " [11.739971015801938, 5.12476956416427],\n",
       " [5.1675629489828845, 3.5289423506824757],\n",
       " [10.814923255969031, 2.74350405816987],\n",
       " [1.4518970312350945, 2.98864477893047],\n",
       " [81.54146097128685, 1.3814651469840225],\n",
       " [2.252471350379563, 1.8502246716391106],\n",
       " [3.0733890991780415, 5.3821485634549004],\n",
       " [102.81909903905562, 5.311275226193702],\n",
       " [1.6032343020923663, 76.0304280500765],\n",
       " [3.8135967471381065, 3.068591100259566],\n",
       " [3.712232889767299, 1.436413412495542],\n",
       " [4.738961022741927, 2.419224930654798],\n",
       " [6.127481284170462, 1.6023486371527673],\n",
       " [41.58403410047157, 8.255766710354905],\n",
       " [11.739971015801938, 13.318714705903826],\n",
       " [11.399954331535971, 1.84870428387164],\n",
       " [1.9528380532246472, 2.5758692766442777],\n",
       " [10.453023426920485, 1.8502246716391106],\n",
       " [73.07842925418663, 1.7527802586892707],\n",
       " [3.4657190278032797, 3.5383084550414874],\n",
       " [74.13564649175945, 2.5758692766442777],\n",
       " [3.683984541119708, 2.419224930654798],\n",
       " [1.5458539884465026, 144.87872117097558],\n",
       " [3.097214598572989, 3.01525319209339],\n",
       " [4.58692903101695, 1.6613085435345072],\n",
       " [28.327425092823457, 1.7425279004489718],\n",
       " [1.4862902873470358, 2.0544477470288034],\n",
       " [2.7223709485336816, 3.2876921915427824],\n",
       " [59.04328061465565, 24.050223939478897],\n",
       " [57.35512623208212, 73.07842925418663],\n",
       " [2.662852858795854, 32.58464034559824],\n",
       " [5.2804399868518885, 21.652847007113774],\n",
       " [13.225261910811875, 124.31314124635975],\n",
       " [18.655488813316964, 185.22516210630812],\n",
       " [3.126025581914095, 2.7476762360566442],\n",
       " [2.6285291094139094, 3.604372696020856],\n",
       " [1.2382357507603383, 1.946394647473343],\n",
       " [2.0772572897616874, 11.739971015801938],\n",
       " [119.30608103550976, 2.86177629131433],\n",
       " [2.5481967302089665, 11.912335897185057],\n",
       " [2.1421261243583487, 41.00846544045668],\n",
       " [13.849512305619253, 3.4657190278032797],\n",
       " [28.63386424638543, 4.924889593904328],\n",
       " [65.74340119434933, 136.04882129345532],\n",
       " [3.1436508767367455, 1.4518970312350945],\n",
       " [2.3620248880263652, 2.1258243703314994],\n",
       " [3.510853745883683, 1.2382357507603383],\n",
       " [76.0304280500765, 3.097214598572989],\n",
       " [14.25614537099633, 13.225261910811875],\n",
       " [2.999694353564921, 2.647783314057644],\n",
       " [18.952239674468682, 10.453023426920485],\n",
       " [6.408181457819537, 3.0281921138760417],\n",
       " [1.7397719362327038, 13.318714705903826],\n",
       " [6.803167411867327, 3.4255199517601427],\n",
       " [2.997813793485342, 27.791213589980153],\n",
       " [2.359322167602223, 1.1571676992072608],\n",
       " [1.1164078386581036, 4.439318896726764],\n",
       " [34.16607531450211, 206.43046581963043],\n",
       " [41.00846544045668, 1.5142522240911815],\n",
       " [13.147948635435212, 2.5365834475495252],\n",
       " [174.83944940063265, 70.20934352164981],\n",
       " [13.260827579755151, 6.718804495479069],\n",
       " [24.813134164717074, 10.7115738716019],\n",
       " [31.45544467255531, 3.1506611907124356],\n",
       " [72.59012034148215, 197.9907606342848],\n",
       " [2.082859533539301, 1.9092677954644157],\n",
       " [10.063771252681843, 13.225261910811875],\n",
       " [2.5725050681989603, 10.814923255969031],\n",
       " [2.385152543352731, 3.1435143535044285],\n",
       " [3.543185028445923, 1.6245816319532058],\n",
       " [41.58403410047157, 3.5383084550414874],\n",
       " [59.04328061465565, 197.9907606342848],\n",
       " [3.1028359051040755, 1.7877597652569144],\n",
       " [6.048678749685258, 1.8502246716391106],\n",
       " [72.59012034148215, 7.329498813458892],\n",
       " [45.809184408345274, 197.9907606342848],\n",
       " [9.145267597493584, 29.74751186011261],\n",
       " [1.5231906270590838, 2.7476762360566442],\n",
       " [10.814923255969031, 24.666396432620225],\n",
       " [206.43046581963043, 11.879513417242636],\n",
       " [8.972902738479725, 1.6245816319532058],\n",
       " [1.1696432356760489, 8.938615851333589],\n",
       " [1.7861174683482484, 5.3801222341153645],\n",
       " [7.823844289598414, 16.094263800895792],\n",
       " [6.408181457819537, 11.739971015801938],\n",
       " [57.492518828181176, 59.04328061465565],\n",
       " [2.59122684755926, 2.2552434335061937],\n",
       " [3.0246796663372457, 2.1071631003710487],\n",
       " [2.942608627488276, 27.76168357001044],\n",
       " [2.7223709485336816, 13.318714705903826],\n",
       " [4.924889593904328, 25.32712144992648],\n",
       " [31.45544467255531, 74.13564649175945],\n",
       " [4.02356648217105, 197.9907606342848],\n",
       " [3.9364829494623965, 2.9305832460259142],\n",
       " [3.683984541119708, 1.6023486371527673],\n",
       " [3.097214598572989, 3.114637117569499],\n",
       " [21.652847007113774, 2.632612178374084],\n",
       " [136.04882129345532, 174.83944940063265],\n",
       " [2.252471350379563, 11.399954331535971],\n",
       " [1.4518970312350945, 2.45855660843457],\n",
       " [20.140051623777342, 0.994102989916962],\n",
       " [786.0674664255126, 4.343811573871542],\n",
       " [2.5035695591157383, 2.184338682693619],\n",
       " [13.852179523750396, 42.689920542838834],\n",
       " [6.677301566713318, 119.30608103550976],\n",
       " [12.178625941584466, 6.677301566713318],\n",
       " [1.7861174683482484, 201.80174344238836],\n",
       " [201.80174344238836, 881.2058055962145],\n",
       " [2.5725050681989603, 9.764666526537816],\n",
       " [2.5725050681989603, 1.5496930302747824],\n",
       " [3.0698716123830594, 2.720006529713642],\n",
       " [3.1322510254343765, 8.594133303754347],\n",
       " [3.1322510254343765, 3.05505450323094],\n",
       " [13.6540670784348, 3.0058354726009178],\n",
       " [78.38292257325841, 2.40291824766261],\n",
       " [2.2788784852073714, 2.09930294732523],\n",
       " [2.09930294732523, 3.020780021567161],\n",
       " [3.0607580001430525, 2.821548456720387],\n",
       " [8.459039606821394, 0.5668258070758811],\n",
       " [2.7890343153344834, 8.459039606821394],\n",
       " [6.65282280445539, 1.9142514955042005],\n",
       " [3.024623795912161, 2.970928678900017],\n",
       " [2.970928678900017, 3.8798659577587644],\n",
       " [3.024623795912161, 3.8798659577587644],\n",
       " [70.20934352164981, 5.849808691664555],\n",
       " [4.75137848481351, 5.849808691664555],\n",
       " [2.391274531057479, 1.5328429128414574]]"
      ]
     },
     "execution_count": 60,
     "metadata": {},
     "output_type": "execute_result"
    }
   ],
   "source": [
    "test2"
   ]
  },
  {
   "cell_type": "code",
   "execution_count": 7,
   "id": "eaa8025b",
   "metadata": {},
   "outputs": [
    {
     "data": {
      "text/plain": [
       "[0.4493200302643336, 0.30430859654485787]"
      ]
     },
     "execution_count": 7,
     "metadata": {},
     "output_type": "execute_result"
    }
   ],
   "source": [
    "#Compute the lengths of the single words in the synonyms list\n",
    "test3 = [[mf.M_vec_mult_dev(objsubset1[a[0]].val,objsubset1[a[0]].val,objsubset1.mean,objsubset1.std),mf.M_vec_mult_dev(objsubset1[a[1]].val,objsubset1[a[1]].val,objsubset1.mean,objsubset1.std)] for a in simdict['SYNONYMS']]\n",
    "#Compute the ratios among the pairs, the shortest over the longest and average out\n",
    "(lambda x: [np.mean(x),np.std(x)])([a[0]/a[1] if a[0]<a[1] else a[1]/a[0] for a in test3])"
   ]
  },
  {
   "cell_type": "code",
   "execution_count": 8,
   "id": "30a9f4e9",
   "metadata": {},
   "outputs": [
    {
     "data": {
      "text/plain": [
       "[[238.3845131357383, 13.318714705903826],\n",
       " [2.927556442013851, 4.358518751602692],\n",
       " [3.5327414756047757, 2.9917926267895223],\n",
       " [3.1552229744919695, 2.399069229794482],\n",
       " [1.344751539741535, 1.3814651469840225],\n",
       " [73.07842925418663, 11.739971015801938],\n",
       " [3.2944089437014696, 3.9694065201687154],\n",
       " [102.81909903905562, 18.952239674468682],\n",
       " [24.974737002736646, 238.3845131357383],\n",
       " [2.6551255989324534, 3.348549408398529],\n",
       " [1.1696432356760489, 32.67852522846102],\n",
       " [2.1501154328124223, 41.00846544045668],\n",
       " [2.3497984285368183, 1.2666635635954375],\n",
       " [15.800870221917286, 11.495722388417164],\n",
       " [786.0674664255126, 76.0304280500765],\n",
       " [5.311275226193702, 11.739971015801938],\n",
       " [5.311275226193702, 73.07842925418663],\n",
       " [57.492518828181176, 129.1660212153226],\n",
       " [4.685803192726374, 3.3036012057165025],\n",
       " [9.627839158697439, 70.20934352164981],\n",
       " [4.331167305025081, 11.495722388417164],\n",
       " [3.1287539110954117, 2.5169287916196237],\n",
       " [1.9593928201614923, 4.58692903101695],\n",
       " [72.47870975751172, 2.252471350379563],\n",
       " [1.2586090292118295, 3.03222377691939],\n",
       " [3.2591655645870112, 1.5458539884465026],\n",
       " [15.318415045005716, 86.69238345261013],\n",
       " [238.3845131357383, 28.63386424638543],\n",
       " [5.665422346181099, 1.9805210329567882],\n",
       " [76.5487354114554, 76.0304280500765],\n",
       " [285.7259647651783, 197.9907606342848],\n",
       " [1.6245816319532058, 9.47582443329093],\n",
       " [102.81909903905562, 3.0264393868294497],\n",
       " [6.776670795085951, 3.2803473459064953],\n",
       " [27.76168357001044, 15.863336717703165],\n",
       " [1.558230463438595, 5.2804399868518885],\n",
       " [6.551742410828088, 15.904691460098526],\n",
       " [2.3278651794541942, 4.685803192726374],\n",
       " [197.9907606342848, 27.029159398232053],\n",
       " [7.823844289598414, 29.655101064160824],\n",
       " [2.991749313418559, 26.864047941934516],\n",
       " [3.0733890991780415, 1.998770799611325],\n",
       " [2.3620248880263652, 1.574845656246872],\n",
       " [2.248795242966718, 7.676179205357737],\n",
       " [15.69979012923605, 1.9805210329567882],\n",
       " [2.2669277219633424, 0.8592116022839839],\n",
       " [1.5671959314234691, 1.9054657759413614],\n",
       " [11.879513417242636, 8.585759829480418],\n",
       " [3.153476588232051, 3.1239632587781885],\n",
       " [23.33477972314035, 1.2745232494559817],\n",
       " [11.511887727444812, 4.3150470518896675],\n",
       " [2.810695456811682, 30.49524605621724],\n",
       " [2.3497984285368183, 1.5345927528610774],\n",
       " [76.85292221420993, 12.816983257702775],\n",
       " [1.48877493972185, 10.127047263078987],\n",
       " [1.4518970312350945, 2.0593182964054515],\n",
       " [73.07842925418663, 57.492518828181176],\n",
       " [6.099460616781326, 1.8860611424261768],\n",
       " [45.809184408345274, 25.32712144992648],\n",
       " [24.666396432620225, 13.849512305619253],\n",
       " [2.8896119146378885, 3.1552229744919695],\n",
       " [124.31314124635975, 4.924889593904328],\n",
       " [2.252471350379563, 1.84870428387164],\n",
       " [19.37292288149231, 24.813134164717074],\n",
       " [1.9593928201614923, 2.3499939674204082],\n",
       " [57.35512623208212, 54.58582019253289],\n",
       " [2.5690019437751497, 2.0298895969617767],\n",
       " [1.8663120740035035, 5.178002566230086],\n",
       " [4.862015024309137, 1.5142522240911815],\n",
       " [1.4569205429317569, 15.162581664675404],\n",
       " [2.147509597836136, 2.7476762360566442],\n",
       " [1.4518970312350945, 2.9305832460259142],\n",
       " [30.43334621245438, 24.18051578475127],\n",
       " [6.208978717031606, 76.85292221420993],\n",
       " [15.863336717703165, 0.8100819772591523],\n",
       " [23.602499229417795, 4.276740776546719],\n",
       " [5.3821485634549004, 3.700116837778154],\n",
       " [26.864047941934516, 2.927556442013851],\n",
       " [1.7425279004489718, 4.194497452832899],\n",
       " [6.551742410828088, 19.23291514231291],\n",
       " [8.255766710354905, 17.98333386464949],\n",
       " [206.43046581963043, 8.108791578481815],\n",
       " [2.5728231917725104, 2.7334831813093494],\n",
       " [1.5671959314234691, 1.946394647473343],\n",
       " [2.1498524811622337, 1.9102614837275356],\n",
       " [7.676179205357737, 2.594507266699388],\n",
       " [1.7877597652569144, 3.126025581914095],\n",
       " [9.627839158697439, 4.75137848481351],\n",
       " [1.1696432356760489, 4.331167305025081],\n",
       " [2.0738252455144774, 2.2344418413298452],\n",
       " [3.881824942091565, 2.597352642647488],\n",
       " [6.725565169140313, 22.555748691115028],\n",
       " [1.9639878478407846, 23.239932236153074],\n",
       " [5.2804399868518885, 81.54146097128685],\n",
       " [2.252471350379563, 2.681256012564855],\n",
       " [2.2116760886129785, 1.3814651469840225],\n",
       " [1.71990669244316, 57.492518828181176],\n",
       " [30.43334621245438, 1.9171583503966818],\n",
       " [1.946394647473343, 3.4417375487541744],\n",
       " [52.353144252488285, 9.145267597493584],\n",
       " [1.3456832911737684, 3.1145937077774857],\n",
       " [2.6334929517109398, 3.1425907286929067],\n",
       " [2.810559400447316, 2.164389964797115],\n",
       " [10.011433894039198, 7.329498813458892],\n",
       " [2.027162950656009, 1.7874969766566853],\n",
       " [3.01525319209339, 2.3620248880263652],\n",
       " [2.0263037982487115, 8.459039606821394],\n",
       " [2.9145395711885502, 1.626622075541418],\n",
       " [2.50958628854123, 3.11713853377154],\n",
       " [2.08831398220076, 2.0132692901440277],\n",
       " [2.432366679456442, 63.55944569471328],\n",
       " [2.903948893637427, 2.553102701175244],\n",
       " [2.6745688506827383, 3.4767354834100983],\n",
       " [3.2375890419593882, 3.1028359051040755],\n",
       " [2.57368100495911, 73.07842925418663],\n",
       " [3.718639311662396, 1.6699735868482237],\n",
       " [1.2666635635954375, 11.017800555471329],\n",
       " [285.7259647651783, 59.04328061465565],\n",
       " [2.1896295324427846, 3.718639311662396],\n",
       " [2.872207937136975, 2.662852858795854],\n",
       " [3.4417375487541744, 2.431021276923775],\n",
       " [5.631315532829758, 2.567568614391101],\n",
       " [59.294443509139924, 1.501387319653767],\n",
       " [2.6285291094139094, 5.178002566230086],\n",
       " [2.944550737335949, 1.9113387110908961],\n",
       " [3.126025581914095, 1.5354059595522116],\n",
       " [14.275223560302084, 3.1453322494740688],\n",
       " [3.2872831732866192, 4.959639929926642],\n",
       " [14.275223560302084, 3.2876921915427824],\n",
       " [3.1050513332977396, 1.574845656246872],\n",
       " [2.320565375017098, 2.17649202680786],\n",
       " [1.6699735868482237, 2.1847789460062375],\n",
       " [2.6551255989324534, 1.818153592544677],\n",
       " [2.562878174308203, 2.1387149499815483],\n",
       " [9.145267597493584, 2.5365834475495252],\n",
       " [2.9775295279915515, 4.709472528502825],\n",
       " [786.0674664255126, 174.83944940063265],\n",
       " [1.473921219928427, 2.08831398220076],\n",
       " [3.295713682477112, 13.76384461937755],\n",
       " [3.543185028445923, 18.773351729167757],\n",
       " [1.7342158407856703, 3.5383084550414874],\n",
       " [1.344751539741535, 3.2872831732866192],\n",
       " [5.3801222341153645, 3.541259262158437],\n",
       " [6.7762500081852854, 4.58692903101695],\n",
       " [11.399954331535971, 1.8502246716391106],\n",
       " [3.1453322494740688, 3.2876921915427824],\n",
       " [136.04882129345532, 238.3845131357383],\n",
       " [144.87872117097558, 74.13564649175945],\n",
       " [2.990054655788642, 3.4767354834100983],\n",
       " [3.5216941243624595, 11.017800555471329],\n",
       " [36.29164136931717, 2.2552434335061937],\n",
       " [2.594507266699388, 2.248795242966718],\n",
       " [1.9102614837275356, 2.0476095272620847],\n",
       " [20.963776203935485, 2.567568614391101],\n",
       " [2.3620248880263652, 3.114637117569499],\n",
       " [15.800870221917286, 4.331167305025081],\n",
       " [7.329498813458892, 7.978961707019611],\n",
       " [3.5815451309990647, 2.553102701175244],\n",
       " [1.6771656982749223, 6.725565169140313],\n",
       " [5.431223016925357, 1.577662975183047],\n",
       " [1.473921219928427, 2.0132692901440277],\n",
       " [2.553102701175244, 2.5169287916196237],\n",
       " [2.030536395582823, 10.135243241088403],\n",
       " [3.020780021567161, 43.96675601416139],\n",
       " [15.318415045005716, 36.096612413796464],\n",
       " [2.877276350489203, 15.904691460098526],\n",
       " [3.543185028445923, 50.494653500294525],\n",
       " [1.9054657759413614, 1.946394647473343],\n",
       " [7.480502099259185, 13.225261910811875],\n",
       " [10.916314590355704, 6.551742410828088],\n",
       " [22.555748691115028, 1.6771656982749223],\n",
       " [24.71472931038261, 1.5589646163660595],\n",
       " [10.745502016478259, 65.74340119434933],\n",
       " [49.36683184217734, 1.4444759712613464],\n",
       " [2.2751077568345797, 2.927556442013851],\n",
       " [2.430278927800594, 2.7699011706003214],\n",
       " [3.0440200141697704, 3.077439274327944],\n",
       " [206.43046581963043, 46.85459432239316],\n",
       " [1.9113387110908961, 5.12476956416427],\n",
       " [2.1031160250467593, 1.6577511825291367],\n",
       " [8.635431732546062, 2.207585808459478],\n",
       " [2.5806766871090807, 1.7397719362327038],\n",
       " [2.7281869351479506, 3.5216941243624595],\n",
       " [2.2552434335061937, 2.5690019437751497],\n",
       " [1.3764508717483144, 1.8320972756306833],\n",
       " [11.511887727444812, 16.466774761017593],\n",
       " [2.1071631003710487, 2.5725050681989603],\n",
       " [2.546279483833722, 5.178002566230086],\n",
       " [1.1164078386581036, 39.95574028348707],\n",
       " [10.011433894039198, 72.59012034148215],\n",
       " [10.916314590355704, 124.31314124635975],\n",
       " [9.47582443329093, 18.773351729167757],\n",
       " [1.9639878478407846, 2.61278368136089],\n",
       " [3.1425907286929067, 3.8203201617036293],\n",
       " [3.2803473459064953, 15.162581664675404],\n",
       " [4.959639929926642, 1.344751539741535],\n",
       " [3.1524661417228144, 6.291408254029774],\n",
       " [0.8100819772591523, 27.76168357001044],\n",
       " [1.5354059595522116, 1.7877597652569144],\n",
       " [4.738961022741927, 2.4504068135840402],\n",
       " [1.3121528992714053, 3.1050513332977396],\n",
       " [86.93414492776819, 8.255766710354905],\n",
       " [2.681256012564855, 1.84870428387164],\n",
       " [7.823844289598414, 285.7259647651783],\n",
       " [46.85459432239316, 238.3845131357383],\n",
       " [3.1776829713715258, 2.1258243703314994],\n",
       " [13.260827579755151, 28.63386424638543],\n",
       " [3.0264393868294497, 2.359322167602223],\n",
       " [3.881824942091565, 2.000089865011548],\n",
       " [86.69238345261013, 39.95574028348707],\n",
       " [63.55944569471328, 2.334850380207853],\n",
       " [6.725565169140313, 18.952239674468682],\n",
       " [4.194111222540197, 2.148776356216465],\n",
       " [2.2751077568345797, 1.0501368213749454],\n",
       " [2.2552434335061937, 2.5481967302089665],\n",
       " [3.114637117569499, 1.585766161589783],\n",
       " [2.9094540295254734, 36.096612413796464],\n",
       " [3.0246796663372457, 2.5725050681989603],\n",
       " [1.6717279686649953, 41.00846544045668],\n",
       " [1.7565171858474142, 28.63386424638543],\n",
       " [1.425687463948368, 4.735614635253906],\n",
       " [1.7342158407856703, 54.58582019253289],\n",
       " [3.683984541119708, 2.4224789698557148],\n",
       " [3.097214598572989, 45.30507301361143],\n",
       " [3.1322510254343765, 174.83944940063265],\n",
       " [70.20934352164981, 4.75137848481351],\n",
       " [3.5345435895160846, 54.58582019253289],\n",
       " [3.559502933390588, 6.408181457819537],\n",
       " [2.498843173368793, 1.7092955384281654],\n",
       " [102.81909903905562, 10.453023426920485],\n",
       " [4.959639929926642, 2.0243513630694894],\n",
       " [5.665422346181099, 6.7762500081852854],\n",
       " [10.745502016478259, 76.0304280500765],\n",
       " [185.22516210630812, 4.685803192726374],\n",
       " [1.5671959314234691, 3.4417375487541744],\n",
       " [4.27140985544223, 41.00846544045668],\n",
       " [7.480502099259185, 206.43046581963043],\n",
       " [8.938615851333589, 1.784444434080976],\n",
       " [2.3381967548449847, 3.5383084550414874],\n",
       " [4.924889593904328, 185.22516210630812],\n",
       " [1.84870428387164, 2.148776356216465],\n",
       " [185.22516210630812, 2.567568614391101],\n",
       " [2.01229736372157, 2.50958628854123],\n",
       " [185.22516210630812, 20.963776203935485],\n",
       " [76.0304280500765, 13.95327688312211],\n",
       " [70.20934352164981, 11.912335897185057],\n",
       " [2.7173045418312154, 13.147948635435212],\n",
       " [16.843667539451168, 3.097214598572989],\n",
       " [1.574845656246872, 1.3121528992714053],\n",
       " [3.8135967471381065, 2.4190825470413513],\n",
       " [6.551742410828088, 8.108791578481815],\n",
       " [3.356716928522107, 2.4866063573440282],\n",
       " [2.9663736473015816, 2.5291777820455588],\n",
       " [786.0674664255126, 65.74340119434933],\n",
       " [8.938615851333589, 3.5289423506824757],\n",
       " [1.6568822902498874, 19.81048195195071],\n",
       " [15.318415045005716, 238.3845131357383],\n",
       " [45.30507301361143, 2.2811159565070005],\n",
       " [31.45544467255531, 8.110512477641082],\n",
       " [3.4417375487541744, 1.9054657759413614],\n",
       " [1.9242873166276002, 5.50302265364207],\n",
       " [6.776670795085951, 15.162581664675404],\n",
       " [1.7068240853442613, 25.32712144992648],\n",
       " [3.0440200141697704, 3.9678614213319334],\n",
       " [206.43046581963043, 73.07842925418663],\n",
       " [6.7762500081852854, 1.9805210329567882],\n",
       " [2.681256012564855, 72.47870975751172],\n",
       " [3.712232889767299, 6.7762500081852854],\n",
       " [45.30507301361143, 6.099460616781326],\n",
       " [24.813134164717074, 2.0645607576611176],\n",
       " [13.225261910811875, 2.1804544860312656],\n",
       " [2.399069229794482, 2.8896119146378885],\n",
       " [8.938615851333589, 102.81909903905562],\n",
       " [2.6551255989324534, 1.0501368213749454],\n",
       " [1.626622075541418, 1.524352367991973],\n",
       " [2.2825837324073106, 197.9907606342848],\n",
       " [10.028962347483672, 12.768960172642132],\n",
       " [786.0674664255126, 21.481795664829686],\n",
       " [21.481795664829686, 4.343811573871542],\n",
       " [14.094133680542113, 0.6016162814005636],\n",
       " [11.07307727006958, 1.6944370001260862],\n",
       " [12.178625941584466, 119.30608103550976],\n",
       " [2.7688199586291606, 1.503504565102887],\n",
       " [2.067535341692559, 2.7688199586291606],\n",
       " [1.503504565102887, 2.067535341692559],\n",
       " [6.127481284170462, 5.344627099885295],\n",
       " [23.33477972314035, 8.2119787976955],\n",
       " [8.594133303754347, 3.193243005329863],\n",
       " [1.9639878478407846, 2.9380070085520966],\n",
       " [1.7038798928469212, 2.8932742788843195],\n",
       " [2.8932742788843195, 8.090342504279656],\n",
       " [8.090342504279656, 1.7038798928469212],\n",
       " [2.40291824766261, 0.9576978339916472],\n",
       " [1.1790831951790566, 2.4161448408127013],\n",
       " [1.1790831951790566, 2.1627643880193377],\n",
       " [2.1627643880193377, 2.4161448408127013],\n",
       " [1.6568822902498874, 2.5622221011792785],\n",
       " [2.5622221011792785, 16.163254456836373],\n",
       " [1.6568822902498874, 16.163254456836373],\n",
       " [2.2788784852073714, 3.020780021567161],\n",
       " [12.628399719399056, 3.200624908791338],\n",
       " [12.628399719399056, 15.913582202737919],\n",
       " [15.913582202737919, 3.200624908791338],\n",
       " [0.5668258070758811, 2.7890343153344834],\n",
       " [2.1442975503548887, 1.9142514955042005],\n",
       " [3.318009020857821, 3.390516096008273]]"
      ]
     },
     "execution_count": 8,
     "metadata": {},
     "output_type": "execute_result"
    }
   ],
   "source": [
    "test3"
   ]
  },
  {
   "cell_type": "code",
   "execution_count": 9,
   "id": "1632aa11",
   "metadata": {},
   "outputs": [
    {
     "data": {
      "text/plain": [
       "[['take', 'remove', 6.81],\n",
       " ['shine', 'polish', 7.8],\n",
       " ['bake', 'broil', 5.98],\n",
       " ['decay', 'decompose', 8.3],\n",
       " ['jump', 'skip', 5.48],\n",
       " ['go', 'move', 6.31],\n",
       " ['thaw', 'melt', 8.47],\n",
       " ['see', 'meet', 5.31],\n",
       " ['claim', 'take', 5.15],\n",
       " ['sting', 'prick', 6.31],\n",
       " ['search', 'seek', 9.63],\n",
       " ['alter', 'change', 9.63],\n",
       " ['disturb', 'interrupt', 8.63],\n",
       " ['seem', 'appear', 7.64],\n",
       " ['have', 'hold', 4.81],\n",
       " ['travel', 'move', 6.47],\n",
       " ['travel', 'go', 7.97],\n",
       " ['start', 'begin', 8.8],\n",
       " ['prepare', 'cook', 6.14],\n",
       " ['let', 'allow', 8.8],\n",
       " ['look', 'appear', 4.98],\n",
       " ['float', 'drift', 7.3],\n",
       " ['suppose', 'guess', 7.14],\n",
       " ['call', 'yell', 7.64],\n",
       " ['associate', 'connect', 6.97],\n",
       " ['reply', 'respond', 9.79],\n",
       " ['demand', 'need', 2.82],\n",
       " ['take', 'choose', 3.82],\n",
       " ['remember', 'recall', 9.13],\n",
       " ['keep', 'hold', 6.14],\n",
       " ['make', 'do', 4.15],\n",
       " ['rise', 'lift', 7.47],\n",
       " ['see', 'hear', 1.99],\n",
       " ['blend', 'mix', 8.3],\n",
       " ['help', 'assist', 8.0],\n",
       " ['bury', 'forget', 3.98],\n",
       " ['learn', 'teach', 2.82],\n",
       " ['organize', 'prepare', 7.3],\n",
       " ['do', 'perform', 7.47],\n",
       " ['earn', 'gain', 6.31],\n",
       " ['ponder', 'reflect', 7.55],\n",
       " ['rinse', 'wash', 7.64],\n",
       " ['squeeze', 'crush', 7.3],\n",
       " ['soothe', 'console', 8.3],\n",
       " ['return', 'recall', 4.81],\n",
       " ['comprehend', 'perceive', 5.43],\n",
       " ['restore', 'repair', 8.47],\n",
       " ['buy', 'purchase', 9.46],\n",
       " ['perspire', 'sweat', 9.63],\n",
       " ['assume', 'presume', 5.81],\n",
       " ['acknowledge', 'admit', 6.81],\n",
       " ['assault', 'attack', 8.63],\n",
       " ['disturb', 'upset', 5.98],\n",
       " ['show', 'express', 6.64],\n",
       " ['ride', 'drive', 4.98],\n",
       " ['hurt', 'offend', 6.81],\n",
       " ['go', 'start', 8.3],\n",
       " ['achieve', 'accomplish', 8.47],\n",
       " ['attempt', 'try', 8.63],\n",
       " ['strike', 'hit', 8.96],\n",
       " ['disintegrate', 'decay', 7.3],\n",
       " ['find', 'determine', 5.48],\n",
       " ['yell', 'scream', 8.0],\n",
       " ['suggest', 'advise', 8.63],\n",
       " ['suppose', 'imagine', 6.31],\n",
       " ['follow', 'come', 4.15],\n",
       " ['rationalize', 'justify', 8.8],\n",
       " ['choke', 'die', 4.65],\n",
       " ['disown', 'renounce', 7.64],\n",
       " ['unite', 'combine', 8.3],\n",
       " ['scratch', 'rub', 3.98],\n",
       " ['hurt', 'ache', 5.64],\n",
       " ['run', 'operate', 6.31],\n",
       " ['prove', 'show', 6.31],\n",
       " ['assist', 'aid', 9.63],\n",
       " ['remain', 'stay', 9.13],\n",
       " ['flush', 'blush', 5.31],\n",
       " ['reflect', 'shine', 6.14],\n",
       " ['marry', 'wed', 8.47],\n",
       " ['learn', 'read', 2.32],\n",
       " ['decline', 'reject', 9.13],\n",
       " ['get', 'acquire', 9.66],\n",
       " ['snooze', 'doze', 8.63],\n",
       " ['restore', 'fix', 7.8],\n",
       " ['sink', 'dip', 6.14],\n",
       " ['console', 'comfort', 8.3],\n",
       " ['annoy', 'irritate', 9.3],\n",
       " ['let', 'permit', 8.13],\n",
       " ['search', 'look', 9.63],\n",
       " ['stain', 'tarnish', 6.79],\n",
       " ['ignore', 'disregard', 7.8],\n",
       " ['gather', 'collect', 9.63],\n",
       " ['incline', 'tend', 5.15],\n",
       " ['forget', 'leave', 3.15],\n",
       " ['yell', 'holler', 9.13],\n",
       " ['hop', 'skip', 5.81],\n",
       " ['originate', 'start', 8.45],\n",
       " ['run', 'flow', 2.66],\n",
       " ['fix', 'mend', 9.3],\n",
       " ['lead', 'direct', 6.97],\n",
       " ['betray', 'cheat', 7.3],\n",
       " ['blur', 'smear', 7.47],\n",
       " ['differ', 'disagree', 8.3],\n",
       " ['exist', 'live', 8.3],\n",
       " ['burst', 'explode', 8.13],\n",
       " ['pinch', 'squeeze', 6.64],\n",
       " ['shrink', 'reduce', 9.13],\n",
       " ['abduct', 'kidnap', 8.63],\n",
       " ['sway', 'swing', 7.47],\n",
       " ['disallow', 'forbid', 8.8],\n",
       " ['spell', 'write', 5.31],\n",
       " ['stray', 'wander', 7.47],\n",
       " ['crackle', 'crunch', 6.31],\n",
       " ['grind', 'grate', 6.47],\n",
       " ['depart', 'go', 9.63],\n",
       " ['knock', 'tap', 5.31],\n",
       " ['interrupt', 'break', 4.65],\n",
       " ['make', 'create', 8.6],\n",
       " ['bump', 'knock', 7.47],\n",
       " ['swim', 'drown', 1.49],\n",
       " ['mend', 'heal', 6.81],\n",
       " ['lie', 'lay', 6.31],\n",
       " ['build', 'construct', 9.96],\n",
       " ['perish', 'die', 9.46],\n",
       " ['slip', 'slide', 5.73],\n",
       " ['irritate', 'bother', 8.63],\n",
       " ['divide', 'separate', 7.97],\n",
       " ['leap', 'bound', 7.64],\n",
       " ['divide', 'split', 9.3],\n",
       " ['smash', 'crush', 9.46],\n",
       " ['hesitate', 'pause', 8.13],\n",
       " ['tap', 'rap', 4.48],\n",
       " ['sting', 'bite', 3.32],\n",
       " ['soak', 'drench', 9.13],\n",
       " ['direct', 'steer', 6.97],\n",
       " ['decorate', 'adorn', 6.81],\n",
       " ['have', 'give', 1.49],\n",
       " ['prohibit', 'disallow', 9.63],\n",
       " ['duplicate', 'repeat', 7.14],\n",
       " ['grow', 'raise', 7.14],\n",
       " ['descend', 'fall', 8.3],\n",
       " ['jump', 'leap', 9.63],\n",
       " ['fight', 'struggle', 5.81],\n",
       " ['think', 'guess', 2.99],\n",
       " ['speak', 'talk', 9.3],\n",
       " ['separate', 'split', 9.13],\n",
       " ['accept', 'take', 8.3],\n",
       " ['say', 'tell', 7.47],\n",
       " ['munch', 'crunch', 6.14],\n",
       " ['crack', 'break', 7.64],\n",
       " ['explain', 'excuse', 2.32],\n",
       " ['comfort', 'soothe', 7.3],\n",
       " ['dip', 'dunk', 7.3],\n",
       " ['put', 'lay', 4.98],\n",
       " ['squeeze', 'hug', 6.64],\n",
       " ['seem', 'look', 3.98],\n",
       " ['live', 'survive', 6.81],\n",
       " ['roam', 'wander', 9.13],\n",
       " ['accumulate', 'gather', 8.96],\n",
       " ['save', 'spare', 5.98],\n",
       " ['prohibit', 'forbid', 9.46],\n",
       " ['wander', 'drift', 8.13],\n",
       " ['debate', 'argue', 7.97],\n",
       " ['worry', 'concern', 7.8],\n",
       " ['demand', 'ask', 3.32],\n",
       " ['instruct', 'teach', 8.8],\n",
       " ['grow', 'develop', 8.13],\n",
       " ['repair', 'fix', 9.96],\n",
       " ['capture', 'catch', 9.3],\n",
       " ['discover', 'learn', 6.81],\n",
       " ['collect', 'accumulate', 8.47],\n",
       " ['enter', 'participate', 7.14],\n",
       " ['obtain', 'receive', 8.13],\n",
       " ['win', 'succeed', 8.47],\n",
       " ['glow', 'shine', 8.63],\n",
       " ['scold', 'reprimand', 9.63],\n",
       " ['toss', 'chuck', 9.13],\n",
       " ['get', 'bring', 3.62],\n",
       " ['slide', 'slither', 6.47],\n",
       " ['shake', 'stir', 4.15],\n",
       " ['pick', 'pluck', 5.98],\n",
       " ['vanish', 'disappear', 9.46],\n",
       " ['snap', 'crack', 6.81],\n",
       " ['excuse', 'rationalize', 5.15],\n",
       " ['decrease', 'diminish', 7.97],\n",
       " ['acknowledge', 'know', 3.98],\n",
       " ['overwhelm', 'overcome', 2.72],\n",
       " ['croak', 'die', 7.97],\n",
       " ['desire', 'want', 9.46],\n",
       " ['exist', 'be', 8.47],\n",
       " ['discover', 'find', 9.13],\n",
       " ['lift', 'raise', 9.13],\n",
       " ['incline', 'lean', 5.81],\n",
       " ['smear', 'smudge', 8.13],\n",
       " ['mix', 'combine', 8.13],\n",
       " ['bound', 'jump', 5.64],\n",
       " ['cast', 'throw', 4.98],\n",
       " ['aid', 'help', 9.3],\n",
       " ['bother', 'annoy', 8.96],\n",
       " ['calculate', 'compute', 6.64],\n",
       " ['demolish', 'smash', 8.47],\n",
       " ['refuse', 'decline', 9.13],\n",
       " ['holler', 'scream', 7.8],\n",
       " ['earn', 'make', 5.98],\n",
       " ['bring', 'take', 2.11],\n",
       " ['snuggle', 'cuddle', 8.47],\n",
       " ['select', 'choose', 9.13],\n",
       " ['hear', 'listen', 6.64],\n",
       " ['ignore', 'neglect', 8.96],\n",
       " ['need', 'want', 1.99],\n",
       " ['write', 'compose', 6.81],\n",
       " ['gather', 'meet', 7.47],\n",
       " ['weep', 'cry', 9.3],\n",
       " ['glow', 'burn', 4.32],\n",
       " ['excuse', 'pardon', 9.63],\n",
       " ['hug', 'embrace', 8.63],\n",
       " ['inquire', 'ask', 8.47],\n",
       " ['defeat', 'overcome', 6.81],\n",
       " ['vary', 'change', 8.63],\n",
       " ['prefer', 'choose', 5.64],\n",
       " ['push', 'tug', 0.66],\n",
       " ['descend', 'come', 2.82],\n",
       " ['understand', 'realize', 7.97],\n",
       " ['touch', 'reach', 3.65],\n",
       " ['yield', 'give', 6.31],\n",
       " ['allow', 'permit', 9.63],\n",
       " ['arrive', 'come', 7.14],\n",
       " ['flex', 'bend', 7.97],\n",
       " ['mistreat', 'abuse', 8.96],\n",
       " ['see', 'visit', 6.14],\n",
       " ['bound', 'tie', 8.96],\n",
       " ['remember', 'think', 3.49],\n",
       " ['obtain', 'hold', 5.31],\n",
       " ['set', 'prepare', 4.98],\n",
       " ['restore', 'mend', 9.13],\n",
       " ['exchange', 'change', 5.15],\n",
       " ['capture', 'get', 4.98],\n",
       " ['examine', 'study', 8.3],\n",
       " ['hang', 'fall', 0.5],\n",
       " ['determine', 'set', 4.98],\n",
       " ['scream', 'cry', 4.48],\n",
       " ['set', 'lay', 6.14],\n",
       " ['persuade', 'sway', 7.3],\n",
       " ['set', 'put', 5.64],\n",
       " ['hold', 'bear', 5.31],\n",
       " ['allow', 'grant', 8.3],\n",
       " ['command', 'control', 8.3],\n",
       " ['affect', 'touch', 3.65],\n",
       " ['crush', 'demolish', 8.13],\n",
       " ['sing', 'whistle', 3.15],\n",
       " ['learn', 'acquire', 4.98],\n",
       " ['buzz', 'hum', 4.98],\n",
       " ['wake', 'awake', 5.64],\n",
       " ['have', 'receive', 2.99],\n",
       " ['examine', 'analyze', 7.14],\n",
       " ['deal', 'sell', 4.48],\n",
       " ['demand', 'take', 5.64],\n",
       " ['reach', 'strive', 6.47],\n",
       " ['urge', 'recommend', 5.48],\n",
       " ['mend', 'repair', 9.3],\n",
       " ['fly', 'flee', 3.49],\n",
       " ['blend', 'combine', 8.47],\n",
       " ['taste', 'try', 4.81],\n",
       " ['toss', 'flip', 6.81],\n",
       " ['get', 'go', 0.66],\n",
       " ['think', 'recall', 6.64],\n",
       " ['holler', 'call', 7.3],\n",
       " ['believe', 'think', 5.15],\n",
       " ['reach', 'achieve', 5.81],\n",
       " ['advise', 'notify', 7.97],\n",
       " ['catch', 'grab', 3.32],\n",
       " ['decompose', 'disintegrate', 7.64],\n",
       " ['examine', 'see', 7.7],\n",
       " ['sting', 'burn', 5.15],\n",
       " ['kidnap', 'snatch', 7.14],\n",
       " ['practice', 'do', 5.48],\n",
       " ['block', 'stop', 8.47],\n",
       " ['have', 'own', 7.55],\n",
       " ['own', 'possess', 8.8],\n",
       " ['encourage', 'boost', 7.14],\n",
       " ['promote', 'advance', 6.97],\n",
       " ['apply', 'use', 6.64],\n",
       " ['avoid', 'invalidate', 2.16],\n",
       " ['nullify', 'avoid', 1.83],\n",
       " ['invalidate', 'nullify', 7.3],\n",
       " ['count', 'matter', 4.15],\n",
       " ['assume', 'adopt', 4.32],\n",
       " ['submit', 'bow', 4.48],\n",
       " ['incline', 'dispose', 1.49],\n",
       " ['secure', 'insure', 5.15],\n",
       " ['insure', 'ensure', 1.83],\n",
       " ['ensure', 'secure', 4.07],\n",
       " ['discharge', 'free', 5.98],\n",
       " ['retire', 'retreat', 4.48],\n",
       " ['retire', 'withdraw', 6.81],\n",
       " ['withdraw', 'retreat', 7.39],\n",
       " ['deal', 'cope', 7.47],\n",
       " ['cope', 'manage', 7.14],\n",
       " ['deal', 'manage', 6.14],\n",
       " ['care', 'worry', 6.31],\n",
       " ['commit', 'dedicate', 7.97],\n",
       " ['commit', 'devote', 7.3],\n",
       " ['devote', 'dedicate', 7.97],\n",
       " ['restrict', 'limit', 9.13],\n",
       " ['cooperate', 'collaborate', 7.47],\n",
       " ['enforce', 'impose', 6.64]]"
      ]
     },
     "execution_count": 9,
     "metadata": {},
     "output_type": "execute_result"
    }
   ],
   "source": [
    "simdict['SYNONYMS']"
   ]
  },
  {
   "cell_type": "code",
   "execution_count": 10,
   "id": "79e5e466",
   "metadata": {},
   "outputs": [
    {
     "data": {
      "text/plain": [
       "[0.391423241336934, 0.29135743451140045]"
      ]
     },
     "execution_count": 10,
     "metadata": {},
     "output_type": "execute_result"
    }
   ],
   "source": [
    "#Compute the lengths of the single words in the ANTONYMS list\n",
    "test4 = [[mf.M_vec_mult_dev(objsubset1[a[0]].val,objsubset1[a[0]].val,objsubset1.mean,objsubset1.std),mf.M_vec_mult_dev(objsubset1[a[1]].val,objsubset1[a[1]].val,objsubset1.mean,objsubset1.std)] for a in simdict['ANTONYMS']]\n",
    "#Compute the ratios among the pairs, the shortest over the longest and average out\n",
    "(lambda x: [np.mean(x),np.std(x)])([a[0]/a[1] if a[0]<a[1] else a[1]/a[0] for a in test4])"
   ]
  },
  {
   "cell_type": "code",
   "execution_count": 11,
   "id": "b35fa389",
   "metadata": {},
   "outputs": [
    {
     "data": {
      "text/plain": [
       "[[2.8292377033970784, 3.604372696020856],\n",
       " [3.03222377691939, 3.1453322494740688],\n",
       " [5.2804399868518885, 1.9805210329567882],\n",
       " [19.81048195195071, 8.585759829480418],\n",
       " [3.9694065201687154, 2.7604593742198618],\n",
       " [19.85722924735155, 2.810559400447316],\n",
       " [11.879513417242636, 19.81048195195071],\n",
       " [3.5345435895160846, 2.57368100495911],\n",
       " [2.118258961317356, 3.712232889767299],\n",
       " [3.1453322494740688, 15.162581664675404],\n",
       " [4.02356648217105, 57.492518828181176],\n",
       " [2.5661813953963493, 1.7874969766566853],\n",
       " [44.13749814862019, 124.31314124635975],\n",
       " [17.98333386464949, 136.04882129345532],\n",
       " [4.23774142517098, 2.0524497298325906],\n",
       " [2.401348121644997, 5.631315532829758],\n",
       " [2.1498524811622337, 3.1287539110954117],\n",
       " [3.5383084550414874, 1.6245816319532058],\n",
       " [8.972902738479725, 3.5383084550414874],\n",
       " [136.04882129345532, 21.652847007113774],\n",
       " [4.3150470518896675, 174.83944940063265],\n",
       " [4.75137848481351, 21.652847007113774],\n",
       " [136.04882129345532, 86.93414492776819],\n",
       " [11.739971015801938, 4.276740776546719],\n",
       " [13.318714705903826, 42.18453431506988],\n",
       " [4.75137848481351, 2.08831398220076],\n",
       " [11.495722388417164, 2.5806766871090807],\n",
       " [14.275223560302084, 1.4569205429317569],\n",
       " [2.401348121644997, 1.6245816319532058],\n",
       " [73.07842925418663, 4.276740776546719],\n",
       " [70.20934352164981, 21.652847007113774],\n",
       " [3.4417375487541744, 11.017800555471329],\n",
       " [57.35512623208212, 52.353144252488285],\n",
       " [2.584291001925257, 1.2382357507603383],\n",
       " [129.1660212153226, 12.768960172642132],\n",
       " [2.872207937136975, 1.9102614837275356],\n",
       " [1.7527802586892707, 1.7342158407856703],\n",
       " [21.652847007113774, 4.3150470518896675],\n",
       " [81.54146097128685, 238.3845131357383],\n",
       " [2.4161448408127013, 1.6944370001260862],\n",
       " [54.58582019253289, 81.54146097128685],\n",
       " [0.9117331061095002, 18.773351729167757],\n",
       " [3.7515934839551464, 13.849512305619253],\n",
       " [2.082859533539301, 2.0243513630694894],\n",
       " [1.3764508717483144, 21.128918722745052],\n",
       " [1.425687463948368, 2.8412323106449993],\n",
       " [24.71472931038261, 81.54146097128685],\n",
       " [19.85722924735155, 2.164389964797115],\n",
       " [49.36683184217734, 44.13749814862019],\n",
       " [44.13749814862019, 29.655101064160824],\n",
       " [285.7259647651783, 11.017800555471329],\n",
       " [129.1660212153226, 4.02356648217105],\n",
       " [136.04882129345532, 8.255766710354905],\n",
       " [2.8412323106449993, 0.807001720259873],\n",
       " [2.0132692901440277, 70.20934352164981],\n",
       " [1.473921219928427, 70.20934352164981],\n",
       " [76.85292221420993, 1.7917201760249848],\n",
       " [2.8896119146378885, 3.5241668571119473],\n",
       " [5.2804399868518885, 5.665422346181099],\n",
       " [4.439318896726764, 3.332903162420635],\n",
       " [76.0304280500765, 78.38292257325841],\n",
       " [6.803167411867327, 1.48877493972185],\n",
       " [81.54146097128685, 3.5345435895160846],\n",
       " [3.880419506091338, 2.463244256720587],\n",
       " [0.9117331061095002, 9.47582443329093],\n",
       " [3.881824942091565, 11.511887727444812],\n",
       " [1.9347988627309003, 14.275223560302084],\n",
       " [1.7397719362327038, 11.495722388417164],\n",
       " [2.1498524811622337, 2.872207937136975],\n",
       " [3.3203420621791806, 2.2905270861137423],\n",
       " [2.762031003795887, 6.725565169140313],\n",
       " [12.768960172642132, 18.855758812655385],\n",
       " [11.017800555471329, 1.946394647473343],\n",
       " [174.83944940063265, 15.318415045005716],\n",
       " [41.58403410047157, 1.4444759712613464],\n",
       " [49.36683184217734, 41.58403410047157],\n",
       " [2.6242663163288005, 2.401348121644997],\n",
       " [1.7527802586892707, 3.5383084550414874],\n",
       " [4.23774142517098, 30.49524605621724],\n",
       " [2.08831398220076, 70.20934352164981],\n",
       " [1.9054657759413614, 11.017800555471329],\n",
       " [174.83944940063265, 238.3845131357383],\n",
       " [4.276740776546719, 81.54146097128685],\n",
       " [57.492518828181176, 12.768960172642132],\n",
       " [2.0132692901440277, 4.75137848481351],\n",
       " [4.862015024309137, 81.54146097128685],\n",
       " [33.50644174826752, 0.8898247410665391],\n",
       " [44.13749814862019, 76.5487354114554],\n",
       " [17.98333386464949, 238.3845131357383],\n",
       " [3.340009608045259, 2.148776356216465],\n",
       " [238.3845131357383, 86.93414492776819],\n",
       " [42.18453431506988, 2.3163799049094247],\n",
       " [2.942608627488276, 3.7515934839551464],\n",
       " [3.9362637186331764, 1.317182841121185],\n",
       " [41.00846544045668, 23.602499229417795],\n",
       " [9.627839158697439, 2.0132692901440277],\n",
       " [4.698130458220628, 2.7604593742198618],\n",
       " [24.666396432620225, 3.7515934839551464],\n",
       " [41.00846544045668, 4.276740776546719],\n",
       " [2.027162950656009, 2.5661813953963493],\n",
       " [1.9671516382942897, 3.1506611907124356],\n",
       " [44.13749814862019, 7.823844289598414],\n",
       " [70.20934352164981, 86.93414492776819],\n",
       " [5.2804399868518885, 6.7762500081852854],\n",
       " [78.38292257325841, 10.745502016478259],\n",
       " [3.1453322494740688, 28.327425092823457],\n",
       " [44.13749814862019, 10.745502016478259],\n",
       " [1.8320972756306833, 21.128918722745052],\n",
       " [206.43046581963043, 76.5487354114554],\n",
       " [11.017800555471329, 59.294443509139924],\n",
       " [44.13749814862019, 206.43046581963043]]"
      ]
     },
     "execution_count": 11,
     "metadata": {},
     "output_type": "execute_result"
    }
   ],
   "source": [
    "test4"
   ]
  },
  {
   "cell_type": "code",
   "execution_count": 12,
   "id": "1a74e323",
   "metadata": {},
   "outputs": [
    {
     "data": {
      "text/plain": [
       "[['feed', 'starve', 1.49],\n",
       " ['connect', 'separate', 1.49],\n",
       " ['forget', 'recall', 0.33],\n",
       " ['sell', 'purchase', 2.16],\n",
       " ['melt', 'freeze', 0.17],\n",
       " ['agree', 'differ', 1.16],\n",
       " ['buy', 'sell', 0.0],\n",
       " ['arrive', 'depart', 1.0],\n",
       " ['disbelieve', 'believe', 0.33],\n",
       " ['separate', 'combine', 0.5],\n",
       " ['finish', 'start', 0.5],\n",
       " ['implode', 'explode', 3.15],\n",
       " ['lose', 'find', 0.0],\n",
       " ['reject', 'accept', 0.83],\n",
       " ['defend', 'prosecute', 0.33],\n",
       " ['sit', 'lie', 3.32],\n",
       " ['sink', 'float', 0.33],\n",
       " ['fall', 'rise', 0.33],\n",
       " ['climb', 'fall', 1.49],\n",
       " ['accept', 'deny', 1.0],\n",
       " ['admit', 'give', 2.32],\n",
       " ['permit', 'deny', 0.5],\n",
       " ['accept', 'refuse', 1.83],\n",
       " ['move', 'stay', 0.5],\n",
       " ['remove', 'add', 0.17],\n",
       " ['permit', 'disallow', 1.66],\n",
       " ['appear', 'vanish', 1.83],\n",
       " ['divide', 'unite', 0.17],\n",
       " ['sit', 'rise', 0.3],\n",
       " ['go', 'stay', 0.0],\n",
       " ['allow', 'deny', 0.17],\n",
       " ['mend', 'break', 1.0],\n",
       " ['follow', 'lead', 0.17],\n",
       " ['detach', 'attach', 0.33],\n",
       " ['begin', 'stop', 0.33],\n",
       " ['swim', 'dip', 3.15],\n",
       " ['ascend', 'descend', 1.06],\n",
       " ['deny', 'admit', 0.33],\n",
       " ['leave', 'take', 1.16],\n",
       " ['retreat', 'advance', 0.33],\n",
       " ['come', 'leave', 1.0],\n",
       " ['lower', 'raise', 0.0],\n",
       " ['miss', 'hit', 0.17],\n",
       " ['loosen', 'tie', 0.33],\n",
       " ['decrease', 'increase', 0.17],\n",
       " ['push', 'pull', 0.83],\n",
       " ['enter', 'leave', 1.16],\n",
       " ['agree', 'disagree', 0.66],\n",
       " ['win', 'lose', 1.66],\n",
       " ['lose', 'gain', 0.33],\n",
       " ['make', 'break', 0.17],\n",
       " ['begin', 'finish', 1.83],\n",
       " ['accept', 'decline', 0.0],\n",
       " ['pull', 'press', 2.49],\n",
       " ['forbid', 'allow', 0.17],\n",
       " ['prohibit', 'allow', 0.5],\n",
       " ['show', 'hide', 2.16],\n",
       " ['disintegrate', 'integrate', 1.06],\n",
       " ['forget', 'remember', 0.17],\n",
       " ['hope', 'despair', 0.33],\n",
       " ['hold', 'release', 1.16],\n",
       " ['walk', 'ride', 1.0],\n",
       " ['leave', 'arrive', 0.17],\n",
       " ['like', 'dislike', 0.17],\n",
       " ['lower', 'lift', 1.49],\n",
       " ['ignore', 'acknowledge', 1.0],\n",
       " ['multiply', 'divide', 0.5],\n",
       " ['disappear', 'appear', 0.83],\n",
       " ['sink', 'swim', 1.0],\n",
       " ['exhale', 'inhale', 1.0],\n",
       " ['spread', 'gather', 0.66],\n",
       " ['stop', 'retain', 2.32],\n",
       " ['break', 'fix', 1.16],\n",
       " ['give', 'demand', 0.66],\n",
       " ['fail', 'succeed', 1.49],\n",
       " ['win', 'fail', 0.33],\n",
       " ['stand', 'sit', 1.33],\n",
       " ['ascend', 'fall', 0.66],\n",
       " ['defend', 'attack', 1.0],\n",
       " ['disallow', 'allow', 0.5],\n",
       " ['repair', 'break', 0.17],\n",
       " ['give', 'take', 1.49],\n",
       " ['stay', 'leave', 0.17],\n",
       " ['start', 'stop', 0.33],\n",
       " ['forbid', 'permit', 0.66],\n",
       " ['disown', 'leave', 6.04],\n",
       " ['enjoy', 'hate', 0.17],\n",
       " ['lose', 'keep', 0.0],\n",
       " ['reject', 'take', 0.33],\n",
       " ['laugh', 'cry', 0.0],\n",
       " ['take', 'refuse', 1.66],\n",
       " ['add', 'subtract', 1.16],\n",
       " ['attend', 'miss', 0.5],\n",
       " ['lend', 'borrow', 3.49],\n",
       " ['change', 'remain', 0.5],\n",
       " ['let', 'forbid', 0.5],\n",
       " ['boil', 'freeze', 0.0],\n",
       " ['strike', 'miss', 1.83],\n",
       " ['change', 'stay', 0.5],\n",
       " ['burst', 'implode', 4.65],\n",
       " ['delay', 'hurry', 0.33],\n",
       " ['lose', 'earn', 0.17],\n",
       " ['allow', 'refuse', 1.16],\n",
       " ['forget', 'think', 0.33],\n",
       " ['release', 'obtain', 1.66],\n",
       " ['separate', 'join', 0.33],\n",
       " ['lose', 'obtain', 0.33],\n",
       " ['diminish', 'increase', 1.33],\n",
       " ['get', 'keep', 5.58],\n",
       " ['break', 'build', 0.83],\n",
       " ['lose', 'get', 1.49]]"
      ]
     },
     "execution_count": 12,
     "metadata": {},
     "output_type": "execute_result"
    }
   ],
   "source": [
    "simdict['ANTONYMS']"
   ]
  },
  {
   "cell_type": "code",
   "execution_count": 13,
   "id": "c2f9ba39",
   "metadata": {},
   "outputs": [
    {
     "data": {
      "text/plain": [
       "[0.438989429180678, 0.3076675428230437]"
      ]
     },
     "execution_count": 13,
     "metadata": {},
     "output_type": "execute_result"
    }
   ],
   "source": [
    "#Compute the lengths of the single words in the NONE list\n",
    "test5 = [[mf.M_vec_mult_dev(objsubset1[a[0]].val,objsubset1[a[0]].val,objsubset1.mean,objsubset1.std),mf.M_vec_mult_dev(objsubset1[a[1]].val,objsubset1[a[1]].val,objsubset1.mean,objsubset1.std)] for a in simdict['NONE']]\n",
    "#Compute the ratios among the pairs, the shortest over the longest and average out\n",
    "(lambda x: [np.mean(x),np.std(x)])([a[0]/a[1] if a[0]<a[1] else a[1]/a[0] for a in test5])"
   ]
  },
  {
   "cell_type": "code",
   "execution_count": 63,
   "id": "9b2ba301",
   "metadata": {},
   "outputs": [
    {
     "data": {
      "text/plain": [
       "array([-1.84904324e-02,  1.49126287e+00,  2.13274947e+01,  1.44855555e-01,\n",
       "        1.85585767e-01,  2.43866839e-01,  2.14635736e+01,  2.39400527e+01,\n",
       "        7.02412394e-01,  3.25449030e+01,  2.18269921e-01,  1.72820286e-01,\n",
       "        1.47372765e-01,  4.87359019e-03,  1.22413685e-01, -1.21771457e-02,\n",
       "        4.85183686e-01,  8.46264052e-01,  3.19831771e-01,  2.10249098e+00,\n",
       "        5.37596780e+02,  2.22599355e+02,  1.77309156e+04,  1.27785771e-02,\n",
       "        1.18815613e+00,  2.45380175e+01,  3.25472860e-01,  3.31186212e-01])"
      ]
     },
     "execution_count": 63,
     "metadata": {},
     "output_type": "execute_result"
    }
   ],
   "source": [
    "subobjset3.mean"
   ]
  },
  {
   "cell_type": "code",
   "execution_count": 64,
   "id": "c9a4c14f",
   "metadata": {},
   "outputs": [
    {
     "data": {
      "text/plain": [
       "array([4.15305177e-01, 5.50645422e+00, 3.42697451e+01, 5.62078326e-01,\n",
       "       7.10571857e-01, 7.90053610e-01, 4.62657836e+01, 5.51072123e+01,\n",
       "       4.90353284e+00, 1.29119111e+02, 3.72244160e-01, 4.73498820e-01,\n",
       "       5.03109640e+00, 7.70399078e-02, 1.10855314e+00, 6.78441885e-01,\n",
       "       3.42258459e+00, 8.14349925e+00, 8.34598989e+00, 1.41130897e+02,\n",
       "       4.46080868e+03, 4.81232587e+03, 1.70693798e+05, 8.67082958e-02,\n",
       "       6.78762551e+00, 3.90154026e+02, 5.79932604e+00, 6.64766995e+00])"
      ]
     },
     "execution_count": 64,
     "metadata": {},
     "output_type": "execute_result"
    }
   ],
   "source": [
    "subobjset3.std"
   ]
  },
  {
   "cell_type": "code",
   "execution_count": null,
   "id": "a3ccbdf0",
   "metadata": {},
   "outputs": [],
   "source": []
  }
 ],
 "metadata": {
  "kernelspec": {
   "display_name": "Python 3",
   "language": "python",
   "name": "python3"
  },
  "language_info": {
   "codemirror_mode": {
    "name": "ipython",
    "version": 3
   },
   "file_extension": ".py",
   "mimetype": "text/x-python",
   "name": "python",
   "nbconvert_exporter": "python",
   "pygments_lexer": "ipython3",
   "version": "3.9.4"
  }
 },
 "nbformat": 4,
 "nbformat_minor": 5
}
