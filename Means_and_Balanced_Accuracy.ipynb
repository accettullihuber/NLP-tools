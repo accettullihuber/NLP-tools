{
 "cells": [
  {
   "cell_type": "markdown",
   "id": "2a0e098c",
   "metadata": {},
   "source": [
    "# Import"
   ]
  },
  {
   "cell_type": "code",
   "execution_count": 48,
   "id": "c58b6569",
   "metadata": {},
   "outputs": [],
   "source": [
    "import numpy as np\n",
    "import random\n",
    "from scipy.stats import spearmanr, pearsonr\n",
    "from scipy.optimize import fsolve\n",
    "import math\n",
    "\n",
    "#import the custom functions\n",
    "import MFunctions as mf"
   ]
  },
  {
   "cell_type": "code",
   "execution_count": 2,
   "id": "e490adf6",
   "metadata": {},
   "outputs": [],
   "source": [
    "#Load verb_symilarity from which we extract the pairs\n",
    "simdict = mf.verb_similarity(\"SimVerb-3500.txt\")"
   ]
  },
  {
   "cell_type": "markdown",
   "id": "5691ecb0",
   "metadata": {},
   "source": [
    "# Initialise vector dictionaries and choose lexical classes"
   ]
  },
  {
   "cell_type": "code",
   "execution_count": 81,
   "id": "abfe4946",
   "metadata": {},
   "outputs": [],
   "source": [
    "#Here we initialise the vector dictionaries needed for the calculations.\n",
    "# We pick 13, 15 and 28 observables, also mixing weights between subject and object of 1, 0.8, 0.5 ,0.2 and 0\n",
    "\n",
    "# Weights controlling the mixing of the object/subject matrices\n",
    "vals_of_a = [[1,0],[0.8,0.2],[0.5,0.5],[0.2,0.8],[0,1]]\n",
    "\n",
    "# Build the different sets of observables, in this case 13, 15 and 28\n",
    "obs_sets = [[\"Linear.txt\",\"Quadratic.txt\"],[\"Cubic1.txt\",\"Quartic1.txt\"],[\"Linear.txt\",\"Quadratic.txt\",\"Cubic1.txt\",\"Quartic1.txt\",\"Additional1.txt\"]]\n",
    "obs_sets = [mf.observables(a) for a in obs_sets]\n",
    "\n",
    "obs_set_names = ['text{13 obs}','text{15 obs}','text{28 obs}']"
   ]
  },
  {
   "cell_type": "code",
   "execution_count": 15,
   "id": "79484b6c",
   "metadata": {},
   "outputs": [],
   "source": [
    "# Make the full list of sets. Initialise to None and then fill with vector dictionaries corresponding to the\n",
    "# various different combinations\n",
    "\n",
    "# N.B. this type of list initialisation has issues when I tried to fill in the values, when you do all_sets[0][1]\n",
    "# all elements in the column 2 get replaced not just the one I want. I guess there is an internal issue with aliasing\n",
    "# occuring in the way Python builds the list\n",
    "#all_sets = [[None] * len(vals_of_a)]* len(obs_sets)\n",
    "\n",
    "all_sets = [[None for _ in range(len(vals_of_a))] for _ in range(len(obs_sets))]\n",
    "\n",
    "for a0,a1 in enumerate(obs_sets):\n",
    "    for b0,b1 in enumerate(vals_of_a):\n",
    "        all_sets[a0][b0] = mf.vector_dictionary([[\"matrices_1160_arg_obj_context_subj.txt\",\"matrices_1160_arg_subj_context_obj.txt\"],b1],a1,[1])"
   ]
  },
  {
   "cell_type": "markdown",
   "id": "2b3d38ef",
   "metadata": {},
   "source": [
    "# The means for each lexical class, observable-deviation with cosine distance"
   ]
  },
  {
   "cell_type": "markdown",
   "id": "2347bf34",
   "metadata": {},
   "source": [
    "## Antonyms vs None vs Synonyms"
   ]
  },
  {
   "cell_type": "code",
   "execution_count": null,
   "id": "18c0ce32",
   "metadata": {},
   "outputs": [],
   "source": [
    "lexical_classes = ['ANTONYMS','NONE','SYNONYMS']"
   ]
  },
  {
   "cell_type": "code",
   "execution_count": 20,
   "id": "29d3b581",
   "metadata": {},
   "outputs": [
    {
     "name": "stdout",
     "output_type": "stream",
     "text": [
      "Observable set: 13 obs \n",
      "\n",
      "Mixing values: [1, 0] \n",
      "\n",
      "[[0.11686779330026016, 0.4870706285854948], [0.16025470482805165, 0.5329307757565349], [0.29050619231896, 0.4997487791339401]] \n",
      "\n",
      "Mixing values: [0.8, 0.2] \n",
      "\n",
      "[[0.12149503258801209, 0.4985780975123047], [0.16635270690908777, 0.5286639441995463], [0.3061805670475563, 0.4951254885623443]] \n",
      "\n",
      "Mixing values: [0.5, 0.5] \n",
      "\n",
      "[[0.1351872399885167, 0.516498268589881], [0.17959127504584851, 0.5319063501305401], [0.3217781486682351, 0.48458313199209463]] \n",
      "\n",
      "Mixing values: [0.2, 0.8] \n",
      "\n",
      "[[0.1420036844922273, 0.510305680020097], [0.18276384341752816, 0.5395036187163176], [0.32072295580802446, 0.4910727307573661]] \n",
      "\n",
      "Mixing values: [0, 1] \n",
      "\n",
      "[[0.15018222720102836, 0.4884472407440774], [0.18040667083996495, 0.5389258677200239], [0.3140819649420818, 0.4950256383438749]] \n",
      "\n",
      "Observable set: 15 obs \n",
      "\n",
      "Mixing values: [1, 0] \n",
      "\n",
      "[[0.12206992679076673, 0.4830357121748659], [0.2671421815959444, 0.5598336550096815], [0.33585492378390713, 0.5390383768881372]] \n",
      "\n",
      "Mixing values: [0.8, 0.2] \n",
      "\n",
      "[[0.12733869866927555, 0.47273843423856715], [0.26471886047820115, 0.5391394342562307], [0.3404727618935566, 0.5153614693568593]] \n",
      "\n",
      "Mixing values: [0.5, 0.5] \n",
      "\n",
      "[[0.18728196218728668, 0.4674325086842386], [0.33281008177197496, 0.5348347218988095], [0.3832683210042341, 0.5078346751564851]] \n",
      "\n",
      "Mixing values: [0.2, 0.8] \n",
      "\n",
      "[[0.2307072366680633, 0.5549416342601691], [0.4139141222578686, 0.5639579127642954], [0.4611286034708921, 0.5373837670331367]] \n",
      "\n",
      "Mixing values: [0, 1] \n",
      "\n",
      "[[0.29611614681961457, 0.5606279359677604], [0.4428856300710218, 0.5639991923278376], [0.4779092692748367, 0.5362008064762008]] \n",
      "\n",
      "Observable set: 28 obs \n",
      "\n",
      "Mixing values: [1, 0] \n",
      "\n",
      "[[0.08663371105904952, 0.41918685492177304], [0.17661444501140192, 0.4979248334404905], [0.2808011920395096, 0.47277685692499555]] \n",
      "\n",
      "Mixing values: [0.8, 0.2] \n",
      "\n",
      "[[0.09347835187840446, 0.4341733133450287], [0.18097072048533622, 0.4975261692009407], [0.29769832495239895, 0.4673179496031922]] \n",
      "\n",
      "Mixing values: [0.5, 0.5] \n",
      "\n",
      "[[0.12910990584209364, 0.45951524625565077], [0.19890719560900608, 0.5018723042959303], [0.3156181921915184, 0.46288731905057445]] \n",
      "\n",
      "Mixing values: [0.2, 0.8] \n",
      "\n",
      "[[0.13532506130807642, 0.4576944705776606], [0.204938735532744, 0.5122559087760756], [0.3195774845160927, 0.472015669498014]] \n",
      "\n",
      "Mixing values: [0, 1] \n",
      "\n",
      "[[0.15143509983640893, 0.4430212382412926], [0.20350525417806178, 0.5136248966588962], [0.3150736878262926, 0.47599549866663765]] \n",
      "\n"
     ]
    }
   ],
   "source": [
    "# The means and standard deviations for observable-deviation vectors, with cosine distance\n",
    "\n",
    "all_means = [[None for _ in range(len(vals_of_a))] for _ in range(len(obs_sets))]\n",
    "\n",
    "for a in range(len(obs_sets)):\n",
    "    \n",
    "    print('Observable set:',obs_set_names[a],'\\n')\n",
    "    \n",
    "    for b in range(len(vals_of_a)):\n",
    "        \n",
    "        print('Mixing values:',vals_of_a[b],'\\n')\n",
    "        \n",
    "        all_means[a][b] = [mf.averaged_product(simdict,c,all_sets[a][b],\"std_dev\") for c in lexical_classes]\n",
    "        \n",
    "        print(all_means[a][b],'\\n')\n",
    "        "
   ]
  },
  {
   "cell_type": "code",
   "execution_count": 21,
   "id": "0628937e",
   "metadata": {},
   "outputs": [
    {
     "name": "stdout",
     "output_type": "stream",
     "text": [
      "1 & 0.117 \\pm 0.487 & 0.16 \\pm 0.533 & 0.291 \\pm 0.5 \\\n",
      "0.8 & 0.121 \\pm 0.499 & 0.166 \\pm 0.529 & 0.306 \\pm 0.495 \\\n",
      "0.5 & 0.135 \\pm 0.516 & 0.18 \\pm 0.532 & 0.322 \\pm 0.485 \\\n",
      "0.2 & 0.142 \\pm 0.51 & 0.183 \\pm 0.54 & 0.321 \\pm 0.491 \\\n",
      "0 & 0.15 \\pm 0.488 & 0.18 \\pm 0.539 & 0.314 \\pm 0.495 \\\n",
      "\n",
      "\n",
      "1 & 0.122 \\pm 0.483 & 0.267 \\pm 0.56 & 0.336 \\pm 0.539 \\\n",
      "0.8 & 0.127 \\pm 0.473 & 0.265 \\pm 0.539 & 0.34 \\pm 0.515 \\\n",
      "0.5 & 0.187 \\pm 0.467 & 0.333 \\pm 0.535 & 0.383 \\pm 0.508 \\\n",
      "0.2 & 0.231 \\pm 0.555 & 0.414 \\pm 0.564 & 0.461 \\pm 0.537 \\\n",
      "0 & 0.296 \\pm 0.561 & 0.443 \\pm 0.564 & 0.478 \\pm 0.536 \\\n",
      "\n",
      "\n",
      "1 & 0.087 \\pm 0.419 & 0.177 \\pm 0.498 & 0.281 \\pm 0.473 \\\n",
      "0.8 & 0.093 \\pm 0.434 & 0.181 \\pm 0.498 & 0.298 \\pm 0.467 \\\n",
      "0.5 & 0.129 \\pm 0.46 & 0.199 \\pm 0.502 & 0.316 \\pm 0.463 \\\n",
      "0.2 & 0.135 \\pm 0.458 & 0.205 \\pm 0.512 & 0.32 \\pm 0.472 \\\n",
      "0 & 0.151 \\pm 0.443 & 0.204 \\pm 0.514 & 0.315 \\pm 0.476 \\\n",
      "\n",
      "\n"
     ]
    }
   ],
   "source": [
    "# Make results ready for pasting into the paper\n",
    "for a in range(len(obs_sets)):\n",
    "    \n",
    "    mylen = len(lexical_classes)\n",
    "    \n",
    "    for b in range(len(vals_of_a)):\n",
    "        \n",
    "        myout = str(vals_of_a[b][0]) + ' & '\n",
    "        \n",
    "        for c in range(mylen):\n",
    "            \n",
    "            myout = myout + str(round(all_means[a][b][c][0],3)) + ' \\pm ' + str(round(all_means[a][b][c][1],3))\n",
    "            \n",
    "            if c < mylen - 1:\n",
    "                myout = myout + ' & '\n",
    "            else:\n",
    "                myout = myout + ' \\\\'\n",
    "            \n",
    "        print(myout)\n",
    "        \n",
    "    print('\\n')"
   ]
  },
  {
   "cell_type": "markdown",
   "id": "2ab7d29a",
   "metadata": {},
   "source": [
    "## Antonyms vs None vs Synonyms Mahalanobis"
   ]
  },
  {
   "cell_type": "code",
   "execution_count": 73,
   "id": "05795470",
   "metadata": {},
   "outputs": [],
   "source": [
    "lexical_classes = ['ANTONYMS','NONE','SYNONYMS']"
   ]
  },
  {
   "cell_type": "code",
   "execution_count": 74,
   "id": "5b3acaab",
   "metadata": {},
   "outputs": [
    {
     "name": "stdout",
     "output_type": "stream",
     "text": [
      "Observable set: 13 obs \n",
      "\n",
      "Mixing values: [1, 0] \n",
      "\n",
      "[[0.053876079937608595, 0.3044157992509545], [0.09409812865040305, 0.34223133458929456], [0.16551755788424274, 0.3613969681045333]] \n",
      "\n",
      "Mixing values: [0.8, 0.2] \n",
      "\n",
      "[[0.059709051466106326, 0.2983087122605351], [0.0988979379227174, 0.3513532650138626], [0.18421318967655523, 0.3573100146918827]] \n",
      "\n",
      "Mixing values: [0.5, 0.5] \n",
      "\n",
      "[[0.07005568833984911, 0.3617018277098897], [0.10930060859964545, 0.3698658894072271], [0.1943485552797929, 0.37992408182335746]] \n",
      "\n",
      "Mixing values: [0.2, 0.8] \n",
      "\n",
      "[[0.0635812316329008, 0.3618917855670194], [0.10136338452051255, 0.38636719894404886], [0.18299435632491934, 0.3937793774301293]] \n",
      "\n",
      "Mixing values: [0, 1] \n",
      "\n",
      "[[0.06640862748147096, 0.35611339497821504], [0.0945117194292231, 0.38726667150789035], [0.17833341047733775, 0.3970761956266328]] \n",
      "\n",
      "Observable set: 15 obs \n",
      "\n",
      "Mixing values: [1, 0] \n",
      "\n",
      "[[0.0671363468438966, 0.44454081857727634], [0.2144443416080678, 0.5128357279626186], [0.2856271633302787, 0.4994128732266571]] \n",
      "\n",
      "Mixing values: [0.8, 0.2] \n",
      "\n",
      "[[0.09075678704782715, 0.43785319789091204], [0.22927070140803518, 0.497021769650138], [0.30611542945628917, 0.48675393578300513]] \n",
      "\n",
      "Mixing values: [0.5, 0.5] \n",
      "\n",
      "[[0.1123647223664371, 0.4389083990806189], [0.2956265691499819, 0.49470196934090466], [0.3336422858580759, 0.4778961692323588]] \n",
      "\n",
      "Mixing values: [0.2, 0.8] \n",
      "\n",
      "[[0.17928554924071638, 0.47563047687841503], [0.3550228640606932, 0.514784887268632], [0.38899290475100956, 0.502532068661981]] \n",
      "\n",
      "Mixing values: [0, 1] \n",
      "\n",
      "[[0.21277842830414162, 0.4821916009179024], [0.36393178584285735, 0.5130504786000016], [0.39318713927334487, 0.5014183066197243]] \n",
      "\n",
      "Observable set: 28 obs \n",
      "\n",
      "Mixing values: [1, 0] \n",
      "\n",
      "[[-0.004709029234531826, 0.23765827100673054], [0.07530421403074858, 0.3045261803382933], [0.14074076430139867, 0.3225358595093689]] \n",
      "\n",
      "Mixing values: [0.8, 0.2] \n",
      "\n",
      "[[0.01980587722531466, 0.2346753037001025], [0.08279848440909883, 0.3087987053013744], [0.15897832350896562, 0.31191798337098336]] \n",
      "\n",
      "Mixing values: [0.5, 0.5] \n",
      "\n",
      "[[0.0450494384164539, 0.291362805695878], [0.09701860362100596, 0.3252337893335299], [0.1605448035188493, 0.3504156004683639]] \n",
      "\n",
      "Mixing values: [0.2, 0.8] \n",
      "\n",
      "[[0.04372824980714277, 0.29193131028421626], [0.09006457982292117, 0.3448038200171301], [0.14837446880152363, 0.36556078682324894]] \n",
      "\n",
      "Mixing values: [0, 1] \n",
      "\n",
      "[[0.04918901359826997, 0.3050848607307312], [0.08206922190486625, 0.349533751754538], [0.13596856337480154, 0.36454332341454226]] \n",
      "\n"
     ]
    }
   ],
   "source": [
    "# The means and standard deviations for observable-deviation vectors, with cosine distance\n",
    "\n",
    "all_means = [[None for _ in range(len(vals_of_a))] for _ in range(len(obs_sets))]\n",
    "\n",
    "for a in range(len(obs_sets)):\n",
    "    \n",
    "    print('Observable set:',obs_set_names[a],'\\n')\n",
    "    \n",
    "    for b in range(len(vals_of_a)):\n",
    "        \n",
    "        print('Mixing values:',vals_of_a[b],'\\n')\n",
    "        \n",
    "        all_means[a][b] = [mf.averaged_product(simdict,c,all_sets[a][b],\"maha\") for c in lexical_classes]\n",
    "        \n",
    "        print(all_means[a][b],'\\n')\n",
    "        "
   ]
  },
  {
   "cell_type": "code",
   "execution_count": 75,
   "id": "76798b5a",
   "metadata": {},
   "outputs": [
    {
     "name": "stdout",
     "output_type": "stream",
     "text": [
      "1 & 0.054 \\pm 0.304 & 0.094 \\pm 0.342 & 0.166 \\pm 0.361 \\\n",
      "0.8 & 0.06 \\pm 0.298 & 0.099 \\pm 0.351 & 0.184 \\pm 0.357 \\\n",
      "0.5 & 0.07 \\pm 0.362 & 0.109 \\pm 0.37 & 0.194 \\pm 0.38 \\\n",
      "0.2 & 0.064 \\pm 0.362 & 0.101 \\pm 0.386 & 0.183 \\pm 0.394 \\\n",
      "0 & 0.066 \\pm 0.356 & 0.095 \\pm 0.387 & 0.178 \\pm 0.397 \\\n",
      "\n",
      "\n",
      "1 & 0.067 \\pm 0.445 & 0.214 \\pm 0.513 & 0.286 \\pm 0.499 \\\n",
      "0.8 & 0.091 \\pm 0.438 & 0.229 \\pm 0.497 & 0.306 \\pm 0.487 \\\n",
      "0.5 & 0.112 \\pm 0.439 & 0.296 \\pm 0.495 & 0.334 \\pm 0.478 \\\n",
      "0.2 & 0.179 \\pm 0.476 & 0.355 \\pm 0.515 & 0.389 \\pm 0.503 \\\n",
      "0 & 0.213 \\pm 0.482 & 0.364 \\pm 0.513 & 0.393 \\pm 0.501 \\\n",
      "\n",
      "\n",
      "1 & -0.005 \\pm 0.238 & 0.075 \\pm 0.305 & 0.141 \\pm 0.323 \\\n",
      "0.8 & 0.02 \\pm 0.235 & 0.083 \\pm 0.309 & 0.159 \\pm 0.312 \\\n",
      "0.5 & 0.045 \\pm 0.291 & 0.097 \\pm 0.325 & 0.161 \\pm 0.35 \\\n",
      "0.2 & 0.044 \\pm 0.292 & 0.09 \\pm 0.345 & 0.148 \\pm 0.366 \\\n",
      "0 & 0.049 \\pm 0.305 & 0.082 \\pm 0.35 & 0.136 \\pm 0.365 \\\n",
      "\n",
      "\n"
     ]
    }
   ],
   "source": [
    "# Make results ready for pasting into the paper\n",
    "for a in range(len(obs_sets)):\n",
    "    \n",
    "    mylen = len(lexical_classes)\n",
    "    \n",
    "    for b in range(len(vals_of_a)):\n",
    "        \n",
    "        myout = str(vals_of_a[b][0]) + ' & '\n",
    "        \n",
    "        for c in range(mylen):\n",
    "            \n",
    "            myout = myout + str(round(all_means[a][b][c][0],3)) + ' \\pm ' + str(round(all_means[a][b][c][1],3))\n",
    "            \n",
    "            if c < mylen - 1:\n",
    "                myout = myout + ' & '\n",
    "            else:\n",
    "                myout = myout + ' \\\\'\n",
    "            \n",
    "        print(myout)\n",
    "        \n",
    "    print('\\n')"
   ]
  },
  {
   "cell_type": "markdown",
   "id": "02c6534f",
   "metadata": {},
   "source": [
    "## Antonyms vs None vs Synonyms plain product"
   ]
  },
  {
   "cell_type": "code",
   "execution_count": 76,
   "id": "11573463",
   "metadata": {},
   "outputs": [],
   "source": [
    "lexical_classes = ['ANTONYMS','NONE','SYNONYMS']"
   ]
  },
  {
   "cell_type": "code",
   "execution_count": 77,
   "id": "636c0d27",
   "metadata": {},
   "outputs": [
    {
     "name": "stdout",
     "output_type": "stream",
     "text": [
      "Observable set: 13 obs \n",
      "\n",
      "Mixing values: [1, 0] \n",
      "\n",
      "[[0.8060558220067201, 0.18861368164743378], [0.8231949202559977, 0.15961817485713023], [0.8185005351827515, 0.17508935573288908]] \n",
      "\n",
      "Mixing values: [0.8, 0.2] \n",
      "\n",
      "[[0.8139826094909628, 0.188090820966675], [0.8291557566396288, 0.1546765108298057], [0.8331221129258357, 0.1680039041864535]] \n",
      "\n",
      "Mixing values: [0.5, 0.5] \n",
      "\n",
      "[[0.8184950962749088, 0.1708270164721316], [0.8151906287814297, 0.1589408679440375], [0.8385346379856569, 0.14901898704239072]] \n",
      "\n",
      "Mixing values: [0.2, 0.8] \n",
      "\n",
      "[[0.8267758094667564, 0.14247303239111417], [0.8121235549933316, 0.15901822252280035], [0.830319358773506, 0.15357102142911763]] \n",
      "\n",
      "Mixing values: [0, 1] \n",
      "\n",
      "[[0.8424491669411976, 0.13657234705640797], [0.8126555657603333, 0.16326454745647584], [0.83396377143757, 0.15163515337158912]] \n",
      "\n",
      "Observable set: 15 obs \n",
      "\n",
      "Mixing values: [1, 0] \n",
      "\n",
      "[[0.666551221655536, 0.36288405692790765], [0.5519718924199511, 0.41881326367872923], [0.5537120723933104, 0.4478156796132517]] \n",
      "\n",
      "Mixing values: [0.8, 0.2] \n",
      "\n",
      "[[0.5456408478021069, 0.42350989562208907], [0.5076533379870708, 0.43760110995429885], [0.4927181970759464, 0.46387298196245585]] \n",
      "\n",
      "Mixing values: [0.5, 0.5] \n",
      "\n",
      "[[0.48560725355144024, 0.44401939152351133], [0.41795712600783436, 0.4558265153292171], [0.49039418002830387, 0.46076033689624446]] \n",
      "\n",
      "Mixing values: [0.2, 0.8] \n",
      "\n",
      "[[0.5632195278189677, 0.42850540546296195], [0.4854799873031967, 0.4367323470770213], [0.5041908048196816, 0.4372794814885165]] \n",
      "\n",
      "Mixing values: [0, 1] \n",
      "\n",
      "[[0.6540402362090085, 0.39148848460956964], [0.5548556753836442, 0.4065366954299626], [0.5673760273470484, 0.4312207329575683]] \n",
      "\n",
      "Observable set: 28 obs \n",
      "\n",
      "Mixing values: [1, 0] \n",
      "\n",
      "[[0.6410342247302977, 0.36576244984706857], [0.5917689100854786, 0.34721633185328793], [0.594205812853085, 0.35334238894287323]] \n",
      "\n",
      "Mixing values: [0.8, 0.2] \n",
      "\n",
      "[[0.5555627342814198, 0.361457259286599], [0.6058075049971664, 0.32836711701848564], [0.6032882488971577, 0.33002320158241516]] \n",
      "\n",
      "Mixing values: [0.5, 0.5] \n",
      "\n",
      "[[0.6147622819201529, 0.3433286942316327], [0.5886078939753532, 0.3234409299761185], [0.6308436677083196, 0.3180427516114734]] \n",
      "\n",
      "Mixing values: [0.2, 0.8] \n",
      "\n",
      "[[0.5761187332478379, 0.37692672073554495], [0.5896826564762189, 0.33559811065286854], [0.5948178688571695, 0.34380545849055033]] \n",
      "\n",
      "Mixing values: [0, 1] \n",
      "\n",
      "[[0.6600945996618592, 0.37536151086096076], [0.5858188859017227, 0.34532210145669545], [0.6146137439141177, 0.35198280702210927]] \n",
      "\n"
     ]
    }
   ],
   "source": [
    "# The means and standard deviations for observable-deviation vectors, with cosine distance\n",
    "\n",
    "all_means = [[None for _ in range(len(vals_of_a))] for _ in range(len(obs_sets))]\n",
    "\n",
    "for a in range(len(obs_sets)):\n",
    "    \n",
    "    print('Observable set:',obs_set_names[a],'\\n')\n",
    "    \n",
    "    for b in range(len(vals_of_a)):\n",
    "        \n",
    "        print('Mixing values:',vals_of_a[b],'\\n')\n",
    "        \n",
    "        all_means[a][b] = [mf.averaged_product(simdict,c,all_sets[a][b],\"plain\") for c in lexical_classes]\n",
    "        \n",
    "        print(all_means[a][b],'\\n')\n",
    "        "
   ]
  },
  {
   "cell_type": "code",
   "execution_count": 78,
   "id": "18e35a96",
   "metadata": {},
   "outputs": [
    {
     "name": "stdout",
     "output_type": "stream",
     "text": [
      "1 & 0.806 \\pm 0.189 & 0.823 \\pm 0.16 & 0.819 \\pm 0.175 \\\n",
      "0.8 & 0.814 \\pm 0.188 & 0.829 \\pm 0.155 & 0.833 \\pm 0.168 \\\n",
      "0.5 & 0.818 \\pm 0.171 & 0.815 \\pm 0.159 & 0.839 \\pm 0.149 \\\n",
      "0.2 & 0.827 \\pm 0.142 & 0.812 \\pm 0.159 & 0.83 \\pm 0.154 \\\n",
      "0 & 0.842 \\pm 0.137 & 0.813 \\pm 0.163 & 0.834 \\pm 0.152 \\\n",
      "\n",
      "\n",
      "1 & 0.667 \\pm 0.363 & 0.552 \\pm 0.419 & 0.554 \\pm 0.448 \\\n",
      "0.8 & 0.546 \\pm 0.424 & 0.508 \\pm 0.438 & 0.493 \\pm 0.464 \\\n",
      "0.5 & 0.486 \\pm 0.444 & 0.418 \\pm 0.456 & 0.49 \\pm 0.461 \\\n",
      "0.2 & 0.563 \\pm 0.429 & 0.485 \\pm 0.437 & 0.504 \\pm 0.437 \\\n",
      "0 & 0.654 \\pm 0.391 & 0.555 \\pm 0.407 & 0.567 \\pm 0.431 \\\n",
      "\n",
      "\n",
      "1 & 0.641 \\pm 0.366 & 0.592 \\pm 0.347 & 0.594 \\pm 0.353 \\\n",
      "0.8 & 0.556 \\pm 0.361 & 0.606 \\pm 0.328 & 0.603 \\pm 0.33 \\\n",
      "0.5 & 0.615 \\pm 0.343 & 0.589 \\pm 0.323 & 0.631 \\pm 0.318 \\\n",
      "0.2 & 0.576 \\pm 0.377 & 0.59 \\pm 0.336 & 0.595 \\pm 0.344 \\\n",
      "0 & 0.66 \\pm 0.375 & 0.586 \\pm 0.345 & 0.615 \\pm 0.352 \\\n",
      "\n",
      "\n"
     ]
    }
   ],
   "source": [
    "# Make results ready for pasting into the paper\n",
    "for a in range(len(obs_sets)):\n",
    "    \n",
    "    mylen = len(lexical_classes)\n",
    "    \n",
    "    for b in range(len(vals_of_a)):\n",
    "        \n",
    "        myout = str(vals_of_a[b][0]) + ' & '\n",
    "        \n",
    "        for c in range(mylen):\n",
    "            \n",
    "            myout = myout + str(round(all_means[a][b][c][0],3)) + ' \\pm ' + str(round(all_means[a][b][c][1],3))\n",
    "            \n",
    "            if c < mylen - 1:\n",
    "                myout = myout + ' & '\n",
    "            else:\n",
    "                myout = myout + ' \\\\'\n",
    "            \n",
    "        print(myout)\n",
    "        \n",
    "    print('\\n')"
   ]
  },
  {
   "cell_type": "markdown",
   "id": "6f044935",
   "metadata": {},
   "source": [
    "## Hyper/Hypo vs CoHypo"
   ]
  },
  {
   "cell_type": "code",
   "execution_count": 45,
   "id": "507ddc39",
   "metadata": {},
   "outputs": [],
   "source": [
    "lexical_classes = ['HYPER/HYPONYMS','COHYPONYMS']"
   ]
  },
  {
   "cell_type": "code",
   "execution_count": 46,
   "id": "fe4e3b31",
   "metadata": {},
   "outputs": [
    {
     "name": "stdout",
     "output_type": "stream",
     "text": [
      "Observable set: 13 obs \n",
      "\n",
      "Mixing values: [1, 0] \n",
      "\n",
      "[[0.12819513814742128, 0.5071554695289946], [0.18283011891159115, 0.4875770015152735]] \n",
      "\n",
      "Mixing values: [0.8, 0.2] \n",
      "\n",
      "[[0.13413771448778683, 0.5014386364259339], [0.193787209750406, 0.4717811907126341]] \n",
      "\n",
      "Mixing values: [0.5, 0.5] \n",
      "\n",
      "[[0.1368454677421456, 0.5070858000104288], [0.2192787931664428, 0.4965412505958847]] \n",
      "\n",
      "Mixing values: [0.2, 0.8] \n",
      "\n",
      "[[0.12527195503905225, 0.5089138971794549], [0.24019095634601484, 0.5048472830502597]] \n",
      "\n",
      "Mixing values: [0, 1] \n",
      "\n",
      "[[0.12538794135946613, 0.5024734689765858], [0.240215784303051, 0.5059754138407245]] \n",
      "\n",
      "Observable set: 15 obs \n",
      "\n",
      "Mixing values: [1, 0] \n",
      "\n",
      "[[0.23430703642978412, 0.4918431036851528], [0.31531163054484945, 0.5149285441313115]] \n",
      "\n",
      "Mixing values: [0.8, 0.2] \n",
      "\n",
      "[[0.23265881542388137, 0.4885868888170528], [0.333440748425028, 0.48336781321665245]] \n",
      "\n",
      "Mixing values: [0.5, 0.5] \n",
      "\n",
      "[[0.23930849412289, 0.5314410484113232], [0.3392611376129496, 0.5407862731041616]] \n",
      "\n",
      "Mixing values: [0.2, 0.8] \n",
      "\n",
      "[[0.2984339625881443, 0.5630739094251442], [0.4164564823026995, 0.5882972740136296]] \n",
      "\n",
      "Mixing values: [0, 1] \n",
      "\n",
      "[[0.3231436801778295, 0.5651977514993983], [0.4466865840241602, 0.5617302869991032]] \n",
      "\n",
      "Observable set: 28 obs \n",
      "\n",
      "Mixing values: [1, 0] \n",
      "\n",
      "[[0.133299760494055, 0.4588170772144774], [0.20377438501264636, 0.4530870300342831]] \n",
      "\n",
      "Mixing values: [0.8, 0.2] \n",
      "\n",
      "[[0.14087734413300423, 0.4575093618111323], [0.2089174227031328, 0.4517869568158021]] \n",
      "\n",
      "Mixing values: [0.5, 0.5] \n",
      "\n",
      "[[0.14481408548615024, 0.4670278932983014], [0.2308062816654503, 0.4708060463779602]] \n",
      "\n",
      "Mixing values: [0.2, 0.8] \n",
      "\n",
      "[[0.13882203366918128, 0.472787594819257], [0.25365517760694634, 0.48338689120346273]] \n",
      "\n",
      "Mixing values: [0, 1] \n",
      "\n",
      "[[0.1390416756976588, 0.46937113288585547], [0.25593326887468926, 0.4842001288953564]] \n",
      "\n"
     ]
    }
   ],
   "source": [
    "# The means and standard deviations for observable-deviation vectors, with cosine distance\n",
    "\n",
    "all_means = [[None for _ in range(len(vals_of_a))] for _ in range(len(obs_sets))]\n",
    "\n",
    "for a in range(len(obs_sets)):\n",
    "    \n",
    "    print('Observable set:',obs_set_names[a],'\\n')\n",
    "    \n",
    "    for b in range(len(vals_of_a)):\n",
    "        \n",
    "        print('Mixing values:',vals_of_a[b],'\\n')\n",
    "        \n",
    "        all_means[a][b] = [mf.averaged_product(simdict,c,all_sets[a][b],\"std_dev\") for c in lexical_classes]\n",
    "        \n",
    "        print(all_means[a][b],'\\n')\n",
    "        "
   ]
  },
  {
   "cell_type": "code",
   "execution_count": 47,
   "id": "97f0e9ab",
   "metadata": {},
   "outputs": [
    {
     "name": "stdout",
     "output_type": "stream",
     "text": [
      "1 & 0.128 \\pm 0.507 & 0.183 \\pm 0.488 \\\n",
      "0.8 & 0.134 \\pm 0.501 & 0.194 \\pm 0.472 \\\n",
      "0.5 & 0.137 \\pm 0.507 & 0.219 \\pm 0.497 \\\n",
      "0.2 & 0.125 \\pm 0.509 & 0.24 \\pm 0.505 \\\n",
      "0 & 0.125 \\pm 0.502 & 0.24 \\pm 0.506 \\\n",
      "\n",
      "\n",
      "1 & 0.234 \\pm 0.492 & 0.315 \\pm 0.515 \\\n",
      "0.8 & 0.233 \\pm 0.489 & 0.333 \\pm 0.483 \\\n",
      "0.5 & 0.239 \\pm 0.531 & 0.339 \\pm 0.541 \\\n",
      "0.2 & 0.298 \\pm 0.563 & 0.416 \\pm 0.588 \\\n",
      "0 & 0.323 \\pm 0.565 & 0.447 \\pm 0.562 \\\n",
      "\n",
      "\n",
      "1 & 0.133 \\pm 0.459 & 0.204 \\pm 0.453 \\\n",
      "0.8 & 0.141 \\pm 0.458 & 0.209 \\pm 0.452 \\\n",
      "0.5 & 0.145 \\pm 0.467 & 0.231 \\pm 0.471 \\\n",
      "0.2 & 0.139 \\pm 0.473 & 0.254 \\pm 0.483 \\\n",
      "0 & 0.139 \\pm 0.469 & 0.256 \\pm 0.484 \\\n",
      "\n",
      "\n"
     ]
    }
   ],
   "source": [
    "# Make results ready for pasting into the paper\n",
    "for a in range(len(obs_sets)):\n",
    "    \n",
    "    mylen = len(lexical_classes)\n",
    "    \n",
    "    for b in range(len(vals_of_a)):\n",
    "        \n",
    "        myout = str(vals_of_a[b][0]) + ' & '\n",
    "        \n",
    "        for c in range(mylen):\n",
    "            \n",
    "            myout = myout + str(round(all_means[a][b][c][0],3)) + ' \\pm ' + str(round(all_means[a][b][c][1],3))\n",
    "            \n",
    "            if c < mylen - 1:\n",
    "                myout = myout + ' & '\n",
    "            else:\n",
    "                myout = myout + ' \\\\'\n",
    "            \n",
    "        print(myout)\n",
    "        \n",
    "    print('\\n')"
   ]
  },
  {
   "cell_type": "markdown",
   "id": "dee57942",
   "metadata": {},
   "source": [
    "# Testing the new functions for the balanced accuracy"
   ]
  },
  {
   "cell_type": "code",
   "execution_count": 22,
   "id": "46e13468",
   "metadata": {},
   "outputs": [],
   "source": [
    "test = mf.vector_dictionary([[\"matrices_1160_arg_obj_context_subj.txt\",\"matrices_1160_arg_subj_context_obj.txt\"],[1,0]],obs_sets[0],[1])"
   ]
  },
  {
   "cell_type": "code",
   "execution_count": 9,
   "id": "0c44a2d8",
   "metadata": {},
   "outputs": [
    {
     "data": {
      "text/plain": [
       "0.5449838932351587"
      ]
     },
     "execution_count": 9,
     "metadata": {},
     "output_type": "execute_result"
    }
   ],
   "source": [
    "mf.balanced_accuracy_subsets_aux(test,simdict,'ANTONYMS','SYNONYMS','std_dev',117,70,200)"
   ]
  },
  {
   "cell_type": "code",
   "execution_count": 7,
   "id": "48864799",
   "metadata": {},
   "outputs": [
    {
     "data": {
      "text/plain": [
       "0.5602808691043986"
      ]
     },
     "execution_count": 7,
     "metadata": {},
     "output_type": "execute_result"
    }
   ],
   "source": [
    "mf.balanced_accuracy(test,simdict,'ANTONYMS','SYNONYMS','std_dev')"
   ]
  },
  {
   "cell_type": "code",
   "execution_count": 23,
   "id": "303bff1b",
   "metadata": {},
   "outputs": [
    {
     "data": {
      "text/plain": [
       "0.5506936289337272"
      ]
     },
     "execution_count": 23,
     "metadata": {},
     "output_type": "execute_result"
    }
   ],
   "source": [
    "# Works also with multiple classes bunched together \n",
    "mf.balanced_accuracy(test,simdict,['ANTONYMS','NONE'],'SYNONYMS','std_dev')"
   ]
  },
  {
   "cell_type": "code",
   "execution_count": 8,
   "id": "9f73095c",
   "metadata": {},
   "outputs": [
    {
     "data": {
      "text/plain": [
       "array([0.5633226 , 0.03448822])"
      ]
     },
     "execution_count": 8,
     "metadata": {},
     "output_type": "execute_result"
    }
   ],
   "source": [
    "mf.balanced_accuracy_subsets(test,simdict,'ANTONYMS','SYNONYMS','std_dev',3000,70,200)"
   ]
  },
  {
   "cell_type": "code",
   "execution_count": 13,
   "id": "b48e5bfc",
   "metadata": {},
   "outputs": [
    {
     "data": {
      "text/plain": [
       "0.35955434932417024"
      ]
     },
     "execution_count": 13,
     "metadata": {},
     "output_type": "execute_result"
    }
   ],
   "source": [
    "mf.balanced_accuracy3(test,simdict,'ANTONYMS','NONE','SYNONYMS','std_dev')"
   ]
  },
  {
   "cell_type": "code",
   "execution_count": 14,
   "id": "410ff6f9",
   "metadata": {},
   "outputs": [
    {
     "data": {
      "text/plain": [
       "0.3391093968729882"
      ]
     },
     "execution_count": 14,
     "metadata": {},
     "output_type": "execute_result"
    }
   ],
   "source": [
    "mf.balanced_accuracy_subsets3_aux(test,simdict,'ANTONYMS','NONE','SYNONYMS','std_dev',7,70,1600,200)"
   ]
  },
  {
   "cell_type": "code",
   "execution_count": 12,
   "id": "db959aaf",
   "metadata": {},
   "outputs": [
    {
     "data": {
      "text/plain": [
       "array([0.36462051, 0.0250972 ])"
      ]
     },
     "execution_count": 12,
     "metadata": {},
     "output_type": "execute_result"
    }
   ],
   "source": [
    "mf.balanced_accuracy_subsets3(test,simdict,'ANTONYMS','NONE','SYNONYMS','std_dev',3000,70,1600,200)"
   ]
  },
  {
   "cell_type": "code",
   "execution_count": 51,
   "id": "5d937000",
   "metadata": {},
   "outputs": [
    {
     "name": "stdout",
     "output_type": "stream",
     "text": [
      "dict_keys(['SYNONYMS', 'COHYPONYMS', 'ANTONYMS', 'HYPER/HYPONYMS', 'NONE'])\n",
      "[306, 190, 111, 800, 2093]\n",
      "[198, 123, 72, 520, 1360]\n"
     ]
    }
   ],
   "source": [
    "# Find 65% of each key\n",
    "print(simdict.keys())\n",
    "print([len(simdict[a]) for a in list(simdict.keys())])\n",
    "print([math.floor(len(simdict[a]) * 65 /100) for a in list(simdict.keys())])"
   ]
  },
  {
   "cell_type": "markdown",
   "id": "eeca9a19",
   "metadata": {},
   "source": [
    "# Computing the balanced accuracy"
   ]
  },
  {
   "cell_type": "markdown",
   "id": "76230352",
   "metadata": {},
   "source": [
    "## Syn vs Ant"
   ]
  },
  {
   "cell_type": "code",
   "execution_count": 40,
   "id": "0e912392",
   "metadata": {},
   "outputs": [],
   "source": [
    "all_syn_vs_ant = [[None for _ in range(len(vals_of_a))] for _ in range(len(obs_sets))]\n",
    "\n",
    "for a in range(len(obs_sets)):\n",
    "    \n",
    "    #print('Observable set:',obs_set_names[a],'\\n')\n",
    "    \n",
    "    for b in range(len(vals_of_a)):\n",
    "        \n",
    "        #print('Mixing values:',vals_of_a[b],'\\n')\n",
    "        \n",
    "        all_syn_vs_ant[a][b] = mf.balanced_accuracy(all_sets[a][b],simdict,'ANTONYMS','SYNONYMS','std_dev')\n",
    "        \n",
    "        #print(all_syn_vs_ant[a][b],'\\n')"
   ]
  },
  {
   "cell_type": "code",
   "execution_count": 82,
   "id": "b267ab4a",
   "metadata": {},
   "outputs": [
    {
     "name": "stdout",
     "output_type": "stream",
     "text": [
      "text{13 obs} & 0.56 & 0.557 & 0.575 & 0.53 & 0.523 \\\n",
      "text{15 obs} & 0.579 & 0.574 & 0.564 & 0.571 & 0.554 \\\n",
      "text{28 obs} & 0.555 & 0.578 & 0.587 & 0.575 & 0.564 \\\n"
     ]
    }
   ],
   "source": [
    "# Make results ready for pasting into the paper\n",
    "for a in range(len(obs_sets)):\n",
    "    \n",
    "    mylen = len(vals_of_a)\n",
    "    \n",
    "    myout = obs_set_names[a] + ' & '\n",
    "    \n",
    "    for b in range(len(vals_of_a)):\n",
    "            \n",
    "        myout = myout + str(round(all_syn_vs_ant[a][b],3))\n",
    "            \n",
    "        if b < mylen -1:\n",
    "            myout = myout + ' & '\n",
    "        else:\n",
    "            myout = myout + ' \\\\'\n",
    "            \n",
    "    print(myout)\n",
    "        \n",
    "    #print('\\n')"
   ]
  },
  {
   "cell_type": "code",
   "execution_count": 52,
   "id": "4e03ab6a",
   "metadata": {},
   "outputs": [],
   "source": [
    "all_syn_vs_ant_sub = [[None for _ in range(len(vals_of_a))] for _ in range(len(obs_sets))]\n",
    "\n",
    "for a in range(len(obs_sets)):\n",
    "    \n",
    "    #print('Observable set:',obs_set_names[a],'\\n')\n",
    "    \n",
    "    for b in range(len(vals_of_a)):\n",
    "        \n",
    "        #print('Mixing values:',vals_of_a[b],'\\n')\n",
    "        \n",
    "        all_syn_vs_ant_sub[a][b] = mf.balanced_accuracy_subsets(all_sets[a][b],simdict,'ANTONYMS','SYNONYMS','std_dev',7,72,198)\n",
    "        \n",
    "        #print(all_syn_vs_ant[a][b],'\\n')"
   ]
  },
  {
   "cell_type": "code",
   "execution_count": 83,
   "id": "ebc23a0b",
   "metadata": {},
   "outputs": [
    {
     "name": "stdout",
     "output_type": "stream",
     "text": [
      "text{13 obs} & 0.569 \\pm 0.023 & 0.564 \\pm 0.041 & 0.576 \\pm 0.037 & 0.548 \\pm 0.039 & 0.543 \\pm 0.036 \\\n",
      "text{15 obs} & 0.577 \\pm 0.039 & 0.573 \\pm 0.031 & 0.58 \\pm 0.041 & 0.581 \\pm 0.039 & 0.559 \\pm 0.034 \\\n",
      "text{28 obs} & 0.561 \\pm 0.033 & 0.579 \\pm 0.037 & 0.597 \\pm 0.032 & 0.591 \\pm 0.035 & 0.577 \\pm 0.045 \\\n"
     ]
    }
   ],
   "source": [
    "# Make results ready for pasting into the paper\n",
    "for a in range(len(obs_sets)):\n",
    "    \n",
    "    mylen = len(vals_of_a)\n",
    "    \n",
    "    myout = obs_set_names[a] + ' & '\n",
    "    \n",
    "    for b in range(len(vals_of_a)):\n",
    "            \n",
    "        myout = myout + str(round(all_syn_vs_ant_sub[a][b][0],3)) + ' \\pm ' + str(round(all_syn_vs_ant_sub[a][b][1],3))\n",
    "            \n",
    "        if b < mylen -1:\n",
    "            myout = myout + ' & '\n",
    "        else:\n",
    "            myout = myout + ' \\\\'\n",
    "            \n",
    "    print(myout)\n",
    "        \n",
    "    #print('\\n')"
   ]
  },
  {
   "cell_type": "code",
   "execution_count": 58,
   "id": "49bea743",
   "metadata": {},
   "outputs": [
    {
     "data": {
      "text/plain": [
       "0.023"
      ]
     },
     "execution_count": 58,
     "metadata": {},
     "output_type": "execute_result"
    }
   ],
   "source": [
    "round(all_syn_vs_ant_sub[0][0][1],3)"
   ]
  },
  {
   "cell_type": "markdown",
   "id": "f7900027",
   "metadata": {},
   "source": [
    "## Syn vs NonSyn"
   ]
  },
  {
   "cell_type": "code",
   "execution_count": 35,
   "id": "bed579f6",
   "metadata": {},
   "outputs": [],
   "source": [
    "all_syn_vs_nonsyn = [[None for _ in range(len(vals_of_a))] for _ in range(len(obs_sets))]\n",
    "\n",
    "for a in range(len(obs_sets)):\n",
    "    \n",
    "    #print('Observable set:',obs_set_names[a],'\\n')\n",
    "    \n",
    "    for b in range(len(vals_of_a)):\n",
    "        \n",
    "        #print('Mixing values:',vals_of_a[b],'\\n')\n",
    "        \n",
    "        all_syn_vs_nonsyn[a][b] = mf.balanced_accuracy(all_sets[a][b],simdict,['ANTONYMS','NONE'],'SYNONYMS','std_dev')\n",
    "        \n",
    "        #print(all_syn_vs_nonsyn[a][b],'\\n')"
   ]
  },
  {
   "cell_type": "code",
   "execution_count": 84,
   "id": "d3a5963b",
   "metadata": {},
   "outputs": [
    {
     "name": "stdout",
     "output_type": "stream",
     "text": [
      "text{13 obs} & 0.551 & 0.568 & 0.571 & 0.555 & 0.55 \\\n",
      "text{15 obs} & 0.522 & 0.528 & 0.524 & 0.524 & 0.508 \\\n",
      "text{28 obs} & 0.54 & 0.556 & 0.554 & 0.557 & 0.554 \\\n"
     ]
    }
   ],
   "source": [
    "# Make results ready for pasting into the paper\n",
    "for a in range(len(obs_sets)):\n",
    "    \n",
    "    mylen = len(vals_of_a)\n",
    "    \n",
    "    myout = obs_set_names[a] + ' & '\n",
    "    \n",
    "    for b in range(len(vals_of_a)):\n",
    "            \n",
    "        myout = myout + str(round(all_syn_vs_nonsyn[a][b],3))\n",
    "            \n",
    "        if b < mylen -1:\n",
    "            myout = myout + ' & '\n",
    "        else:\n",
    "            myout = myout + ' \\\\'\n",
    "            \n",
    "    print(myout)\n",
    "        \n",
    "    #print('\\n')"
   ]
  },
  {
   "cell_type": "code",
   "execution_count": 61,
   "id": "044e5030",
   "metadata": {},
   "outputs": [],
   "source": [
    "all_syn_vs_nonsyn_sub = [[None for _ in range(len(vals_of_a))] for _ in range(len(obs_sets))]\n",
    "\n",
    "for a in range(len(obs_sets)):\n",
    "    \n",
    "    #print('Observable set:',obs_set_names[a],'\\n')\n",
    "    \n",
    "    for b in range(len(vals_of_a)):\n",
    "        \n",
    "        #print('Mixing values:',vals_of_a[b],'\\n')\n",
    "        \n",
    "        all_syn_vs_nonsyn_sub[a][b] = mf.balanced_accuracy_subsets(all_sets[a][b],simdict,['ANTONYMS','NONE'],'SYNONYMS','std_dev',7,72+1360,198)\n",
    "        \n",
    "        #print(all_syn_vs_nonsyn[a][b],'\\n')"
   ]
  },
  {
   "cell_type": "code",
   "execution_count": 85,
   "id": "1bd9f7f4",
   "metadata": {},
   "outputs": [
    {
     "name": "stdout",
     "output_type": "stream",
     "text": [
      "text{13 obs} & 0.55 \\pm 0.016 & 0.57 \\pm 0.015 & 0.57 \\pm 0.018 & 0.558 \\pm 0.018 & 0.557 \\pm 0.017 \\\n",
      "text{15 obs} & 0.527 \\pm 0.024 & 0.528 \\pm 0.021 & 0.527 \\pm 0.02 & 0.529 \\pm 0.025 & 0.514 \\pm 0.023 \\\n",
      "text{28 obs} & 0.54 \\pm 0.019 & 0.556 \\pm 0.016 & 0.556 \\pm 0.019 & 0.561 \\pm 0.019 & 0.56 \\pm 0.018 \\\n"
     ]
    }
   ],
   "source": [
    "# Make results ready for pasting into the paper\n",
    "for a in range(len(obs_sets)):\n",
    "    \n",
    "    mylen = len(vals_of_a)\n",
    "    \n",
    "    myout = obs_set_names[a] + ' & '\n",
    "    \n",
    "    for b in range(len(vals_of_a)):\n",
    "            \n",
    "        myout = myout + str(round(all_syn_vs_nonsyn_sub[a][b][0],3)) + ' \\pm ' + str(round(all_syn_vs_nonsyn_sub[a][b][1],3))\n",
    "            \n",
    "        if b < mylen -1:\n",
    "            myout = myout + ' & '\n",
    "        else:\n",
    "            myout = myout + ' \\\\'\n",
    "            \n",
    "    print(myout)\n",
    "        \n",
    "    #print('\\n')"
   ]
  },
  {
   "cell_type": "markdown",
   "id": "44ddeb50",
   "metadata": {},
   "source": [
    "## Ant vs NonAnt"
   ]
  },
  {
   "cell_type": "code",
   "execution_count": 38,
   "id": "24d90212",
   "metadata": {},
   "outputs": [],
   "source": [
    "all_ant_vs_nonant = [[None for _ in range(len(vals_of_a))] for _ in range(len(obs_sets))]\n",
    "\n",
    "for a in range(len(obs_sets)):\n",
    "    \n",
    "    #print('Observable set:',obs_set_names[a],'\\n')\n",
    "    \n",
    "    for b in range(len(vals_of_a)):\n",
    "        \n",
    "        #print('Mixing values:',vals_of_a[b],'\\n')\n",
    "        \n",
    "        all_ant_vs_nonant[a][b] = mf.balanced_accuracy(all_sets[a][b],simdict,'ANTONYMS',['NONE','SYNONYMS'],'std_dev')\n",
    "        \n",
    "        #print(all_ant_vs_nonant[a][b],'\\n')"
   ]
  },
  {
   "cell_type": "code",
   "execution_count": 86,
   "id": "13416d9a",
   "metadata": {},
   "outputs": [
    {
     "name": "stdout",
     "output_type": "stream",
     "text": [
      "text{13 obs} & 0.5 & 0.503 & 0.512 & 0.485 & 0.473 \\\n",
      "text{15 obs} & 0.556 & 0.535 & 0.54 & 0.559 & 0.552 \\\n",
      "text{28 obs} & 0.523 & 0.531 & 0.529 & 0.52 & 0.511 \\\n"
     ]
    }
   ],
   "source": [
    "# Make results ready for pasting into the paper\n",
    "for a in range(len(obs_sets)):\n",
    "    \n",
    "    mylen = len(vals_of_a)\n",
    "    \n",
    "    myout = obs_set_names[a] + ' & '\n",
    "    \n",
    "    for b in range(len(vals_of_a)):\n",
    "            \n",
    "        myout = myout + str(round(all_ant_vs_nonant[a][b],3))\n",
    "            \n",
    "        if b < mylen -1:\n",
    "            myout = myout + ' & '\n",
    "        else:\n",
    "            myout = myout + ' \\\\'\n",
    "            \n",
    "    print(myout)\n",
    "        \n",
    "    #print('\\n')"
   ]
  },
  {
   "cell_type": "code",
   "execution_count": 64,
   "id": "487ae5d8",
   "metadata": {},
   "outputs": [],
   "source": [
    "all_ant_vs_nonant_sub = [[None for _ in range(len(vals_of_a))] for _ in range(len(obs_sets))]\n",
    "\n",
    "for a in range(len(obs_sets)):\n",
    "    \n",
    "    #print('Observable set:',obs_set_names[a],'\\n')\n",
    "    \n",
    "    for b in range(len(vals_of_a)):\n",
    "        \n",
    "        #print('Mixing values:',vals_of_a[b],'\\n')\n",
    "        \n",
    "        all_ant_vs_nonant_sub[a][b] = mf.balanced_accuracy_subsets(all_sets[a][b],simdict,'ANTONYMS',['NONE','SYNONYMS'],'std_dev',7,72,1360+198)\n",
    "        \n",
    "        #print(all_ant_vs_nonant[a][b],'\\n')"
   ]
  },
  {
   "cell_type": "code",
   "execution_count": 87,
   "id": "29e28134",
   "metadata": {},
   "outputs": [
    {
     "name": "stdout",
     "output_type": "stream",
     "text": [
      "text{13 obs} & 0.491 \\pm 0.038 & 0.494 \\pm 0.029 & 0.502 \\pm 0.024 & 0.473 \\pm 0.031 & 0.468 \\pm 0.029 \\\n",
      "text{15 obs} & 0.54 \\pm 0.029 & 0.525 \\pm 0.035 & 0.527 \\pm 0.029 & 0.543 \\pm 0.034 & 0.543 \\pm 0.029 \\\n",
      "text{28 obs} & 0.501 \\pm 0.037 & 0.524 \\pm 0.031 & 0.519 \\pm 0.027 & 0.505 \\pm 0.03 & 0.494 \\pm 0.035 \\\n"
     ]
    }
   ],
   "source": [
    "# Make results ready for pasting into the paper\n",
    "for a in range(len(obs_sets)):\n",
    "    \n",
    "    mylen = len(vals_of_a)\n",
    "    \n",
    "    myout = obs_set_names[a] + ' & '\n",
    "    \n",
    "    for b in range(len(vals_of_a)):\n",
    "            \n",
    "        myout = myout + str(round(all_ant_vs_nonant_sub[a][b][0],3)) + ' \\pm ' + str(round(all_ant_vs_nonant_sub[a][b][1],3))\n",
    "            \n",
    "        if b < mylen -1:\n",
    "            myout = myout + ' & '\n",
    "        else:\n",
    "            myout = myout + ' \\\\'\n",
    "            \n",
    "    print(myout)\n",
    "        \n",
    "    #print('\\n')"
   ]
  },
  {
   "cell_type": "code",
   "execution_count": null,
   "id": "19175ed2",
   "metadata": {},
   "outputs": [],
   "source": []
  },
  {
   "cell_type": "markdown",
   "id": "04db382c",
   "metadata": {},
   "source": [
    "## Hyper/Hypo vs CoHypo"
   ]
  },
  {
   "cell_type": "code",
   "execution_count": 43,
   "id": "4e81892e",
   "metadata": {},
   "outputs": [],
   "source": [
    "all_hyper_cohypo = [[None for _ in range(len(vals_of_a))] for _ in range(len(obs_sets))]\n",
    "\n",
    "for a in range(len(obs_sets)):\n",
    "    \n",
    "    #print('Observable set:',obs_set_names[a],'\\n')\n",
    "    \n",
    "    for b in range(len(vals_of_a)):\n",
    "        \n",
    "        #print('Mixing values:',vals_of_a[b],'\\n')\n",
    "        \n",
    "        all_hyper_cohypo[a][b] = mf.balanced_accuracy(all_sets[a][b],simdict,'HYPER/HYPONYMS','COHYPONYMS','std_dev')\n",
    "        \n",
    "        #print(all_hyper_cohypo[a][b],'\\n')"
   ]
  },
  {
   "cell_type": "code",
   "execution_count": 88,
   "id": "1bdf59bf",
   "metadata": {},
   "outputs": [
    {
     "name": "stdout",
     "output_type": "stream",
     "text": [
      "text{13 obs} & 0.525 & 0.529 & 0.537 & 0.556 & 0.551 \\\n",
      "text{15 obs} & 0.533 & 0.524 & 0.536 & 0.547 & 0.545 \\\n",
      "text{28 obs} & 0.531 & 0.543 & 0.528 & 0.56 & 0.566 \\\n"
     ]
    }
   ],
   "source": [
    "# Make results ready for pasting into the paper\n",
    "for a in range(len(obs_sets)):\n",
    "    \n",
    "    mylen = len(vals_of_a)\n",
    "    \n",
    "    myout = obs_set_names[a] + ' & '\n",
    "    \n",
    "    for b in range(len(vals_of_a)):\n",
    "            \n",
    "        myout = myout + str(round(all_hyper_cohypo[a][b],3))\n",
    "            \n",
    "        if b < mylen -1:\n",
    "            myout = myout + ' & '\n",
    "        else:\n",
    "            myout = myout + ' \\\\'\n",
    "            \n",
    "    print(myout)\n",
    "        \n",
    "    #print('\\n')"
   ]
  },
  {
   "cell_type": "code",
   "execution_count": 66,
   "id": "f24eadd9",
   "metadata": {},
   "outputs": [],
   "source": [
    "all_hyper_cohypo_sub = [[None for _ in range(len(vals_of_a))] for _ in range(len(obs_sets))]\n",
    "\n",
    "for a in range(len(obs_sets)):\n",
    "    \n",
    "    #print('Observable set:',obs_set_names[a],'\\n')\n",
    "    \n",
    "    for b in range(len(vals_of_a)):\n",
    "        \n",
    "        #print('Mixing values:',vals_of_a[b],'\\n')\n",
    "        \n",
    "        all_hyper_cohypo_sub[a][b] = mf.balanced_accuracy_subsets(all_sets[a][b],simdict,'HYPER/HYPONYMS','COHYPONYMS','std_dev',7,520,123)\n",
    "        \n",
    "        #print(all_hyper_cohypo[a][b],'\\n')"
   ]
  },
  {
   "cell_type": "code",
   "execution_count": 89,
   "id": "f0cb31f6",
   "metadata": {},
   "outputs": [
    {
     "name": "stdout",
     "output_type": "stream",
     "text": [
      "text{13 obs} & 0.517 \\pm 0.023 & 0.52 \\pm 0.021 & 0.535 \\pm 0.024 & 0.547 \\pm 0.02 & 0.545 \\pm 0.025 \\\n",
      "text{15 obs} & 0.527 \\pm 0.019 & 0.524 \\pm 0.023 & 0.529 \\pm 0.027 & 0.538 \\pm 0.029 & 0.539 \\pm 0.029 \\\n",
      "text{28 obs} & 0.527 \\pm 0.021 & 0.536 \\pm 0.023 & 0.528 \\pm 0.025 & 0.56 \\pm 0.024 & 0.563 \\pm 0.026 \\\n"
     ]
    }
   ],
   "source": [
    "# Make results ready for pasting into the paper\n",
    "for a in range(len(obs_sets)):\n",
    "    \n",
    "    mylen = len(vals_of_a)\n",
    "    \n",
    "    myout = obs_set_names[a] + ' & '\n",
    "    \n",
    "    for b in range(len(vals_of_a)):\n",
    "            \n",
    "        myout = myout + str(round(all_hyper_cohypo_sub[a][b][0],3)) + ' \\pm ' + str(round(all_hyper_cohypo_sub[a][b][1],3))\n",
    "            \n",
    "        if b < mylen -1:\n",
    "            myout = myout + ' & '\n",
    "        else:\n",
    "            myout = myout + ' \\\\'\n",
    "            \n",
    "    print(myout)\n",
    "        \n",
    "    #print('\\n')"
   ]
  },
  {
   "cell_type": "markdown",
   "id": "39d10d6f",
   "metadata": {},
   "source": [
    "## Syn vs None vs Ant"
   ]
  },
  {
   "cell_type": "code",
   "execution_count": 41,
   "id": "519496bb",
   "metadata": {},
   "outputs": [],
   "source": [
    "all_syn_vs_none_vs_ant = [[None for _ in range(len(vals_of_a))] for _ in range(len(obs_sets))]\n",
    "\n",
    "for a in range(len(obs_sets)):\n",
    "    \n",
    "    #print('Observable set:',obs_set_names[a],'\\n')\n",
    "    \n",
    "    for b in range(len(vals_of_a)):\n",
    "        \n",
    "        #print('Mixing values:',vals_of_a[b],'\\n')\n",
    "        \n",
    "        all_syn_vs_none_vs_ant[a][b] = mf.balanced_accuracy3(all_sets[a][b],simdict,'ANTONYMS','NONE','SYNONYMS','std_dev')\n",
    "        \n",
    "        #print(all_syn_vs_none_vs_ant[a][b],'\\n')"
   ]
  },
  {
   "cell_type": "code",
   "execution_count": 90,
   "id": "caee8526",
   "metadata": {},
   "outputs": [
    {
     "name": "stdout",
     "output_type": "stream",
     "text": [
      "text{13 obs} & 0.36 & 0.376 & 0.379 & 0.356 & 0.346 \\\n",
      "text{15 obs} & 0.382 & 0.374 & 0.366 & 0.384 & 0.37 \\\n",
      "text{28 obs} & 0.367 & 0.387 & 0.384 & 0.372 & 0.374 \\\n"
     ]
    }
   ],
   "source": [
    "# Make results ready for pasting into the paper\n",
    "for a in range(len(obs_sets)):\n",
    "    \n",
    "    mylen = len(vals_of_a)\n",
    "    \n",
    "    myout = obs_set_names[a] + ' & '\n",
    "    \n",
    "    for b in range(len(vals_of_a)):\n",
    "            \n",
    "        myout = myout + str(round(all_syn_vs_none_vs_ant[a][b],3))\n",
    "            \n",
    "        if b < mylen -1:\n",
    "            myout = myout + ' & '\n",
    "        else:\n",
    "            myout = myout + ' \\\\'\n",
    "            \n",
    "    print(myout)\n",
    "        \n",
    "    #print('\\n')"
   ]
  },
  {
   "cell_type": "code",
   "execution_count": 69,
   "id": "8e56e3c7",
   "metadata": {},
   "outputs": [],
   "source": [
    "all_syn_vs_none_vs_ant_sub = [[None for _ in range(len(vals_of_a))] for _ in range(len(obs_sets))]\n",
    "\n",
    "for a in range(len(obs_sets)):\n",
    "    \n",
    "    #print('Observable set:',obs_set_names[a],'\\n')\n",
    "    \n",
    "    for b in range(len(vals_of_a)):\n",
    "        \n",
    "        #print('Mixing values:',vals_of_a[b],'\\n')\n",
    "        \n",
    "        all_syn_vs_none_vs_ant_sub[a][b] = mf.balanced_accuracy_subsets3(all_sets[a][b],simdict,'ANTONYMS','NONE','SYNONYMS','std_dev',7,72,1360,198)\n",
    "        \n",
    "        #print(all_syn_vs_none_vs_ant[a][b],'\\n')"
   ]
  },
  {
   "cell_type": "code",
   "execution_count": 91,
   "id": "79f9edf9",
   "metadata": {},
   "outputs": [
    {
     "name": "stdout",
     "output_type": "stream",
     "text": [
      "text{13 obs} & 0.369 \\pm 0.02 & 0.378 \\pm 0.02 & 0.385 \\pm 0.026 & 0.364 \\pm 0.024 & 0.359 \\pm 0.023 \\\n",
      "text{15 obs} & 0.384 \\pm 0.027 & 0.375 \\pm 0.021 & 0.378 \\pm 0.027 & 0.39 \\pm 0.025 & 0.374 \\pm 0.021 \\\n",
      "text{28 obs} & 0.372 \\pm 0.021 & 0.387 \\pm 0.021 & 0.391 \\pm 0.026 & 0.39 \\pm 0.029 & 0.379 \\pm 0.028 \\\n"
     ]
    }
   ],
   "source": [
    "# Make results ready for pasting into the paper\n",
    "for a in range(len(obs_sets)):\n",
    "    \n",
    "    mylen = len(vals_of_a)\n",
    "    \n",
    "    myout = obs_set_names[a] + ' & '\n",
    "    \n",
    "    for b in range(len(vals_of_a)):\n",
    "            \n",
    "        myout = myout + str(round(all_syn_vs_none_vs_ant_sub[a][b][0],3)) + ' \\pm ' + str(round(all_syn_vs_none_vs_ant_sub[a][b][1],3))\n",
    "            \n",
    "        if b < mylen -1:\n",
    "            myout = myout + ' & '\n",
    "        else:\n",
    "            myout = myout + ' \\\\'\n",
    "            \n",
    "    print(myout)\n",
    "        \n",
    "    #print('\\n')"
   ]
  },
  {
   "cell_type": "code",
   "execution_count": null,
   "id": "e12add2b",
   "metadata": {},
   "outputs": [],
   "source": []
  }
 ],
 "metadata": {
  "kernelspec": {
   "display_name": "Python 3",
   "language": "python",
   "name": "python3"
  },
  "language_info": {
   "codemirror_mode": {
    "name": "ipython",
    "version": 3
   },
   "file_extension": ".py",
   "mimetype": "text/x-python",
   "name": "python",
   "nbconvert_exporter": "python",
   "pygments_lexer": "ipython3",
   "version": "3.9.4"
  }
 },
 "nbformat": 4,
 "nbformat_minor": 5
}
