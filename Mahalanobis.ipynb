{
 "cells": [
  {
   "cell_type": "markdown",
   "id": "80a6b798",
   "metadata": {},
   "source": [
    "# Import"
   ]
  },
  {
   "cell_type": "code",
   "execution_count": 1,
   "id": "c6043e24",
   "metadata": {},
   "outputs": [],
   "source": [
    "import numpy as np\n",
    "import random\n",
    "from scipy.stats import spearmanr, pearsonr\n",
    "from scipy.optimize import fsolve\n",
    "from numpy.linalg import inv\n",
    "\n",
    "#import the custom functions\n",
    "import MFunctions as mf"
   ]
  },
  {
   "cell_type": "code",
   "execution_count": 2,
   "id": "c89b5b16",
   "metadata": {},
   "outputs": [],
   "source": [
    "#Load verb_symilarity from which we extract the pairs\n",
    "simdict = mf.verb_similarity(\"SimVerb-3500.txt\")"
   ]
  },
  {
   "cell_type": "markdown",
   "id": "7c2004f5",
   "metadata": {},
   "source": [
    "## 13 obs defs"
   ]
  },
  {
   "cell_type": "code",
   "execution_count": 3,
   "id": "44fdb9d1",
   "metadata": {},
   "outputs": [],
   "source": [
    "# Make observables object\n",
    "set1 = mf.observables([\"Linear.txt\",\"Quadratic.txt\"])\n",
    "# Load matrices and make vector dictionaries\n",
    "objsubset1 = mf.vector_dictionary(\"matrices_1160_arg_obj_context_subj.txt\",set1)\n",
    "subobjset1 = mf.vector_dictionary(\"matrices_1160_arg_subj_context_obj.txt\",set1,[0])\n",
    "obj08sub02set1 = mf.vector_dictionary([[\"matrices_1160_arg_obj_context_subj.txt\",\"matrices_1160_arg_subj_context_obj.txt\"],[0.8,0.2]],set1,[1])\n",
    "obj09sub01set1 = mf.vector_dictionary([[\"matrices_1160_arg_obj_context_subj.txt\",\"matrices_1160_arg_subj_context_obj.txt\"],[0.9,0.1]],set1,[1])\n",
    "\n",
    "file_list1 = [objsubset1,obj09sub01set1,obj08sub02set1,subobjset1]"
   ]
  },
  {
   "cell_type": "code",
   "execution_count": 14,
   "id": "03825ad1",
   "metadata": {},
   "outputs": [
    {
     "data": {
      "text/plain": [
       "array([[60.28871298, 32.16347361],\n",
       "       [32.16347361, 29.70597468]])"
      ]
     },
     "execution_count": 14,
     "metadata": {},
     "output_type": "execute_result"
    }
   ],
   "source": [
    "np.cov(np.stack((objsubset1['abandon'].val,objsubset1['absorb'].val),axis=0))"
   ]
  },
  {
   "cell_type": "code",
   "execution_count": 24,
   "id": "a5516faf",
   "metadata": {},
   "outputs": [
    {
     "data": {
      "text/plain": [
       "1.58818655781893"
      ]
     },
     "execution_count": 24,
     "metadata": {},
     "output_type": "execute_result"
    }
   ],
   "source": [
    "len(np.cov(np.array([a.val for a in objsubset1.values()]).T))\n",
    "objsubset1['abandon'].val @ inv(np.cov(np.array([a.val for a in objsubset1.values()]).T)) @ objsubset1['absorb'].val"
   ]
  },
  {
   "cell_type": "code",
   "execution_count": 4,
   "id": "53a90ec1",
   "metadata": {},
   "outputs": [
    {
     "data": {
      "text/plain": [
       "0.09039445386550615"
      ]
     },
     "execution_count": 4,
     "metadata": {},
     "output_type": "execute_result"
    }
   ],
   "source": [
    "mf.M_vec_mult_dev_Maha(objsubset1['abandon'].val,objsubset1['absorb'].val,objsubset1.mean,objsubset1.inv_cov)"
   ]
  },
  {
   "cell_type": "code",
   "execution_count": 5,
   "id": "d89a6393",
   "metadata": {},
   "outputs": [
    {
     "data": {
      "text/plain": [
       "0.09039445386550615"
      ]
     },
     "execution_count": 5,
     "metadata": {},
     "output_type": "execute_result"
    }
   ],
   "source": [
    "(objsubset1['abandon'].val - objsubset1.mean) @ objsubset1.inv_cov @ (objsubset1['absorb'].val - objsubset1.mean)"
   ]
  },
  {
   "cell_type": "code",
   "execution_count": 34,
   "id": "3f664604",
   "metadata": {},
   "outputs": [
    {
     "data": {
      "text/plain": [
       "0.09039445386550615"
      ]
     },
     "execution_count": 34,
     "metadata": {},
     "output_type": "execute_result"
    }
   ],
   "source": [
    "(objsubset1['abandon'].val - objsubset1.mean).T @ objsubset1.inv_cov @ (objsubset1['absorb'].val - objsubset1.mean)"
   ]
  },
  {
   "cell_type": "code",
   "execution_count": 39,
   "id": "7df863a5",
   "metadata": {},
   "outputs": [
    {
     "name": "stdout",
     "output_type": "stream",
     "text": [
      "[[ 1.47339080e-01  3.58018914e-01 -2.97635092e+00 -5.36815233e-02\n",
      "  -2.21398926e-02 -2.39046738e-02 -3.84907773e+00 -2.39765263e+00\n",
      "  -4.67976021e-02 -4.52308735e+00 -3.33534448e-02 -1.35133718e-01\n",
      "  -5.47420287e-01]\n",
      " [ 3.58018914e-01  1.29972682e+01 -2.49858947e+01 -4.46673592e-01\n",
      "  -1.86131271e-01 -2.36380979e-01 -3.37653109e+01 -2.28184170e+01\n",
      "  -1.08698913e+00 -9.90170393e+01 -2.70922739e-01 -3.87845999e-01\n",
      "  -6.73816859e+00]\n",
      " [-2.97635092e+00 -2.49858947e+01  2.91446847e+02  4.25898715e+00\n",
      "   1.88225185e+00  2.64307209e+00  3.35766832e+02  2.62545223e+02\n",
      "   4.61887286e+00  3.82035746e+02  3.19414188e+00  3.98973571e+00\n",
      "   1.98954118e+01]\n",
      " [-5.36815233e-02 -4.46673592e-01  4.25898715e+00  1.43515307e-01\n",
      "   3.50708883e-02  2.86653142e-02  5.18274175e+00  3.81975121e+00\n",
      "   1.74991607e-01  5.63247591e+00  4.80303609e-02  7.13026361e-02\n",
      "   3.51519475e-01]\n",
      " [-2.21398926e-02 -1.86131271e-01  1.88225185e+00  3.50708883e-02\n",
      "   7.30163936e-02  1.73985450e-02  2.52915275e+00  1.56210248e+00\n",
      "  -2.62388758e-02  3.38959741e+00  2.18465679e-02  2.85156577e-02\n",
      "   2.12369543e-01]\n",
      " [-2.39046738e-02 -2.36380979e-01  2.64307209e+00  2.86653142e-02\n",
      "   1.73985450e-02  6.33475546e-02  2.98326301e+00  2.53031298e+00\n",
      "   1.60562420e-02  4.08995664e+00  2.93244658e-02  3.06896754e-02\n",
      "   1.87964933e-01]\n",
      " [-3.84907773e+00 -3.37653109e+01  3.35766832e+02  5.18274175e+00\n",
      "   2.52915275e+00  2.98326301e+00  5.02102940e+02  3.00411175e+02\n",
      "   6.84662147e+00  4.76317589e+02  3.67745876e+00  5.15670827e+00\n",
      "   2.61264117e+01]\n",
      " [-2.39765263e+00 -2.28184170e+01  2.62545223e+02  3.81975121e+00\n",
      "   1.56210248e+00  2.53031298e+00  3.00411175e+02  2.58401217e+02\n",
      "   2.90699777e+00  3.61046576e+02  2.87755226e+00  3.28140584e+00\n",
      "   1.73715345e+01]\n",
      " [-4.67976021e-02 -1.08698913e+00  4.61887286e+00  1.74991607e-01\n",
      "  -2.62388758e-02  1.60562420e-02  6.84662147e+00  2.90699777e+00\n",
      "   4.48458987e+00  1.28559346e+01  4.80410839e-02  3.83239848e-02\n",
      "   3.15144521e-01]\n",
      " [-4.52308735e+00 -9.90170393e+01  3.82035746e+02  5.63247591e+00\n",
      "   3.38959741e+00  4.08995664e+00  4.76317589e+02  3.61046576e+02\n",
      "   1.28559346e+01  1.59866898e+03  4.18387574e+00  6.12962297e+00\n",
      "   7.16976826e+01]\n",
      " [-3.33534448e-02 -2.70922739e-01  3.19414188e+00  4.80303609e-02\n",
      "   2.18465679e-02  2.93244658e-02  3.67745876e+00  2.87755226e+00\n",
      "   4.80410839e-02  4.18387574e+00  3.58176149e-02  4.45454641e-02\n",
      "   2.24803968e-01]\n",
      " [-1.35133718e-01 -3.87845999e-01  3.98973571e+00  7.13026361e-02\n",
      "   2.85156577e-02  3.06896754e-02  5.15670827e+00  3.28140584e+00\n",
      "   3.83239848e-02  6.12962297e+00  4.45454641e-02  2.01799763e-01\n",
      "   6.99677425e-01]\n",
      " [-5.47420287e-01 -6.73816859e+00  1.98954118e+01  3.51519475e-01\n",
      "   2.12369543e-01  1.87964933e-01  2.61264117e+01  1.73715345e+01\n",
      "   3.15144521e-01  7.16976826e+01  2.24803968e-01  6.99677425e-01\n",
      "   8.64636961e+00]]\n"
     ]
    },
    {
     "data": {
      "text/plain": [
       "array([1.47212064e-01, 1.29860637e+01, 2.91195600e+02, 1.43391587e-01,\n",
       "       7.29534484e-02, 6.32929446e-02, 5.01670093e+02, 2.58178458e+02,\n",
       "       4.48072384e+00, 1.59729082e+03, 3.57867376e-02, 2.01625798e-01,\n",
       "       8.63891584e+00])"
      ]
     },
     "execution_count": 39,
     "metadata": {},
     "output_type": "execute_result"
    }
   ],
   "source": [
    "print(inv(objsubset1.inv_cov))\n",
    "objsubset1.std ** 2"
   ]
  },
  {
   "cell_type": "code",
   "execution_count": 32,
   "id": "b5a0bf6c",
   "metadata": {},
   "outputs": [
    {
     "name": "stdout",
     "output_type": "stream",
     "text": [
      "[0.053876079937608595, 0.3044157992509545]\n",
      "[0.09409812865040305, 0.34223133458929456]\n",
      "[0.16551755788424274, 0.3613969681045333]\n"
     ]
    }
   ],
   "source": [
    "print(mf.averaged_product(simdict,'ANTONYMS',objsubset1,'maha'))\n",
    "print(mf.averaged_product(simdict,'NONE',objsubset1,'maha'))\n",
    "print(mf.averaged_product(simdict,'SYNONYMS',objsubset1,'maha'))"
   ]
  },
  {
   "cell_type": "code",
   "execution_count": 33,
   "id": "b9b1e1cb",
   "metadata": {},
   "outputs": [
    {
     "name": "stdout",
     "output_type": "stream",
     "text": [
      "[0.07886372954108004, 0.32224339811536057]\n",
      "[0.08193683642646281, 0.34307863869139615]\n"
     ]
    }
   ],
   "source": [
    "print(mf.averaged_product(simdict,'HYPER/HYPONYMS',objsubset1,'maha'))\n",
    "print(mf.averaged_product(simdict,'COHYPONYMS',objsubset1,'maha'))"
   ]
  },
  {
   "cell_type": "code",
   "execution_count": 47,
   "id": "97537f4a",
   "metadata": {},
   "outputs": [
    {
     "name": "stdout",
     "output_type": "stream",
     "text": [
      "[[-2.14625384e-01 -1.84904324e-02]\n",
      " [-1.60455892e+00  1.49126287e+00]\n",
      " [ 1.32395473e+01  2.13274947e+01]\n",
      " [ 1.87671268e-01  1.44855555e-01]\n",
      " [ 8.47026225e-02  1.85585767e-01]\n",
      " [ 9.74328070e-02  2.43866839e-01]\n",
      " [ 1.56561183e+01  2.14635736e+01]\n",
      " [ 1.12320081e+01  2.39400527e+01]\n",
      " [ 2.66275448e-01  7.02412394e-01]\n",
      " [ 1.55606730e+01  3.25449030e+01]\n",
      " [ 1.40956302e-01  2.18269921e-01]\n",
      " [ 1.93276119e-01  1.72820286e-01]\n",
      " [ 7.02089351e-01  1.47372765e-01]]\n"
     ]
    }
   ],
   "source": [
    "print(np.array([objsubset1.mean,subobjset1.mean]).T)"
   ]
  },
  {
   "cell_type": "code",
   "execution_count": 48,
   "id": "7073e095",
   "metadata": {},
   "outputs": [
    {
     "name": "stdout",
     "output_type": "stream",
     "text": [
      "[[-3.29472649e-03  4.87359019e-03]\n",
      " [-1.00753392e-02  1.22413685e-01]\n",
      " [-1.18238871e-02 -1.21771457e-02]\n",
      " [-1.76408749e-02  4.85183686e-01]\n",
      " [-6.97634569e-01  8.46264052e-01]\n",
      " [-1.03906730e-01  3.19831771e-01]\n",
      " [-7.85890355e+00  2.10249098e+00]\n",
      " [-1.23899696e+02  5.37596780e+02]\n",
      " [ 8.25608571e+01  2.22599355e+02]\n",
      " [ 1.83942536e+03  1.77309156e+04]]\n"
     ]
    }
   ],
   "source": [
    "print(np.array([objsubset2.mean,subobjset2.mean]).T)"
   ]
  },
  {
   "cell_type": "markdown",
   "id": "1621e1e7",
   "metadata": {},
   "source": [
    "## 15 obs defs"
   ]
  },
  {
   "cell_type": "code",
   "execution_count": 10,
   "id": "dd97263f",
   "metadata": {},
   "outputs": [],
   "source": [
    "# Make observables object\n",
    "set2 = mf.observables([\"Cubic1.txt\",\"Quartic1.txt\",\"Additional1.txt\"])\n",
    "# Load matrices and make vector dictionaries\n",
    "objsubset2 = mf.vector_dictionary(\"matrices_1160_arg_obj_context_subj.txt\",set2)\n",
    "subobjset2 = mf.vector_dictionary(\"matrices_1160_arg_subj_context_obj.txt\",set2,[0])\n",
    "obj08sub02set2 = mf.vector_dictionary([[\"matrices_1160_arg_obj_context_subj.txt\",\"matrices_1160_arg_subj_context_obj.txt\"],[0.8,0.2]],set2,[1])\n",
    "obj09sub01set2 = mf.vector_dictionary([[\"matrices_1160_arg_obj_context_subj.txt\",\"matrices_1160_arg_subj_context_obj.txt\"],[0.9,0.1]],set2,[1])\n",
    "\n",
    "file_list2 = [objsubset2,obj09sub01set2,obj08sub02set2,subobjset2]"
   ]
  },
  {
   "cell_type": "markdown",
   "id": "e087b05a",
   "metadata": {},
   "source": [
    "## 28 obs defs"
   ]
  },
  {
   "cell_type": "code",
   "execution_count": 3,
   "id": "452ce360",
   "metadata": {},
   "outputs": [],
   "source": [
    "# Make observables object\n",
    "set3 = mf.observables([\"Linear.txt\",\"Quadratic.txt\",\"Cubic1.txt\",\"Quartic1.txt\",\"Additional1.txt\"])\n",
    "# Load matrices and make vector dictionaries\n",
    "objsubset3 = mf.vector_dictionary(\"matrices_1160_arg_obj_context_subj.txt\",set3)\n",
    "subobjset3 = mf.vector_dictionary(\"matrices_1160_arg_subj_context_obj.txt\",set3,[0])\n",
    "obj08sub02set3 = mf.vector_dictionary([[\"matrices_1160_arg_obj_context_subj.txt\",\"matrices_1160_arg_subj_context_obj.txt\"],[0.8,0.2]],set3,[1])\n",
    "obj09sub01set3 = mf.vector_dictionary([[\"matrices_1160_arg_obj_context_subj.txt\",\"matrices_1160_arg_subj_context_obj.txt\"],[0.9,0.1]],set3,[1])\n",
    "\n",
    "file_list3 = [objsubset3,obj09sub01set3,obj08sub02set3,subobjset3]"
   ]
  },
  {
   "cell_type": "markdown",
   "id": "0a5db54c",
   "metadata": {},
   "source": [
    "# Define some functions for the precision computation"
   ]
  },
  {
   "cell_type": "markdown",
   "id": "6985577a",
   "metadata": {},
   "source": [
    "## Here the precision is computed by averaging"
   ]
  },
  {
   "cell_type": "code",
   "execution_count": null,
   "id": "d27ecb88",
   "metadata": {},
   "outputs": [],
   "source": [
    "# We decided to compute the precision by averaging over the precision in each category, which scales well\n",
    "# for cases where the sample sizes are very different for syn/non/ant (we have ~300 syn ~100 ant ~2000 none)"
   ]
  },
  {
   "cell_type": "code",
   "execution_count": 53,
   "id": "e0f56cb4",
   "metadata": {},
   "outputs": [],
   "source": [
    "def synvsant1(file_name):\n",
    "    #Using observable vectors with cosine distance\n",
    "\n",
    "    #Compute the mean and the standard deviation for the SYNONYMS\n",
    "    syn1 = mf.averaged_product(simdict,'SYNONYMS',file_name,\"maha\")\n",
    "\n",
    "    #Compute the mean and the standard deviation for the ANTONYMS\n",
    "    ant1 = mf.averaged_product(simdict,'ANTONYMS',file_name,\"maha\")\n",
    "    \n",
    "    #Use the means and deviations to set the divide between synonyms and antonyms\n",
    "    divide1 = ant1[0] + ant1[1]/syn1[1] * (syn1[0]-ant1[0])/2\n",
    "    \n",
    "    # Use the earlier defined function to compute the list of scalar products of the verbs and compare with divide\n",
    "    prodlist1 = mf.averaged_product_list(simdict,'SYNONYMS',file_name,\"maha\")\n",
    "\n",
    "    prodlist5 = mf.averaged_product_list(simdict,'ANTONYMS',file_name,\"maha\")\n",
    "    \n",
    "    # Compare and count the number of synonyms we get right\n",
    "    syncomparison1 = [a > divide1 for a in list(prodlist1.values())]\n",
    "\n",
    "    # Compare and count the number of antonyms we get right\n",
    "    antcomparison1 = [a < divide1 for a in list(prodlist5.values())]\n",
    "\n",
    "    #Compute the average precision\n",
    "    precision1 = 1/2*(syncomparison1.count(True)/len(syncomparison1) + antcomparison1.count(True)/len(antcomparison1))\n",
    "    \n",
    "    #return [ant1,divide1,syn1,antcomparison1.count(True)/len(antcomparison1),syncomparison1.count(True)/len(syncomparison1),precision1]\n",
    "    return precision1"
   ]
  },
  {
   "cell_type": "code",
   "execution_count": 35,
   "id": "2077df48",
   "metadata": {},
   "outputs": [],
   "source": [
    "def synvsnonevsant1(file_name):\n",
    "    #Using observable vectors with cosine distance\n",
    "\n",
    "    #Compute the mean and the standard deviation for the SYNONYMS\n",
    "    syn1 = mf.averaged_product(simdict,'SYNONYMS',file_name,\"maha\")\n",
    "    \n",
    "    #Compute the mean and the standard deviation for the NONE\n",
    "    non1 = mf.averaged_product(simdict,'NONE',file_name,\"maha\")\n",
    "\n",
    "    #Compute the mean and the standard deviation for the ANTONYMS\n",
    "    ant1 = mf.averaged_product(simdict,'ANTONYMS',file_name,\"maha\")\n",
    "\n",
    "    #Use the means and deviations to set the divide between synonyms and none\n",
    "    divide1 = non1[0] + non1[1]/syn1[1] * (syn1[0]-non1[0])/2\n",
    "\n",
    "    #Use the means and deviations to set the divide between none and antonyms\n",
    "    divide5 = ant1[0] + ant1[1]/non1[1] * (non1[0]-ant1[0])/2\n",
    "    \n",
    "    # Use the earlier defined function to compute the list of scalar products of the verbs and compare with divide\n",
    "    prodlist1 = mf.averaged_product_list(simdict,'SYNONYMS',file_name,\"maha\")\n",
    "\n",
    "    prodlist5 = mf.averaged_product_list(simdict,'ANTONYMS',file_name,\"maha\")\n",
    "\n",
    "    prodlist9 = mf.averaged_product_list(simdict,'NONE',file_name,\"maha\")\n",
    "\n",
    "    # Compare and count the number of synonyms we get right\n",
    "    syncomparison1 = [a > divide1 for a in list(prodlist1.values())]\n",
    "\n",
    "    # Compare and count the number of none we get right\n",
    "    noncomparison1 = [a > divide5 and a < divide1 for a in list(prodlist9.values())]\n",
    "\n",
    "    # Compare and count the number of antonyms we get right\n",
    "    antcomparison1 = [a < divide5 for a in list(prodlist5.values())]\n",
    "\n",
    "    #Compute the average precision\n",
    "    precision1 = 1/3*(syncomparison1.count(True)/len(syncomparison1) + antcomparison1.count(True)/len(antcomparison1) + noncomparison1.count(True)/len(noncomparison1))\n",
    "\n",
    "    return precision1"
   ]
  },
  {
   "cell_type": "code",
   "execution_count": 36,
   "id": "6c7a5b83",
   "metadata": {},
   "outputs": [],
   "source": [
    "def synvsant2(file_name,myseed1,myseed2,samplesize1,samplesize2):\n",
    "    #Since here we use just a subset of the pairs of synonyms and antonyms to determine the means and deviation, we have to do this by hand\n",
    "\n",
    "    #Compute the products for all the observable deviation vectors associated to the SYNONYMS pairs\n",
    "    all1 = mf.averaged_product_list(simdict,'SYNONYMS',file_name,\"maha\")\n",
    "\n",
    "    #The subset from which we copute the means is randomly selected, we seed the random generator for repeatable results. Chosen seed 7\n",
    "    random.seed(myseed1)\n",
    "\n",
    "    mysample = random.sample(list(all1),samplesize1)\n",
    "\n",
    "    #Find complementary sample where we will predict and test\n",
    "    mycomplsample = set(all1.keys()) - set(mysample)\n",
    "\n",
    "    #Compute the means and standard deviations\n",
    "    syn1 = [np.mean(np.array(list(map(all1.get,mysample)))),np.std(np.array(list(map(all1.get,mysample))))]\n",
    "\n",
    "    #Now the same thing for the antonyms\n",
    "\n",
    "    #Compute the products for all the observable deviation vectors associated to the SYNONYMS pairs\n",
    "    all5 = mf.averaged_product_list(simdict,'ANTONYMS',file_name,\"maha\")\n",
    "\n",
    "    #The subset from which we copute the means is randomly selected, we seed the random generator for repeatable results. Chosen seed 13\n",
    "    #random.seed(117) #Interesting values come out for this seed\n",
    "    random.seed(myseed2)\n",
    "\n",
    "    mysample2 = random.sample(list(all5),samplesize2)\n",
    "\n",
    "    #Find complementary sample where we will predict and test\n",
    "    mycomplsample2 = set(all5.keys()) - set(mysample2)\n",
    "\n",
    "    #Compute the means and standard deviations\n",
    "    ant1 = [np.mean(np.array(list(map(all5.get,mysample2)))),np.std(np.array(list(map(all5.get,mysample2))))]\n",
    "\n",
    "    #Use the means and deviations to set the divide between synonyms and antonyms\n",
    "    divide1 = ant1[0] + ant1[1]/syn1[1] * (syn1[0]-ant1[0])/2\n",
    "    \n",
    "    # Next we test on the complementary sample\n",
    "    # Compare and count the number of synonyms we get right\n",
    "    syncomparison1 = [a > divide1 for a in list(map(all1.get,mycomplsample))]\n",
    "\n",
    "    # Compare and count the number of antonyms we get right\n",
    "    antcomparison1 = [a < divide1 for a in list(map(all5.get,mycomplsample2))]\n",
    "\n",
    "    #Compute the average precision\n",
    "    precision1 = 1/2*(syncomparison1.count(True)/len(syncomparison1) + antcomparison1.count(True)/len(antcomparison1))\n",
    "\n",
    "    return precision1"
   ]
  },
  {
   "cell_type": "code",
   "execution_count": 72,
   "id": "0b727553",
   "metadata": {},
   "outputs": [],
   "source": [
    "def synvsnonevsant2(file_name,myseed1,myseed2,myseed3,samplesize1,samplesize2,samplesize3):\n",
    "    \n",
    "    #Since here we use just a subset of the pairs of synonyms and antonyms to determine the means and deviation, we have to do this by hand\n",
    "\n",
    "    #Compute the products for all the observable deviation vectors associated to the SYNONYMS pairs\n",
    "    all1 = mf.averaged_product_list(simdict,'SYNONYMS',file_name,\"maha\")\n",
    "\n",
    "    #The subset from which we copute the means is randomly selected, we seed the random generator for repeatable results. Chosen seed 7\n",
    "    random.seed(myseed1)\n",
    "\n",
    "    mysample = random.sample(list(all1),samplesize1)\n",
    "\n",
    "    #Find complementary sample where we will predict and test\n",
    "    mycomplsample = set(all1.keys()) - set(mysample)\n",
    "\n",
    "    #Compute the means and standard deviations\n",
    "    syn1 = [np.mean(np.array(list(map(all1.get,mysample)))),np.std(np.array(list(map(all1.get,mysample))))]\n",
    "\n",
    "    #Now the same thing for the antonyms\n",
    "\n",
    "    #Compute the products for all the observable deviation vectors associated to the SYNONYMS pairs\n",
    "    all5 = mf.averaged_product_list(simdict,'ANTONYMS',file_name,\"maha\")\n",
    "    \n",
    "    #The subset from which we copute the means is randomly selected, we seed the random generator for repeatable results. Chosen seed 13\n",
    "    random.seed(myseed2)\n",
    "\n",
    "    mysample2 = random.sample(list(all5),samplesize2)\n",
    "\n",
    "    #Find complementary sample where we will predict and test\n",
    "    mycomplsample2 = set(all5.keys()) - set(mysample2)\n",
    "\n",
    "    #Compute the means and standard deviations\n",
    "    ant1 = [np.mean(np.array(list(map(all5.get,mysample2)))),np.std(np.array(list(map(all5.get,mysample2))))]\n",
    "    \n",
    "    #Finally the same for None\n",
    "\n",
    "    #Compute the products for all the observable deviation vectors associated to the SYNONYMS pairs\n",
    "    all9 = mf.averaged_product_list(simdict,'NONE',file_name,\"maha\")\n",
    "    \n",
    "    #The subset from which we copute the means is randomly selected, we seed the random generator for repeatable results. Chosen seed 13\n",
    "    random.seed(myseed3)\n",
    "\n",
    "    mysample3 = random.sample(list(all9),samplesize3)\n",
    "\n",
    "    #Find complementary sample where we will predict and test\n",
    "    mycomplsample3 = set(all9.keys()) - set(mysample3)\n",
    "\n",
    "    #Compute the means and standard deviations\n",
    "    non1 = [np.mean(np.array(list(map(all9.get,mysample3)))),np.std(np.array(list(map(all9.get,mysample3))))]\n",
    "    \n",
    "    #Use the means and deviations to set the divide between synonyms and none\n",
    "    divide1 = non1[0] + non1[1]/syn1[1] * (syn1[0]-non1[0])/2\n",
    "\n",
    "    #Use the means and deviations to set the divide between none and antonyms\n",
    "    divide5 = ant1[0] + ant1[1]/non1[1] * (non1[0]-ant1[0])/2\n",
    "    \n",
    "    # Next we test on the complementary sample\n",
    "    # Compare and count the number of synonyms we get right\n",
    "    syncomparison1 = [a > divide1 for a in list(map(all1.get,mycomplsample))]\n",
    "\n",
    "\n",
    "    # Compare and count the number of none we get right\n",
    "    noncomparison1 = [a > divide5 and a < divide1 for a in list(map(all9.get,mycomplsample3))]\n",
    "    \n",
    "    # Compare and count the number of antonyms we get right\n",
    "    antcomparison1 = [a < divide5 for a in list(map(all5.get,mycomplsample2))]\n",
    "    \n",
    "    #Compute the average precision\n",
    "    precision1 = 1/3*(syncomparison1.count(True)/len(syncomparison1) + antcomparison1.count(True)/len(antcomparison1) + noncomparison1.count(True)/len(noncomparison1))\n",
    "    \n",
    "    # return precision1\n",
    "    return [ant1[0],divide5,non1[0],divide1,syn1[0],antcomparison1.count(True)/len(antcomparison1),noncomparison1.count(True)/len(noncomparison1),syncomparison1.count(True)/len(syncomparison1),precision1]"
   ]
  },
  {
   "cell_type": "code",
   "execution_count": 38,
   "id": "3ab761f9",
   "metadata": {},
   "outputs": [],
   "source": [
    "def hypohyper1(file_name):\n",
    "    #Using observable vectors with cosine distance\n",
    "\n",
    "    #Compute the mean and the standard deviation for the SYNONYMS\n",
    "    syn1 = mf.averaged_product(simdict,'COHYPONYMS',file_name,\"maha\")\n",
    "\n",
    "    #Compute the mean and the standard deviation for the ANTONYMS\n",
    "    ant1 = mf.averaged_product(simdict,'HYPER/HYPONYMS',file_name,\"maha\")\n",
    "    \n",
    "    #Use the means and deviations to set the divide between synonyms and antonyms\n",
    "    divide1 = ant1[0] + ant1[1]/syn1[1] * (syn1[0]-ant1[0])/2\n",
    "    \n",
    "    # Use the earlier defined function to compute the list of scalar products of the verbs and compare with divide\n",
    "    prodlist1 = mf.averaged_product_list(simdict,'COHYPONYMS',file_name,\"maha\")\n",
    "\n",
    "    prodlist5 = mf.averaged_product_list(simdict,'HYPER/HYPONYMS',file_name,\"maha\")\n",
    "    \n",
    "    # Compare and count the number of synonyms we get right\n",
    "    syncomparison1 = [a > divide1 for a in list(prodlist1.values())]\n",
    "\n",
    "    # Compare and count the number of antonyms we get right\n",
    "    antcomparison1 = [a < divide1 for a in list(prodlist5.values())]\n",
    "\n",
    "    #Compute the average precision\n",
    "    precision1 = 1/2*(syncomparison1.count(True)/len(syncomparison1) + antcomparison1.count(True)/len(antcomparison1))\n",
    "    \n",
    "    return precision1"
   ]
  },
  {
   "cell_type": "code",
   "execution_count": 39,
   "id": "d4ce9f37",
   "metadata": {},
   "outputs": [],
   "source": [
    "def hypohyper2(file_name,myseed1,myseed2,samplesize1,samplesize2):\n",
    "    #Since here we use just a subset of the pairs of synonyms and antonyms to determine the means and deviation, we have to do this by hand\n",
    "\n",
    "    #Compute the products for all the observable deviation vectors associated to the SYNONYMS pairs\n",
    "    all1 = mf.averaged_product_list(simdict,'COHYPONYMS',file_name,\"maha\")\n",
    "\n",
    "    #The subset from which we copute the means is randomly selected, we seed the random generator for repeatable results. Chosen seed 7\n",
    "    random.seed(myseed1)\n",
    "\n",
    "    mysample = random.sample(list(all1),samplesize1)\n",
    "\n",
    "    #Find complementary sample where we will predict and test\n",
    "    mycomplsample = set(all1.keys()) - set(mysample)\n",
    "\n",
    "    #Compute the means and standard deviations\n",
    "    syn1 = [np.mean(np.array(list(map(all1.get,mysample)))),np.std(np.array(list(map(all1.get,mysample))))]\n",
    "\n",
    "    #Now the same thing for the antonyms\n",
    "\n",
    "    #Compute the products for all the observable deviation vectors associated to the SYNONYMS pairs\n",
    "    all5 = mf.averaged_product_list(simdict,'HYPER/HYPONYMS',file_name,\"maha\")\n",
    "\n",
    "    #The subset from which we copute the means is randomly selected, we seed the random generator for repeatable results. Chosen seed 13\n",
    "    #random.seed(117) #Interesting values come out for this seed\n",
    "    random.seed(myseed2)\n",
    "\n",
    "    mysample2 = random.sample(list(all5),samplesize2)\n",
    "\n",
    "    #Find complementary sample where we will predict and test\n",
    "    mycomplsample2 = set(all5.keys()) - set(mysample2)\n",
    "\n",
    "    #Compute the means and standard deviations\n",
    "    ant1 = [np.mean(np.array(list(map(all5.get,mysample2)))),np.std(np.array(list(map(all5.get,mysample2))))]\n",
    "\n",
    "    #Use the means and deviations to set the divide between synonyms and antonyms\n",
    "    divide1 = ant1[0] + ant1[1]/syn1[1] * (syn1[0]-ant1[0])/2\n",
    "    \n",
    "    # Next we test on the complementary sample\n",
    "    # Compare and count the number of synonyms we get right\n",
    "    syncomparison1 = [a > divide1 for a in list(map(all1.get,mycomplsample))]\n",
    "\n",
    "    # Compare and count the number of antonyms we get right\n",
    "    antcomparison1 = [a < divide1 for a in list(map(all5.get,mycomplsample2))]\n",
    "\n",
    "    #Compute the average precision\n",
    "    precision1 = 1/2*(syncomparison1.count(True)/len(syncomparison1) + antcomparison1.count(True)/len(antcomparison1))\n",
    "\n",
    "    return precision1"
   ]
  },
  {
   "cell_type": "code",
   "execution_count": 40,
   "id": "28c93ede",
   "metadata": {},
   "outputs": [],
   "source": [
    "def synvsnone2(file_name,myseed1,myseed2,samplesize1,samplesize2):\n",
    "    #Since here we use just a subset of the pairs of synonyms and antonyms to determine the means and deviation, we have to do this by hand\n",
    "\n",
    "    #Compute the products for all the observable deviation vectors associated to the SYNONYMS pairs\n",
    "    all1 = mf.averaged_product_list(simdict,'SYNONYMS',file_name,\"maha\")\n",
    "\n",
    "    #The subset from which we copute the means is randomly selected, we seed the random generator for repeatable results. Chosen seed 7\n",
    "    random.seed(myseed1)\n",
    "\n",
    "    mysample = random.sample(list(all1),samplesize1)\n",
    "\n",
    "    #Find complementary sample where we will predict and test\n",
    "    mycomplsample = set(all1.keys()) - set(mysample)\n",
    "\n",
    "    #Compute the means and standard deviations\n",
    "    syn1 = [np.mean(np.array(list(map(all1.get,mysample)))),np.std(np.array(list(map(all1.get,mysample))))]\n",
    "\n",
    "    #Now the same thing for the antonyms\n",
    "\n",
    "    #Compute the products for all the observable deviation vectors associated to the SYNONYMS pairs\n",
    "    all5 = mf.averaged_product_list(simdict,'NONE',file_name,\"maha\")\n",
    "\n",
    "    #The subset from which we copute the means is randomly selected, we seed the random generator for repeatable results. Chosen seed 13\n",
    "    #random.seed(117) #Interesting values come out for this seed\n",
    "    random.seed(myseed2)\n",
    "\n",
    "    mysample2 = random.sample(list(all5),samplesize2)\n",
    "\n",
    "    #Find complementary sample where we will predict and test\n",
    "    mycomplsample2 = set(all5.keys()) - set(mysample2)\n",
    "\n",
    "    #Compute the means and standard deviations\n",
    "    ant1 = [np.mean(np.array(list(map(all5.get,mysample2)))),np.std(np.array(list(map(all5.get,mysample2))))]\n",
    "\n",
    "    #Use the means and deviations to set the divide between synonyms and antonyms\n",
    "    divide1 = ant1[0] + ant1[1]/syn1[1] * (syn1[0]-ant1[0])/2\n",
    "    \n",
    "    # Next we test on the complementary sample\n",
    "    # Compare and count the number of synonyms we get right\n",
    "    syncomparison1 = [a > divide1 for a in list(map(all1.get,mycomplsample))]\n",
    "\n",
    "    # Compare and count the number of antonyms we get right\n",
    "    antcomparison1 = [a < divide1 for a in list(map(all5.get,mycomplsample2))]\n",
    "\n",
    "    #Compute the average precision\n",
    "    precision1 = 1/2*(syncomparison1.count(True)/len(syncomparison1) + antcomparison1.count(True)/len(antcomparison1))\n",
    "\n",
    "    return precision1"
   ]
  },
  {
   "cell_type": "markdown",
   "id": "73662424",
   "metadata": {},
   "source": [
    "## Choosing the seeds for the various samples"
   ]
  },
  {
   "cell_type": "code",
   "execution_count": 41,
   "id": "0ec06289",
   "metadata": {},
   "outputs": [],
   "source": [
    "#Experiment 2 requires averaging over a number of different random samples. To generate these in a way \n",
    "#which is random but repeatable we need a list of seeds for the random generator. We decided to pick 20 samples\n",
    "\n",
    "#seed the random generator before genearting the integer seeds for the random samples\n",
    "random.seed(7)\n",
    "\n",
    "seed_list = [(random.randint(0,5000),random.randint(0,5000)) for a in range(20)]\n",
    "\n",
    "#Make a second seed_list for when we need 3 seeds instead of 2\n",
    "\n",
    "seed_list2 = [(random.randint(0,5000),random.randint(0,5000),random.randint(0,5000)) for a in range(20)]"
   ]
  },
  {
   "cell_type": "markdown",
   "id": "98f65639",
   "metadata": {},
   "source": [
    "## Experiment 1 syn vs ant"
   ]
  },
  {
   "cell_type": "code",
   "execution_count": 54,
   "id": "81823307",
   "metadata": {},
   "outputs": [
    {
     "data": {
      "text/plain": [
       "[0.5488871224165341, 0.550918565624448, 0.5717629394099982, 0.5419537184243066]"
      ]
     },
     "execution_count": 54,
     "metadata": {},
     "output_type": "execute_result"
    }
   ],
   "source": [
    "# Experiment 1 synonym vs antonym\n",
    "[synvsant1(a) for a in file_list1]"
   ]
  },
  {
   "cell_type": "code",
   "execution_count": 55,
   "id": "96c4ee80",
   "metadata": {},
   "outputs": [
    {
     "data": {
      "text/plain": [
       "[0.59066419360537, 0.578387210740152, 0.577945592651475, 0.5616057233704292]"
      ]
     },
     "execution_count": 55,
     "metadata": {},
     "output_type": "execute_result"
    }
   ],
   "source": [
    "# Experiment 1 synonym vs antonym\n",
    "[synvsant1(a) for a in file_list2]"
   ]
  },
  {
   "cell_type": "code",
   "execution_count": 56,
   "id": "e06ac100",
   "metadata": {},
   "outputs": [
    {
     "data": {
      "text/plain": [
       "[0.5738827062356474,\n",
       " 0.5763116057233705,\n",
       " 0.5730436318671612,\n",
       " 0.5342254018724607]"
      ]
     },
     "execution_count": 56,
     "metadata": {},
     "output_type": "execute_result"
    }
   ],
   "source": [
    "# Experiment 1 synonym vs antonym\n",
    "[synvsant1(a) for a in file_list3]"
   ]
  },
  {
   "cell_type": "code",
   "execution_count": 57,
   "id": "16709587",
   "metadata": {},
   "outputs": [
    {
     "data": {
      "text/plain": [
       "[[0.5488871224165341,\n",
       "  0.550918565624448,\n",
       "  0.5717629394099982,\n",
       "  0.5419537184243066],\n",
       " [0.59066419360537, 0.578387210740152, 0.577945592651475, 0.5616057233704292],\n",
       " [0.5738827062356474,\n",
       "  0.5763116057233705,\n",
       "  0.5730436318671612,\n",
       "  0.5342254018724607]]"
      ]
     },
     "execution_count": 57,
     "metadata": {},
     "output_type": "execute_result"
    }
   ],
   "source": [
    "# Experiment 1 synonym vs antonym\n",
    "[[synvsant1(a) for a in localf] for localf in [file_list1,file_list2,file_list3]]"
   ]
  },
  {
   "cell_type": "markdown",
   "id": "1282234c",
   "metadata": {},
   "source": [
    "## Experiment 1 hyper/hypo vs cohypo"
   ]
  },
  {
   "cell_type": "code",
   "execution_count": 28,
   "id": "eb272e81",
   "metadata": {},
   "outputs": [
    {
     "data": {
      "text/plain": [
       "[0.5248026315789474,\n",
       " 0.5194078947368421,\n",
       " 0.5286842105263159,\n",
       " 0.5505921052631579]"
      ]
     },
     "execution_count": 28,
     "metadata": {},
     "output_type": "execute_result"
    }
   ],
   "source": [
    "# Experiment 1 synonym vs antonym\n",
    "[hypohyper1(a) for a in file_list1]"
   ]
  },
  {
   "cell_type": "code",
   "execution_count": 29,
   "id": "c6b90179",
   "metadata": {},
   "outputs": [
    {
     "data": {
      "text/plain": [
       "[0.5328947368421053,\n",
       " 0.5220065789473685,\n",
       " 0.5242763157894736,\n",
       " 0.5445065789473684]"
      ]
     },
     "execution_count": 29,
     "metadata": {},
     "output_type": "execute_result"
    }
   ],
   "source": [
    "# Experiment 1 synonym vs antonym\n",
    "[hypohyper1(a) for a in file_list2]"
   ]
  },
  {
   "cell_type": "code",
   "execution_count": 30,
   "id": "6c7656d5",
   "metadata": {},
   "outputs": [
    {
     "data": {
      "text/plain": [
       "[0.5319078947368421,\n",
       " 0.5445394736842105,\n",
       " 0.5438157894736843,\n",
       " 0.5655921052631578]"
      ]
     },
     "execution_count": 30,
     "metadata": {},
     "output_type": "execute_result"
    }
   ],
   "source": [
    "# Experiment 1 synonym vs antonym\n",
    "[hypohyper1(a) for a in file_list3]"
   ]
  },
  {
   "cell_type": "code",
   "execution_count": 16,
   "id": "2034c938",
   "metadata": {},
   "outputs": [
    {
     "data": {
      "text/plain": [
       "[[0.5132236842105263,\n",
       "  0.5088486842105263,\n",
       "  0.4820394736842105,\n",
       "  0.5636842105263158],\n",
       " [0.52875, 0.506578947368421, 0.5158552631578948, 0.5407894736842105],\n",
       " [0.505296052631579,\n",
       "  0.5084210526315789,\n",
       "  0.4915131578947368,\n",
       "  0.5615131578947369]]"
      ]
     },
     "execution_count": 16,
     "metadata": {},
     "output_type": "execute_result"
    }
   ],
   "source": [
    "# Experiment 1 synonym vs antonym\n",
    "[[hypohyper1(a) for a in localf] for localf in [file_list1,file_list2,file_list3]]"
   ]
  },
  {
   "cell_type": "markdown",
   "id": "190ea59d",
   "metadata": {},
   "source": [
    "## Experiment 1 syn vs ant vs none"
   ]
  },
  {
   "cell_type": "code",
   "execution_count": 31,
   "id": "dcd4a4a6",
   "metadata": {},
   "outputs": [
    {
     "data": {
      "text/plain": [
       "[0.3597136103529964,\n",
       " 0.37129490582176006,\n",
       " 0.3766332730527103,\n",
       " 0.34676898871272266]"
      ]
     },
     "execution_count": 31,
     "metadata": {},
     "output_type": "execute_result"
    }
   ],
   "source": [
    "# Experiment 1 synonym vs antonym\n",
    "[synvsnonevsant1(a) for a in file_list1]"
   ]
  },
  {
   "cell_type": "code",
   "execution_count": 32,
   "id": "bae2670b",
   "metadata": {},
   "outputs": [
    {
     "data": {
      "text/plain": [
       "[0.3824331906173338,\n",
       " 0.3728928473173997,\n",
       " 0.3738713700350529,\n",
       " 0.37076496411534776]"
      ]
     },
     "execution_count": 32,
     "metadata": {},
     "output_type": "execute_result"
    }
   ],
   "source": [
    "# Experiment 1 synonym vs antonym\n",
    "[synvsnonevsant1(a) for a in file_list2]"
   ]
  },
  {
   "cell_type": "code",
   "execution_count": 33,
   "id": "a4f629af",
   "metadata": {},
   "outputs": [
    {
     "data": {
      "text/plain": [
       "[0.3661160387503098,\n",
       " 0.379667109846138,\n",
       " 0.38460790123194216,\n",
       " 0.37446110847645364]"
      ]
     },
     "execution_count": 33,
     "metadata": {},
     "output_type": "execute_result"
    }
   ],
   "source": [
    "# Experiment 1 synonym vs antonym\n",
    "[synvsnonevsant1(a) for a in file_list3]"
   ]
  },
  {
   "cell_type": "code",
   "execution_count": 17,
   "id": "eb77065a",
   "metadata": {},
   "outputs": [
    {
     "data": {
      "text/plain": [
       "[[0.362264571983242,\n",
       "  0.3771928950957084,\n",
       "  0.3749326460323902,\n",
       "  0.36194604992558954],\n",
       " [0.38264600285060635,\n",
       "  0.3800901882743315,\n",
       "  0.38659438787316025,\n",
       "  0.39394446299817143],\n",
       " [0.38866247434022366,\n",
       "  0.38778456937024713,\n",
       "  0.3839317100186666,\n",
       "  0.35708940440398235]]"
      ]
     },
     "execution_count": 17,
     "metadata": {},
     "output_type": "execute_result"
    }
   ],
   "source": [
    "# Experiment 1 synonym vs antonym\n",
    "[[synvsnonevsant1(a) for a in localf] for localf in [file_list1,file_list2,file_list3]]"
   ]
  },
  {
   "cell_type": "markdown",
   "id": "ef7ef09c",
   "metadata": {},
   "source": [
    "## Experiment 2 syn vs ant"
   ]
  },
  {
   "cell_type": "code",
   "execution_count": 18,
   "id": "c3901285",
   "metadata": {},
   "outputs": [
    {
     "data": {
      "text/plain": [
       "[array([[0.56039462, 0.04211602],\n",
       "        [0.55438909, 0.03754836],\n",
       "        [0.57546019, 0.0339747 ],\n",
       "        [0.55407846, 0.03278038]]),\n",
       " array([[0.59781408, 0.02278781],\n",
       "        [0.57735274, 0.0221987 ],\n",
       "        [0.57314197, 0.03141434],\n",
       "        [0.5909572 , 0.03444925]]),\n",
       " array([[0.58189715, 0.03141648],\n",
       "        [0.56694087, 0.0402983 ],\n",
       "        [0.57557524, 0.03220101],\n",
       "        [0.54754372, 0.0310903 ]])]"
      ]
     },
     "execution_count": 18,
     "metadata": {},
     "output_type": "execute_result"
    }
   ],
   "source": [
    "# Apply the function to every file with the given seed and average. The averaging is done using pure functions\n",
    "# (lambda) so to compute all the precisions only once\n",
    "\n",
    "# Synonyms vs Antonyms, sample size roughly 60%\n",
    "\n",
    "[(lambda x1 : np.array([np.mean(x1,axis = 0),np.std(x1,axis=0)]).T)([[synvsant2(myfile,*a,200,70) for myfile in localf] for a in seed_list ]) for localf in [file_list1,file_list2,file_list3]]"
   ]
  },
  {
   "cell_type": "code",
   "execution_count": 19,
   "id": "fff8883d",
   "metadata": {},
   "outputs": [
    {
     "data": {
      "text/plain": [
       "[array([[0.55086188, 0.01657804],\n",
       "        [0.54678854, 0.01501592],\n",
       "        [0.5612758 , 0.01352567],\n",
       "        [0.54333553, 0.00854807]]),\n",
       " array([[0.58144214, 0.01616714],\n",
       "        [0.57585639, 0.01522455],\n",
       "        [0.56877745, 0.0202779 ],\n",
       "        [0.58002855, 0.02859744]]),\n",
       " array([[0.56222552, 0.02460374],\n",
       "        [0.56570872, 0.01985879],\n",
       "        [0.56866491, 0.01886414],\n",
       "        [0.52925176, 0.01844589]])]"
      ]
     },
     "execution_count": 19,
     "metadata": {},
     "output_type": "execute_result"
    }
   ],
   "source": [
    "# Synonyms vs Antonyms, sample size roughly 10%\n",
    "\n",
    "[(lambda x1 : np.array([np.mean(x1,axis = 0),np.std(x1,axis=0)]).T)([[synvsant2(myfile,*a,30,12) for myfile in localf] for a in seed_list ]) for localf in [file_list1,file_list2,file_list3]]"
   ]
  },
  {
   "cell_type": "code",
   "execution_count": 20,
   "id": "9c195ac6",
   "metadata": {},
   "outputs": [
    {
     "data": {
      "text/plain": [
       "[array([[0.54801915, 0.02013617],\n",
       "        [0.550135  , 0.01556084],\n",
       "        [0.55373098, 0.01983714],\n",
       "        [0.54293324, 0.00888518]]),\n",
       " array([[0.58119539, 0.01410614],\n",
       "        [0.57701031, 0.01462597],\n",
       "        [0.56819342, 0.02032706],\n",
       "        [0.57875061, 0.02203886]]),\n",
       " array([[0.56154148, 0.02380756],\n",
       "        [0.56003927, 0.02339533],\n",
       "        [0.5647349 , 0.02219912],\n",
       "        [0.5292538 , 0.01799333]])]"
      ]
     },
     "execution_count": 20,
     "metadata": {},
     "output_type": "execute_result"
    }
   ],
   "source": [
    "# Synonyms vs Antonyms, sample size roughly 5%\n",
    "\n",
    "[(lambda x1 : np.array([np.mean(x1,axis = 0),np.std(x1,axis=0)]).T)([[synvsant2(myfile,*a,15,6) for myfile in localf] for a in seed_list ]) for localf in [file_list1,file_list2,file_list3]]"
   ]
  },
  {
   "cell_type": "code",
   "execution_count": 21,
   "id": "4e112a54",
   "metadata": {},
   "outputs": [
    {
     "data": {
      "text/plain": [
       "[array([[0.55051401, 0.01899977],\n",
       "        [0.552458  , 0.01669749],\n",
       "        [0.55246584, 0.01546005],\n",
       "        [0.54310945, 0.00816041]]),\n",
       " array([[0.58383768, 0.01408844],\n",
       "        [0.58094402, 0.01610168],\n",
       "        [0.57362957, 0.02069482],\n",
       "        [0.57012396, 0.02647275]]),\n",
       " array([[0.56525967, 0.0255834 ],\n",
       "        [0.56551354, 0.02744947],\n",
       "        [0.56983248, 0.02410208],\n",
       "        [0.52738121, 0.01509166]])]"
      ]
     },
     "execution_count": 21,
     "metadata": {},
     "output_type": "execute_result"
    }
   ],
   "source": [
    "# Synonyms vs Antonyms, sample size 5 pairs\n",
    "\n",
    "[(lambda x1 : np.array([np.mean(x1,axis = 0),np.std(x1,axis=0)]).T)([[synvsant2(myfile,*a,5,5) for myfile in localf] for a in seed_list ]) for localf in [file_list1,file_list2,file_list3]]"
   ]
  },
  {
   "cell_type": "markdown",
   "id": "6e6c7811",
   "metadata": {},
   "source": [
    "## Experiment 2 hyper/hypo vs cohypo"
   ]
  },
  {
   "cell_type": "code",
   "execution_count": 22,
   "id": "bc8e00ab",
   "metadata": {},
   "outputs": [
    {
     "data": {
      "text/plain": [
       "[array([[0.50793174, 0.02234349],\n",
       "        [0.50521793, 0.02262847],\n",
       "        [0.4870477 , 0.02302524],\n",
       "        [0.55747533, 0.02644186]]),\n",
       " array([[0.52682977, 0.0242992 ],\n",
       "        [0.50303043, 0.0244404 ],\n",
       "        [0.51268914, 0.02369029],\n",
       "        [0.5367722 , 0.02088753]]),\n",
       " array([[0.50441612, 0.02155842],\n",
       "        [0.50317434, 0.02220255],\n",
       "        [0.48428865, 0.02034857],\n",
       "        [0.55805921, 0.01840522]])]"
      ]
     },
     "execution_count": 22,
     "metadata": {},
     "output_type": "execute_result"
    }
   ],
   "source": [
    "# Apply the function to every file with the given seed and average. The averaging is done using pure functions\n",
    "# (lambda) so to compute all the precisions only once\n",
    "\n",
    "# Synonyms vs Antonyms, sample size roughly 60%\n",
    "\n",
    "[(lambda x1 : np.array([np.mean(x1,axis = 0),np.std(x1,axis=0)]).T)([[hypohyper2(myfile,*a,114,480) for myfile in localf] for a in seed_list ]) for localf in [file_list1,file_list2,file_list3]]"
   ]
  },
  {
   "cell_type": "code",
   "execution_count": 23,
   "id": "53094443",
   "metadata": {},
   "outputs": [
    {
     "data": {
      "text/plain": [
       "[array([[0.51436769, 0.00956718],\n",
       "        [0.50892544, 0.00880911],\n",
       "        [0.49367507, 0.01297031],\n",
       "        [0.555053  , 0.01479079]]),\n",
       " array([[0.52674159, 0.00738598],\n",
       "        [0.51149123, 0.00722114],\n",
       "        [0.52113487, 0.00657384],\n",
       "        [0.54543311, 0.00523753]]),\n",
       " array([[0.50940789, 0.0078246 ],\n",
       "        [0.50592836, 0.00832209],\n",
       "        [0.49157346, 0.00741353],\n",
       "        [0.55757493, 0.01143995]])]"
      ]
     },
     "execution_count": 23,
     "metadata": {},
     "output_type": "execute_result"
    }
   ],
   "source": [
    "# Synonyms vs Antonyms, sample size roughly 10%\n",
    "\n",
    "[(lambda x1 : np.array([np.mean(x1,axis = 0),np.std(x1,axis=0)]).T)([[hypohyper2(myfile,*a,19,80) for myfile in localf] for a in seed_list ]) for localf in [file_list1,file_list2,file_list3]]"
   ]
  },
  {
   "cell_type": "code",
   "execution_count": 24,
   "id": "d8b242de",
   "metadata": {},
   "outputs": [
    {
     "data": {
      "text/plain": [
       "[array([[0.50974684, 0.00809215],\n",
       "        [0.50254907, 0.00829142],\n",
       "        [0.49278715, 0.00728339],\n",
       "        [0.55290219, 0.01225013]]),\n",
       " array([[0.52272826, 0.00819252],\n",
       "        [0.51180267, 0.00815317],\n",
       "        [0.51583582, 0.00737087],\n",
       "        [0.54437773, 0.00602248]]),\n",
       " array([[0.51014267, 0.01144102],\n",
       "        [0.5066242 , 0.00968404],\n",
       "        [0.49479082, 0.00613214],\n",
       "        [0.55481281, 0.0156385 ]])]"
      ]
     },
     "execution_count": 24,
     "metadata": {},
     "output_type": "execute_result"
    }
   ],
   "source": [
    "# Synonyms vs Antonyms, sample size roughly 5%\n",
    "\n",
    "[(lambda x1 : np.array([np.mean(x1,axis = 0),np.std(x1,axis=0)]).T)([[hypohyper2(myfile,*a,9,40) for myfile in localf] for a in seed_list ]) for localf in [file_list1,file_list2,file_list3]]"
   ]
  },
  {
   "cell_type": "code",
   "execution_count": 25,
   "id": "07ab4d7f",
   "metadata": {},
   "outputs": [
    {
     "data": {
      "text/plain": [
       "[array([[0.5027588 , 0.00879799],\n",
       "        [0.49899541, 0.00838378],\n",
       "        [0.49609128, 0.00700579],\n",
       "        [0.54790328, 0.01651937]]),\n",
       " array([[0.52072072, 0.01128593],\n",
       "        [0.51204233, 0.00964568],\n",
       "        [0.51400391, 0.01025887],\n",
       "        [0.54842342, 0.00601392]]),\n",
       " array([[0.50646779, 0.01338825],\n",
       "        [0.50287098, 0.0129764 ],\n",
       "        [0.49756077, 0.00800256],\n",
       "        [0.53885008, 0.01407308]])]"
      ]
     },
     "execution_count": 25,
     "metadata": {},
     "output_type": "execute_result"
    }
   ],
   "source": [
    "# Synonyms vs Antonyms, sample size 5 pairs\n",
    "\n",
    "[(lambda x1 : np.array([np.mean(x1,axis = 0),np.std(x1,axis=0)]).T)([[hypohyper2(myfile,*a,5,5) for myfile in localf] for a in seed_list ]) for localf in [file_list1,file_list2,file_list3]]"
   ]
  },
  {
   "cell_type": "markdown",
   "id": "6e5c2572",
   "metadata": {},
   "source": [
    "## Experiment 2 syn s none vs ant"
   ]
  },
  {
   "cell_type": "code",
   "execution_count": 73,
   "id": "fc8574d2",
   "metadata": {},
   "outputs": [
    {
     "data": {
      "text/plain": [
       "[array([[[0.05515074, 0.02271196],\n",
       "         [0.05257014, 0.02255179],\n",
       "         [0.05853657, 0.02177445],\n",
       "         [0.07583014, 0.02374766]],\n",
       " \n",
       "        [[0.07283321, 0.01426454],\n",
       "         [0.07133429, 0.01435574],\n",
       "         [0.07610355, 0.01403913],\n",
       "         [0.08448803, 0.0143477 ]],\n",
       " \n",
       "        [[0.09513961, 0.00514001],\n",
       "         [0.09617704, 0.00508342],\n",
       "         [0.09997741, 0.00515161],\n",
       "         [0.0946444 , 0.00571741]],\n",
       " \n",
       "        [[0.12801364, 0.00756876],\n",
       "         [0.13199784, 0.00752662],\n",
       "         [0.14060719, 0.00799578],\n",
       "         [0.13329738, 0.00971583]],\n",
       " \n",
       "        [[0.1641722 , 0.01451767],\n",
       "         [0.16993587, 0.01418442],\n",
       "         [0.1823157 , 0.01474107],\n",
       "         [0.17377414, 0.01947911]],\n",
       " \n",
       "        [[0.50609756, 0.06584237],\n",
       "         [0.5097561 , 0.07747503],\n",
       "         [0.50365854, 0.0736872 ],\n",
       "         [0.56341463, 0.0751362 ]],\n",
       " \n",
       "        [[0.05170532, 0.01579182],\n",
       "         [0.06371078, 0.01832426],\n",
       "         [0.06855389, 0.01684111],\n",
       "         [0.04331514, 0.01646107]],\n",
       " \n",
       "        [[0.50471698, 0.04379432],\n",
       "         [0.53207547, 0.04254707],\n",
       "         [0.5495283 , 0.04099977],\n",
       "         [0.50801887, 0.043873  ]],\n",
       " \n",
       "        [[0.35417329, 0.02333635],\n",
       "         [0.36851412, 0.02417232],\n",
       "         [0.37391358, 0.02285237],\n",
       "         [0.37158288, 0.02731729]]]),\n",
       " array([[[0.07634022, 0.03349708],\n",
       "         [0.08110153, 0.03140439],\n",
       "         [0.12235401, 0.02853413],\n",
       "         [0.18459812, 0.03062012]],\n",
       " \n",
       "        [[0.13320764, 0.02058536],\n",
       "         [0.13597196, 0.01953971],\n",
       "         [0.16698449, 0.0174618 ],\n",
       "         [0.24749247, 0.01998192]],\n",
       " \n",
       "        [[0.21760729, 0.00476956],\n",
       "         [0.2168535 , 0.00518939],\n",
       "         [0.23121535, 0.00549644],\n",
       "         [0.33070797, 0.0064296 ]],\n",
       " \n",
       "        [[0.24155898, 0.0073649 ],\n",
       "         [0.24573014, 0.0079713 ],\n",
       "         [0.26484011, 0.00847752],\n",
       "         [0.3289769 , 0.00965081]],\n",
       " \n",
       "        [[0.26615215, 0.01626036],\n",
       "         [0.27433743, 0.01774924],\n",
       "         [0.29711796, 0.01852873],\n",
       "         [0.32698401, 0.01849297]],\n",
       " \n",
       "        [[0.65121951, 0.0816618 ],\n",
       "         [0.64878049, 0.06741598],\n",
       "         [0.61463415, 0.07697431],\n",
       "         [0.60121951, 0.08528742]],\n",
       " \n",
       "        [[0.06371078, 0.01732713],\n",
       "         [0.06200546, 0.01588334],\n",
       "         [0.06057299, 0.01472133],\n",
       "         [0.03888131, 0.0095644 ]],\n",
       " \n",
       "        [[0.46415094, 0.03745176],\n",
       "         [0.49150943, 0.04483862],\n",
       "         [0.49764151, 0.04121627],\n",
       "         [0.4990566 , 0.02732594]],\n",
       " \n",
       "        [[0.39302708, 0.02790118],\n",
       "         [0.40076513, 0.02379962],\n",
       "         [0.39094955, 0.02580523],\n",
       "         [0.37971914, 0.02766787]]]),\n",
       " array([[[-0.00181626,  0.02010767],\n",
       "         [ 0.00288995,  0.01970465],\n",
       "         [ 0.02158788,  0.01913565],\n",
       "         [ 0.05230051,  0.02090328]],\n",
       " \n",
       "        [[ 0.02818197,  0.01432569],\n",
       "         [ 0.03092766,  0.01412389],\n",
       "         [ 0.04483488,  0.01341334],\n",
       "         [ 0.06490132,  0.01317789]],\n",
       " \n",
       "        [[ 0.0763641 ,  0.00430102],\n",
       "         [ 0.07816338,  0.00398538],\n",
       "         [ 0.0836897 ,  0.00413694],\n",
       "         [ 0.08152114,  0.00520886]],\n",
       " \n",
       "        [[ 0.10658741,  0.005947  ],\n",
       "         [ 0.11049091,  0.00586784],\n",
       "         [ 0.12093144,  0.00604243],\n",
       "         [ 0.10540015,  0.0081678 ]],\n",
       " \n",
       "        [[ 0.13978214,  0.01356997],\n",
       "         [ 0.14459884,  0.01297515],\n",
       "         [ 0.15810796,  0.01278259],\n",
       "         [ 0.13123329,  0.01783316]],\n",
       " \n",
       "        [[ 0.57682927,  0.0772347 ],\n",
       "         [ 0.56463415,  0.06823822],\n",
       "         [ 0.55243902,  0.07684862],\n",
       "         [ 0.58780488,  0.07974528]],\n",
       " \n",
       "        [[ 0.10170532,  0.01873793],\n",
       "         [ 0.10040928,  0.01840179],\n",
       "         [ 0.09993179,  0.02196781],\n",
       "         [ 0.0425648 ,  0.01735128]],\n",
       " \n",
       "        [[ 0.46839623,  0.03431097],\n",
       "         [ 0.47688679,  0.03420706],\n",
       "         [ 0.48679245,  0.03778299],\n",
       "         [ 0.46792453,  0.04478897]],\n",
       " \n",
       "        [[ 0.38231027,  0.02363135],\n",
       "         [ 0.38064341,  0.02181623],\n",
       "         [ 0.37972109,  0.02174764],\n",
       "         [ 0.36609807,  0.02967208]]])]"
      ]
     },
     "execution_count": 73,
     "metadata": {},
     "output_type": "execute_result"
    }
   ],
   "source": [
    "# Synonyms vs Antonyms, sample size 60%\n",
    "\n",
    "[(lambda x1 : np.array([np.mean(x1,axis = 0),np.std(x1,axis=0)]).T)([[synvsnonevsant2(myfile,*a,200,70,1360) for myfile in localf] for a in seed_list2 ]) for localf in [file_list1,file_list2,file_list3]]"
   ]
  },
  {
   "cell_type": "code",
   "execution_count": 27,
   "id": "253e3d60",
   "metadata": {},
   "outputs": [
    {
     "data": {
      "text/plain": [
       "[array([[0.36645088, 0.01079191],\n",
       "        [0.36755411, 0.01161776],\n",
       "        [0.37265177, 0.00697   ],\n",
       "        [0.35948244, 0.01137357]]),\n",
       " array([[0.38913295, 0.01520141],\n",
       "        [0.38697205, 0.01551204],\n",
       "        [0.38549255, 0.01346904],\n",
       "        [0.38577135, 0.01577306]]),\n",
       " array([[0.38366668, 0.01718028],\n",
       "        [0.38434143, 0.01243239],\n",
       "        [0.38399871, 0.0074697 ],\n",
       "        [0.35825384, 0.00859592]])]"
      ]
     },
     "execution_count": 27,
     "metadata": {},
     "output_type": "execute_result"
    }
   ],
   "source": [
    "# Synonyms vs Antonyms, sample size 10%\n",
    "\n",
    "[(lambda x1 : np.array([np.mean(x1,axis = 0),np.std(x1,axis=0)]).T)([[synvsnonevsant2(myfile,*a,30,12,225) for myfile in localf] for a in seed_list2 ]) for localf in [file_list1,file_list2,file_list3]]"
   ]
  },
  {
   "cell_type": "code",
   "execution_count": 101,
   "id": "f1a0c024",
   "metadata": {},
   "outputs": [
    {
     "data": {
      "text/plain": [
       "[array([[[0.05947519, 0.14321225],\n",
       "         [0.04838039, 0.13420361],\n",
       "         [0.04870196, 0.13187036],\n",
       "         [0.03298337, 0.17613551]],\n",
       " \n",
       "        [[0.06377166, 0.10137509],\n",
       "         [0.06122102, 0.09180219],\n",
       "         [0.06632056, 0.08700271],\n",
       "         [0.0572873 , 0.12626253]],\n",
       " \n",
       "        [[0.09848053, 0.02752519],\n",
       "         [0.10047328, 0.02904363],\n",
       "         [0.10454934, 0.03262304],\n",
       "         [0.10318946, 0.034304  ]],\n",
       " \n",
       "        [[0.1336138 , 0.05706623],\n",
       "         [0.13830746, 0.05398538],\n",
       "         [0.14654197, 0.05342609],\n",
       "         [0.13831551, 0.05790618]],\n",
       " \n",
       "        [[0.16892406, 0.09741565],\n",
       "         [0.17373191, 0.09186349],\n",
       "         [0.18214019, 0.0899571 ],\n",
       "         [0.1671318 , 0.10337754]],\n",
       " \n",
       "        [[0.52333333, 0.13365522],\n",
       "         [0.50904762, 0.11128909],\n",
       "         [0.50333333, 0.1026751 ],\n",
       "         [0.4947619 , 0.13550862]],\n",
       " \n",
       "        [[0.09071176, 0.10333796],\n",
       "         [0.09313478, 0.09417536],\n",
       "         [0.0929581 , 0.08879055],\n",
       "         [0.08392226, 0.09931009]],\n",
       " \n",
       "        [[0.50756014, 0.05094842],\n",
       "         [0.52268041, 0.04993944],\n",
       "         [0.54089347, 0.05805832],\n",
       "         [0.51443299, 0.05298229]],\n",
       " \n",
       "        [[0.37386841, 0.01956394],\n",
       "         [0.37495427, 0.01170604],\n",
       "         [0.37906164, 0.0093209 ],\n",
       "         [0.36437239, 0.01359167]]]),\n",
       " array([[[0.08881977, 0.15414282],\n",
       "         [0.08557045, 0.14188003],\n",
       "         [0.10127183, 0.156735  ],\n",
       "         [0.15306994, 0.14558638]],\n",
       " \n",
       "        [[0.12652723, 0.11091041],\n",
       "         [0.12670539, 0.10422703],\n",
       "         [0.14575307, 0.11013612],\n",
       "         [0.22670931, 0.0940041 ]],\n",
       " \n",
       "        [[0.21993828, 0.04072054],\n",
       "         [0.21948469, 0.04053328],\n",
       "         [0.23533684, 0.04037962],\n",
       "         [0.33383546, 0.04218926]],\n",
       " \n",
       "        [[0.22663169, 0.06083261],\n",
       "         [0.23132577, 0.06185023],\n",
       "         [0.24695527, 0.06059489],\n",
       "         [0.31303819, 0.05879327]],\n",
       " \n",
       "        [[0.23773268, 0.11400866],\n",
       "         [0.24517858, 0.11519612],\n",
       "         [0.25917297, 0.11000571],\n",
       "         [0.28784264, 0.11422628]],\n",
       " \n",
       "        [[0.61238095, 0.12226509],\n",
       "         [0.59761905, 0.1003791 ],\n",
       "         [0.56380952, 0.11287221],\n",
       "         [0.57666667, 0.10356349]],\n",
       " \n",
       "        [[0.07433115, 0.0558284 ],\n",
       "         [0.07559313, 0.05670764],\n",
       "         [0.07718324, 0.06721726],\n",
       "         [0.05754669, 0.06142783]],\n",
       " \n",
       "        [[0.47989691, 0.04379624],\n",
       "         [0.49381443, 0.03769275],\n",
       "         [0.51168385, 0.05123503],\n",
       "         [0.49845361, 0.03002648]],\n",
       " \n",
       "        [[0.38886967, 0.01737346],\n",
       "         [0.38900887, 0.01305895],\n",
       "         [0.38422554, 0.01586887],\n",
       "         [0.37755566, 0.01637371]]]),\n",
       " array([[[0.01196562, 0.11506098],\n",
       "         [0.02201081, 0.10810042],\n",
       "         [0.02651963, 0.09906204],\n",
       "         [0.00212921, 0.13226083]],\n",
       " \n",
       "        [[0.02632128, 0.08613165],\n",
       "         [0.03474081, 0.07911992],\n",
       "         [0.04166168, 0.07213999],\n",
       "         [0.03220516, 0.09662136]],\n",
       " \n",
       "        [[0.07705425, 0.02149816],\n",
       "         [0.08017984, 0.02003024],\n",
       "         [0.08611332, 0.02307073],\n",
       "         [0.08904435, 0.02789995]],\n",
       " \n",
       "        [[0.10287764, 0.04772109],\n",
       "         [0.10902204, 0.04226756],\n",
       "         [0.12124548, 0.04030439],\n",
       "         [0.11299125, 0.04643515]],\n",
       " \n",
       "        [[0.13533712, 0.09157103],\n",
       "         [0.14016508, 0.08074815],\n",
       "         [0.15470363, 0.07128437],\n",
       "         [0.13468693, 0.09220592]],\n",
       " \n",
       "        [[0.57333333, 0.16888591],\n",
       "         [0.57095238, 0.15612876],\n",
       "         [0.55666667, 0.13263337],\n",
       "         [0.49571429, 0.15173898]],\n",
       " \n",
       "        [[0.10835437, 0.11202769],\n",
       "         [0.10378597, 0.09928527],\n",
       "         [0.10318021, 0.09133807],\n",
       "         [0.10348309, 0.10714932]],\n",
       " \n",
       "        [[0.47439863, 0.04716143],\n",
       "         [0.48591065, 0.04883354],\n",
       "         [0.49450172, 0.0435478 ],\n",
       "         [0.4652921 , 0.03489961]],\n",
       " \n",
       "        [[0.38536211, 0.02221514],\n",
       "         [0.386883  , 0.01744067],\n",
       "         [0.38478287, 0.01287104],\n",
       "         [0.35482982, 0.01686198]]])]"
      ]
     },
     "execution_count": 101,
     "metadata": {},
     "output_type": "execute_result"
    }
   ],
   "source": [
    "# Synonyms vs Antonyms, sample size 5%\n",
    "\n",
    "[(lambda x1 : np.array([np.mean(x1,axis = 0),np.std(x1,axis=0)]).T)([[synvsnonevsant2(myfile,*a,15,6,112) for myfile in localf] for a in seed_list2 ]) for localf in [file_list1,file_list2,file_list3]]"
   ]
  },
  {
   "cell_type": "code",
   "execution_count": 102,
   "id": "1556b352",
   "metadata": {},
   "outputs": [
    {
     "data": {
      "text/plain": [
       "[array([[[0.0441263 , 0.15118354],\n",
       "         [0.03414377, 0.15343554],\n",
       "         [0.03749118, 0.15539224],\n",
       "         [0.04625729, 0.20636353]],\n",
       " \n",
       "        [[0.0513247 , 0.11258502],\n",
       "         [0.05005187, 0.11282821],\n",
       "         [0.05560807, 0.12202058],\n",
       "         [0.07648202, 0.22561223]],\n",
       " \n",
       "        [[0.10386842, 0.13631884],\n",
       "         [0.10456802, 0.15189518],\n",
       "         [0.10329211, 0.17268002],\n",
       "         [0.11142569, 0.19145379]],\n",
       " \n",
       "        [[0.1006075 , 0.20205812],\n",
       "         [0.10226579, 0.17013287],\n",
       "         [0.09589896, 0.15866408],\n",
       "         [0.14841488, 0.16543157]],\n",
       " \n",
       "        [[0.13017504, 0.17286469],\n",
       "         [0.14012266, 0.16893202],\n",
       "         [0.161241  , 0.16952901],\n",
       "         [0.20002235, 0.16052037]],\n",
       " \n",
       "        [[0.50518868, 0.14035615],\n",
       "         [0.49575472, 0.1247452 ],\n",
       "         [0.48490566, 0.13917573],\n",
       "         [0.5004717 , 0.20287351]],\n",
       " \n",
       "        [[0.09123563, 0.11036976],\n",
       "         [0.09348659, 0.11111799],\n",
       "         [0.08702107, 0.10169037],\n",
       "         [0.10277778, 0.10677815]],\n",
       " \n",
       "        [[0.54418605, 0.17004515],\n",
       "         [0.55880399, 0.15299932],\n",
       "         [0.57757475, 0.1430898 ],\n",
       "         [0.5192691 , 0.14368569]],\n",
       " \n",
       "        [[0.38020345, 0.04409956],\n",
       "         [0.38268176, 0.037867  ],\n",
       "         [0.38316716, 0.0382205 ],\n",
       "         [0.37417286, 0.02849458]]]),\n",
       " array([[[0.09697062, 0.18991126],\n",
       "         [0.08754576, 0.18174569],\n",
       "         [0.10136309, 0.19875379],\n",
       "         [0.1793663 , 0.16851931]],\n",
       " \n",
       "        [[0.16624547, 0.16030853],\n",
       "         [0.1599808 , 0.15853893],\n",
       "         [0.16308982, 0.17225758],\n",
       "         [0.30723227, 0.15507489]],\n",
       " \n",
       "        [[0.25603482, 0.19000215],\n",
       "         [0.25462802, 0.20140045],\n",
       "         [0.26216004, 0.2044354 ],\n",
       "         [0.4207181 , 0.17718655]],\n",
       " \n",
       "        [[0.24140128, 0.19156715],\n",
       "         [0.24520933, 0.25888334],\n",
       "         [0.24792572, 0.23335898],\n",
       "         [0.3439384 , 0.13655436]],\n",
       " \n",
       "        [[0.20951698, 0.14937312],\n",
       "         [0.21146935, 0.15515661],\n",
       "         [0.23156408, 0.16785357],\n",
       "         [0.2545561 , 0.19081435]],\n",
       " \n",
       "        [[0.64339623, 0.15471698],\n",
       "         [0.62075472, 0.14061352],\n",
       "         [0.5745283 , 0.16318028],\n",
       "         [0.62830189, 0.13015449]],\n",
       " \n",
       "        [[0.06858238, 0.09292034],\n",
       "         [0.07871169, 0.11690791],\n",
       "         [0.08603927, 0.10775801],\n",
       "         [0.04647989, 0.05614663]],\n",
       " \n",
       "        [[0.48621262, 0.11795318],\n",
       "         [0.49717608, 0.155726  ],\n",
       "         [0.51013289, 0.15919299],\n",
       "         [0.49169435, 0.06793187]],\n",
       " \n",
       "        [[0.39939708, 0.03128909],\n",
       "         [0.39888083, 0.02985703],\n",
       "         [0.39023349, 0.03184491],\n",
       "         [0.38882537, 0.02884048]]]),\n",
       " array([[[0.00722516, 0.12227912],\n",
       "         [0.01430589, 0.11493781],\n",
       "         [0.01791666, 0.10527953],\n",
       "         [0.00939195, 0.16081898]],\n",
       " \n",
       "        [[0.02235819, 0.10152154],\n",
       "         [0.02446336, 0.09165413],\n",
       "         [0.02268945, 0.0871204 ],\n",
       "         [0.04543763, 0.14063906]],\n",
       " \n",
       "        [[0.08724396, 0.11919457],\n",
       "         [0.0869399 , 0.12676803],\n",
       "         [0.08874483, 0.14473886],\n",
       "         [0.10909197, 0.16098298]],\n",
       " \n",
       "        [[0.06619264, 0.12330964],\n",
       "         [0.06853057, 0.11775953],\n",
       "         [0.07361142, 0.12656855],\n",
       "         [0.08451052, 0.13877444]],\n",
       " \n",
       "        [[0.10510387, 0.15606123],\n",
       "         [0.11515782, 0.1502773 ],\n",
       "         [0.13886053, 0.14784843],\n",
       "         [0.13898171, 0.14248651]],\n",
       " \n",
       "        [[0.55613208, 0.18374382],\n",
       "         [0.55      , 0.1744671 ],\n",
       "         [0.52358491, 0.15551737],\n",
       "         [0.50141509, 0.20077447]],\n",
       " \n",
       "        [[0.09379789, 0.08742636],\n",
       "         [0.08599138, 0.0873479 ],\n",
       "         [0.09686303, 0.09253375],\n",
       "         [0.08704502, 0.08996006]],\n",
       " \n",
       "        [[0.52392027, 0.14373945],\n",
       "         [0.53538206, 0.13364105],\n",
       "         [0.55730897, 0.14590307],\n",
       "         [0.50664452, 0.13356763]],\n",
       " \n",
       "        [[0.39128341, 0.0500452 ],\n",
       "         [0.39045781, 0.0374153 ],\n",
       "         [0.39258563, 0.03266516],\n",
       "         [0.36503488, 0.04401993]]])]"
      ]
     },
     "execution_count": 102,
     "metadata": {},
     "output_type": "execute_result"
    }
   ],
   "source": [
    "# Synonyms vs Antonyms, sample size 5 pairs\n",
    "\n",
    "[(lambda x1 : np.array([np.mean(x1,axis = 0),np.std(x1,axis=0)]).T)([[synvsnonevsant2(myfile,*a,5,5,5) for myfile in localf] for a in seed_list2 ]) for localf in [file_list1,file_list2,file_list3]]"
   ]
  },
  {
   "cell_type": "markdown",
   "id": "d079929d",
   "metadata": {},
   "source": [
    "## Experiment 2 syn vs none"
   ]
  },
  {
   "cell_type": "code",
   "execution_count": 42,
   "id": "cbf9685d",
   "metadata": {},
   "outputs": [
    {
     "data": {
      "text/plain": [
       "[array([[0.53496465, 0.01717478],\n",
       "        [0.54602694, 0.01507276],\n",
       "        [0.56077479, 0.01623426],\n",
       "        [0.5461103 , 0.01719649]]),\n",
       " array([[0.51550145, 0.01536855],\n",
       "        [0.52990561, 0.01656248],\n",
       "        [0.53535754, 0.01398865],\n",
       "        [0.50931213, 0.0183229 ]]),\n",
       " array([[0.53444609, 0.01466972],\n",
       "        [0.54507457, 0.01331173],\n",
       "        [0.55536204, 0.01835328],\n",
       "        [0.53235329, 0.01697022]])]"
      ]
     },
     "execution_count": 42,
     "metadata": {},
     "output_type": "execute_result"
    }
   ],
   "source": [
    "# Apply the function to every file with the given seed and average. The averaging is done using pure functions\n",
    "# (lambda) so to compute all the precisions only once\n",
    "\n",
    "# Synonyms vs Antonyms, sample size roughly 60%\n",
    "\n",
    "[(lambda x1 : np.array([np.mean(x1,axis = 0),np.std(x1,axis=0)]).T)([[synvsnone2(myfile,*a,200,70) for myfile in localf] for a in seed_list ]) for localf in [file_list1,file_list2,file_list3]]"
   ]
  },
  {
   "cell_type": "code",
   "execution_count": 43,
   "id": "a35b0f6b",
   "metadata": {},
   "outputs": [
    {
     "data": {
      "text/plain": [
       "[array([[0.53567535, 0.00598682],\n",
       "        [0.54545286, 0.00679681],\n",
       "        [0.55764848, 0.00779936],\n",
       "        [0.54290457, 0.00488565]]),\n",
       " array([[0.51858425, 0.00572945],\n",
       "        [0.52616826, 0.00438583],\n",
       "        [0.53727936, 0.00787982],\n",
       "        [0.50998179, 0.00433904]]),\n",
       " array([[0.53360446, 0.0082115 ],\n",
       "        [0.54099043, 0.0073067 ],\n",
       "        [0.55096164, 0.00901179],\n",
       "        [0.5239211 , 0.00904988]])]"
      ]
     },
     "execution_count": 43,
     "metadata": {},
     "output_type": "execute_result"
    }
   ],
   "source": [
    "# Synonyms vs Antonyms, sample size roughly 10%\n",
    "\n",
    "[(lambda x1 : np.array([np.mean(x1,axis = 0),np.std(x1,axis=0)]).T)([[synvsnone2(myfile,*a,30,12) for myfile in localf] for a in seed_list ]) for localf in [file_list1,file_list2,file_list3]]"
   ]
  },
  {
   "cell_type": "code",
   "execution_count": 44,
   "id": "f46482fc",
   "metadata": {},
   "outputs": [
    {
     "data": {
      "text/plain": [
       "[array([[0.53889052, 0.00511508],\n",
       "        [0.54461072, 0.00654075],\n",
       "        [0.55293689, 0.00849937],\n",
       "        [0.54336771, 0.00533989]]),\n",
       " array([[0.52107524, 0.0035052 ],\n",
       "        [0.52857474, 0.00400039],\n",
       "        [0.53602575, 0.00795613],\n",
       "        [0.50997432, 0.00528076]]),\n",
       " array([[0.53376803, 0.00903302],\n",
       "        [0.53864152, 0.00723225],\n",
       "        [0.54728568, 0.00862143],\n",
       "        [0.52583498, 0.00864193]])]"
      ]
     },
     "execution_count": 44,
     "metadata": {},
     "output_type": "execute_result"
    }
   ],
   "source": [
    "# Synonyms vs Antonyms, sample size roughly 5%\n",
    "\n",
    "[(lambda x1 : np.array([np.mean(x1,axis = 0),np.std(x1,axis=0)]).T)([[synvsnone2(myfile,*a,15,6) for myfile in localf] for a in seed_list ]) for localf in [file_list1,file_list2,file_list3]]"
   ]
  },
  {
   "cell_type": "code",
   "execution_count": 45,
   "id": "362c293f",
   "metadata": {},
   "outputs": [
    {
     "data": {
      "text/plain": [
       "[array([[0.55051401, 0.01899977],\n",
       "        [0.552458  , 0.01669749],\n",
       "        [0.55246584, 0.01546005],\n",
       "        [0.54310945, 0.00816041]]),\n",
       " array([[0.5845656 , 0.02082109],\n",
       "        [0.58643202, 0.01381136],\n",
       "        [0.57694164, 0.01849617],\n",
       "        [0.56377562, 0.03277613]]),\n",
       " array([[0.56525967, 0.0255834 ],\n",
       "        [0.56551354, 0.02744947],\n",
       "        [0.56983248, 0.02410208],\n",
       "        [0.52738121, 0.01509166]])]"
      ]
     },
     "execution_count": 45,
     "metadata": {},
     "output_type": "execute_result"
    }
   ],
   "source": [
    "# Synonyms vs Antonyms, sample size 5 pairs\n",
    "\n",
    "[(lambda x1 : np.array([np.mean(x1,axis = 0),np.std(x1,axis=0)]).T)([[synvsant2(myfile,*a,5,5) for myfile in localf] for a in seed_list ]) for localf in [file_list1,file_list2,file_list3]]"
   ]
  },
  {
   "cell_type": "markdown",
   "id": "4d67b7de",
   "metadata": {},
   "source": [
    "## Precision through sorting over same sample sizes"
   ]
  },
  {
   "cell_type": "markdown",
   "id": "ecedd927",
   "metadata": {},
   "source": [
    "### Syn vs Ant"
   ]
  },
  {
   "cell_type": "code",
   "execution_count": 61,
   "id": "41806ff3",
   "metadata": {},
   "outputs": [],
   "source": [
    "# we want to take all synonyms and antonyms, sort them, set the divide to the number of antonyms n and check\n",
    "# how many of the first n are actually antonyms\n",
    "def precision_by_sorting_synant(file_name):\n",
    "    \n",
    "    ants = mf.averaged_product_list(simdict,'ANTONYMS',file_name,\"maha\")\n",
    "    syns = {}\n",
    "    test2 = mf.averaged_product_list(simdict,'SYNONYMS',file_name,\"maha\")\n",
    "    for a in random.sample(list(test2.keys()),len(ants)):\n",
    "        syns.update({a : test2[a]})\n",
    "    \n",
    "    #allverbs = syns.update(ants)\n",
    "    allverbs = syns | ants\n",
    "    \n",
    "    # Take the list of values from this dictionary and sort according to length\n",
    "    alllengths = allverbs.values()\n",
    "    # Sort by length\n",
    "    alllengths = sorted(alllengths)\n",
    "    \n",
    "    #Check how many of the first n (length of the antonyms) are actually antonyms and how many of the following\n",
    "    # are none\n",
    "    allantvals = ants.values()\n",
    "    allsynvals = syns.values()\n",
    "    #print([set(allantvals).intersection(set(allnonvals)),set(allantvals).intersection(set(allsynvals)),set(allsynvals).intersection(set(allnonvals))])\n",
    "    mycounts = []\n",
    "    \n",
    "    for a in alllengths[:len(allantvals)]:\n",
    "        mycounts.append(a in allantvals)\n",
    "    \n",
    "    local = mycounts.count(True)\n",
    "    #print(local/len(allantvals))\n",
    "        \n",
    "    for a in alllengths[-len(allsynvals):]:\n",
    "        mycounts.append(a in allsynvals)\n",
    "    \n",
    "    local = mycounts.count(True)-local\n",
    "    #print(local/len(allsynvals))\n",
    "    \n",
    "    # Count the trues\n",
    "    mycounts = mycounts.count(True)\n",
    "    \n",
    "    # Compute precision, and recycle variables which I do not need anymore\n",
    "    \n",
    "    allantvals = mycounts/(len(allsynvals) + len(allantvals))\n",
    "    \n",
    "    return allantvals"
   ]
  },
  {
   "cell_type": "code",
   "execution_count": 62,
   "id": "523c1fcf",
   "metadata": {},
   "outputs": [],
   "source": [
    "def precision_by_sorting_synant_average(file_name,iterations,myseed):\n",
    "    \n",
    "    random.seed(myseed)\n",
    "    \n",
    "    mylist = []\n",
    "    for a in range(iterations):\n",
    "        mylist.append(precision_by_sorting_synant(file_name))\n",
    "    \n",
    "    return [np.mean(np.array(mylist)),np.std(np.array(mylist))]\n",
    "        "
   ]
  },
  {
   "cell_type": "code",
   "execution_count": 63,
   "id": "ddc7dfdf",
   "metadata": {},
   "outputs": [
    {
     "data": {
      "text/plain": [
       "[0.5378378378378378, 0.024357668170442843]"
      ]
     },
     "execution_count": 63,
     "metadata": {},
     "output_type": "execute_result"
    }
   ],
   "source": [
    "precision_by_sorting_synant_average(objsubset1,20,33)"
   ]
  },
  {
   "cell_type": "code",
   "execution_count": 64,
   "id": "e0167f2d",
   "metadata": {},
   "outputs": [
    {
     "data": {
      "text/plain": [
       "[[0.5378378378378378, 0.024357668170442843],\n",
       " [0.5527027027027027, 0.021747941810042],\n",
       " [0.5684684684684684, 0.02204907792886563],\n",
       " [0.5382882882882883, 0.019916838711201954]]"
      ]
     },
     "execution_count": 64,
     "metadata": {},
     "output_type": "execute_result"
    }
   ],
   "source": [
    "[precision_by_sorting_synant_average(a,20,33) for a in file_list1]"
   ]
  },
  {
   "cell_type": "code",
   "execution_count": 65,
   "id": "9027400b",
   "metadata": {},
   "outputs": [
    {
     "data": {
      "text/plain": [
       "[[0.5716216216216217, 0.026184309242042555],\n",
       " [0.5707207207207208, 0.020597952009321942],\n",
       " [0.5752252252252252, 0.01937984212999906],\n",
       " [0.5581081081081081, 0.0270982544913424]]"
      ]
     },
     "execution_count": 65,
     "metadata": {},
     "output_type": "execute_result"
    }
   ],
   "source": [
    "[precision_by_sorting_synant_average(a,20,33) for a in file_list2]"
   ]
  },
  {
   "cell_type": "code",
   "execution_count": 66,
   "id": "8adea7ec",
   "metadata": {},
   "outputs": [
    {
     "data": {
      "text/plain": [
       "[[0.5527027027027027, 0.018302927616135167],\n",
       " [0.5657657657657659, 0.02006401572190998],\n",
       " [0.5662162162162162, 0.025043586709761517],\n",
       " [0.522972972972973, 0.021785229350168918]]"
      ]
     },
     "execution_count": 66,
     "metadata": {},
     "output_type": "execute_result"
    }
   ],
   "source": [
    "[precision_by_sorting_synant_average(a,20,33) for a in file_list3]"
   ]
  },
  {
   "cell_type": "markdown",
   "id": "a2b28abe",
   "metadata": {},
   "source": [
    "### Hyper/hypo vs cohypo"
   ]
  },
  {
   "cell_type": "code",
   "execution_count": 67,
   "id": "990f792a",
   "metadata": {},
   "outputs": [],
   "source": [
    "# we want to take all synonyms and antonyms, sort them, set the divide to the number of antonyms n and check\n",
    "# how many of the first n are actually antonyms\n",
    "def precision_by_sorting_hyper(file_name):\n",
    "    \n",
    "    ants = mf.averaged_product_list(simdict,'COHYPONYMS',file_name,\"maha\")\n",
    "    syns = {}\n",
    "    test2 = mf.averaged_product_list(simdict,'HYPER/HYPONYMS',file_name,\"maha\")\n",
    "    for a in random.sample(list(test2.keys()),len(ants)):\n",
    "        syns.update({a : test2[a]})\n",
    "        \n",
    "    (ants,syns) = (syns,ants)\n",
    "    \n",
    "    #allverbs = syns.update(ants)\n",
    "    allverbs = syns | ants\n",
    "    \n",
    "    # Take the list of values from this dictionary and sort according to length\n",
    "    alllengths = allverbs.values()\n",
    "    # Sort by length\n",
    "    alllengths = sorted(alllengths)\n",
    "    \n",
    "    #Check how many of the first n (length of the antonyms) are actually antonyms and how many of the following\n",
    "    # are none\n",
    "    allantvals = ants.values()\n",
    "    allsynvals = syns.values()\n",
    "    #print([set(allantvals).intersection(set(allnonvals)),set(allantvals).intersection(set(allsynvals)),set(allsynvals).intersection(set(allnonvals))])\n",
    "    mycounts = []\n",
    "    \n",
    "    for a in alllengths[:len(allantvals)]:\n",
    "        mycounts.append(a in allantvals)\n",
    "    \n",
    "    local = mycounts.count(True)\n",
    "    #print(local/len(allantvals))\n",
    "        \n",
    "    for a in alllengths[-len(allsynvals):]:\n",
    "        mycounts.append(a in allsynvals)\n",
    "    \n",
    "    local = mycounts.count(True)-local\n",
    "    #print(local/len(allsynvals))\n",
    "    \n",
    "    # Count the trues\n",
    "    mycounts = mycounts.count(True)\n",
    "    \n",
    "    # Compute precision, and recycle variables which I do not need anymore\n",
    "    \n",
    "    allantvals = mycounts/(len(allsynvals) + len(allantvals))\n",
    "    \n",
    "    return allantvals"
   ]
  },
  {
   "cell_type": "code",
   "execution_count": 68,
   "id": "98311b24",
   "metadata": {},
   "outputs": [],
   "source": [
    "def precision_by_sorting_hyper_average(file_name,iterations,myseed):\n",
    "    \n",
    "    random.seed(myseed)\n",
    "    \n",
    "    mylist = []\n",
    "    for a in range(iterations):\n",
    "        mylist.append(precision_by_sorting_hyper(file_name))\n",
    "    \n",
    "    return [np.mean(np.array(mylist)),np.std(np.array(mylist))]\n",
    "        "
   ]
  },
  {
   "cell_type": "code",
   "execution_count": 69,
   "id": "726002bf",
   "metadata": {},
   "outputs": [
    {
     "data": {
      "text/plain": [
       "[0.5092105263157893, 0.013912568303038211]"
      ]
     },
     "execution_count": 69,
     "metadata": {},
     "output_type": "execute_result"
    }
   ],
   "source": [
    "precision_by_sorting_hyper_average(objsubset1,20,33)"
   ]
  },
  {
   "cell_type": "code",
   "execution_count": 70,
   "id": "8b8fbde5",
   "metadata": {},
   "outputs": [
    {
     "data": {
      "text/plain": [
       "[[0.5092105263157893, 0.013912568303038211],\n",
       " [0.5044736842105262, 0.009307757465172322],\n",
       " [0.48921052631578954, 0.015114979453446711],\n",
       " [0.5673684210526316, 0.01758241377735796]]"
      ]
     },
     "execution_count": 70,
     "metadata": {},
     "output_type": "execute_result"
    }
   ],
   "source": [
    "[precision_by_sorting_hyper_average(a,20,33) for a in file_list1]"
   ]
  },
  {
   "cell_type": "code",
   "execution_count": 71,
   "id": "bcef5cec",
   "metadata": {},
   "outputs": [
    {
     "data": {
      "text/plain": [
       "[[0.5202631578947369, 0.01281392507783141],\n",
       " [0.5052631578947369, 0.020316062174335563],\n",
       " [0.516578947368421, 0.01755679347802203],\n",
       " [0.538421052631579, 0.008822660323284336]]"
      ]
     },
     "execution_count": 71,
     "metadata": {},
     "output_type": "execute_result"
    }
   ],
   "source": [
    "[precision_by_sorting_hyper_average(a,20,33) for a in file_list2]"
   ]
  },
  {
   "cell_type": "code",
   "execution_count": 72,
   "id": "1e6e9cd0",
   "metadata": {},
   "outputs": [
    {
     "data": {
      "text/plain": [
       "[[0.5073684210526316, 0.014161709523235486],\n",
       " [0.4934210526315789, 0.01595309954339756],\n",
       " [0.4844736842105264, 0.01826816251769328],\n",
       " [0.5476315789473685, 0.010588631336174043]]"
      ]
     },
     "execution_count": 72,
     "metadata": {},
     "output_type": "execute_result"
    }
   ],
   "source": [
    "[precision_by_sorting_hyper_average(a,20,33) for a in file_list3]"
   ]
  },
  {
   "cell_type": "markdown",
   "id": "77679b65",
   "metadata": {},
   "source": [
    "### Syn vs Ant vs None"
   ]
  },
  {
   "cell_type": "code",
   "execution_count": 73,
   "id": "e0e0c711",
   "metadata": {},
   "outputs": [],
   "source": [
    "# we want to take all synonyms and antonyms, sort them, set the divide to the number of antonyms n and check\n",
    "# how many of the first n are actually antonyms\n",
    "def precision_by_sorting_synnonant(file_name):\n",
    "    \n",
    "    ants = mf.averaged_product_list(simdict,'ANTONYMS',file_name,\"maha\")\n",
    "    syns = {}\n",
    "    test2 = mf.averaged_product_list(simdict,'SYNONYMS',file_name,\"maha\")\n",
    "    for a in random.sample(list(test2.keys()),len(ants)):\n",
    "        syns.update({a : test2[a]})\n",
    "    nons = {}\n",
    "    test2 = mf.averaged_product_list(simdict,'NONE',file_name,\"maha\")\n",
    "    for a in random.sample(list(test2.keys()),len(ants)):\n",
    "        nons.update({a : test2[a]})\n",
    "    \n",
    "    #allverbs = syns.update(ants)\n",
    "    allverbs = syns | nons | ants\n",
    "    \n",
    "    # Take the list of values from this dictionary and sort according to length\n",
    "    alllengths = allverbs.values()\n",
    "    # Sort by length\n",
    "    alllengths = sorted(alllengths)\n",
    "    \n",
    "    #Check how many of the first n (length of the antonyms) are actually antonyms and how many of the following\n",
    "    # are none\n",
    "    allantvals = ants.values()\n",
    "    allnonvals = list(nons.values())[:]\n",
    "    allsynvals = syns.values()\n",
    "    #print([set(allantvals).intersection(set(allnonvals)),set(allantvals).intersection(set(allsynvals)),set(allsynvals).intersection(set(allnonvals))])\n",
    "    mycounts = []\n",
    "    \n",
    "    for a in alllengths[:len(ants)]:\n",
    "        mycounts.append(a in allantvals)\n",
    "    local = mycounts.count(True)\n",
    "    #print(local/len(ants))\n",
    "        \n",
    "    for a in alllengths[len(ants) + 1:len(ants) + len(nons)]:\n",
    "        mycounts.append(a in allnonvals)\n",
    "    local = mycounts.count(True)-local\n",
    "    #print(local/len(nons))\n",
    "        \n",
    "    for a in alllengths[-len(allsynvals):]:\n",
    "        mycounts.append(a in allsynvals)\n",
    "    local = mycounts.count(True)-local\n",
    "    #print(local/len(syns))\n",
    "    \n",
    "    # Count the trues\n",
    "    mycounts = mycounts.count(True)\n",
    "    \n",
    "    # Compute precision, and recycle variables which I do not need anymore\n",
    "    \n",
    "    allantvals = mycounts/(len(allsynvals) + len(allantvals) + len(allnonvals))\n",
    "    \n",
    "    return allantvals"
   ]
  },
  {
   "cell_type": "code",
   "execution_count": 74,
   "id": "d72528d4",
   "metadata": {},
   "outputs": [],
   "source": [
    "def precision_by_sorting_synnonant_average(file_name,iterations,myseed):\n",
    "    \n",
    "    random.seed(myseed)\n",
    "    \n",
    "    mylist = []\n",
    "    for a in range(iterations):\n",
    "        mylist.append(precision_by_sorting_synnonant(file_name))\n",
    "    \n",
    "    return [np.mean(np.array(mylist)),np.std(np.array(mylist))]"
   ]
  },
  {
   "cell_type": "code",
   "execution_count": 75,
   "id": "d38f74c8",
   "metadata": {},
   "outputs": [
    {
     "data": {
      "text/plain": [
       "0.35735735735735735"
      ]
     },
     "execution_count": 75,
     "metadata": {},
     "output_type": "execute_result"
    }
   ],
   "source": [
    "precision_by_sorting_synnonant(objsubset1)"
   ]
  },
  {
   "cell_type": "code",
   "execution_count": 76,
   "id": "88e20dfc",
   "metadata": {},
   "outputs": [
    {
     "data": {
      "text/plain": [
       "[0.37237237237237236, 0.015282895675675045]"
      ]
     },
     "execution_count": 76,
     "metadata": {},
     "output_type": "execute_result"
    }
   ],
   "source": [
    "precision_by_sorting_synnonant_average(objsubset1,20,33)"
   ]
  },
  {
   "cell_type": "code",
   "execution_count": 77,
   "id": "14a359fc",
   "metadata": {},
   "outputs": [
    {
     "data": {
      "text/plain": [
       "[[0.37237237237237236, 0.015282895675675045],\n",
       " [0.37222222222222223, 0.02061983098092548],\n",
       " [0.3663663663663664, 0.016171666087491],\n",
       " [0.35615615615615615, 0.01825173741624353]]"
      ]
     },
     "execution_count": 77,
     "metadata": {},
     "output_type": "execute_result"
    }
   ],
   "source": [
    "[precision_by_sorting_synnonant_average(a,20,33) for a in file_list1]"
   ]
  },
  {
   "cell_type": "code",
   "execution_count": 78,
   "id": "ee5560df",
   "metadata": {},
   "outputs": [
    {
     "data": {
      "text/plain": [
       "[[0.3771771771771772, 0.02010891176310295],\n",
       " [0.3633633633633634, 0.01987434487420336],\n",
       " [0.34924924924924927, 0.02521628613240929],\n",
       " [0.3545045045045045, 0.01845014838810546]]"
      ]
     },
     "execution_count": 78,
     "metadata": {},
     "output_type": "execute_result"
    }
   ],
   "source": [
    "[precision_by_sorting_synnonant_average(a,20,33) for a in file_list2]"
   ]
  },
  {
   "cell_type": "code",
   "execution_count": 79,
   "id": "52233d90",
   "metadata": {},
   "outputs": [
    {
     "data": {
      "text/plain": [
       "[[0.3704204204204204, 0.014781212738330423],\n",
       " [0.36906906906906906, 0.017763467172576874],\n",
       " [0.3734234234234234, 0.01958351717070777],\n",
       " [0.34534534534534533, 0.020956572159000483]]"
      ]
     },
     "execution_count": 79,
     "metadata": {},
     "output_type": "execute_result"
    }
   ],
   "source": [
    "[precision_by_sorting_synnonant_average(a,20,33) for a in file_list3]"
   ]
  },
  {
   "cell_type": "code",
   "execution_count": null,
   "id": "f8320f91",
   "metadata": {},
   "outputs": [],
   "source": []
  },
  {
   "cell_type": "markdown",
   "id": "63e71b6b",
   "metadata": {},
   "source": [
    "## Length of hypernyms vs hyponyms"
   ]
  },
  {
   "cell_type": "code",
   "execution_count": 4,
   "id": "c008a7ee",
   "metadata": {},
   "outputs": [],
   "source": [
    "# Import the natural language processing libraries\n",
    "#import nltk\n",
    "from nltk.corpus import wordnet as wn"
   ]
  },
  {
   "cell_type": "code",
   "execution_count": 5,
   "id": "308ca6dc",
   "metadata": {},
   "outputs": [],
   "source": [
    "# Function to extract all the hyponyms of a given string\n",
    "def get_hyponyms(synset):\n",
    "    hyponyms = set()\n",
    "    for hyponym in synset.hyponyms():\n",
    "        hyponyms |= set(get_hyponyms(hyponym))\n",
    "    return hyponyms | set(synset.hyponyms())"
   ]
  },
  {
   "cell_type": "code",
   "execution_count": 6,
   "id": "48706ce2",
   "metadata": {},
   "outputs": [],
   "source": [
    "# Function to test whether the second word is a hyponym of the first\n",
    "def is_hyponym(hyper,hypo):\n",
    "    \n",
    "    #Extract all possible meanings of the given hyper string\n",
    "    allsyn = wn.synsets(hyper)\n",
    "    \n",
    "    # Initialise allhyponyms var to empty set\n",
    "    allhypo = set()\n",
    "    \n",
    "    #Loop over all the possible meanings of hyper, thus allsyn, and search for all the associated hyponyms\n",
    "    for syn in allsyn:\n",
    "        allhypo |= get_hyponyms(syn)\n",
    "    \n",
    "    #Check if the given hypo has any overlap with the set of hyponyms found\n",
    "    return allhypo.intersection(set(wn.synsets(hypo))) != set()"
   ]
  },
  {
   "cell_type": "markdown",
   "id": "489aec64",
   "metadata": {},
   "source": [
    "## Testing the lengths"
   ]
  },
  {
   "cell_type": "code",
   "execution_count": 7,
   "id": "14f63849",
   "metadata": {},
   "outputs": [],
   "source": [
    "pairlist = [list(a) for a in np.array(simdict['HYPER/HYPONYMS']).T[:2].T]"
   ]
  },
  {
   "cell_type": "code",
   "execution_count": 8,
   "id": "6958377d",
   "metadata": {},
   "outputs": [],
   "source": [
    "# Compare the lengths, how often is the hyper smaller than the hypo? Deviation vectors\n",
    "def hp_comparison(file_name):\n",
    "    \n",
    "    compare = []\n",
    "    for a in pairlist[:243]+pairlist[250:515]+pairlist[550:800]:\n",
    "        local = [mf.M_vec_mult_dev_Maha(file_name[a[0]].val,file_name[a[0]].val,file_name.mean,file_name.inv_cov),mf.M_vec_mult_dev_Maha(file_name[a[1]].val,file_name[a[1]].val,file_name.mean,file_name.inv_cov)]\n",
    "\n",
    "        if is_hyponym(a[0],a[1]):\n",
    "            compare.append(local[0]<local[1])\n",
    "        else :\n",
    "            compare.append(local[0]>local[1])\n",
    "    #print(len(compare))\n",
    "    return 1 - compare.count(True)/len(compare)"
   ]
  },
  {
   "cell_type": "code",
   "execution_count": 12,
   "id": "d642d336",
   "metadata": {},
   "outputs": [
    {
     "name": "stdout",
     "output_type": "stream",
     "text": [
      "0.6754617414248021\n",
      "0.6675461741424802\n",
      "0.6767810026385224\n"
     ]
    }
   ],
   "source": [
    "print(hp_comparison(objsubset1))\n",
    "print(hp_comparison(objsubset2))\n",
    "print(hp_comparison(objsubset3))"
   ]
  },
  {
   "cell_type": "markdown",
   "id": "7dc1e243",
   "metadata": {},
   "source": [
    "### Testing high vs low node"
   ]
  },
  {
   "cell_type": "code",
   "execution_count": 58,
   "id": "f5c7f409",
   "metadata": {},
   "outputs": [],
   "source": [
    "# Make observables object\n",
    "set6 = mf.observables([\"HighNode.txt\"])\n",
    "# Load matrices and make vector dictionaries\n",
    "objsubset6 = mf.vector_dictionary(\"matrices_1160_arg_obj_context_subj.txt\",set6)\n",
    "subobjset6 = mf.vector_dictionary(\"matrices_1160_arg_subj_context_obj.txt\",set6,[0])\n",
    "obj08sub02set6 = mf.vector_dictionary([[\"matrices_1160_arg_obj_context_subj.txt\",\"matrices_1160_arg_subj_context_obj.txt\"],[0.8,0.2]],set6,[1])\n",
    "obj09sub01set6 = mf.vector_dictionary([[\"matrices_1160_arg_obj_context_subj.txt\",\"matrices_1160_arg_subj_context_obj.txt\"],[0.9,0.1]],set6,[1])"
   ]
  },
  {
   "cell_type": "code",
   "execution_count": 59,
   "id": "2aaffa11",
   "metadata": {},
   "outputs": [],
   "source": [
    "# Make observables object\n",
    "set7 = mf.observables([\"LowNode.txt\"])\n",
    "# Load matrices and make vector dictionaries\n",
    "objsubset7 = mf.vector_dictionary(\"matrices_1160_arg_obj_context_subj.txt\",set7)\n",
    "subobjset4 = mf.vector_dictionary(\"matrices_1160_arg_subj_context_obj.txt\",set7,[0])\n",
    "obj08sub02set7 = mf.vector_dictionary([[\"matrices_1160_arg_obj_context_subj.txt\",\"matrices_1160_arg_subj_context_obj.txt\"],[0.8,0.2]],set7,[1])\n",
    "obj09sub01set7 = mf.vector_dictionary([[\"matrices_1160_arg_obj_context_subj.txt\",\"matrices_1160_arg_subj_context_obj.txt\"],[0.9,0.1]],set7,[1])"
   ]
  },
  {
   "cell_type": "code",
   "execution_count": 82,
   "id": "efd2f722",
   "metadata": {},
   "outputs": [
    {
     "name": "stdout",
     "output_type": "stream",
     "text": [
      "0.6517150395778364\n",
      "0.6530343007915567\n"
     ]
    }
   ],
   "source": [
    "print(hp_comparison(objsubset6))\n",
    "print(hp_comparison(objsubset7))"
   ]
  },
  {
   "cell_type": "markdown",
   "id": "3d67134c",
   "metadata": {},
   "source": [
    "### Extracting longest and shortest hyper/hypo"
   ]
  },
  {
   "cell_type": "code",
   "execution_count": 54,
   "id": "e4069194",
   "metadata": {},
   "outputs": [
    {
     "data": {
      "text/plain": [
       "[['keep', 'save'], ['keep', 'stay'], ['keep', 'take'], ['keep', 'reserve']]"
      ]
     },
     "execution_count": 54,
     "metadata": {},
     "output_type": "execute_result"
    }
   ],
   "source": [
    "# These are the problematic ones where a loop is generated in is_hyponym, so 'keep' is the problem\n",
    "[pairlist[a] for a in [243,515,516,541]]"
   ]
  },
  {
   "cell_type": "code",
   "execution_count": 13,
   "id": "6cfd304a",
   "metadata": {},
   "outputs": [],
   "source": [
    "toremove = [243,514,515,516,541]\n",
    "toremove.reverse()\n",
    "for a in toremove:\n",
    "    pairlist.pop(a)"
   ]
  },
  {
   "cell_type": "code",
   "execution_count": 14,
   "id": "7fe6f764",
   "metadata": {},
   "outputs": [
    {
     "name": "stdout",
     "output_type": "stream",
     "text": [
      "done\n"
     ]
    }
   ],
   "source": [
    "# Check if I removed all the troublesome elements\n",
    "for a in pairlist:\n",
    "    is_hyponym(*a)\n",
    "print('done')"
   ]
  },
  {
   "cell_type": "code",
   "execution_count": 27,
   "id": "ff3f498b",
   "metadata": {},
   "outputs": [],
   "source": [
    "# Now I want t extract all the hypernyms and hyponyms and get the longest and shortest\n",
    "myhypo = []\n",
    "myhyper = []\n",
    "\n",
    "for a in pairlist:\n",
    "    if is_hyponym(*a):\n",
    "        myhyper.append(a[0])\n",
    "        myhypo.append(a[1])\n",
    "    else:\n",
    "        myhyper.append(a[1])\n",
    "        myhypo.append(a[0])\n",
    " # Compute the lengths\n",
    "myhyperlen = {}\n",
    "myhypolen = {}\n",
    "for a in myhyper:\n",
    "    myhyperlen.update({a : mf.M_vec_mult_dev_Maha(objsubset1[a].val,objsubset1[a].val,objsubset1.mean,objsubset1.inv_cov)})\n",
    "for a in myhypo:\n",
    "    myhypolen.update({a : mf.M_vec_mult_dev_Maha(objsubset1[a].val,objsubset1[a].val,objsubset1.mean,objsubset1.inv_cov)})\n",
    "\n",
    "# Pick out the ten longest and ten shortest in each\n"
   ]
  },
  {
   "cell_type": "code",
   "execution_count": 20,
   "id": "fab309db",
   "metadata": {},
   "outputs": [],
   "source": [
    "def get_key(my_dict,val):\n",
    "    for key, value in my_dict.items():\n",
    "         if val == value:\n",
    "                return key"
   ]
  },
  {
   "cell_type": "code",
   "execution_count": 28,
   "id": "a3498f2a",
   "metadata": {},
   "outputs": [],
   "source": [
    "longesthyper = list(myhyperlen.values())\n",
    "longesthyper.sort()\n",
    "mylocal = {}\n",
    "for a in longesthyper[-10:]:\n",
    "    mylocal.update({get_key(myhyperlen,a) : a})\n",
    "longesthyper = mylocal\n",
    "\n",
    "longesthypo = list(myhypolen.values())\n",
    "longesthypo.sort()\n",
    "mylocal = {}\n",
    "for a in longesthypo[-10:]:\n",
    "    mylocal.update({get_key(myhypolen,a) : a})\n",
    "longesthypo = mylocal\n",
    "\n",
    "shortesthyper = list(myhyperlen.values())\n",
    "shortesthyper.sort()\n",
    "mylocal = {}\n",
    "for a in shortesthyper[:11]:\n",
    "    mylocal.update({get_key(myhyperlen,a) : a})\n",
    "shortesthyper = mylocal\n",
    "\n",
    "shortesthypo = list(myhypolen.values())\n",
    "shortesthypo.sort()\n",
    "mylocal = {}\n",
    "for a in shortesthypo[:11]:\n",
    "    mylocal.update({get_key(myhypolen,a) : a})\n",
    "shortesthypo = mylocal"
   ]
  },
  {
   "cell_type": "code",
   "execution_count": 29,
   "id": "a984d7c2",
   "metadata": {},
   "outputs": [
    {
     "name": "stdout",
     "output_type": "stream",
     "text": [
      "{'take': 127.12375650728997, 'give': 127.9049657535574, 'say': 188.19154364771475, 'set': 202.94749287431455, 'do': 214.2917584654818, 'describe': 308.6762975836628, 'include': 313.0883860026288, 'make': 346.43842904619294, 'have': 412.2081916305382, 'get': 422.3020057017675}\n",
      "{'take': 127.12375650728997, 'give': 127.9049657535574, 'say': 188.19154364771475, 'set': 202.94749287431455, 'involve': 205.92815525219856, 'do': 214.2917584654818, 'describe': 308.6762975836628, 'make': 346.43842904619294, 'have': 412.2081916305382, 'get': 422.3020057017675}\n",
      "{'nap': 0.5134986855273391, 'rely': 0.5159719411420497, 'entertain': 0.5333133390423652, 'pause': 0.5423034552397138, 'bite': 0.5584557462573243, 'burst': 0.5636489858324176, 'squeeze': 0.6245686639929235, 'ascend': 0.6253268540348552, 'loosen': 0.6357887289996463, 'yell': 0.6380980269007636, 'scream': 0.6443985124558416}\n",
      "{'collaborate': 0.48184038930484585, 'shun': 0.5188365058515433, 'pause': 0.5423034552397138, 'bite': 0.5584557462573243, 'annihilate': 0.561430208274311, 'burst': 0.5636489858324176, 'snooze': 0.5858883703379526, 'spray': 0.5930261085451669, 'hike': 0.6061954921503613, 'tread': 0.6079986797539838, 'shatter': 0.6116567622901836}\n"
     ]
    }
   ],
   "source": [
    "print(longesthyper)\n",
    "print(longesthypo)\n",
    "print(shortesthyper)\n",
    "print(shortesthypo)"
   ]
  },
  {
   "cell_type": "code",
   "execution_count": 112,
   "id": "8f803e26",
   "metadata": {},
   "outputs": [],
   "source": [
    "def pair_finder(word):\n",
    "    mylist = []\n",
    "    for a in pairlist:\n",
    "        if a[0] == word or a[1] == word:\n",
    "            mylist.append(a)\n",
    "    return mylist"
   ]
  },
  {
   "cell_type": "code",
   "execution_count": 119,
   "id": "5c898ed4",
   "metadata": {},
   "outputs": [
    {
     "data": {
      "text/plain": [
       "[['descend', 'go'],\n",
       " ['go', 'advance'],\n",
       " ['dismiss', 'go'],\n",
       " ['stop', 'go'],\n",
       " ['retreat', 'go'],\n",
       " ['go', 'leave'],\n",
       " ['come', 'go'],\n",
       " ['return', 'go'],\n",
       " ['go', 'run'],\n",
       " ['go', 'drive'],\n",
       " ['go', 'sneak'],\n",
       " ['charge', 'go'],\n",
       " ['go', 'vanish'],\n",
       " ['ride', 'go'],\n",
       " ['go', 'ascend'],\n",
       " ['follow', 'go']]"
      ]
     },
     "execution_count": 119,
     "metadata": {},
     "output_type": "execute_result"
    }
   ],
   "source": [
    "testlist = pair_finder('go')\n",
    "testlist"
   ]
  },
  {
   "cell_type": "code",
   "execution_count": 120,
   "id": "5d7e96d3",
   "metadata": {},
   "outputs": [
    {
     "name": "stdout",
     "output_type": "stream",
     "text": [
      "['descend', 'go'] False\n",
      "['go', 'advance'] True\n",
      "['dismiss', 'go'] False\n",
      "['stop', 'go'] True\n",
      "['retreat', 'go'] False\n",
      "['go', 'leave'] False\n",
      "['come', 'go'] False\n",
      "['return', 'go'] False\n",
      "['go', 'run'] True\n",
      "['go', 'drive'] True\n",
      "['go', 'sneak'] True\n",
      "['charge', 'go'] False\n",
      "['go', 'vanish'] True\n",
      "['ride', 'go'] False\n",
      "['go', 'ascend'] True\n",
      "['follow', 'go'] False\n"
     ]
    }
   ],
   "source": [
    "for a in testlist:\n",
    "    print(a,is_hyponym(*a))"
   ]
  },
  {
   "cell_type": "code",
   "execution_count": 122,
   "id": "a5619278",
   "metadata": {},
   "outputs": [
    {
     "data": {
      "text/plain": [
       "93.31156090856925"
      ]
     },
     "execution_count": 122,
     "metadata": {},
     "output_type": "execute_result"
    }
   ],
   "source": [
    "mf.M_vec_mult_dev_Maha(objsubset1['leave'].val,objsubset1['leave'].val,objsubset1.mean,objsubset1.inv_cov)"
   ]
  },
  {
   "cell_type": "code",
   "execution_count": 123,
   "id": "976b14f2",
   "metadata": {},
   "outputs": [
    {
     "data": {
      "text/plain": [
       "55.50343409342843"
      ]
     },
     "execution_count": 123,
     "metadata": {},
     "output_type": "execute_result"
    }
   ],
   "source": [
    "mf.M_vec_mult_dev_Maha(objsubset1['go'].val,objsubset1['go'].val,objsubset1.mean,objsubset1.inv_cov)"
   ]
  },
  {
   "cell_type": "code",
   "execution_count": 126,
   "id": "f4a42c20",
   "metadata": {},
   "outputs": [
    {
     "data": {
      "text/plain": [
       "[Synset('leave.n.01'),\n",
       " Synset('leave.n.02'),\n",
       " Synset('farewell.n.02'),\n",
       " Synset('leave.v.01'),\n",
       " Synset('leave.v.02'),\n",
       " Synset('leave.v.03'),\n",
       " Synset('leave.v.04'),\n",
       " Synset('exit.v.01'),\n",
       " Synset('leave.v.06'),\n",
       " Synset('leave.v.07'),\n",
       " Synset('leave.v.08'),\n",
       " Synset('entrust.v.02'),\n",
       " Synset('bequeath.v.01'),\n",
       " Synset('leave.v.11'),\n",
       " Synset('leave.v.12'),\n",
       " Synset('impart.v.01'),\n",
       " Synset('forget.v.04')]"
      ]
     },
     "execution_count": 126,
     "metadata": {},
     "output_type": "execute_result"
    }
   ],
   "source": [
    "wn.synsets('leave')"
   ]
  },
  {
   "cell_type": "code",
   "execution_count": null,
   "id": "372f5b3d",
   "metadata": {},
   "outputs": [],
   "source": []
  },
  {
   "cell_type": "code",
   "execution_count": 21,
   "id": "3b35af6a",
   "metadata": {},
   "outputs": [],
   "source": [
    "def take_second(elem):\n",
    "    return elem[1]"
   ]
  },
  {
   "cell_type": "code",
   "execution_count": 26,
   "id": "bdb0af16",
   "metadata": {},
   "outputs": [
    {
     "name": "stdout",
     "output_type": "stream",
     "text": [
      "{'involve': 205.92815525219856, 'do': 214.2917584654818, 'comprise': 223.51684493384258, 'list': 242.9421643146434, 'describe': 308.6762975836628, 'include': 313.0883860026288, 'make': 346.43842904619294, 'provide': 391.2156630687018, 'have': 412.2081916305382, 'get': 422.3020057017675}\n",
      "{'collaborate': 0.48184038930484585, 'cough': 0.48666654554055966, 'picture': 0.48772142304299937, 'poise': 0.490592992599931, 'stoop': 0.4914372758876811, 'comfort': 0.4957144512103223, 'stumble': 0.4994675294865757, 'decompose': 0.5070731483282499, 'down': 0.5103150473359854, 'nap': 0.5134986855273391}\n"
     ]
    }
   ],
   "source": [
    "# Longest and shortest in general\n",
    "mylongest = []\n",
    "myshortest = []\n",
    "\n",
    "for a in objsubset1.keys():\n",
    "    mylongest.append((a,mf.M_vec_mult_dev_Maha(objsubset1[a].val,objsubset1[a].val,objsubset1.mean,objsubset1.inv_cov)))\n",
    "    \n",
    "mylongest = sorted(mylongest,key=take_second)\n",
    "\n",
    "myshortest = dict(mylongest[:10])\n",
    "\n",
    "mylongest = dict(mylongest[-10:])\n",
    "print(mylongest)\n",
    "print(myshortest)"
   ]
  },
  {
   "cell_type": "code",
   "execution_count": 30,
   "id": "73b712bf",
   "metadata": {},
   "outputs": [
    {
     "data": {
      "text/plain": [
       "{'take': 127.12375650728997,\n",
       " 'give': 127.9049657535574,\n",
       " 'say': 188.19154364771475,\n",
       " 'set': 202.94749287431455,\n",
       " 'do': 214.2917584654818,\n",
       " 'describe': 308.6762975836628,\n",
       " 'include': 313.0883860026288,\n",
       " 'make': 346.43842904619294,\n",
       " 'have': 412.2081916305382,\n",
       " 'get': 422.3020057017675}"
      ]
     },
     "execution_count": 30,
     "metadata": {},
     "output_type": "execute_result"
    }
   ],
   "source": [
    "longesthyper"
   ]
  },
  {
   "cell_type": "code",
   "execution_count": 31,
   "id": "6091aa1f",
   "metadata": {},
   "outputs": [
    {
     "data": {
      "text/plain": [
       "{'collaborate': 0.48184038930484585,\n",
       " 'shun': 0.5188365058515433,\n",
       " 'pause': 0.5423034552397138,\n",
       " 'bite': 0.5584557462573243,\n",
       " 'annihilate': 0.561430208274311,\n",
       " 'burst': 0.5636489858324176,\n",
       " 'snooze': 0.5858883703379526,\n",
       " 'spray': 0.5930261085451669,\n",
       " 'hike': 0.6061954921503613,\n",
       " 'tread': 0.6079986797539838,\n",
       " 'shatter': 0.6116567622901836}"
      ]
     },
     "execution_count": 31,
     "metadata": {},
     "output_type": "execute_result"
    }
   ],
   "source": [
    "shortesthypo"
   ]
  },
  {
   "cell_type": "code",
   "execution_count": 74,
   "id": "fc95d6fd",
   "metadata": {},
   "outputs": [],
   "source": [
    "import matplotlib.pyplot as plt"
   ]
  },
  {
   "cell_type": "code",
   "execution_count": 79,
   "id": "a79b5fd0",
   "metadata": {},
   "outputs": [],
   "source": [
    "t1 = np.arange(-10.0, 10.0, 0.02)\n",
    "t2 = np.array([mf.M_vec_mult_dev_Maha(objsubset1[a].val,objsubset1[a].val,objsubset1.mean,objsubset1.inv_cov) for a in objsubset1.keys()])"
   ]
  },
  {
   "cell_type": "code",
   "execution_count": 94,
   "id": "0556e5dc",
   "metadata": {},
   "outputs": [
    {
     "data": {
      "text/plain": [
       "(array([ 1.,  0.,  1.,  1.,  3.,  1.,  3.,  2.,  3.,  6.,  8.,  9.,  5.,\n",
       "         8.,  9.,  8.,  8.,  8.,  9.,  9.,  9., 16.,  8.,  6., 12.,  7.,\n",
       "         7.,  4., 10.,  8.,  9.,  9.,  8.,  6.,  6.,  7., 10.,  7.,  8.,\n",
       "         7.,  4., 10.,  5.,  2.,  7.,  4.,  1.,  2.,  4.,  1.]),\n",
       " array([-0.66810545, -0.6360095 , -0.60391356, -0.57181761, -0.53972167,\n",
       "        -0.50762572, -0.47552977, -0.44343383, -0.41133788, -0.37924194,\n",
       "        -0.34714599, -0.31505004, -0.2829541 , -0.25085815, -0.2187622 ,\n",
       "        -0.18666626, -0.15457031, -0.12247437, -0.09037842, -0.05828247,\n",
       "        -0.02618653,  0.00590942,  0.03800536,  0.07010131,  0.10219726,\n",
       "         0.1342932 ,  0.16638915,  0.1984851 ,  0.23058104,  0.26267699,\n",
       "         0.29477293,  0.32686888,  0.35896483,  0.39106077,  0.42315672,\n",
       "         0.45525266,  0.48734861,  0.51944456,  0.5515405 ,  0.58363645,\n",
       "         0.6157324 ,  0.64782834,  0.67992429,  0.71202023,  0.74411618,\n",
       "         0.77621213,  0.80830807,  0.84040402,  0.87249996,  0.90459591,\n",
       "         0.93669186]),\n",
       " <BarContainer object of 50 artists>)"
      ]
     },
     "execution_count": 94,
     "metadata": {},
     "output_type": "execute_result"
    },
    {
     "data": {
      "image/png": "[encoded data removed]",
      "text/plain": [
       "<Figure size 432x288 with 1 Axes>"
      ]
     },
     "metadata": {
      "needs_background": "light"
     },
     "output_type": "display_data"
    }
   ],
   "source": [
    "plt.hist(t2,bins=50)"
   ]
  },
  {
   "cell_type": "code",
   "execution_count": 115,
   "id": "dfeedf1c",
   "metadata": {},
   "outputs": [],
   "source": [
    "t1 = np.array([a for a in mf.averaged_product_list(simdict,'SYNONYMS',objsubset1,\"maha\").values()])\n",
    "t2 = np.array([a for a in mf.averaged_product_list(simdict,'NONE',objsubset1,\"maha\").values()])\n",
    "t3 = np.array([a for a in mf.averaged_product_list(simdict,'ANTONYMS',objsubset1,\"maha\").values()])"
   ]
  },
  {
   "cell_type": "code",
   "execution_count": 119,
   "id": "f2bf3c02",
   "metadata": {},
   "outputs": [
    {
     "data": {
      "text/plain": [
       "(array([2., 0., 0., 0., 0., 0., 0., 0., 1., 0., 2., 0., 1., 1., 1., 1., 2.,\n",
       "        3., 4., 0., 1., 1., 3., 2., 1., 0., 1., 1., 1., 1., 1., 3., 1., 4.,\n",
       "        1., 0., 4., 2., 0., 3., 4., 1., 1., 1., 1., 1., 2., 3., 5., 1., 2.,\n",
       "        2., 2., 1., 0., 0., 2., 1., 0., 0., 1., 2., 4., 0., 1., 2., 3., 1.,\n",
       "        4., 1., 3., 1., 2., 0., 0., 2., 0., 0., 0., 0., 0., 1., 0., 0., 0.,\n",
       "        0., 1., 0., 0., 1., 0., 0., 0., 0., 0., 0., 0., 0., 1., 1.]),\n",
       " array([-0.57404485, -0.55987731, -0.54570978, -0.53154224, -0.5173747 ,\n",
       "        -0.50320717, -0.48903963, -0.4748721 , -0.46070456, -0.44653702,\n",
       "        -0.43236949, -0.41820195, -0.40403442, -0.38986688, -0.37569935,\n",
       "        -0.36153181, -0.34736427, -0.33319674, -0.3190292 , -0.30486167,\n",
       "        -0.29069413, -0.27652659, -0.26235906, -0.24819152, -0.23402399,\n",
       "        -0.21985645, -0.20568892, -0.19152138, -0.17735384, -0.16318631,\n",
       "        -0.14901877, -0.13485124, -0.1206837 , -0.10651616, -0.09234863,\n",
       "        -0.07818109, -0.06401356, -0.04984602, -0.03567849, -0.02151095,\n",
       "        -0.00734341,  0.00682412,  0.02099166,  0.03515919,  0.04932673,\n",
       "         0.06349427,  0.0776618 ,  0.09182934,  0.10599687,  0.12016441,\n",
       "         0.13433194,  0.14849948,  0.16266702,  0.17683455,  0.19100209,\n",
       "         0.20516962,  0.21933716,  0.2335047 ,  0.24767223,  0.26183977,\n",
       "         0.2760073 ,  0.29017484,  0.30434237,  0.31850991,  0.33267745,\n",
       "         0.34684498,  0.36101252,  0.37518005,  0.38934759,  0.40351513,\n",
       "         0.41768266,  0.4318502 ,  0.44601773,  0.46018527,  0.4743528 ,\n",
       "         0.48852034,  0.50268788,  0.51685541,  0.53102295,  0.54519048,\n",
       "         0.55935802,  0.57352556,  0.58769309,  0.60186063,  0.61602816,\n",
       "         0.6301957 ,  0.64436323,  0.65853077,  0.67269831,  0.68686584,\n",
       "         0.70103338,  0.71520091,  0.72936845,  0.74353599,  0.75770352,\n",
       "         0.77187106,  0.78603859,  0.80020613,  0.81437366,  0.8285412 ,\n",
       "         0.84270874]),\n",
       " <BarContainer object of 100 artists>)"
      ]
     },
     "execution_count": 119,
     "metadata": {},
     "output_type": "execute_result"
    },
    {
     "data": {
      "image/png": "[encoded data removed]",
      "text/plain": [
       "<Figure size 432x288 with 3 Axes>"
      ]
     },
     "metadata": {
      "needs_background": "light"
     },
     "output_type": "display_data"
    }
   ],
   "source": [
    "fig, (ax1,ax2,ax3) = plt.subplots(1, 3, sharey=True, tight_layout=True)\n",
    "ax1.hist(t1,bins=100)\n",
    "ax2.hist(t2,bins=100)\n",
    "ax3.hist(t3,bins=100)"
   ]
  },
  {
   "cell_type": "code",
   "execution_count": 122,
   "id": "8e4b87ac",
   "metadata": {},
   "outputs": [
    {
     "data": {
      "text/plain": [
       "(array([2., 0., 0., 0., 1., 2., 2., 2., 5., 4., 2., 5., 1., 2., 2., 4., 5.,\n",
       "        1., 6., 3., 5., 2., 2., 5., 6., 4., 3., 0., 3., 0., 3., 4., 3., 4.,\n",
       "        5., 4., 2., 2., 0., 0., 1., 0., 0., 1., 1., 0., 0., 0., 0., 2.]),\n",
       " array([-0.57404485, -0.54570978, -0.5173747 , -0.48903963, -0.46070456,\n",
       "        -0.43236949, -0.40403442, -0.37569935, -0.34736427, -0.3190292 ,\n",
       "        -0.29069413, -0.26235906, -0.23402399, -0.20568892, -0.17735384,\n",
       "        -0.14901877, -0.1206837 , -0.09234863, -0.06401356, -0.03567849,\n",
       "        -0.00734341,  0.02099166,  0.04932673,  0.0776618 ,  0.10599687,\n",
       "         0.13433194,  0.16266702,  0.19100209,  0.21933716,  0.24767223,\n",
       "         0.2760073 ,  0.30434237,  0.33267745,  0.36101252,  0.38934759,\n",
       "         0.41768266,  0.44601773,  0.4743528 ,  0.50268788,  0.53102295,\n",
       "         0.55935802,  0.58769309,  0.61602816,  0.64436323,  0.67269831,\n",
       "         0.70103338,  0.72936845,  0.75770352,  0.78603859,  0.81437366,\n",
       "         0.84270874]),\n",
       " <BarContainer object of 50 artists>)"
      ]
     },
     "execution_count": 122,
     "metadata": {},
     "output_type": "execute_result"
    },
    {
     "data": {
      "image/png": "[encoded data removed]",
      "text/plain": [
       "<Figure size 432x288 with 2 Axes>"
      ]
     },
     "metadata": {
      "needs_background": "light"
     },
     "output_type": "display_data"
    }
   ],
   "source": [
    "fig2, (ax1,ax3) = plt.subplots(1, 2, sharey=True, tight_layout=True)\n",
    "ax1.hist(t1,bins=50)\n",
    "ax3.hist(t3,bins=50)"
   ]
  },
  {
   "cell_type": "code",
   "execution_count": 127,
   "id": "3f2f5c96",
   "metadata": {},
   "outputs": [
    {
     "data": {
      "image/png": "[encoded data removed]",
      "text/plain": [
       "<Figure size 432x288 with 3 Axes>"
      ]
     },
     "execution_count": 127,
     "metadata": {},
     "output_type": "execute_result"
    }
   ],
   "source": [
    "fig"
   ]
  },
  {
   "cell_type": "code",
   "execution_count": 8,
   "id": "1c45fab5",
   "metadata": {},
   "outputs": [
    {
     "data": {
      "text/plain": [
       "[[[-0.004709029234531826, 0.23765827100673054],\n",
       "  [0.07530421403074858, 0.3045261803382933],\n",
       "  [0.14074076430139867, 0.3225358595093689]],\n",
       " [[0.00026681063163406203, 0.2319794192118812],\n",
       "  [0.07722811971346014, 0.3050189142785644],\n",
       "  [0.14532006576844866, 0.316807599730835]],\n",
       " [[0.01980587722531466, 0.2346753037001025],\n",
       "  [0.08279848440909883, 0.3087987053013744],\n",
       "  [0.15897832350896562, 0.31191798337098336]],\n",
       " [[0.0491890135982717, 0.3050848607307325],\n",
       "  [0.08206922190486705, 0.34953375175453905],\n",
       "  [0.13596856337480395, 0.364543323414541]]]"
      ]
     },
     "execution_count": 8,
     "metadata": {},
     "output_type": "execute_result"
    }
   ],
   "source": [
    "[[mf.averaged_product(simdict,'ANTONYMS',a,\"maha\"),mf.averaged_product(simdict,'NONE',a,\"maha\"),mf.averaged_product(simdict,'SYNONYMS',a,\"maha\")] for a in file_list3]"
   ]
  },
  {
   "cell_type": "code",
   "execution_count": null,
   "id": "5cebffc9",
   "metadata": {},
   "outputs": [],
   "source": []
  }
 ],
 "metadata": {
  "kernelspec": {
   "display_name": "Python 3",
   "language": "python",
   "name": "python3"
  },
  "language_info": {
   "codemirror_mode": {
    "name": "ipython",
    "version": 3
   },
   "file_extension": ".py",
   "mimetype": "text/x-python",
   "name": "python",
   "nbconvert_exporter": "python",
   "pygments_lexer": "ipython3",
   "version": "3.9.4"
  }
 },
 "nbformat": 4,
 "nbformat_minor": 5
}
